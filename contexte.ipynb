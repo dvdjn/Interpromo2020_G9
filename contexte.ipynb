{
 "cells": [
  {
   "cell_type": "markdown",
   "metadata": {},
   "source": [
    "Created on Fri Jan 17 17:03:35 2019  \n",
    "Group 9  \n",
    "@authors:  "
   ]
  },
  {
   "cell_type": "code",
   "execution_count": 1,
   "metadata": {},
   "outputs": [],
   "source": [
    "import pandas as pd\n",
    "import numpy as np"
   ]
  },
  {
   "cell_type": "code",
   "execution_count": 2,
   "metadata": {},
   "outputs": [],
   "source": [
    "%run constants.ipynb"
   ]
  },
  {
   "cell_type": "markdown",
   "metadata": {},
   "source": [
    "**let's load the data**"
   ]
  },
  {
   "cell_type": "code",
   "execution_count": 3,
   "metadata": {},
   "outputs": [],
   "source": [
    "# Load Twitter Dataset\n",
    "data = pd.read_excel(root+'Interpromo2020/Interpromo2020/TWITTER.xlsx')"
   ]
  },
  {
   "cell_type": "code",
   "execution_count": 4,
   "metadata": {},
   "outputs": [],
   "source": [
    "# Load Comments from the file ALl Data\n",
    "data1 = pd.read_excel(\n",
    "    root+'Interpromo2020/Interpromo2020/All Data/ALL_DATA.xlsx')"
   ]
  },
  {
   "cell_type": "code",
   "execution_count": 5,
   "metadata": {},
   "outputs": [
    {
     "data": {
      "text/html": [
       "<div>\n",
       "<style scoped>\n",
       "    .dataframe tbody tr th:only-of-type {\n",
       "        vertical-align: middle;\n",
       "    }\n",
       "\n",
       "    .dataframe tbody tr th {\n",
       "        vertical-align: top;\n",
       "    }\n",
       "\n",
       "    .dataframe thead th {\n",
       "        text-align: right;\n",
       "    }\n",
       "</style>\n",
       "<table border=\"1\" class=\"dataframe\">\n",
       "  <thead>\n",
       "    <tr style=\"text-align: right;\">\n",
       "      <th></th>\n",
       "      <th>contains_photo</th>\n",
       "      <th>contains_video</th>\n",
       "      <th>created_at</th>\n",
       "      <th>entities</th>\n",
       "      <th>favorite_count</th>\n",
       "      <th>is_quote_status</th>\n",
       "      <th>lang</th>\n",
       "      <th>quoted_status</th>\n",
       "      <th>quoted_status_id_str</th>\n",
       "      <th>retweet_count</th>\n",
       "      <th>text</th>\n",
       "      <th>user</th>\n",
       "    </tr>\n",
       "  </thead>\n",
       "  <tbody>\n",
       "    <tr>\n",
       "      <td>0</td>\n",
       "      <td>1</td>\n",
       "      <td>0</td>\n",
       "      <td>2019-04-02 14:38:26</td>\n",
       "      <td>{'hashtags': ['airBaltic'], 'symbols': [], 'us...</td>\n",
       "      <td>72</td>\n",
       "      <td>0</td>\n",
       "      <td>en</td>\n",
       "      <td>NaN</td>\n",
       "      <td>NaN</td>\n",
       "      <td>13</td>\n",
       "      <td>Good news for passengers on the Prague route! ...</td>\n",
       "      <td>{'id_str': '26726695', 'name': 'airBaltic', 's...</td>\n",
       "    </tr>\n",
       "    <tr>\n",
       "      <td>1</td>\n",
       "      <td>1</td>\n",
       "      <td>0</td>\n",
       "      <td>2019-04-01 19:00:01</td>\n",
       "      <td>{'hashtags': ['Airbus', 'A220', 'avgeek', 'Afr...</td>\n",
       "      <td>111</td>\n",
       "      <td>0</td>\n",
       "      <td>en</td>\n",
       "      <td>NaN</td>\n",
       "      <td>NaN</td>\n",
       "      <td>19</td>\n",
       "      <td>Thanks to the GTF, Mount Kilimanjaro 🗻 was bre...</td>\n",
       "      <td>{'id_str': '20814874', 'name': 'Pratt &amp; Whitne...</td>\n",
       "    </tr>\n",
       "    <tr>\n",
       "      <td>2</td>\n",
       "      <td>1</td>\n",
       "      <td>0</td>\n",
       "      <td>2019-04-01 10:40:21</td>\n",
       "      <td>{'hashtags': ['A220'], 'symbols': [], 'user_me...</td>\n",
       "      <td>29</td>\n",
       "      <td>0</td>\n",
       "      <td>en</td>\n",
       "      <td>NaN</td>\n",
       "      <td>NaN</td>\n",
       "      <td>6</td>\n",
       "      <td>Sunbathing in Bucharest: YL-CSM, @Airbus #A220...</td>\n",
       "      <td>{'id_str': '1403040254', 'name': 'Aeronews', '...</td>\n",
       "    </tr>\n",
       "    <tr>\n",
       "      <td>3</td>\n",
       "      <td>1</td>\n",
       "      <td>0</td>\n",
       "      <td>2019-03-31 10:20:23</td>\n",
       "      <td>{'hashtags': [], 'symbols': [], 'user_mentions...</td>\n",
       "      <td>74</td>\n",
       "      <td>0</td>\n",
       "      <td>en</td>\n",
       "      <td>NaN</td>\n",
       "      <td>NaN</td>\n",
       "      <td>9</td>\n",
       "      <td>Today we opened long-awaited @airBaltic route ...</td>\n",
       "      <td>{'id_str': '52174696', 'name': 'Martin Gauss',...</td>\n",
       "    </tr>\n",
       "    <tr>\n",
       "      <td>4</td>\n",
       "      <td>1</td>\n",
       "      <td>0</td>\n",
       "      <td>2019-03-31 06:10:27</td>\n",
       "      <td>{'hashtags': ['airBaltic'], 'symbols': [], 'us...</td>\n",
       "      <td>58</td>\n",
       "      <td>0</td>\n",
       "      <td>en</td>\n",
       "      <td>NaN</td>\n",
       "      <td>NaN</td>\n",
       "      <td>9</td>\n",
       "      <td>The new #airBaltic route between Riga and Dubl...</td>\n",
       "      <td>{'id_str': '26726695', 'name': 'airBaltic', 's...</td>\n",
       "    </tr>\n",
       "  </tbody>\n",
       "</table>\n",
       "</div>"
      ],
      "text/plain": [
       "   contains_photo  contains_video           created_at  \\\n",
       "0               1               0  2019-04-02 14:38:26   \n",
       "1               1               0  2019-04-01 19:00:01   \n",
       "2               1               0  2019-04-01 10:40:21   \n",
       "3               1               0  2019-03-31 10:20:23   \n",
       "4               1               0  2019-03-31 06:10:27   \n",
       "\n",
       "                                            entities  favorite_count  \\\n",
       "0  {'hashtags': ['airBaltic'], 'symbols': [], 'us...              72   \n",
       "1  {'hashtags': ['Airbus', 'A220', 'avgeek', 'Afr...             111   \n",
       "2  {'hashtags': ['A220'], 'symbols': [], 'user_me...              29   \n",
       "3  {'hashtags': [], 'symbols': [], 'user_mentions...              74   \n",
       "4  {'hashtags': ['airBaltic'], 'symbols': [], 'us...              58   \n",
       "\n",
       "   is_quote_status lang quoted_status  quoted_status_id_str  retweet_count  \\\n",
       "0                0   en           NaN                   NaN             13   \n",
       "1                0   en           NaN                   NaN             19   \n",
       "2                0   en           NaN                   NaN              6   \n",
       "3                0   en           NaN                   NaN              9   \n",
       "4                0   en           NaN                   NaN              9   \n",
       "\n",
       "                                                text  \\\n",
       "0  Good news for passengers on the Prague route! ...   \n",
       "1  Thanks to the GTF, Mount Kilimanjaro 🗻 was bre...   \n",
       "2  Sunbathing in Bucharest: YL-CSM, @Airbus #A220...   \n",
       "3  Today we opened long-awaited @airBaltic route ...   \n",
       "4  The new #airBaltic route between Riga and Dubl...   \n",
       "\n",
       "                                                user  \n",
       "0  {'id_str': '26726695', 'name': 'airBaltic', 's...  \n",
       "1  {'id_str': '20814874', 'name': 'Pratt & Whitne...  \n",
       "2  {'id_str': '1403040254', 'name': 'Aeronews', '...  \n",
       "3  {'id_str': '52174696', 'name': 'Martin Gauss',...  \n",
       "4  {'id_str': '26726695', 'name': 'airBaltic', 's...  "
      ]
     },
     "execution_count": 5,
     "metadata": {},
     "output_type": "execute_result"
    }
   ],
   "source": [
    "data.head()"
   ]
  },
  {
   "cell_type": "code",
   "execution_count": 6,
   "metadata": {},
   "outputs": [
    {
     "data": {
      "text/html": [
       "<div>\n",
       "<style scoped>\n",
       "    .dataframe tbody tr th:only-of-type {\n",
       "        vertical-align: middle;\n",
       "    }\n",
       "\n",
       "    .dataframe tbody tr th {\n",
       "        vertical-align: top;\n",
       "    }\n",
       "\n",
       "    .dataframe thead th {\n",
       "        text-align: right;\n",
       "    }\n",
       "</style>\n",
       "<table border=\"1\" class=\"dataframe\">\n",
       "  <thead>\n",
       "    <tr style=\"text-align: right;\">\n",
       "      <th></th>\n",
       "      <th>Data_Source</th>\n",
       "      <th>Airline_Name</th>\n",
       "      <th>Airline_Type</th>\n",
       "      <th>Region_Operation</th>\n",
       "      <th>Aircraft_Type</th>\n",
       "      <th>Cabin_Class</th>\n",
       "      <th>Type_Of_Lounge</th>\n",
       "      <th>Type_Of_Traveller</th>\n",
       "      <th>Date_Visit</th>\n",
       "      <th>Date_Flown</th>\n",
       "      <th>...</th>\n",
       "      <th>Seat_Recline</th>\n",
       "      <th>Seat_Width</th>\n",
       "      <th>Washrooms</th>\n",
       "      <th>Value_For_Money</th>\n",
       "      <th>Overall_Customer_Rating</th>\n",
       "      <th>Overall_Service_Rating</th>\n",
       "      <th>Overall_Airline_Rating</th>\n",
       "      <th>Recommended</th>\n",
       "      <th>Date_Review</th>\n",
       "      <th>Review</th>\n",
       "    </tr>\n",
       "  </thead>\n",
       "  <tbody>\n",
       "    <tr>\n",
       "      <td>0</td>\n",
       "      <td>Airline Quality Airline</td>\n",
       "      <td>ab-aviation</td>\n",
       "      <td>NaN</td>\n",
       "      <td>NaN</td>\n",
       "      <td>E120</td>\n",
       "      <td>Economy Class</td>\n",
       "      <td>NaN</td>\n",
       "      <td>Solo Leisure</td>\n",
       "      <td>NaN</td>\n",
       "      <td>June 2019</td>\n",
       "      <td>...</td>\n",
       "      <td>NaN</td>\n",
       "      <td>NaN</td>\n",
       "      <td>NaN</td>\n",
       "      <td>2.0</td>\n",
       "      <td>1</td>\n",
       "      <td>NaN</td>\n",
       "      <td>NaN</td>\n",
       "      <td>no</td>\n",
       "      <td>25th June 2019</td>\n",
       "      <td>✅ Trip Verified | Moroni to Anjouan. It is a v...</td>\n",
       "    </tr>\n",
       "    <tr>\n",
       "      <td>1</td>\n",
       "      <td>Airline Quality Airline</td>\n",
       "      <td>ab-aviation</td>\n",
       "      <td>NaN</td>\n",
       "      <td>NaN</td>\n",
       "      <td>Embraer E120</td>\n",
       "      <td>Economy Class</td>\n",
       "      <td>NaN</td>\n",
       "      <td>Solo Leisure</td>\n",
       "      <td>NaN</td>\n",
       "      <td>June 2019</td>\n",
       "      <td>...</td>\n",
       "      <td>NaN</td>\n",
       "      <td>NaN</td>\n",
       "      <td>NaN</td>\n",
       "      <td>2.0</td>\n",
       "      <td>1</td>\n",
       "      <td>NaN</td>\n",
       "      <td>NaN</td>\n",
       "      <td>no</td>\n",
       "      <td>25th June 2019</td>\n",
       "      <td>✅ Trip Verified |  Anjouan to Dzaoudzi. A very...</td>\n",
       "    </tr>\n",
       "    <tr>\n",
       "      <td>2</td>\n",
       "      <td>Airline Quality Airline</td>\n",
       "      <td>adria-airways</td>\n",
       "      <td>NaN</td>\n",
       "      <td>NaN</td>\n",
       "      <td>NaN</td>\n",
       "      <td>Economy Class</td>\n",
       "      <td>NaN</td>\n",
       "      <td>Solo Leisure</td>\n",
       "      <td>NaN</td>\n",
       "      <td>September 2019</td>\n",
       "      <td>...</td>\n",
       "      <td>NaN</td>\n",
       "      <td>NaN</td>\n",
       "      <td>NaN</td>\n",
       "      <td>1.0</td>\n",
       "      <td>1</td>\n",
       "      <td>NaN</td>\n",
       "      <td>NaN</td>\n",
       "      <td>no</td>\n",
       "      <td>28th September 2019</td>\n",
       "      <td>Not Verified |  Please do a favor yourself and...</td>\n",
       "    </tr>\n",
       "    <tr>\n",
       "      <td>3</td>\n",
       "      <td>Airline Quality Airline</td>\n",
       "      <td>adria-airways</td>\n",
       "      <td>NaN</td>\n",
       "      <td>NaN</td>\n",
       "      <td>NaN</td>\n",
       "      <td>Economy Class</td>\n",
       "      <td>NaN</td>\n",
       "      <td>Couple Leisure</td>\n",
       "      <td>NaN</td>\n",
       "      <td>September 2019</td>\n",
       "      <td>...</td>\n",
       "      <td>NaN</td>\n",
       "      <td>NaN</td>\n",
       "      <td>NaN</td>\n",
       "      <td>1.0</td>\n",
       "      <td>1</td>\n",
       "      <td>NaN</td>\n",
       "      <td>NaN</td>\n",
       "      <td>no</td>\n",
       "      <td>24th September 2019</td>\n",
       "      <td>✅ Trip Verified | Do not book a flight with th...</td>\n",
       "    </tr>\n",
       "    <tr>\n",
       "      <td>4</td>\n",
       "      <td>Airline Quality Airline</td>\n",
       "      <td>adria-airways</td>\n",
       "      <td>NaN</td>\n",
       "      <td>NaN</td>\n",
       "      <td>CR 900</td>\n",
       "      <td>Economy Class</td>\n",
       "      <td>NaN</td>\n",
       "      <td>Couple Leisure</td>\n",
       "      <td>NaN</td>\n",
       "      <td>September 2019</td>\n",
       "      <td>...</td>\n",
       "      <td>NaN</td>\n",
       "      <td>NaN</td>\n",
       "      <td>NaN</td>\n",
       "      <td>1.0</td>\n",
       "      <td>1</td>\n",
       "      <td>NaN</td>\n",
       "      <td>NaN</td>\n",
       "      <td>no</td>\n",
       "      <td>17th September 2019</td>\n",
       "      <td>✅ Trip Verified |  Had very bad experience wit...</td>\n",
       "    </tr>\n",
       "  </tbody>\n",
       "</table>\n",
       "<p>5 rows × 42 columns</p>\n",
       "</div>"
      ],
      "text/plain": [
       "               Data_Source   Airline_Name Airline_Type Region_Operation  \\\n",
       "0  Airline Quality Airline    ab-aviation          NaN              NaN   \n",
       "1  Airline Quality Airline    ab-aviation          NaN              NaN   \n",
       "2  Airline Quality Airline  adria-airways          NaN              NaN   \n",
       "3  Airline Quality Airline  adria-airways          NaN              NaN   \n",
       "4  Airline Quality Airline  adria-airways          NaN              NaN   \n",
       "\n",
       "  Aircraft_Type    Cabin_Class Type_Of_Lounge Type_Of_Traveller Date_Visit  \\\n",
       "0          E120  Economy Class            NaN      Solo Leisure        NaN   \n",
       "1  Embraer E120  Economy Class            NaN      Solo Leisure        NaN   \n",
       "2           NaN  Economy Class            NaN      Solo Leisure        NaN   \n",
       "3           NaN  Economy Class            NaN    Couple Leisure        NaN   \n",
       "4        CR 900  Economy Class            NaN    Couple Leisure        NaN   \n",
       "\n",
       "       Date_Flown  ... Seat_Recline Seat_Width Washrooms Value_For_Money  \\\n",
       "0       June 2019  ...          NaN        NaN       NaN             2.0   \n",
       "1       June 2019  ...          NaN        NaN       NaN             2.0   \n",
       "2  September 2019  ...          NaN        NaN       NaN             1.0   \n",
       "3  September 2019  ...          NaN        NaN       NaN             1.0   \n",
       "4  September 2019  ...          NaN        NaN       NaN             1.0   \n",
       "\n",
       "   Overall_Customer_Rating  Overall_Service_Rating  Overall_Airline_Rating  \\\n",
       "0                        1                     NaN                     NaN   \n",
       "1                        1                     NaN                     NaN   \n",
       "2                        1                     NaN                     NaN   \n",
       "3                        1                     NaN                     NaN   \n",
       "4                        1                     NaN                     NaN   \n",
       "\n",
       "   Recommended          Date_Review  \\\n",
       "0           no       25th June 2019   \n",
       "1           no       25th June 2019   \n",
       "2           no  28th September 2019   \n",
       "3           no  24th September 2019   \n",
       "4           no  17th September 2019   \n",
       "\n",
       "                                              Review  \n",
       "0  ✅ Trip Verified | Moroni to Anjouan. It is a v...  \n",
       "1  ✅ Trip Verified |  Anjouan to Dzaoudzi. A very...  \n",
       "2  Not Verified |  Please do a favor yourself and...  \n",
       "3  ✅ Trip Verified | Do not book a flight with th...  \n",
       "4  ✅ Trip Verified |  Had very bad experience wit...  \n",
       "\n",
       "[5 rows x 42 columns]"
      ]
     },
     "execution_count": 6,
     "metadata": {},
     "output_type": "execute_result"
    }
   ],
   "source": [
    "data1.head()"
   ]
  },
  {
   "cell_type": "code",
   "execution_count": 14,
   "metadata": {},
   "outputs": [
    {
     "data": {
      "text/plain": [
       "'The 1st production employees for A220 production in Mobile AL have today begun their new hire orientation training at AIDT, and after a month of local training will transition to Mirabel, Quebec to train for 3 months in the A220 assembly line there. https://t.co/6O8fK3VBv6'"
      ]
     },
     "execution_count": 14,
     "metadata": {},
     "output_type": "execute_result"
    }
   ],
   "source": [
    "# Let's see how does a comment look like\n",
    "data['text'].values[10]"
   ]
  },
  {
   "cell_type": "code",
   "execution_count": 15,
   "metadata": {},
   "outputs": [],
   "source": [
    "def sentense2cleanTokens(sent):\n",
    "    \"\"\"This functions takes as input a tweet or comment and does \n",
    "    the standardization\n",
    "    \n",
    "    parameters :\n",
    "        sent : Tweet or comment\n",
    "    Out:\n",
    "        sent: Standardized tweet/comment\n",
    "\n",
    "    \"\"\"\n",
    "    sent = \"\".join(\n",
    "        [x if (x.isalpha() or x.isnumeric()) else \" \" for x in sent])\n",
    "    sent = \" \".join(sent.split())\n",
    "    return sent"
   ]
  },
  {
   "cell_type": "code",
   "execution_count": 16,
   "metadata": {},
   "outputs": [
    {
     "data": {
      "text/plain": [
       "'Today we opened long awaited airBaltic route between Riga and Dublin Good to see so many happy passengers boarding our Airbus A220 aircraft Thank you IrelandEmbLat and DublinAirport for great cooperation https t co fHiCkxsUrm'"
      ]
     },
     "execution_count": 16,
     "metadata": {},
     "output_type": "execute_result"
    }
   ],
   "source": [
    "sentense2cleanTokens(data['text'].values[3])"
   ]
  },
  {
   "cell_type": "code",
   "execution_count": 17,
   "metadata": {},
   "outputs": [],
   "source": [
    "import nltk\n",
    "from nltk.corpus import stopwords\n",
    "from nltk.tokenize import word_tokenize\n",
    "import gensim\n",
    "from gensim.models import Word2Vec\n",
    "from nltk.corpus import wordnet as wn"
   ]
  },
  {
   "cell_type": "code",
   "execution_count": 18,
   "metadata": {
    "scrolled": true
   },
   "outputs": [],
   "source": [
    "model = gensim.models.KeyedVectors.load_word2vec_format(\n",
    "    pathword2vec, binary=True)"
   ]
  },
  {
   "cell_type": "code",
   "execution_count": 19,
   "metadata": {},
   "outputs": [],
   "source": [
    "def get_two_words(listwords):\n",
    "    \"\"\"This function takes as input the list of the ten words that \n",
    "    are most similar to a contextual representation of a tweet and \n",
    "    returns the the two most similar words of the list\n",
    "    \n",
    "    parameters :\n",
    "        sent:  list of words\n",
    "    Out:\n",
    "        Set of two most similar words\n",
    "    \"\"\"\n",
    "    data = []\n",
    "    for w1 in listwords:\n",
    "        data.append([w1, w1, 0])\n",
    "        for w2 in listwords:\n",
    "            if (w1.lower() != w2.lower()):\n",
    "                w1s = wn.synsets(w1)[0]\n",
    "                w2s = wn.synsets(w2)[0]\n",
    "                if (w1s.path_similarity(w2s) == None):\n",
    "                    data.append([w1, w2, 0])\n",
    "                else:\n",
    "                    data.append([w1, w2, w1s.path_similarity(w2s)])\n",
    "    df = pd.DataFrame(data, columns=['w1', 'w2', 'sim'])\n",
    "    i = np.argmax(df[\"sim\"].values)\n",
    "    return(wn.synsets(df.iloc[i]['w1'])[0], \n",
    "           wn.synsets(df.iloc[i]['w2'])[0])"
   ]
  },
  {
   "cell_type": "code",
   "execution_count": 20,
   "metadata": {},
   "outputs": [
    {
     "data": {
      "text/plain": [
       "(Synset('paris.n.01'), Synset('toulouse.n.01'))"
      ]
     },
     "execution_count": 20,
     "metadata": {},
     "output_type": "execute_result"
    }
   ],
   "source": [
    "get_two_words(['France','Paris','Toulouse'])"
   ]
  },
  {
   "cell_type": "code",
   "execution_count": 21,
   "metadata": {},
   "outputs": [],
   "source": [
    "def find_hypernyms(com, model):\n",
    "    \"\"\"This functions takes as input a tweet or comment and the word2vec \n",
    "    model and returns for each sentence of a tweet/comment the common \n",
    "    hypernym of the two most similar words obtained from the previous function\n",
    "\n",
    "    parameters :\n",
    "        com:  Tweet or comment\n",
    "        model: pretrained word embedding model\n",
    "    Out:\n",
    "        listentities: List of the common hypernyms for each sentence of a tweet/comment\n",
    "    \"\"\"\n",
    "    listtext = com.split('.')\n",
    "    listentities = []\n",
    "    filtered = []\n",
    "    for text in listtext:\n",
    "        text = sentense2cleanTokens(text)\n",
    "        stop_words = set(stopwords.words('english'))\n",
    "        word_tokens = word_tokenize(text)\n",
    "        filtered_sentence = [w for w in word_tokens \n",
    "                             if not w in stop_words]\n",
    "        filtered.append(filtered_sentence)\n",
    "        context = np.sum(\n",
    "            [model[word] for word in filtered_sentence \n",
    "             if word in (model.vocab)], axis=0)\n",
    "        if context != []:\n",
    "            contexts = model.similar_by_vector(\n",
    "                context, topn=10, restrict_vocab=None)\n",
    "            most_similar_words = [x[0] for x in contexts]\n",
    "            most_similar_words = [\n",
    "                x for x in most_similar_words if wn.synsets(x) != []]\n",
    "            first_word, second_word = get_two_words(most_similar_words)\n",
    "            hypernym = first_word.lowest_common_hypernyms(second_word)\n",
    "            #hypernym =[]\n",
    "            if hypernym != []:\n",
    "                listentities.append(hypernym[0].lemmas()[0].name())\n",
    "    if listentities == []:\n",
    "        for x in filtered:\n",
    "            for j in x:\n",
    "                listentities.append(j)\n",
    "    return(listentities)"
   ]
  },
  {
   "cell_type": "code",
   "execution_count": 22,
   "metadata": {},
   "outputs": [],
   "source": [
    "def find_context(com,model,intents):\n",
    "    \"\"\"This functions takes as input a tweet or comment, the word2vec \n",
    "    model and a list of intents we want to detect and returns for each \n",
    "    tweet/comment the intent based on the wordnet ressource\n",
    "\n",
    "    parameters :\n",
    "        com:  Tweet or comment\n",
    "        model: pretrained word embedding model\n",
    "        intents: pre-defined list of intents\n",
    "    Out:\n",
    "        Intent: The intent the tweet/comment talks about\n",
    "    \"\"\"\n",
    "    hypernyms = find_hypernyms(com,model)\n",
    "    hyp = hypernyms[0]\n",
    "    score = 0 \n",
    "    for h in hypernyms:\n",
    "        for i in intents:\n",
    "            if wn.synsets(h)!= []:\n",
    "                w1s = wn.synsets(h)[0]\n",
    "                w2s = wn.synsets(i)[0]\n",
    "                sc = w1s.path_similarity(w2s)\n",
    "                if ((sc!= None) and (sc> score)):\n",
    "                    hyp = h \n",
    "                    score = sc\n",
    "    return (hyp)"
   ]
  },
  {
   "cell_type": "code",
   "execution_count": 23,
   "metadata": {},
   "outputs": [
    {
     "data": {
      "text/plain": [
       "'✅ Trip Verified |  Frankfurt to Ljubljana. Flight was very comfortable, professional crew. The monitors above passengers provide informations about flight (speed, altitude, temperature, time to landing, etc.)'"
      ]
     },
     "execution_count": 23,
     "metadata": {},
     "output_type": "execute_result"
    }
   ],
   "source": [
    "data1['Review'].values[14]"
   ]
  },
  {
   "cell_type": "code",
   "execution_count": 24,
   "metadata": {},
   "outputs": [
    {
     "name": "stderr",
     "output_type": "stream",
     "text": [
      "/home/david/.local/lib/python3.6/site-packages/ipykernel_launcher.py:25: DeprecationWarning: elementwise comparison failed; this will raise an error in the future.\n"
     ]
    },
    {
     "data": {
      "text/plain": [
       "['abstraction', 'psychological_feature']"
      ]
     },
     "execution_count": 24,
     "metadata": {},
     "output_type": "execute_result"
    }
   ],
   "source": [
    "find_hypernyms(\n",
    "    \"I have this thing for airplane food, I really love it. It doesn't\\\n",
    "    matter how it tastes, but it's all packaged up and breaks up the\\\n",
    "    monotony of the flight. The internet is slow tho\",\n",
    "    model)"
   ]
  },
  {
   "cell_type": "code",
   "execution_count": 25,
   "metadata": {},
   "outputs": [
    {
     "name": "stderr",
     "output_type": "stream",
     "text": [
      "/home/david/.local/lib/python3.6/site-packages/ipykernel_launcher.py:25: DeprecationWarning: elementwise comparison failed; this will raise an error in the future.\n",
      "/home/david/.local/lib/python3.6/site-packages/ipykernel_launcher.py:25: DeprecationWarning: The truth value of an empty array is ambiguous. Returning False, but in future this will result in an error. Use `array.size > 0` to check that an array is not empty.\n"
     ]
    },
    {
     "data": {
      "text/plain": [
       "'pilot'"
      ]
     },
     "execution_count": 25,
     "metadata": {},
     "output_type": "execute_result"
    }
   ],
   "source": [
    "find_context(data1['Review'].values[14],model,['food','person','flight','seat'])"
   ]
  },
  {
   "cell_type": "code",
   "execution_count": 26,
   "metadata": {},
   "outputs": [],
   "source": [
    "####find out if spacy does the wtcenter "
   ]
  },
  {
   "cell_type": "code",
   "execution_count": 27,
   "metadata": {},
   "outputs": [],
   "source": [
    "from scipy import spatial"
   ]
  },
  {
   "cell_type": "code",
   "execution_count": 28,
   "metadata": {},
   "outputs": [],
   "source": [
    "def find_context_w2v(com,model,intents):\n",
    "    \"\"\"This functions takes as input a tweet or comment, the word2vec model \n",
    "    and a list of intents we want to detect and returns for each tweet/comment\n",
    "    the intent based on the word2vec similarities. It does the same treatment\n",
    "    as the previous one but is more accurate. That's so the method we'll keep\n",
    "    to detect an intent from a tweet/comment\n",
    "\n",
    "    parameters :\n",
    "        com:  Tweet or comment\n",
    "        model: pretrained word embedding model\n",
    "        intents: pre-defined list of intents\n",
    "    Out:\n",
    "        Intent: The intent the tweet/comment talks about\n",
    "    \"\"\"\n",
    "    hypernyms = find_hypernyms(com,model)\n",
    "    hyp = hypernyms[0]\n",
    "    score = 0 \n",
    "    for h in hypernyms:\n",
    "        for i in intents:\n",
    "            sc = np.mean([model.similarity(k,i) for k in h.split('_') if k in model.wv.vocab])\n",
    "            if ((sc!= None) and (sc> score)):\n",
    "                hyp = i \n",
    "                score = sc\n",
    "    return (hyp)"
   ]
  },
  {
   "cell_type": "code",
   "execution_count": 29,
   "metadata": {},
   "outputs": [
    {
     "name": "stderr",
     "output_type": "stream",
     "text": [
      "/home/david/.local/lib/python3.6/site-packages/ipykernel_launcher.py:25: DeprecationWarning: elementwise comparison failed; this will raise an error in the future.\n",
      "/home/david/.local/lib/python3.6/site-packages/ipykernel_launcher.py:20: DeprecationWarning: Call to deprecated `wv` (Attribute will be removed in 4.0.0, use self instead).\n"
     ]
    },
    {
     "data": {
      "text/plain": [
       "'space'"
      ]
     },
     "execution_count": 29,
     "metadata": {},
     "output_type": "execute_result"
    }
   ],
   "source": [
    "find_context_w2v(\n",
    "    \"I got upgraded to Premium Economy by @airfrance on flight\\\n",
    "    AF0814 from Paris to Nairobi. Wider leg room, seat recline, privacy, wider seat,\\\n",
    "    fine food👌Thank you AirFrance🥂\",\n",
    "    model,\n",
    "    ['space', 'food', 'staff', 'late', 'good', 'bad'])"
   ]
  },
  {
   "cell_type": "code",
   "execution_count": 30,
   "metadata": {},
   "outputs": [
    {
     "name": "stderr",
     "output_type": "stream",
     "text": [
      "/home/david/.local/lib/python3.6/site-packages/ipykernel_launcher.py:25: DeprecationWarning: elementwise comparison failed; this will raise an error in the future.\n",
      "/home/david/.local/lib/python3.6/site-packages/ipykernel_launcher.py:25: DeprecationWarning: The truth value of an empty array is ambiguous. Returning False, but in future this will result in an error. Use `array.size > 0` to check that an array is not empty.\n",
      "/home/david/.local/lib/python3.6/site-packages/ipykernel_launcher.py:20: DeprecationWarning: Call to deprecated `wv` (Attribute will be removed in 4.0.0, use self instead).\n"
     ]
    },
    {
     "data": {
      "text/plain": [
       "'space'"
      ]
     },
     "execution_count": 30,
     "metadata": {},
     "output_type": "execute_result"
    }
   ],
   "source": [
    "find_context_w2v(\n",
    "    \"travelled on domestic US and Air France International\\\n",
    "    flight with carry on luggage. Last flight leg internal in France was made\\\n",
    "    to check in my carry on! Aircraft was A320 loads of cabin space, not even\\\n",
    "    close to full!!!! Makes no sense.\",\n",
    "    model,\n",
    "    ['space', 'food', 'staff', 'late', 'good', 'bad'])"
   ]
  },
  {
   "cell_type": "code",
   "execution_count": 31,
   "metadata": {},
   "outputs": [
    {
     "name": "stderr",
     "output_type": "stream",
     "text": [
      "/home/david/.local/lib/python3.6/site-packages/ipykernel_launcher.py:25: DeprecationWarning: elementwise comparison failed; this will raise an error in the future.\n",
      "/home/david/.local/lib/python3.6/site-packages/ipykernel_launcher.py:20: DeprecationWarning: Call to deprecated `wv` (Attribute will be removed in 4.0.0, use self instead).\n"
     ]
    },
    {
     "data": {
      "text/plain": [
       "'staff'"
      ]
     },
     "execution_count": 31,
     "metadata": {},
     "output_type": "execute_result"
    }
   ],
   "source": [
    "find_context_w2v(\n",
    "    \"Terrible customer service @Ryanair. Website would\\\n",
    "    not process payment for flights last night due to awful website\\\n",
    "    glitch and now price has increased by £100. Phoned customer service\\\n",
    "    who said they couldn’t help. Total lack of customer support\",\n",
    "    model,\n",
    "    ['space', 'food', 'staff', 'late', 'good', 'bad'])"
   ]
  },
  {
   "cell_type": "code",
   "execution_count": null,
   "metadata": {},
   "outputs": [],
   "source": []
  }
 ],
 "metadata": {
  "kernelspec": {
   "display_name": "Python 3",
   "language": "python",
   "name": "python3"
  },
  "language_info": {
   "codemirror_mode": {
    "name": "ipython",
    "version": 3
   },
   "file_extension": ".py",
   "mimetype": "text/x-python",
   "name": "python",
   "nbconvert_exporter": "python",
   "pygments_lexer": "ipython3",
   "version": "3.6.9"
  },
  "toc": {
   "base_numbering": 1,
   "nav_menu": {},
   "number_sections": true,
   "sideBar": true,
   "skip_h1_title": false,
   "title_cell": "Table of Contents",
   "title_sidebar": "Contents",
   "toc_cell": false,
   "toc_position": {},
   "toc_section_display": true,
   "toc_window_display": false
  }
 },
 "nbformat": 4,
 "nbformat_minor": 2
}
