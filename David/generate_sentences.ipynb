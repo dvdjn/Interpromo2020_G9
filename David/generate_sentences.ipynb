{
 "cells": [
  {
   "cell_type": "markdown",
   "metadata": {},
   "source": [
    "# Generate the sentences-tags csv to train the Bert model"
   ]
  },
  {
   "cell_type": "markdown",
   "metadata": {
    "colab": {
     "base_uri": "https://localhost:8080/",
     "height": 211
    },
    "colab_type": "code",
    "id": "gwITmRrhAbw8",
    "outputId": "a9c7640c-9d13-4123-e967-0b4a4a3d5fc3"
   },
   "source": [
    "! pip install strsimpy  \n",
    "! pip install pyspellchecker  "
   ]
  },
  {
   "cell_type": "code",
   "execution_count": 1,
   "metadata": {
    "colab": {},
    "colab_type": "code",
    "id": "k3DbjLWMAXDY"
   },
   "outputs": [],
   "source": [
    "import pandas as pd\n",
    "import numpy as np\n",
    "import random\n",
    "import re\n",
    "import gensim\n",
    "from gensim.models import Word2Vec,KeyedVectors\n",
    "from strsimpy.jaro_winkler import JaroWinkler\n",
    "import nltk\n",
    "from nltk.corpus import stopwords\n",
    "from spellchecker import SpellChecker\n",
    "import itertools"
   ]
  },
  {
   "cell_type": "markdown",
   "metadata": {
    "colab_type": "text",
    "id": "vYGN4NkhAXDY"
   },
   "source": [
    "##### Libraries\n",
    "! pip install pyspellchecker  \n",
    "nltk.download('stopwords')"
   ]
  },
  {
   "cell_type": "markdown",
   "metadata": {
    "colab": {
     "base_uri": "https://localhost:8080/",
     "height": 208
    },
    "colab_type": "code",
    "id": "3x4J8humAmaM",
    "outputId": "b955b747-6da4-4068-cd77-d494be669cfd"
   },
   "source": [
    "!wget -P ./data -c \"https://s3.amazonaws.com/dl4j-distribution/GoogleNews-vectors-negative300.bin.gz\""
   ]
  },
  {
   "cell_type": "code",
   "execution_count": 2,
   "metadata": {
    "colab": {},
    "colab_type": "code",
    "id": "G0uukHzPAXDY"
   },
   "outputs": [],
   "source": [
    "%run constants.ipynb\n",
    "%run functions.ipynb\n",
    "%run dictionnaries.ipynb"
   ]
  },
  {
   "cell_type": "code",
   "execution_count": 3,
   "metadata": {
    "colab": {
     "base_uri": "https://localhost:8080/",
     "height": 72
    },
    "colab_type": "code",
    "id": "NtuCdWUjAXDY",
    "outputId": "6eaafcc3-74ea-45a2-ac58-518e2d3ea613"
   },
   "outputs": [],
   "source": [
    "model_w2v = KeyedVectors.load_word2vec_format(pathword2vec, binary=True)"
   ]
  },
  {
   "cell_type": "code",
   "execution_count": 4,
   "metadata": {},
   "outputs": [
    {
     "name": "stdout",
     "output_type": "stream",
     "text": [
      "True\n",
      "True\n",
      "True\n",
      "True\n",
      "True\n"
     ]
    }
   ],
   "source": [
    "prevoc = get_prevoc()\n",
    "voc = get_voc(model_w2v, prevoc)\n",
    "gen = get_gen()\n",
    "tagger = get_tagger()\n",
    "structures = get_structures()\n",
    "\n",
    "print(verif_dict_generator(gen))\n",
    "print(verif_dict_tagger(tagger))\n",
    "print(verif_dict_tagger_links_gen(tagger, gen))\n",
    "print(verif_dict_tagger_links_voc(tagger, voc))\n",
    "print(verif_structure_link_tag(structures, tagger, display=False))"
   ]
  },
  {
   "cell_type": "code",
   "execution_count": 5,
   "metadata": {
    "colab": {
     "base_uri": "https://localhost:8080/",
     "height": 54
    },
    "colab_type": "code",
    "id": "4k_l-tkOAXE8",
    "outputId": "2fd0e3dd-5407-4da6-a956-0f2200715824"
   },
   "outputs": [
    {
     "name": "stdout",
     "output_type": "stream",
     "text": [
      "['O', 'STAT_B', 'STAT_I', 'STAT_E', 'MANU_B', 'MANU_I', 'MANU_E', 'AIRP_B', 'AIRP_I', 'AIRP_E', 'AIRL_B', 'AIRL_I', 'AIRL_E', 'COUN_B', 'COUN_I', 'COUN_E', 'DATE1_B', 'DATE1_I', 'DATE1_E', 'DATE2_B', 'DATE2_I', 'DATE2_E', 'STUDIED_B', 'STUDIED_I', 'STUDIED_E']\n"
     ]
    }
   ],
   "source": [
    "all_tags = get_all_tags()\n",
    "print(all_tags)"
   ]
  },
  {
   "cell_type": "code",
   "execution_count": 6,
   "metadata": {
    "colab": {
     "base_uri": "https://localhost:8080/",
     "height": 52
    },
    "colab_type": "code",
    "id": "DRaThU9SA1vc",
    "outputId": "831edd1f-6c10-4b49-b24a-8e189df8b9f1"
   },
   "outputs": [],
   "source": [
    "voc_stopwords = set(stopwords.words('english'))"
   ]
  },
  {
   "cell_type": "code",
   "execution_count": 7,
   "metadata": {
    "colab": {
     "base_uri": "https://localhost:8080/",
     "height": 34
    },
    "colab_type": "code",
    "id": "wq9VfvDHAXOU",
    "outputId": "f5a825b8-9742-4870-d74e-5f985e2e9da6"
   },
   "outputs": [
    {
     "data": {
      "text/plain": [
       "'prodigious_customers_satisfaction'"
      ]
     },
     "execution_count": 7,
     "metadata": {},
     "output_type": "execute_result"
    }
   ],
   "source": [
    "select_from_sentence_gen(gen, \"#COMP#good #client_satisfaction\")[1:]"
   ]
  },
  {
   "cell_type": "code",
   "execution_count": 8,
   "metadata": {
    "colab": {
     "base_uri": "https://localhost:8080/",
     "height": 156
    },
    "colab_type": "code",
    "id": "OpbL6KhrgcJk",
    "outputId": "e31a7c6c-71a3-4d17-be71-8626902ca9fe"
   },
   "outputs": [
    {
     "data": {
      "text/plain": [
       "['#STATS#wordcloud']"
      ]
     },
     "execution_count": 8,
     "metadata": {},
     "output_type": "execute_result"
    }
   ],
   "source": [
    "structure = structures[np.random.choice(len(structures),1)[0]]\n",
    "init_structure(structure)"
   ]
  },
  {
   "cell_type": "code",
   "execution_count": 9,
   "metadata": {
    "colab": {
     "base_uri": "https://localhost:8080/",
     "height": 69
    },
    "colab_type": "code",
    "id": "UCrZBmkgAXOU",
    "outputId": "227f0d61-0f37-4c82-a0ac-97b8429adb10"
   },
   "outputs": [
    {
     "name": "stdout",
     "output_type": "stream",
     "text": [
      "Same length : True\n"
     ]
    },
    {
     "data": {
      "text/plain": [
       "('display us the plan of plane in JORDAN from the end of 1982 to APRIL 2002 for AIRBUS , CESSNA',\n",
       " 'O O O STAT_B STAT_I STAT_E O COUN_B O O O O DATE1_B O DATE2_B DATE2_E O MANU_B O MANU_B')"
      ]
     },
     "execution_count": 9,
     "metadata": {},
     "output_type": "execute_result"
    }
   ],
   "source": [
    "structure = structures[np.random.choice(len(structures),1)[0]]\n",
    "structure_init = init_structure(structure)\n",
    "sent,tags = generete_sentence_from_structure(tagger,structure_init)\n",
    "print(\"Same length :\", len(sent.split()) == len(tags.split()))\n",
    "sent,tags"
   ]
  },
  {
   "cell_type": "code",
   "execution_count": 10,
   "metadata": {
    "colab": {
     "base_uri": "https://localhost:8080/",
     "height": 278
    },
    "colab_type": "code",
    "id": "4yyvn0PiAXOU",
    "outputId": "c3308567-5eb8-4f9d-951d-c7509dc6443f"
   },
   "outputs": [
    {
     "data": {
      "text/plain": [
       "['I',\n",
       " 'would',\n",
       " 'like',\n",
       " 'the',\n",
       " 'graph',\n",
       " 'of',\n",
       " 'the',\n",
       " 'number',\n",
       " 'of',\n",
       " 'flight',\n",
       " 'for',\n",
       " 'Boeing',\n",
       " 'on',\n",
       " 'monday',\n",
       " '2020']"
      ]
     },
     "execution_count": 10,
     "metadata": {},
     "output_type": "execute_result"
    }
   ],
   "source": [
    "sentence = 'I woulde lirke the graph of the numbr of fligt for Boing on mondy 2020'\n",
    "auto_correction(model_w2v.vocab, voc, voc_stopwords, sentence)"
   ]
  },
  {
   "cell_type": "markdown",
   "metadata": {},
   "source": [
    "##### generation of the datasets"
   ]
  },
  {
   "cell_type": "code",
   "execution_count": 11,
   "metadata": {},
   "outputs": [],
   "source": [
    "train_df = generate_dataframe_for_bert(n=10000)\n",
    "eval_df = generate_dataframe_for_bert(n=1000)"
   ]
  },
  {
   "cell_type": "code",
   "execution_count": 12,
   "metadata": {},
   "outputs": [],
   "source": [
    "train_df.to_csv(data_directory+'tagger_train.csv', sep='§', encoding='utf-8')\n",
    "eval_df.to_csv(data_directory+'tagger_eval.csv', sep='§', encoding='utf-8')"
   ]
  },
  {
   "cell_type": "code",
   "execution_count": null,
   "metadata": {},
   "outputs": [],
   "source": []
  }
 ],
 "metadata": {
  "colab": {
   "collapsed_sections": [],
   "name": "generate_sentences.ipynb",
   "provenance": [],
   "toc_visible": true
  },
  "kernelspec": {
   "display_name": "Python 3",
   "language": "python",
   "name": "python3"
  },
  "language_info": {
   "codemirror_mode": {
    "name": "ipython",
    "version": 3
   },
   "file_extension": ".py",
   "mimetype": "text/x-python",
   "name": "python",
   "nbconvert_exporter": "python",
   "pygments_lexer": "ipython3",
   "version": "3.6.9"
  },
  "widgets": {
   "application/vnd.jupyter.widget-state+json": {
    "0152d11caab54f1683ad0cfe17249509": {
     "model_module": "@jupyter-widgets/controls",
     "model_name": "HBoxModel",
     "state": {
      "_dom_classes": [],
      "_model_module": "@jupyter-widgets/controls",
      "_model_module_version": "1.5.0",
      "_model_name": "HBoxModel",
      "_view_count": null,
      "_view_module": "@jupyter-widgets/controls",
      "_view_module_version": "1.5.0",
      "_view_name": "HBoxView",
      "box_style": "",
      "children": [
       "IPY_MODEL_79a9325bf40d4272b7d990f82079dfe3",
       "IPY_MODEL_cef1e7560fbe40bdb058bf0254f19ccc"
      ],
      "layout": "IPY_MODEL_544bc0acce184c13ab32b7807a34ecf3"
     }
    },
    "057e34434c004694a37c52b5f164a996": {
     "model_module": "@jupyter-widgets/controls",
     "model_name": "HBoxModel",
     "state": {
      "_dom_classes": [],
      "_model_module": "@jupyter-widgets/controls",
      "_model_module_version": "1.5.0",
      "_model_name": "HBoxModel",
      "_view_count": null,
      "_view_module": "@jupyter-widgets/controls",
      "_view_module_version": "1.5.0",
      "_view_name": "HBoxView",
      "box_style": "",
      "children": [
       "IPY_MODEL_56b0ccd5a1d74a90aeb794c1196ae1aa",
       "IPY_MODEL_59b94b1545234bdea2984e8d389207f7"
      ],
      "layout": "IPY_MODEL_3d785dea25f7432fb4d62922196962e8"
     }
    },
    "094b637c689b4b7ab694d6e66132890f": {
     "model_module": "@jupyter-widgets/controls",
     "model_name": "HBoxModel",
     "state": {
      "_dom_classes": [],
      "_model_module": "@jupyter-widgets/controls",
      "_model_module_version": "1.5.0",
      "_model_name": "HBoxModel",
      "_view_count": null,
      "_view_module": "@jupyter-widgets/controls",
      "_view_module_version": "1.5.0",
      "_view_name": "HBoxView",
      "box_style": "",
      "children": [
       "IPY_MODEL_b66bb7b4028340b5a1c54ad0419b55b7",
       "IPY_MODEL_b38f7e2f35c74ac9bfaebb05ca2a494d"
      ],
      "layout": "IPY_MODEL_4365496d64df41578706f2682ab9158a"
     }
    },
    "15871ca0332742ed800cf8b8d3c508aa": {
     "model_module": "@jupyter-widgets/controls",
     "model_name": "HBoxModel",
     "state": {
      "_dom_classes": [],
      "_model_module": "@jupyter-widgets/controls",
      "_model_module_version": "1.5.0",
      "_model_name": "HBoxModel",
      "_view_count": null,
      "_view_module": "@jupyter-widgets/controls",
      "_view_module_version": "1.5.0",
      "_view_name": "HBoxView",
      "box_style": "",
      "children": [
       "IPY_MODEL_8cb7d7c2350f4b18834cc2807253deee",
       "IPY_MODEL_03f7b34fa1f74737834a15e154ba4e70"
      ],
      "layout": "IPY_MODEL_2402fa42fcb84f33a9b93de679d150c8"
     }
    },
    "15f7d120736b4ec69995ef75ddd23bfb": {
     "model_module": "@jupyter-widgets/controls",
     "model_name": "HBoxModel",
     "state": {
      "_dom_classes": [],
      "_model_module": "@jupyter-widgets/controls",
      "_model_module_version": "1.5.0",
      "_model_name": "HBoxModel",
      "_view_count": null,
      "_view_module": "@jupyter-widgets/controls",
      "_view_module_version": "1.5.0",
      "_view_name": "HBoxView",
      "box_style": "",
      "children": [
       "IPY_MODEL_20db81cbf4d1484f9602eb09874da29f",
       "IPY_MODEL_61045bae680d4414a342fe65874a1a57"
      ],
      "layout": "IPY_MODEL_f2e57c3405794b4787c8244f96bcda3e"
     }
    },
    "18d310c1780f4cb3879449d41e99c5c5": {
     "model_module": "@jupyter-widgets/controls",
     "model_name": "HBoxModel",
     "state": {
      "_dom_classes": [],
      "_model_module": "@jupyter-widgets/controls",
      "_model_module_version": "1.5.0",
      "_model_name": "HBoxModel",
      "_view_count": null,
      "_view_module": "@jupyter-widgets/controls",
      "_view_module_version": "1.5.0",
      "_view_name": "HBoxView",
      "box_style": "",
      "children": [
       "IPY_MODEL_7c5a9508fb594c9588aee05876b1ff1a",
       "IPY_MODEL_a8a0271f6a1042a6b8837335f2ed7c2b"
      ],
      "layout": "IPY_MODEL_57e536e7dc4343b7999be97c48e58c51"
     }
    },
    "19449235100f4cd8af0ea3d16f3cab7b": {
     "model_module": "@jupyter-widgets/controls",
     "model_name": "HBoxModel",
     "state": {
      "_dom_classes": [],
      "_model_module": "@jupyter-widgets/controls",
      "_model_module_version": "1.5.0",
      "_model_name": "HBoxModel",
      "_view_count": null,
      "_view_module": "@jupyter-widgets/controls",
      "_view_module_version": "1.5.0",
      "_view_name": "HBoxView",
      "box_style": "",
      "children": [
       "IPY_MODEL_834efdb1fe7d4018aef6914c2d157e71",
       "IPY_MODEL_88c5a0f52ff34c1099a39633a951de14"
      ],
      "layout": "IPY_MODEL_5d994f7263184c528f69f410641a60b5"
     }
    },
    "19ce642ea7e24691b0d9a211e463ccb0": {
     "model_module": "@jupyter-widgets/controls",
     "model_name": "HBoxModel",
     "state": {
      "_dom_classes": [],
      "_model_module": "@jupyter-widgets/controls",
      "_model_module_version": "1.5.0",
      "_model_name": "HBoxModel",
      "_view_count": null,
      "_view_module": "@jupyter-widgets/controls",
      "_view_module_version": "1.5.0",
      "_view_name": "HBoxView",
      "box_style": "",
      "children": [
       "IPY_MODEL_f904b7ca605a4b149c6c16e681ce3b7f",
       "IPY_MODEL_32ba8b1fa87043e5bff8813582168d04"
      ],
      "layout": "IPY_MODEL_791520d3b5a34523adac8b1b004b8bd9"
     }
    },
    "1d17eaff58244ab0a82da8ddedcd2104": {
     "model_module": "@jupyter-widgets/controls",
     "model_name": "HBoxModel",
     "state": {
      "_dom_classes": [],
      "_model_module": "@jupyter-widgets/controls",
      "_model_module_version": "1.5.0",
      "_model_name": "HBoxModel",
      "_view_count": null,
      "_view_module": "@jupyter-widgets/controls",
      "_view_module_version": "1.5.0",
      "_view_name": "HBoxView",
      "box_style": "",
      "children": [
       "IPY_MODEL_f40374bfe1534476b48786ea686a57ae",
       "IPY_MODEL_408dc203019b4436a64b3e405486b680"
      ],
      "layout": "IPY_MODEL_7f6e4e215e2343c1bba42fbe22536337"
     }
    },
    "2883a28282874d199ac6b91ad5580100": {
     "model_module": "@jupyter-widgets/controls",
     "model_name": "HBoxModel",
     "state": {
      "_dom_classes": [],
      "_model_module": "@jupyter-widgets/controls",
      "_model_module_version": "1.5.0",
      "_model_name": "HBoxModel",
      "_view_count": null,
      "_view_module": "@jupyter-widgets/controls",
      "_view_module_version": "1.5.0",
      "_view_name": "HBoxView",
      "box_style": "",
      "children": [
       "IPY_MODEL_dcd28864e92047658500da8269a19310",
       "IPY_MODEL_ce4f0d3ba12149ab8f405ad5c3ba33dd"
      ],
      "layout": "IPY_MODEL_386373ebc3454f1cabdb2a5117a6874d"
     }
    },
    "418ead2235514a748a4a77014528a45c": {
     "model_module": "@jupyter-widgets/controls",
     "model_name": "HBoxModel",
     "state": {
      "_dom_classes": [],
      "_model_module": "@jupyter-widgets/controls",
      "_model_module_version": "1.5.0",
      "_model_name": "HBoxModel",
      "_view_count": null,
      "_view_module": "@jupyter-widgets/controls",
      "_view_module_version": "1.5.0",
      "_view_name": "HBoxView",
      "box_style": "",
      "children": [
       "IPY_MODEL_653ae46adc644b4cbd47a422123e23cc",
       "IPY_MODEL_ed46efdba128499f8f8a3b2bed9fd97f"
      ],
      "layout": "IPY_MODEL_0f6c3489093d47ac87f060264b66a271"
     }
    },
    "54d97814d7234d93906617f86054c663": {
     "model_module": "@jupyter-widgets/controls",
     "model_name": "HBoxModel",
     "state": {
      "_dom_classes": [],
      "_model_module": "@jupyter-widgets/controls",
      "_model_module_version": "1.5.0",
      "_model_name": "HBoxModel",
      "_view_count": null,
      "_view_module": "@jupyter-widgets/controls",
      "_view_module_version": "1.5.0",
      "_view_name": "HBoxView",
      "box_style": "",
      "children": [
       "IPY_MODEL_75d508a6e9c64c0aaee6e22c7250ce92",
       "IPY_MODEL_78ca5d14f7bf486ab79076acb18cae22"
      ],
      "layout": "IPY_MODEL_f5ea202ed79b402e91de26fa47f20067"
     }
    },
    "5644dfa4d4b742899655593a1ee362ea": {
     "model_module": "@jupyter-widgets/controls",
     "model_name": "HBoxModel",
     "state": {
      "_dom_classes": [],
      "_model_module": "@jupyter-widgets/controls",
      "_model_module_version": "1.5.0",
      "_model_name": "HBoxModel",
      "_view_count": null,
      "_view_module": "@jupyter-widgets/controls",
      "_view_module_version": "1.5.0",
      "_view_name": "HBoxView",
      "box_style": "",
      "children": [
       "IPY_MODEL_973b72b55c0647b798576036ed4c478c",
       "IPY_MODEL_b3d44bf6ffc248199b9956d95f1f99d6"
      ],
      "layout": "IPY_MODEL_d379ee5916034148b089af2e35e4245a"
     }
    },
    "6d53c22ddbcd4d9082f518391eb0f778": {
     "model_module": "@jupyter-widgets/controls",
     "model_name": "HBoxModel",
     "state": {
      "_dom_classes": [],
      "_model_module": "@jupyter-widgets/controls",
      "_model_module_version": "1.5.0",
      "_model_name": "HBoxModel",
      "_view_count": null,
      "_view_module": "@jupyter-widgets/controls",
      "_view_module_version": "1.5.0",
      "_view_name": "HBoxView",
      "box_style": "",
      "children": [
       "IPY_MODEL_3f5ae580f688414582e3fe3108e11970",
       "IPY_MODEL_08650690405546e0b27d7934d0356437"
      ],
      "layout": "IPY_MODEL_3ec1080ec2514f1a886e2bdde78f5959"
     }
    },
    "7957ddcd3eb445118d122716573d64ed": {
     "model_module": "@jupyter-widgets/controls",
     "model_name": "HBoxModel",
     "state": {
      "_dom_classes": [],
      "_model_module": "@jupyter-widgets/controls",
      "_model_module_version": "1.5.0",
      "_model_name": "HBoxModel",
      "_view_count": null,
      "_view_module": "@jupyter-widgets/controls",
      "_view_module_version": "1.5.0",
      "_view_name": "HBoxView",
      "box_style": "",
      "children": [
       "IPY_MODEL_b176ee6ef2b04d77a7e9ae87b2f95dd2",
       "IPY_MODEL_72afd7bc1e874bdcac171bac5263af75"
      ],
      "layout": "IPY_MODEL_9fe00b07b77e406ba5c8653a2082f75e"
     }
    },
    "7b4268d1257445518428c8531539be6b": {
     "model_module": "@jupyter-widgets/controls",
     "model_name": "HBoxModel",
     "state": {
      "_dom_classes": [],
      "_model_module": "@jupyter-widgets/controls",
      "_model_module_version": "1.5.0",
      "_model_name": "HBoxModel",
      "_view_count": null,
      "_view_module": "@jupyter-widgets/controls",
      "_view_module_version": "1.5.0",
      "_view_name": "HBoxView",
      "box_style": "",
      "children": [
       "IPY_MODEL_b24dd1b3fba041e285cf587833fb21b6",
       "IPY_MODEL_6026c9f27cee422f89761f753fa84e53"
      ],
      "layout": "IPY_MODEL_e63a4d36bfd147aa8347083a15eb472b"
     }
    },
    "7d567adb644f422f97c2e58283dc521d": {
     "model_module": "@jupyter-widgets/controls",
     "model_name": "HBoxModel",
     "state": {
      "_dom_classes": [],
      "_model_module": "@jupyter-widgets/controls",
      "_model_module_version": "1.5.0",
      "_model_name": "HBoxModel",
      "_view_count": null,
      "_view_module": "@jupyter-widgets/controls",
      "_view_module_version": "1.5.0",
      "_view_name": "HBoxView",
      "box_style": "",
      "children": [
       "IPY_MODEL_5e26ba0406214084a363b64d16bf1496",
       "IPY_MODEL_903c44acd3f244a6bf5ce00346c20f0b"
      ],
      "layout": "IPY_MODEL_ded1da761f4f4101a1a935a84cbaff47"
     }
    },
    "7d9f99d66ceb40b89e1e2d480aabcf78": {
     "model_module": "@jupyter-widgets/controls",
     "model_name": "HBoxModel",
     "state": {
      "_dom_classes": [],
      "_model_module": "@jupyter-widgets/controls",
      "_model_module_version": "1.5.0",
      "_model_name": "HBoxModel",
      "_view_count": null,
      "_view_module": "@jupyter-widgets/controls",
      "_view_module_version": "1.5.0",
      "_view_name": "HBoxView",
      "box_style": "",
      "children": [
       "IPY_MODEL_3f03e9b4877d4d38aaebe7f1aec67002",
       "IPY_MODEL_22f7554b0ed64f67be12ca068720059f"
      ],
      "layout": "IPY_MODEL_1443fcceff7d4b62917f59104e1ea936"
     }
    },
    "86f0fa57db574182826ff4e06acde39c": {
     "model_module": "@jupyter-widgets/controls",
     "model_name": "HBoxModel",
     "state": {
      "_dom_classes": [],
      "_model_module": "@jupyter-widgets/controls",
      "_model_module_version": "1.5.0",
      "_model_name": "HBoxModel",
      "_view_count": null,
      "_view_module": "@jupyter-widgets/controls",
      "_view_module_version": "1.5.0",
      "_view_name": "HBoxView",
      "box_style": "",
      "children": [
       "IPY_MODEL_1a26b7deccb34afd8ff8c7549eaea4fe",
       "IPY_MODEL_feacd36eebd64e51b585a3adfee2d5a5"
      ],
      "layout": "IPY_MODEL_41098860c5b34b64aae6517724dddb51"
     }
    },
    "949ef51e37f344318ac9f92611989779": {
     "model_module": "@jupyter-widgets/controls",
     "model_name": "HBoxModel",
     "state": {
      "_dom_classes": [],
      "_model_module": "@jupyter-widgets/controls",
      "_model_module_version": "1.5.0",
      "_model_name": "HBoxModel",
      "_view_count": null,
      "_view_module": "@jupyter-widgets/controls",
      "_view_module_version": "1.5.0",
      "_view_name": "HBoxView",
      "box_style": "",
      "children": [
       "IPY_MODEL_2b138e25f1ab4b50a9b6f170077c66f7",
       "IPY_MODEL_102a5017c4194caab1ca6c3907664875"
      ],
      "layout": "IPY_MODEL_5ccb3382becc46179ea4514823d1e920"
     }
    },
    "a7fb91a585124cab92ea5190d2823b0a": {
     "model_module": "@jupyter-widgets/controls",
     "model_name": "HBoxModel",
     "state": {
      "_dom_classes": [],
      "_model_module": "@jupyter-widgets/controls",
      "_model_module_version": "1.5.0",
      "_model_name": "HBoxModel",
      "_view_count": null,
      "_view_module": "@jupyter-widgets/controls",
      "_view_module_version": "1.5.0",
      "_view_name": "HBoxView",
      "box_style": "",
      "children": [
       "IPY_MODEL_471064b5ba194b1c8e1d2410c58ace3f",
       "IPY_MODEL_ac58a0a954bf47de83d4926c3fc227f8"
      ],
      "layout": "IPY_MODEL_2bb9b3072eb64f9eb279808ae11e83be"
     }
    },
    "c7cf0889e25f4515936f98f4a56d4243": {
     "model_module": "@jupyter-widgets/controls",
     "model_name": "HBoxModel",
     "state": {
      "_dom_classes": [],
      "_model_module": "@jupyter-widgets/controls",
      "_model_module_version": "1.5.0",
      "_model_name": "HBoxModel",
      "_view_count": null,
      "_view_module": "@jupyter-widgets/controls",
      "_view_module_version": "1.5.0",
      "_view_name": "HBoxView",
      "box_style": "",
      "children": [
       "IPY_MODEL_c7e0b64cc47f424da47190b18ab474cc",
       "IPY_MODEL_a7e5b1b5e59c4059949dc58431d0c24b"
      ],
      "layout": "IPY_MODEL_fc0ea97b1fd240c2b6711aaaf7f73aef"
     }
    },
    "e26f673205d34698aef44289d420b428": {
     "model_module": "@jupyter-widgets/controls",
     "model_name": "HBoxModel",
     "state": {
      "_dom_classes": [],
      "_model_module": "@jupyter-widgets/controls",
      "_model_module_version": "1.5.0",
      "_model_name": "HBoxModel",
      "_view_count": null,
      "_view_module": "@jupyter-widgets/controls",
      "_view_module_version": "1.5.0",
      "_view_name": "HBoxView",
      "box_style": "",
      "children": [
       "IPY_MODEL_9a9ad822c1f443998871953ff1a17faa",
       "IPY_MODEL_47a2a556a7ff40c297b018992a0f8879"
      ],
      "layout": "IPY_MODEL_d13d7983d09647338ab0510a34c2bcd1"
     }
    },
    "ed1ba3846dd34c3d89560e359b5de3c5": {
     "model_module": "@jupyter-widgets/controls",
     "model_name": "HBoxModel",
     "state": {
      "_dom_classes": [],
      "_model_module": "@jupyter-widgets/controls",
      "_model_module_version": "1.5.0",
      "_model_name": "HBoxModel",
      "_view_count": null,
      "_view_module": "@jupyter-widgets/controls",
      "_view_module_version": "1.5.0",
      "_view_name": "HBoxView",
      "box_style": "",
      "children": [
       "IPY_MODEL_0cdb38b3a32a4173a9fcfe8995625f47",
       "IPY_MODEL_29242d9e76c8465fb54aeb9dbf05e33b"
      ],
      "layout": "IPY_MODEL_5eac43a9589b4e51aff178c7f5d154ae"
     }
    },
    "fa776f1d8cc644ee900fa2b9f014be28": {
     "model_module": "@jupyter-widgets/controls",
     "model_name": "HBoxModel",
     "state": {
      "_dom_classes": [],
      "_model_module": "@jupyter-widgets/controls",
      "_model_module_version": "1.5.0",
      "_model_name": "HBoxModel",
      "_view_count": null,
      "_view_module": "@jupyter-widgets/controls",
      "_view_module_version": "1.5.0",
      "_view_name": "HBoxView",
      "box_style": "",
      "children": [
       "IPY_MODEL_cd23e0785e554a90acdefc079f3f3a3c",
       "IPY_MODEL_be8beae32f6144349832989454088734"
      ],
      "layout": "IPY_MODEL_7a71f2c4ef0743ebb11a3154167f5971"
     }
    },
    "fa9d132ebc1f47fcb67aacb3c1f6d43b": {
     "model_module": "@jupyter-widgets/controls",
     "model_name": "HBoxModel",
     "state": {
      "_dom_classes": [],
      "_model_module": "@jupyter-widgets/controls",
      "_model_module_version": "1.5.0",
      "_model_name": "HBoxModel",
      "_view_count": null,
      "_view_module": "@jupyter-widgets/controls",
      "_view_module_version": "1.5.0",
      "_view_name": "HBoxView",
      "box_style": "",
      "children": [
       "IPY_MODEL_1bf23b2b90dc4f80ac710c541ac9cba0",
       "IPY_MODEL_9b6cf25eb8fb4a89873dd0cd60c4501b"
      ],
      "layout": "IPY_MODEL_077b4f65fcd94f51aa809d19502b72c9"
     }
    },
    "fe5c6f50093f4db2ae07c2b0335e6937": {
     "model_module": "@jupyter-widgets/controls",
     "model_name": "HBoxModel",
     "state": {
      "_dom_classes": [],
      "_model_module": "@jupyter-widgets/controls",
      "_model_module_version": "1.5.0",
      "_model_name": "HBoxModel",
      "_view_count": null,
      "_view_module": "@jupyter-widgets/controls",
      "_view_module_version": "1.5.0",
      "_view_name": "HBoxView",
      "box_style": "",
      "children": [
       "IPY_MODEL_08a9149da1e54048b17ba304ac099562",
       "IPY_MODEL_4cfea8cadc854a688ec1639a3eff7b9b"
      ],
      "layout": "IPY_MODEL_728bd6df813d4d378314555dd90debbd"
     }
    }
   }
  }
 },
 "nbformat": 4,
 "nbformat_minor": 1
}
