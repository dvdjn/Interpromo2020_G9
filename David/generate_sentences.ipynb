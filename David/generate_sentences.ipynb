{
  "nbformat": 4,
  "nbformat_minor": 0,
  "metadata": {
    "colab": {
      "name": "generate_sentences.ipynb",
      "provenance": [],
      "collapsed_sections": [],
      "toc_visible": true
    },
    "kernelspec": {
      "display_name": "Python 3",
      "language": "python",
      "name": "python3"
    },
    "language_info": {
      "codemirror_mode": {
        "name": "ipython",
        "version": 3
      },
      "file_extension": ".py",
      "mimetype": "text/x-python",
      "name": "python",
      "nbconvert_exporter": "python",
      "pygments_lexer": "ipython3",
      "version": "3.6.9"
    },
    "widgets": {
      "application/vnd.jupyter.widget-state+json": {
        "fa776f1d8cc644ee900fa2b9f014be28": {
          "model_module": "@jupyter-widgets/controls",
          "model_name": "HBoxModel",
          "state": {
            "_view_name": "HBoxView",
            "_dom_classes": [],
            "_model_name": "HBoxModel",
            "_view_module": "@jupyter-widgets/controls",
            "_model_module_version": "1.5.0",
            "_view_count": null,
            "_view_module_version": "1.5.0",
            "box_style": "",
            "layout": "IPY_MODEL_7a71f2c4ef0743ebb11a3154167f5971",
            "_model_module": "@jupyter-widgets/controls",
            "children": [
              "IPY_MODEL_cd23e0785e554a90acdefc079f3f3a3c",
              "IPY_MODEL_be8beae32f6144349832989454088734"
            ]
          }
        },
        "15871ca0332742ed800cf8b8d3c508aa": {
          "model_module": "@jupyter-widgets/controls",
          "model_name": "HBoxModel",
          "state": {
            "_view_name": "HBoxView",
            "_dom_classes": [],
            "_model_name": "HBoxModel",
            "_view_module": "@jupyter-widgets/controls",
            "_model_module_version": "1.5.0",
            "_view_count": null,
            "_view_module_version": "1.5.0",
            "box_style": "",
            "layout": "IPY_MODEL_2402fa42fcb84f33a9b93de679d150c8",
            "_model_module": "@jupyter-widgets/controls",
            "children": [
              "IPY_MODEL_8cb7d7c2350f4b18834cc2807253deee",
              "IPY_MODEL_03f7b34fa1f74737834a15e154ba4e70"
            ]
          }
        },
        "e26f673205d34698aef44289d420b428": {
          "model_module": "@jupyter-widgets/controls",
          "model_name": "HBoxModel",
          "state": {
            "_view_name": "HBoxView",
            "_dom_classes": [],
            "_model_name": "HBoxModel",
            "_view_module": "@jupyter-widgets/controls",
            "_model_module_version": "1.5.0",
            "_view_count": null,
            "_view_module_version": "1.5.0",
            "box_style": "",
            "layout": "IPY_MODEL_d13d7983d09647338ab0510a34c2bcd1",
            "_model_module": "@jupyter-widgets/controls",
            "children": [
              "IPY_MODEL_9a9ad822c1f443998871953ff1a17faa",
              "IPY_MODEL_47a2a556a7ff40c297b018992a0f8879"
            ]
          }
        },
        "fa9d132ebc1f47fcb67aacb3c1f6d43b": {
          "model_module": "@jupyter-widgets/controls",
          "model_name": "HBoxModel",
          "state": {
            "_view_name": "HBoxView",
            "_dom_classes": [],
            "_model_name": "HBoxModel",
            "_view_module": "@jupyter-widgets/controls",
            "_model_module_version": "1.5.0",
            "_view_count": null,
            "_view_module_version": "1.5.0",
            "box_style": "",
            "layout": "IPY_MODEL_077b4f65fcd94f51aa809d19502b72c9",
            "_model_module": "@jupyter-widgets/controls",
            "children": [
              "IPY_MODEL_1bf23b2b90dc4f80ac710c541ac9cba0",
              "IPY_MODEL_9b6cf25eb8fb4a89873dd0cd60c4501b"
            ]
          }
        },
        "1d17eaff58244ab0a82da8ddedcd2104": {
          "model_module": "@jupyter-widgets/controls",
          "model_name": "HBoxModel",
          "state": {
            "_view_name": "HBoxView",
            "_dom_classes": [],
            "_model_name": "HBoxModel",
            "_view_module": "@jupyter-widgets/controls",
            "_model_module_version": "1.5.0",
            "_view_count": null,
            "_view_module_version": "1.5.0",
            "box_style": "",
            "layout": "IPY_MODEL_7f6e4e215e2343c1bba42fbe22536337",
            "_model_module": "@jupyter-widgets/controls",
            "children": [
              "IPY_MODEL_f40374bfe1534476b48786ea686a57ae",
              "IPY_MODEL_408dc203019b4436a64b3e405486b680"
            ]
          }
        },
        "fe5c6f50093f4db2ae07c2b0335e6937": {
          "model_module": "@jupyter-widgets/controls",
          "model_name": "HBoxModel",
          "state": {
            "_view_name": "HBoxView",
            "_dom_classes": [],
            "_model_name": "HBoxModel",
            "_view_module": "@jupyter-widgets/controls",
            "_model_module_version": "1.5.0",
            "_view_count": null,
            "_view_module_version": "1.5.0",
            "box_style": "",
            "layout": "IPY_MODEL_728bd6df813d4d378314555dd90debbd",
            "_model_module": "@jupyter-widgets/controls",
            "children": [
              "IPY_MODEL_08a9149da1e54048b17ba304ac099562",
              "IPY_MODEL_4cfea8cadc854a688ec1639a3eff7b9b"
            ]
          }
        },
        "86f0fa57db574182826ff4e06acde39c": {
          "model_module": "@jupyter-widgets/controls",
          "model_name": "HBoxModel",
          "state": {
            "_view_name": "HBoxView",
            "_dom_classes": [],
            "_model_name": "HBoxModel",
            "_view_module": "@jupyter-widgets/controls",
            "_model_module_version": "1.5.0",
            "_view_count": null,
            "_view_module_version": "1.5.0",
            "box_style": "",
            "layout": "IPY_MODEL_41098860c5b34b64aae6517724dddb51",
            "_model_module": "@jupyter-widgets/controls",
            "children": [
              "IPY_MODEL_1a26b7deccb34afd8ff8c7549eaea4fe",
              "IPY_MODEL_feacd36eebd64e51b585a3adfee2d5a5"
            ]
          }
        },
        "418ead2235514a748a4a77014528a45c": {
          "model_module": "@jupyter-widgets/controls",
          "model_name": "HBoxModel",
          "state": {
            "_view_name": "HBoxView",
            "_dom_classes": [],
            "_model_name": "HBoxModel",
            "_view_module": "@jupyter-widgets/controls",
            "_model_module_version": "1.5.0",
            "_view_count": null,
            "_view_module_version": "1.5.0",
            "box_style": "",
            "layout": "IPY_MODEL_0f6c3489093d47ac87f060264b66a271",
            "_model_module": "@jupyter-widgets/controls",
            "children": [
              "IPY_MODEL_653ae46adc644b4cbd47a422123e23cc",
              "IPY_MODEL_ed46efdba128499f8f8a3b2bed9fd97f"
            ]
          }
        },
        "19449235100f4cd8af0ea3d16f3cab7b": {
          "model_module": "@jupyter-widgets/controls",
          "model_name": "HBoxModel",
          "state": {
            "_view_name": "HBoxView",
            "_dom_classes": [],
            "_model_name": "HBoxModel",
            "_view_module": "@jupyter-widgets/controls",
            "_model_module_version": "1.5.0",
            "_view_count": null,
            "_view_module_version": "1.5.0",
            "box_style": "",
            "layout": "IPY_MODEL_5d994f7263184c528f69f410641a60b5",
            "_model_module": "@jupyter-widgets/controls",
            "children": [
              "IPY_MODEL_834efdb1fe7d4018aef6914c2d157e71",
              "IPY_MODEL_88c5a0f52ff34c1099a39633a951de14"
            ]
          }
        },
        "19ce642ea7e24691b0d9a211e463ccb0": {
          "model_module": "@jupyter-widgets/controls",
          "model_name": "HBoxModel",
          "state": {
            "_view_name": "HBoxView",
            "_dom_classes": [],
            "_model_name": "HBoxModel",
            "_view_module": "@jupyter-widgets/controls",
            "_model_module_version": "1.5.0",
            "_view_count": null,
            "_view_module_version": "1.5.0",
            "box_style": "",
            "layout": "IPY_MODEL_791520d3b5a34523adac8b1b004b8bd9",
            "_model_module": "@jupyter-widgets/controls",
            "children": [
              "IPY_MODEL_f904b7ca605a4b149c6c16e681ce3b7f",
              "IPY_MODEL_32ba8b1fa87043e5bff8813582168d04"
            ]
          }
        },
        "7957ddcd3eb445118d122716573d64ed": {
          "model_module": "@jupyter-widgets/controls",
          "model_name": "HBoxModel",
          "state": {
            "_view_name": "HBoxView",
            "_dom_classes": [],
            "_model_name": "HBoxModel",
            "_view_module": "@jupyter-widgets/controls",
            "_model_module_version": "1.5.0",
            "_view_count": null,
            "_view_module_version": "1.5.0",
            "box_style": "",
            "layout": "IPY_MODEL_9fe00b07b77e406ba5c8653a2082f75e",
            "_model_module": "@jupyter-widgets/controls",
            "children": [
              "IPY_MODEL_b176ee6ef2b04d77a7e9ae87b2f95dd2",
              "IPY_MODEL_72afd7bc1e874bdcac171bac5263af75"
            ]
          }
        },
        "54d97814d7234d93906617f86054c663": {
          "model_module": "@jupyter-widgets/controls",
          "model_name": "HBoxModel",
          "state": {
            "_view_name": "HBoxView",
            "_dom_classes": [],
            "_model_name": "HBoxModel",
            "_view_module": "@jupyter-widgets/controls",
            "_model_module_version": "1.5.0",
            "_view_count": null,
            "_view_module_version": "1.5.0",
            "box_style": "",
            "layout": "IPY_MODEL_f5ea202ed79b402e91de26fa47f20067",
            "_model_module": "@jupyter-widgets/controls",
            "children": [
              "IPY_MODEL_75d508a6e9c64c0aaee6e22c7250ce92",
              "IPY_MODEL_78ca5d14f7bf486ab79076acb18cae22"
            ]
          }
        },
        "949ef51e37f344318ac9f92611989779": {
          "model_module": "@jupyter-widgets/controls",
          "model_name": "HBoxModel",
          "state": {
            "_view_name": "HBoxView",
            "_dom_classes": [],
            "_model_name": "HBoxModel",
            "_view_module": "@jupyter-widgets/controls",
            "_model_module_version": "1.5.0",
            "_view_count": null,
            "_view_module_version": "1.5.0",
            "box_style": "",
            "layout": "IPY_MODEL_5ccb3382becc46179ea4514823d1e920",
            "_model_module": "@jupyter-widgets/controls",
            "children": [
              "IPY_MODEL_2b138e25f1ab4b50a9b6f170077c66f7",
              "IPY_MODEL_102a5017c4194caab1ca6c3907664875"
            ]
          }
        },
        "7d567adb644f422f97c2e58283dc521d": {
          "model_module": "@jupyter-widgets/controls",
          "model_name": "HBoxModel",
          "state": {
            "_view_name": "HBoxView",
            "_dom_classes": [],
            "_model_name": "HBoxModel",
            "_view_module": "@jupyter-widgets/controls",
            "_model_module_version": "1.5.0",
            "_view_count": null,
            "_view_module_version": "1.5.0",
            "box_style": "",
            "layout": "IPY_MODEL_ded1da761f4f4101a1a935a84cbaff47",
            "_model_module": "@jupyter-widgets/controls",
            "children": [
              "IPY_MODEL_5e26ba0406214084a363b64d16bf1496",
              "IPY_MODEL_903c44acd3f244a6bf5ce00346c20f0b"
            ]
          }
        },
        "2883a28282874d199ac6b91ad5580100": {
          "model_module": "@jupyter-widgets/controls",
          "model_name": "HBoxModel",
          "state": {
            "_view_name": "HBoxView",
            "_dom_classes": [],
            "_model_name": "HBoxModel",
            "_view_module": "@jupyter-widgets/controls",
            "_model_module_version": "1.5.0",
            "_view_count": null,
            "_view_module_version": "1.5.0",
            "box_style": "",
            "layout": "IPY_MODEL_386373ebc3454f1cabdb2a5117a6874d",
            "_model_module": "@jupyter-widgets/controls",
            "children": [
              "IPY_MODEL_dcd28864e92047658500da8269a19310",
              "IPY_MODEL_ce4f0d3ba12149ab8f405ad5c3ba33dd"
            ]
          }
        },
        "5644dfa4d4b742899655593a1ee362ea": {
          "model_module": "@jupyter-widgets/controls",
          "model_name": "HBoxModel",
          "state": {
            "_view_name": "HBoxView",
            "_dom_classes": [],
            "_model_name": "HBoxModel",
            "_view_module": "@jupyter-widgets/controls",
            "_model_module_version": "1.5.0",
            "_view_count": null,
            "_view_module_version": "1.5.0",
            "box_style": "",
            "layout": "IPY_MODEL_d379ee5916034148b089af2e35e4245a",
            "_model_module": "@jupyter-widgets/controls",
            "children": [
              "IPY_MODEL_973b72b55c0647b798576036ed4c478c",
              "IPY_MODEL_b3d44bf6ffc248199b9956d95f1f99d6"
            ]
          }
        },
        "ed1ba3846dd34c3d89560e359b5de3c5": {
          "model_module": "@jupyter-widgets/controls",
          "model_name": "HBoxModel",
          "state": {
            "_view_name": "HBoxView",
            "_dom_classes": [],
            "_model_name": "HBoxModel",
            "_view_module": "@jupyter-widgets/controls",
            "_model_module_version": "1.5.0",
            "_view_count": null,
            "_view_module_version": "1.5.0",
            "box_style": "",
            "layout": "IPY_MODEL_5eac43a9589b4e51aff178c7f5d154ae",
            "_model_module": "@jupyter-widgets/controls",
            "children": [
              "IPY_MODEL_0cdb38b3a32a4173a9fcfe8995625f47",
              "IPY_MODEL_29242d9e76c8465fb54aeb9dbf05e33b"
            ]
          }
        },
        "094b637c689b4b7ab694d6e66132890f": {
          "model_module": "@jupyter-widgets/controls",
          "model_name": "HBoxModel",
          "state": {
            "_view_name": "HBoxView",
            "_dom_classes": [],
            "_model_name": "HBoxModel",
            "_view_module": "@jupyter-widgets/controls",
            "_model_module_version": "1.5.0",
            "_view_count": null,
            "_view_module_version": "1.5.0",
            "box_style": "",
            "layout": "IPY_MODEL_4365496d64df41578706f2682ab9158a",
            "_model_module": "@jupyter-widgets/controls",
            "children": [
              "IPY_MODEL_b66bb7b4028340b5a1c54ad0419b55b7",
              "IPY_MODEL_b38f7e2f35c74ac9bfaebb05ca2a494d"
            ]
          }
        },
        "057e34434c004694a37c52b5f164a996": {
          "model_module": "@jupyter-widgets/controls",
          "model_name": "HBoxModel",
          "state": {
            "_view_name": "HBoxView",
            "_dom_classes": [],
            "_model_name": "HBoxModel",
            "_view_module": "@jupyter-widgets/controls",
            "_model_module_version": "1.5.0",
            "_view_count": null,
            "_view_module_version": "1.5.0",
            "box_style": "",
            "layout": "IPY_MODEL_3d785dea25f7432fb4d62922196962e8",
            "_model_module": "@jupyter-widgets/controls",
            "children": [
              "IPY_MODEL_56b0ccd5a1d74a90aeb794c1196ae1aa",
              "IPY_MODEL_59b94b1545234bdea2984e8d389207f7"
            ]
          }
        },
        "0152d11caab54f1683ad0cfe17249509": {
          "model_module": "@jupyter-widgets/controls",
          "model_name": "HBoxModel",
          "state": {
            "_view_name": "HBoxView",
            "_dom_classes": [],
            "_model_name": "HBoxModel",
            "_view_module": "@jupyter-widgets/controls",
            "_model_module_version": "1.5.0",
            "_view_count": null,
            "_view_module_version": "1.5.0",
            "box_style": "",
            "layout": "IPY_MODEL_544bc0acce184c13ab32b7807a34ecf3",
            "_model_module": "@jupyter-widgets/controls",
            "children": [
              "IPY_MODEL_79a9325bf40d4272b7d990f82079dfe3",
              "IPY_MODEL_cef1e7560fbe40bdb058bf0254f19ccc"
            ]
          }
        },
        "7d9f99d66ceb40b89e1e2d480aabcf78": {
          "model_module": "@jupyter-widgets/controls",
          "model_name": "HBoxModel",
          "state": {
            "_view_name": "HBoxView",
            "_dom_classes": [],
            "_model_name": "HBoxModel",
            "_view_module": "@jupyter-widgets/controls",
            "_model_module_version": "1.5.0",
            "_view_count": null,
            "_view_module_version": "1.5.0",
            "box_style": "",
            "layout": "IPY_MODEL_1443fcceff7d4b62917f59104e1ea936",
            "_model_module": "@jupyter-widgets/controls",
            "children": [
              "IPY_MODEL_3f03e9b4877d4d38aaebe7f1aec67002",
              "IPY_MODEL_22f7554b0ed64f67be12ca068720059f"
            ]
          }
        },
        "6d53c22ddbcd4d9082f518391eb0f778": {
          "model_module": "@jupyter-widgets/controls",
          "model_name": "HBoxModel",
          "state": {
            "_view_name": "HBoxView",
            "_dom_classes": [],
            "_model_name": "HBoxModel",
            "_view_module": "@jupyter-widgets/controls",
            "_model_module_version": "1.5.0",
            "_view_count": null,
            "_view_module_version": "1.5.0",
            "box_style": "",
            "layout": "IPY_MODEL_3ec1080ec2514f1a886e2bdde78f5959",
            "_model_module": "@jupyter-widgets/controls",
            "children": [
              "IPY_MODEL_3f5ae580f688414582e3fe3108e11970",
              "IPY_MODEL_08650690405546e0b27d7934d0356437"
            ]
          }
        },
        "c7cf0889e25f4515936f98f4a56d4243": {
          "model_module": "@jupyter-widgets/controls",
          "model_name": "HBoxModel",
          "state": {
            "_view_name": "HBoxView",
            "_dom_classes": [],
            "_model_name": "HBoxModel",
            "_view_module": "@jupyter-widgets/controls",
            "_model_module_version": "1.5.0",
            "_view_count": null,
            "_view_module_version": "1.5.0",
            "box_style": "",
            "layout": "IPY_MODEL_fc0ea97b1fd240c2b6711aaaf7f73aef",
            "_model_module": "@jupyter-widgets/controls",
            "children": [
              "IPY_MODEL_c7e0b64cc47f424da47190b18ab474cc",
              "IPY_MODEL_a7e5b1b5e59c4059949dc58431d0c24b"
            ]
          }
        },
        "a7fb91a585124cab92ea5190d2823b0a": {
          "model_module": "@jupyter-widgets/controls",
          "model_name": "HBoxModel",
          "state": {
            "_view_name": "HBoxView",
            "_dom_classes": [],
            "_model_name": "HBoxModel",
            "_view_module": "@jupyter-widgets/controls",
            "_model_module_version": "1.5.0",
            "_view_count": null,
            "_view_module_version": "1.5.0",
            "box_style": "",
            "layout": "IPY_MODEL_2bb9b3072eb64f9eb279808ae11e83be",
            "_model_module": "@jupyter-widgets/controls",
            "children": [
              "IPY_MODEL_471064b5ba194b1c8e1d2410c58ace3f",
              "IPY_MODEL_ac58a0a954bf47de83d4926c3fc227f8"
            ]
          }
        },
        "18d310c1780f4cb3879449d41e99c5c5": {
          "model_module": "@jupyter-widgets/controls",
          "model_name": "HBoxModel",
          "state": {
            "_view_name": "HBoxView",
            "_dom_classes": [],
            "_model_name": "HBoxModel",
            "_view_module": "@jupyter-widgets/controls",
            "_model_module_version": "1.5.0",
            "_view_count": null,
            "_view_module_version": "1.5.0",
            "box_style": "",
            "layout": "IPY_MODEL_57e536e7dc4343b7999be97c48e58c51",
            "_model_module": "@jupyter-widgets/controls",
            "children": [
              "IPY_MODEL_7c5a9508fb594c9588aee05876b1ff1a",
              "IPY_MODEL_a8a0271f6a1042a6b8837335f2ed7c2b"
            ]
          }
        },
        "15f7d120736b4ec69995ef75ddd23bfb": {
          "model_module": "@jupyter-widgets/controls",
          "model_name": "HBoxModel",
          "state": {
            "_view_name": "HBoxView",
            "_dom_classes": [],
            "_model_name": "HBoxModel",
            "_view_module": "@jupyter-widgets/controls",
            "_model_module_version": "1.5.0",
            "_view_count": null,
            "_view_module_version": "1.5.0",
            "box_style": "",
            "layout": "IPY_MODEL_f2e57c3405794b4787c8244f96bcda3e",
            "_model_module": "@jupyter-widgets/controls",
            "children": [
              "IPY_MODEL_20db81cbf4d1484f9602eb09874da29f",
              "IPY_MODEL_61045bae680d4414a342fe65874a1a57"
            ]
          }
        },
        "7b4268d1257445518428c8531539be6b": {
          "model_module": "@jupyter-widgets/controls",
          "model_name": "HBoxModel",
          "state": {
            "_view_name": "HBoxView",
            "_dom_classes": [],
            "_model_name": "HBoxModel",
            "_view_module": "@jupyter-widgets/controls",
            "_model_module_version": "1.5.0",
            "_view_count": null,
            "_view_module_version": "1.5.0",
            "box_style": "",
            "layout": "IPY_MODEL_e63a4d36bfd147aa8347083a15eb472b",
            "_model_module": "@jupyter-widgets/controls",
            "children": [
              "IPY_MODEL_b24dd1b3fba041e285cf587833fb21b6",
              "IPY_MODEL_6026c9f27cee422f89761f753fa84e53"
            ]
          }
        }
      }
    }
  },
  "cells": [
    {
      "cell_type": "code",
      "metadata": {
        "colab_type": "code",
        "id": "gwITmRrhAbw8",
        "outputId": "a9c7640c-9d13-4123-e967-0b4a4a3d5fc3",
        "colab": {
          "base_uri": "https://localhost:8080/",
          "height": 211
        }
      },
      "source": [
        "! pip install strsimpy  \n",
        "! pip install pyspellchecker  "
      ],
      "execution_count": 1,
      "outputs": [
        {
          "output_type": "stream",
          "text": [
            "Collecting strsimpy\n",
            "\u001b[?25l  Downloading https://files.pythonhosted.org/packages/b4/01/af8d440246dac326d8582c09e2a63aafe19d187a9979cda712e738439cf0/strsimpy-0.1.3-py3-none-any.whl (41kB)\n",
            "\r\u001b[K     |███████▉                        | 10kB 18.7MB/s eta 0:00:01\r\u001b[K     |███████████████▊                | 20kB 1.7MB/s eta 0:00:01\r\u001b[K     |███████████████████████▋        | 30kB 2.3MB/s eta 0:00:01\r\u001b[K     |███████████████████████████████▌| 40kB 2.6MB/s eta 0:00:01\r\u001b[K     |████████████████████████████████| 51kB 2.3MB/s \n",
            "\u001b[?25hInstalling collected packages: strsimpy\n",
            "Successfully installed strsimpy-0.1.3\n",
            "Collecting pyspellchecker\n",
            "\u001b[?25l  Downloading https://files.pythonhosted.org/packages/93/24/9a570f49dfefc16e9ce1f483bb2d5bff701b95094e051db502e3c11f5092/pyspellchecker-0.5.3-py2.py3-none-any.whl (1.9MB)\n",
            "\u001b[K     |████████████████████████████████| 1.9MB 2.8MB/s \n",
            "\u001b[?25hInstalling collected packages: pyspellchecker\n",
            "Successfully installed pyspellchecker-0.5.3\n"
          ],
          "name": "stdout"
        }
      ]
    },
    {
      "cell_type": "code",
      "metadata": {
        "colab_type": "code",
        "id": "k3DbjLWMAXDY",
        "colab": {}
      },
      "source": [
        "import pandas as pd\n",
        "import numpy as np\n",
        "import random\n",
        "import re\n",
        "import gensim\n",
        "from gensim.models import Word2Vec\n",
        "from strsimpy.jaro_winkler import JaroWinkler\n",
        "import nltk\n",
        "from nltk.corpus import stopwords\n",
        "from spellchecker import SpellChecker\n",
        "import itertools"
      ],
      "execution_count": 0,
      "outputs": []
    },
    {
      "cell_type": "markdown",
      "metadata": {
        "colab_type": "text",
        "id": "vYGN4NkhAXDY"
      },
      "source": [
        "##### Libraries\n",
        "! pip install pyspellchecker\n",
        "##### Models :\n",
        "https://github.com/eyaler/word2vec-slim/blob/master/GoogleNews-vectors-negative300-SLIM.bin.gz  \n",
        "https://github.com/mmihaltz/word2vec-GoogleNews-vectors/blob/master/GoogleNews-vectors-negative300.bin.gz"
      ]
    },
    {
      "cell_type": "code",
      "metadata": {
        "colab_type": "code",
        "id": "3x4J8humAmaM",
        "outputId": "b955b747-6da4-4068-cd77-d494be669cfd",
        "colab": {
          "base_uri": "https://localhost:8080/",
          "height": 208
        }
      },
      "source": [
        "!wget -P ./data -c \"https://s3.amazonaws.com/dl4j-distribution/GoogleNews-vectors-negative300.bin.gz\""
      ],
      "execution_count": 3,
      "outputs": [
        {
          "output_type": "stream",
          "text": [
            "--2020-01-13 20:06:27--  https://s3.amazonaws.com/dl4j-distribution/GoogleNews-vectors-negative300.bin.gz\n",
            "Resolving s3.amazonaws.com (s3.amazonaws.com)... 52.216.238.181\n",
            "Connecting to s3.amazonaws.com (s3.amazonaws.com)|52.216.238.181|:443... connected.\n",
            "HTTP request sent, awaiting response... 200 OK\n",
            "Length: 1647046227 (1.5G) [application/x-gzip]\n",
            "Saving to: ‘./data/GoogleNews-vectors-negative300.bin.gz’\n",
            "\n",
            "GoogleNews-vectors- 100%[===================>]   1.53G  53.1MB/s    in 28s     \n",
            "\n",
            "2020-01-13 20:06:55 (56.1 MB/s) - ‘./data/GoogleNews-vectors-negative300.bin.gz’ saved [1647046227/1647046227]\n",
            "\n"
          ],
          "name": "stdout"
        }
      ]
    },
    {
      "cell_type": "code",
      "metadata": {
        "colab_type": "code",
        "id": "NtuCdWUjAXDY",
        "outputId": "6eaafcc3-74ea-45a2-ac58-518e2d3ea613",
        "colab": {
          "base_uri": "https://localhost:8080/",
          "height": 72
        }
      },
      "source": [
        "pathword2vec = './data/GoogleNews-vectors-negative300.bin.gz'\n",
        "model_w2v = gensim.models.KeyedVectors.load_word2vec_format(pathword2vec,\n",
        "                                                            binary=True)"
      ],
      "execution_count": 4,
      "outputs": [
        {
          "output_type": "stream",
          "text": [
            "/usr/local/lib/python3.6/dist-packages/smart_open/smart_open_lib.py:402: UserWarning: This function is deprecated, use smart_open.open instead. See the migration notes for details: https://github.com/RaRe-Technologies/smart_open/blob/master/README.rst#migrating-to-the-new-open-function\n",
            "  'See the migration notes for details: %s' % _MIGRATION_NOTES_URL\n"
          ],
          "name": "stderr"
        }
      ]
    },
    {
      "cell_type": "code",
      "metadata": {
        "colab_type": "code",
        "id": "DRaThU9SA1vc",
        "outputId": "831edd1f-6c10-4b49-b24a-8e189df8b9f1",
        "colab": {
          "base_uri": "https://localhost:8080/",
          "height": 52
        }
      },
      "source": [
        "nltk.download('stopwords')\n",
        "voc_stopwords = set(stopwords.words('english'))"
      ],
      "execution_count": 5,
      "outputs": [
        {
          "output_type": "stream",
          "text": [
            "[nltk_data] Downloading package stopwords to /root/nltk_data...\n",
            "[nltk_data]   Unzipping corpora/stopwords.zip.\n"
          ],
          "name": "stdout"
        }
      ]
    },
    {
      "cell_type": "code",
      "metadata": {
        "colab_type": "code",
        "id": "G0uukHzPAXDY",
        "colab": {}
      },
      "source": [
        "df_aircraft = pd.read_csv('./data/df_aircraft.csv', sep='§', engine='python',\n",
        "                          index_col=0, encoding='utf-8')\n",
        "df_airline = pd.read_csv('./data/df_airline.csv', sep='§', engine='python',\n",
        "                         index_col=0, encoding='utf-8')\n",
        "df_airport = pd.read_csv('./data/df_airport.csv', sep='§', engine='python',\n",
        "                         index_col=0, encoding='utf-8')\n",
        "df_country = pd.read_csv('./data/df_country.csv', sep='§', engine='python',\n",
        "                         index_col=0, encoding='utf-8')\n"
      ],
      "execution_count": 0,
      "outputs": []
    },
    {
      "cell_type": "code",
      "metadata": {
        "colab_type": "code",
        "id": "ECrcsAZzAXE8",
        "colab": {}
      },
      "source": [
        "CT_SEP = '_'\n",
        "CT_HASH = '#'\n",
        "\n",
        "CT_SUF_B='B'\n",
        "CT_SUF_I='I'\n",
        "CT_SUF_E='E'\n",
        "\n",
        "CT_TAG_STAT = 'STAT'\n",
        "CT_TAG_MANU = 'MANU'\n",
        "CT_TAG_AIRP = 'AIRP'\n",
        "CT_TAG_AIRL = 'AIRL'\n",
        "CT_TAG_COUN = 'COUN'\n",
        "CT_TAG_DATE1 = 'DATE1'\n",
        "CT_TAG_DATE2 = 'DATE2'\n",
        "CT_TAG_STUD = 'STUDIED'\n",
        "CT_TAG_O = 'O'"
      ],
      "execution_count": 0,
      "outputs": []
    },
    {
      "cell_type": "code",
      "metadata": {
        "colab_type": "code",
        "id": "4k_l-tkOAXE8",
        "outputId": "2fd0e3dd-5407-4da6-a956-0f2200715824",
        "colab": {
          "base_uri": "https://localhost:8080/",
          "height": 54
        }
      },
      "source": [
        "prefixe = [CT_TAG_STAT, CT_TAG_MANU, CT_TAG_AIRP, CT_TAG_AIRL, CT_TAG_COUN,\n",
        "           CT_TAG_DATE1, CT_TAG_DATE2, CT_TAG_STUD]\n",
        "separat = [CT_SEP]\n",
        "suffixe = [CT_SUF_B, CT_SUF_I, CT_SUF_E]\n",
        "\n",
        "all_tags =  [CT_TAG_O] + [\"\".join(t) \n",
        "                          for t in list(itertools.product(prefixe,separat,suffixe))]\n",
        "print(all_tags)"
      ],
      "execution_count": 8,
      "outputs": [
        {
          "output_type": "stream",
          "text": [
            "['O', 'STAT_B', 'STAT_I', 'STAT_E', 'MANU_B', 'MANU_I', 'MANU_E', 'AIRP_B', 'AIRP_I', 'AIRP_E', 'AIRL_B', 'AIRL_I', 'AIRL_E', 'COUN_B', 'COUN_I', 'COUN_E', 'DATE1_B', 'DATE1_I', 'DATE1_E', 'DATE2_B', 'DATE2_I', 'DATE2_E', 'STUDIED_B', 'STUDIED_I', 'STUDIED_E']\n"
          ],
          "name": "stdout"
        }
      ]
    },
    {
      "cell_type": "code",
      "metadata": {
        "colab_type": "code",
        "id": "Q_htwN9RAXE8",
        "colab": {}
      },
      "source": [
        "def preprocess(w):\n",
        "    w = w.split(',')[0].strip()\n",
        "    w = w.split('(')[0].strip()\n",
        "    w = w.split('/')[0].strip()\n",
        "    w = \"_\".join(list(map(lambda x:x.strip(), w.split('&'))))\n",
        "    w = w.replace(\"St \",\"Saint \")\n",
        "    w = w.replace(\"-\",\" \")\n",
        "    w = w.replace(\".\",\" \")\n",
        "    w = w.replace(\"*\",\" \")\n",
        "    w = w.replace(\"\\'\",\" \")\n",
        "    w = w.split()\n",
        "    if w[-1].lower() == 'airport': w = w[0:-1]\n",
        "    if w[-1].lower() == 'intl': w = w[0:-1]\n",
        "    w = \"_\".join(w)\n",
        "    return w\n",
        "\n",
        "def word_gen(model, word_list, up=False, cap=False, same=False, low=False):\n",
        "    def my_capitalize(w):\n",
        "        return \"_\".join(list(map(lambda x:x.capitalize(), w.split('_'))))\n",
        "    \n",
        "    l_upper, l_lower, l_cap, l_same = [], [], [], []\n",
        "    if up:\n",
        "        l_upper = [m.upper() for m in word_list \n",
        "                   if m.upper() in model.vocab]\n",
        "    if cap:\n",
        "        l_cap = [my_capitalize(m) \n",
        "                 for m in word_list \n",
        "                 if my_capitalize(m) in model.vocab]\n",
        "    if same:\n",
        "        l_same = [m for m in word_list \n",
        "                  if m in model.vocab]\n",
        "    if low:\n",
        "        l_lower = [m.lower() for m in word_list \n",
        "                   if m.lower() in model.vocab]\n",
        "    \n",
        "    return set(l_upper + l_cap + l_lower + l_same)"
      ],
      "execution_count": 0,
      "outputs": []
    },
    {
      "cell_type": "code",
      "metadata": {
        "colab_type": "code",
        "id": "gRNH9CuAAXE8",
        "colab": {}
      },
      "source": [
        "# init the tags\n",
        "def init_sent(list_words):\n",
        "    res = []\n",
        "    for e in list_words:\n",
        "        if e.startswith('#'):\n",
        "            res.append((e,'#'))\n",
        "        elif e.startswith('$'):\n",
        "            res.append((e,'#'))\n",
        "        else :\n",
        "            for w in e.split():\n",
        "                res.append((w,CT_TAG_O))\n",
        "    return res\n",
        "\n",
        "# initialize a structure\n",
        "# if tuple : choose one at random\n",
        "def init_structure(struct):\n",
        "    res = []\n",
        "    if isinstance(struct, str):\n",
        "        struct = struct.strip()\n",
        "        if len(struct): res += [struct]\n",
        "    elif isinstance(struct, tuple):\n",
        "        n = np.random.choice(len(struct),1)[0]\n",
        "        l = list(struct)[n]\n",
        "        res += init_structure(l)\n",
        "    elif isinstance(struct, list):\n",
        "        for s in struct:\n",
        "            if isinstance(s, str):\n",
        "                s = s.strip()\n",
        "                if len(s) : res += [s]\n",
        "            elif isinstance(s,tuple):\n",
        "                n = np.random.choice(len(s),1)[0]\n",
        "                l = list(s)[n]\n",
        "                res += init_structure(l)\n",
        "            elif isinstance(s,list):\n",
        "                n = np.random.choice(len(s),1)[0]\n",
        "                l = list(s)[n]\n",
        "                res += init_structure(l)\n",
        "    return res\n",
        "\n",
        "# make the swaps\n",
        "def swap(tagger,W):\n",
        "    def wt_augm(w, tag):\n",
        "        ws = w.split(\"_\")\n",
        "        ws = [w for w in ws if w != '']\n",
        "        t = tag.split(CT_SEP)\n",
        "        t_name = t[0]\n",
        "        if len(t)>1:\n",
        "            t_suffix = t[-1]\n",
        "        else : t_suffix = CT_SUF_B\n",
        "        \n",
        "        tags = [t_name+CT_SEP+t_suffix if i==0 \n",
        "                else t_name+CT_SEP+CT_SUF_E if i+1==len(ws)\n",
        "                else t_name+CT_SEP+CT_SUF_I \n",
        "                for i in range(len(ws))]\n",
        "        tags = [CT_TAG_O if t.startswith(CT_TAG_O) \n",
        "                else t \n",
        "                for t in tags]\n",
        "        return list(zip(ws,tags))\n",
        "    \n",
        "    hw, tag = W\n",
        "    if hw.startswith('#'):\n",
        "        n = random.sample(range(len(tagger[hw])),1)[0]\n",
        "        w = tagger[hw][n]\n",
        "        w = list(zip(w[0].split(), w[1].split()))\n",
        "        w = [swap(tagger,(m[0], tag)) if (tag!='#')\n",
        "             else swap(tagger,(m[0], m[1])) \n",
        "             for m in w]\n",
        "        if len(w)==1: \n",
        "            w = w[0]\n",
        "            \n",
        "    elif hw.startswith('$GEN$'):\n",
        "        key = hw.split('$GEN$')[1]\n",
        "        a = select_from_sentence_gen(gen, key)[1:]\n",
        "        w = wt_augm(a, tag)\n",
        "            \n",
        "    elif hw.startswith('$VOC$'):\n",
        "        _,key,sub_key = hw.split('$VOC$')[1].split('#')\n",
        "        words_set = voc[key][sub_key]\n",
        "        n = random.sample(range(len(words_set)),1)[0]\n",
        "        w = list(words_set)[n]\n",
        "        w = wt_augm(w, tag)\n",
        "    else:\n",
        "        w = (hw, tag)\n",
        "    \n",
        "    return w\n",
        "\n",
        "# remove list of list\n",
        "def remove_lists(listsOfLists):\n",
        "    continue_loop = True\n",
        "    while continue_loop:\n",
        "        res = []\n",
        "        continue_loop = False\n",
        "        for t in listsOfLists:\n",
        "            if isinstance(t, list):\n",
        "                continue_loop = True\n",
        "                res.extend(t)\n",
        "            else:\n",
        "                res.append(t)\n",
        "        listsOfLists = res\n",
        "    return res\n",
        "\n",
        "# generate a new sentence with tags from a structure\n",
        "def generete_sentence_from_structure(tagger, structure):\n",
        "    sent_ini = init_sent(structure)\n",
        "    tagged_sentence = remove_lists([swap(tagger,w) for w in sent_ini])\n",
        "    sent = \" \".join([w[0] for w in tagged_sentence])\n",
        "    tags = \" \".join([w[1] for w in tagged_sentence])\n",
        "    return sent, tags\n",
        "\n",
        "# return the closest word in the vocabulary, the key and score\n",
        "def closest_word_in_voc(voc, word):\n",
        "    jarowinkler = JaroWinkler()\n",
        "    sim = 0\n",
        "    for k in voc:\n",
        "        for w in voc[k]['voc']:\n",
        "            jaro = jarowinkler.similarity(w,word)\n",
        "            if jaro >= sim:\n",
        "                sim = jaro\n",
        "                result = w,k,sim\n",
        "    return result\n",
        "\n",
        "# autocorrection of a sentence based on the model and our vocabulary\n",
        "def auto_correction(model_vocab, voc, voc_stopwords, sentence):\n",
        "    spell = SpellChecker()\n",
        "    correction = []\n",
        "    for w in sentence.split():\n",
        "        if w[0].isupper():\n",
        "            wc,wk,ws = closest_word_in_voc(voc, w)\n",
        "            if ws > 0.95:\n",
        "                correction.append(wc)\n",
        "            else:\n",
        "                if w in model_vocab or w in voc_stopwords:\n",
        "                    correction.append(w)\n",
        "                else:\n",
        "                    wc = spell.correction(w)\n",
        "                    correction.append(wc.capitalize())\n",
        "        else :\n",
        "            if w in model_vocab or w in voc_stopwords:\n",
        "                correction.append(w)\n",
        "            else:\n",
        "                wc,wk,ws = closest_word_in_voc(voc, w)\n",
        "                if ws > 0.95:\n",
        "                    correction.append(wc)\n",
        "                else:\n",
        "                    wc = spell.correction(w)\n",
        "                    correction.append(wc)\n",
        "    return correction\n",
        "\n",
        "# generate and select a sentence from the gen dictionary\n",
        "def select_from_sentence_gen(gen, ks):\n",
        "    res = ''\n",
        "    for k in ks.split():\n",
        "        if k not in gen:\n",
        "            print(\"warning :\",k,\"not found\")\n",
        "        else :\n",
        "            n = np.random.choice(len(gen[k]),1)[0]\n",
        "            l = list(gen[k])[n].split()\n",
        "            for el in l:\n",
        "\n",
        "                if el.startswith('#'):\n",
        "                    res += select_from_sentence_gen(gen, el)\n",
        "                else :\n",
        "                    res += '_'+el\n",
        "    return res"
      ],
      "execution_count": 0,
      "outputs": []
    },
    {
      "cell_type": "code",
      "metadata": {
        "colab_type": "code",
        "id": "l8n9wgnPAXE8",
        "colab": {}
      },
      "source": [
        "# function that verify the integrity of the tagger dictionary\n",
        "def verif_dict_tagger(dict_swaps):\n",
        "    verif_global = True\n",
        "    hash_keys = [k for k in dict_swaps.keys() if k.startswith('$')==False]\n",
        "    for k in hash_keys:\n",
        "        l = dict_swaps[k]\n",
        "        words = [w[0] for w in l]\n",
        "        tags = [w[1] for w in l]\n",
        "\n",
        "        # verif number of words = number of tags\n",
        "        left = np.array([len(words) \n",
        "                         for words in list(map(lambda x:x.split(), words))])\n",
        "        right = np.array([len(words) \n",
        "                          for words in list(map(lambda x:x.split(), tags))])\n",
        "        verif1 = all(left == right)\n",
        "        if not verif1: print(k, \"\\t1-Number of words != number of tags\")\n",
        "\n",
        "        # verif all #words have #tags conterpart\n",
        "        left = np.array([words[0].startswith(\"#\") \n",
        "                         for words in list(map(lambda x:x.split(), words))\n",
        "                         if len(words)>0])\n",
        "        right = np.array([words[0].startswith(\"#\") \n",
        "                          for words in list(map(lambda x:x.split(), tags))\n",
        "                          if len(words)>0])\n",
        "        verif2 = all(left == right)\n",
        "        if not verif2: print(k, \"\\t2-Not all words have their tags\")\n",
        "        \n",
        "        # verif all links have key\n",
        "        verif3 = [m in dict_swaps.keys() for w in words for m in w.split()\n",
        "                  if m.startswith(\"#\")]\n",
        "        if len(verif3)>0: verif3 = all(verif3)\n",
        "        else: verif3 = True\n",
        "        if not verif3: print(k, \"\\t3-Not all link have a key\")\n",
        "\n",
        "        verif_key = verif1 & verif2 & verif3\n",
        "        verif_global &= verif_key\n",
        "\n",
        "        if not verif_key: print(k)\n",
        "    \n",
        "    return verif_global\n",
        "\n",
        "# verify the integrity of the generator dictionary\n",
        "def verif_dict_generator(dict_gen):\n",
        "    verif_global = True\n",
        "    \n",
        "    verif_keys_in_dict = [\n",
        "        p in gen \n",
        "        for k in gen.keys()\n",
        "        for sent in list(gen[k])\n",
        "        for p in sent.split()\n",
        "        if p.startswith('#')\n",
        "    ]\n",
        "    \n",
        "    verif_global &= all(verif_keys_in_dict)\n",
        "    return verif_global\n",
        "\n",
        "# verify the integrity of the structures\n",
        "def verif_structure_link_tag(structure, tagger, display=False):\n",
        "    words = list(pd.core.common.flatten([[structure]]))\n",
        "    \n",
        "    verifs = [w for w in words \n",
        "              if w.startswith('#') and w not in tagger.keys()]\n",
        "    \n",
        "    if display : print(verifs)\n",
        "    return len(verifs)==0\n",
        "\n",
        "# verify the integrity of the tagger in respect of the generator\n",
        "def verif_dict_tagger_links_gen(tagger,gen):\n",
        "    verif_global = True\n",
        "    hash_keys = [k for k in tagger.keys() \n",
        "                 if k.startswith('$')==False]\n",
        "    for k in hash_keys:\n",
        "        l = tagger[k]\n",
        "        words = [w[0] for w in l]\n",
        "        gen_keys = [l.split(\"$GEN$\")[1] for w in words \n",
        "                    for l in w.split() \n",
        "                    if l.startswith(\"$GEN$\")]\n",
        "        verif = [gen_k in gen for gen_k in gen_keys]\n",
        "        verif = all(verif)\n",
        "        \n",
        "        verif_global = verif_global & verif\n",
        "        if not verif: \n",
        "            print(k, verif)\n",
        "        \n",
        "    return verif_global\n",
        "\n",
        "# verify the integrity of the tagger in respect of the vocabulary\n",
        "def verif_dict_tagger_links_voc(tagger,voc):\n",
        "    verif_global = True\n",
        "    hash_keys = [k for k in tagger.keys() if k.startswith('$')==False]\n",
        "    for k in hash_keys:\n",
        "        l = tagger[k]\n",
        "        words = [w[0] for w in l]\n",
        "        gen_keys = [tuple(l.split(\"$VOC$\")[1].split('#')[1:])\n",
        "                    for w in words for l in w.split() \n",
        "                    if l.startswith(\"$VOC$\")]\n",
        "        \n",
        "        verif1 = all([gen_k[0] in voc for gen_k in gen_keys])\n",
        "        verif2 = all([gen_k[1] in voc[gen_k[0]] for gen_k in gen_keys])\n",
        "        verif = verif1 & verif2\n",
        "        if not verif: print(k, \": a voc key is not in the voc\")\n",
        "        verif_global = verif_global & verif\n",
        "        \n",
        "    return verif_global"
      ],
      "execution_count": 0,
      "outputs": []
    },
    {
      "cell_type": "code",
      "metadata": {
        "colab_type": "code",
        "id": "cij4MacQAXE8",
        "colab": {}
      },
      "source": [
        "manu = ['Airbus', 'Boeing', 'Cessna', 'Cirrus ','Pilatus', 'Matra']\n",
        "coun = list(df_country['country'].apply(preprocess))\n",
        "citi = list(df_airport['location'].apply(preprocess))\n",
        "airp = list(df_airport['airport'].apply(preprocess))\n",
        "airl = list(df_airline['airline'].apply(preprocess))\n",
        "mont = ['January', 'February', 'March', 'April', 'May', 'June', \n",
        "        'July', 'August', 'September', 'October', 'November', 'December']\n",
        "seas = ['Winter', 'Spring', 'Autumn', 'Winter']\n",
        "days = ['Monday', 'Tuesday', 'Wednesday', 'Thursday', 'Friday', \n",
        "        'Saturday', 'Sunday']\n",
        "year = ['Year', 'Years']"
      ],
      "execution_count": 0,
      "outputs": []
    },
    {
      "cell_type": "code",
      "metadata": {
        "colab_type": "code",
        "id": "gVWBQKqXAXE8",
        "colab": {}
      },
      "source": [
        "voc = {\n",
        "    \"manu\" : {\n",
        "        'voc' : word_gen(model_w2v, manu, up=True, \n",
        "                         cap=True, same=True, low=False),\n",
        "        'tag' : CT_TAG_MANU,\n",
        "        'name' : 'Airplane Manufacturer'\n",
        "    },\n",
        "    \"coun\" : {\n",
        "        'voc' : word_gen(model_w2v, coun, up=True, \n",
        "                         cap=True, same=True, low=False),\n",
        "        'tag' : CT_TAG_COUN,\n",
        "        'name' : 'Country'\n",
        "    },\n",
        "    \"citi\" : {\n",
        "        'voc' : word_gen(model_w2v, citi, up=True, \n",
        "                         cap=True, same=True, low=False),\n",
        "        'tag' : None,\n",
        "        'name' : 'City'\n",
        "    },\n",
        "    \"airp\" : {\n",
        "        'voc' : word_gen(model_w2v, airp, up=True, \n",
        "                         cap=True, same=True, low=False),\n",
        "        'tag' : CT_TAG_AIRP,\n",
        "        'name' : 'Airport'\n",
        "    },\n",
        "    \"airl\" : {\n",
        "        'voc' : word_gen(model_w2v, airl, up=True, \n",
        "                         cap=True, same=True, low=False),\n",
        "        'tag' : CT_TAG_AIRL,\n",
        "        'name' : 'Airline'\n",
        "    },\n",
        "    \"mont\" : {\n",
        "        'voc' : word_gen(model_w2v, mont, up=True, \n",
        "                         cap=True, same=True, low=False),\n",
        "        'tag' : None,\n",
        "        'name' : 'Month'\n",
        "    },\n",
        "    \"seas\" : {\n",
        "        'voc' : word_gen(model_w2v, seas, up=True, \n",
        "                         cap=True, same=True, low=True),\n",
        "        'tag' : None,\n",
        "        'name' : 'Season'\n",
        "    },\n",
        "    \"days\" : {\n",
        "        'voc' : word_gen(model_w2v, days, up=True, \n",
        "                         cap=True, same=True, low=True),\n",
        "        'tag' : None,\n",
        "        'name' : 'Days'\n",
        "    },\n",
        "    \"year\" : {\n",
        "        #'voc' : word_gen(model_w2v, year, up=True, \n",
        "        #cap=True, same=True, low=False),\n",
        "        'voc' : {str(y) for y in range(1900,2050)},\n",
        "        'tag' : None,\n",
        "        'name' : 'Year'\n",
        "    },\n",
        "}"
      ],
      "execution_count": 0,
      "outputs": []
    },
    {
      "cell_type": "code",
      "metadata": {
        "colab_type": "code",
        "id": "21eSPN47AXE8",
        "outputId": "ddf8044d-a19a-4ed6-f4a2-2797572e28ff",
        "colab": {
          "base_uri": "https://localhost:8080/",
          "height": 34
        }
      },
      "source": [
        "gen = {\n",
        "    '#client' : {\n",
        "        'client', 'clients', 'customer', 'customers', 'passenger', 'passengers',\n",
        "    },\n",
        "    '#satisfaction' : {\n",
        "        'contentment', 'contentments', 'satisfaction', 'satisfactions',\n",
        "    },\n",
        "    '#quantity' : {\n",
        "        'amount', 'amounts', 'number', 'quantity', 'sum', 'sums',\n",
        "    },\n",
        "    '#flight' : {\n",
        "        'flight', 'flights', 'travel', 'travels',\n",
        "    },\n",
        "    '#client_satisfaction' : {\n",
        "        '#client #satisfaction',\n",
        "        '#satisfaction of #client'\n",
        "    },\n",
        "    '#quantity_of_flights' : {\n",
        "        '#flight #quantity',\n",
        "        '#quantity of #flight'\n",
        "    },\n",
        "    '#PROP#to' : {\n",
        "        'to', 'to the beginning of', 'to the end of', 'until',\n",
        "    },\n",
        "    '#PROP#from' : {\n",
        "        'from', 'from the beginning of', 'from the end of', 'in',\n",
        "    },\n",
        "    '#STATS#graph' : {\n",
        "        'chart','charts', 'graph','graphs', 'histogram', 'histograms',\n",
        "        'pie chart', 'pie charts', 'slope', 'slopes',\n",
        "    },\n",
        "    '#STATS#wordcloud' : {\n",
        "        'cloud of words', 'wordcloud',\n",
        "    },\n",
        "    '#STATS#plan_of_plane' : {\n",
        "        'plan of plane', 'plans of plane', 'plans of planes',\n",
        "    },\n",
        "    '#VERB#show' : {\n",
        "        'display', 'highlight', 'plot', 'print', 'show', 'view',\n",
        "    },\n",
        "    '#VERB#be' : {\n",
        "        'happen to be', 'is', 'seems', 'seems to be', \n",
        "    },\n",
        "    '#VERB#like' : {\n",
        "        'like', 'likes', 'love', 'loves',\n",
        "    },\n",
        "    '#VERB#dislike' : {\n",
        "        'cannot stand', 'dislike', 'dislikes', 'hate', 'hates',\n",
        "    },\n",
        "    '#PRONON#meus' : {\n",
        "        'me', 'us',\n",
        "    },\n",
        "    '#ARTICLE#' : {\n",
        "        'a', 'an', 'the',\n",
        "    },\n",
        "    '#COMP#good' : {\n",
        "        'able', 'acceptable', 'ace', 'admirable', 'advantageous', 'agreeable',\n",
        "        'amazing', 'appropriate', 'awesome', 'benefic', 'capable', 'capital', \n",
        "        'clever', 'comfortable', 'commendable', 'common', 'congenial', \n",
        "        'convenient', 'decent', 'deluxe', 'efficient', 'excellent', \n",
        "        'exceptional', 'expert', 'fascinating', 'favorable', 'first-class', \n",
        "        'first-rate', 'flawless', 'fresh', 'friendly', 'good', 'gratifying', \n",
        "        'great', 'healthy', 'helpful', 'honest', 'honorable', 'hygienic', \n",
        "        'incredible', 'intact', 'kindhearted', 'marvelous', 'neat', 'nice', \n",
        "        'normal', 'opportune', 'perfect', 'pleasant', 'pleasing', 'positive', \n",
        "        'precious', 'prime', 'prodigious', 'profitable', 'qualified', 'rad', \n",
        "        'reliable', 'reputable', 'respectable', 'right', 'safe', 'salutary',\n",
        "        'satisfactory', 'satisfying', 'serviceable', 'shipshape', 'shocking', \n",
        "        'skillful','solid', 'splendid', 'stable', 'sterling', 'stunning', \n",
        "        'stupendous', 'suitable', 'suited', 'super', 'superb', 'superior', \n",
        "        'surprising', 'talented', 'tasty', 'tip-top', 'tolerable', \n",
        "        'trustworthy', 'unbelievable', 'useful', 'valuable', 'welcome', \n",
        "        'wonderful', 'worthy',\n",
        "    },\n",
        "    '#COMP#bad' : {\n",
        "        'abominable', 'amiss', 'atrocious', 'awful', 'bad', 'bummer', 'careless', \n",
        "        'catastrophic', 'chaotic', 'cheap', 'cheesy', 'crap', 'crappy', 'crummy', \n",
        "        'damaging', 'dangerous', 'defective', 'deficient', 'deleterious', \n",
        "        'detrimental', 'disagreeable', 'disastrous', 'discouraging', 'displeasing', \n",
        "        'distressing', 'dreadful', 'dumb', 'erroneous', 'evil', 'fallacious', \n",
        "        'garbage', 'godawful', 'grim', 'grody', 'gross', 'grungy', 'harsh', 'hurtful', \n",
        "        'icky', 'imperfect', 'impolite', 'inadequate', 'incorrect', 'iniquitous', \n",
        "        'injurious', 'junky', 'lame', 'loud', 'lousy', 'mean', 'moldy', 'noisy', \n",
        "        'not good', 'old', 'painful', 'poor', 'rancid', 'regretful', 'rotten', \n",
        "        'rude', 'ruinous', 'sad', 'shitty', 'slipshod', 'spoiled', \n",
        "        'stinking', 'strident', 'substandard', 'terrible', 'tragic', 'troubled', \n",
        "        'troubling', 'unacceptable', 'unfavorable', 'unfortunate', 'unhappy',\n",
        "        'unhealthy', 'unlucky', 'unpleasant', 'unsatisfactory', 'unwell', 'upsetting', \n",
        "        'vicious', 'wicked', 'wrong',\n",
        "    },\n",
        "}\n",
        "\n",
        "verif_dict_generator(gen)"
      ],
      "execution_count": 14,
      "outputs": [
        {
          "output_type": "execute_result",
          "data": {
            "text/plain": [
              "True"
            ]
          },
          "metadata": {
            "tags": []
          },
          "execution_count": 14
        }
      ]
    },
    {
      "cell_type": "code",
      "metadata": {
        "colab_type": "code",
        "id": "wq9VfvDHAXOU",
        "outputId": "f5a825b8-9742-4870-d74e-5f985e2e9da6",
        "colab": {
          "base_uri": "https://localhost:8080/",
          "height": 34
        }
      },
      "source": [
        "select_from_sentence_gen(gen, \"#COMP#good #client_satisfaction\")[1:]"
      ],
      "execution_count": 15,
      "outputs": [
        {
          "output_type": "execute_result",
          "data": {
            "text/plain": [
              "'honest_contentment_of_clients'"
            ]
          },
          "metadata": {
            "tags": []
          },
          "execution_count": 15
        }
      ]
    },
    {
      "cell_type": "code",
      "metadata": {
        "colab_type": "code",
        "id": "E-FAltPqAXOU",
        "outputId": "4750bbd9-f61d-412c-ebf9-da3562e6bd61",
        "colab": {
          "base_uri": "https://localhost:8080/",
          "height": 69
        }
      },
      "source": [
        "tagger = {\n",
        "    '#STATS#graph' : [('$GEN$#STATS#graph', CT_TAG_STAT)],\n",
        "    '#STATS#wordcloud' : [('$GEN$#STATS#wordcloud', CT_TAG_STAT)],\n",
        "    '#STATS#plan_of_plane' : [('$GEN$#STATS#plan_of_plane', CT_TAG_STAT)],\n",
        "    '#VERB#show' : [('$GEN$#VERB#show', CT_TAG_O)],\n",
        "    '#PRONON#meus' : [('$GEN$#PRONON#meus', CT_TAG_O)],\n",
        "    '#ARTICLE#' : [('$GEN$#ARTICLE#', CT_TAG_O)],\n",
        "\n",
        "    # Named Entity\n",
        "    '#NE#manu' : [\n",
        "        ('$VOC$#manu#voc', CT_TAG_MANU),\n",
        "    ],\n",
        "\n",
        "    '#NE#airp' : [\n",
        "        ('$VOC$#airp#voc', CT_TAG_AIRP),\n",
        "        ('$VOC$#airp#voc airport', CT_TAG_AIRP+' '+CT_TAG_O),\n",
        "        ('airport of $VOC$#airp#voc', CT_TAG_O+' '+CT_TAG_O+' '+CT_TAG_AIRP),\n",
        "    ],\n",
        "\n",
        "    '#NE#airl' : [\n",
        "        ('$VOC$#airl#voc', CT_TAG_AIRL),\n",
        "    ],\n",
        "\n",
        "    '#NE#coun' : [\n",
        "        ('$VOC$#coun#voc', CT_TAG_COUN),\n",
        "    ],\n",
        "\n",
        "    # Date1\n",
        "    '#DATE1#' : [\n",
        "      ('#DATE1#y', CT_HASH),\n",
        "      ('year #DATE1#y', CT_TAG_O+' '+CT_HASH),\n",
        "      ('#DATE1#my', CT_HASH),\n",
        "      ('#DATE1#sy', CT_HASH),\n",
        "    ],\n",
        "    '#DATE1#y' : [\n",
        "      ('$VOC$#year#voc',\n",
        "       CT_TAG_DATE1+CT_SEP+CT_SUF_B),\n",
        "    ],\n",
        "    '#DATE1#my' : [\n",
        "      ('$VOC$#mont#voc $VOC$#year#voc',\n",
        "       CT_TAG_DATE1+CT_SEP+CT_SUF_B+' '+\\\n",
        "       CT_TAG_DATE1+CT_SEP+CT_SUF_E),\n",
        "    ],\n",
        "    '#DATE1#sy' : [\n",
        "      ('$VOC$#seas#voc $VOC$#year#voc',\n",
        "       CT_TAG_DATE1+CT_SEP+CT_SUF_B+' '+\\\n",
        "       CT_TAG_DATE1+CT_SEP+CT_SUF_E),\n",
        "    ],\n",
        "\n",
        "    # Date2\n",
        "    '#DATE2#' : [\n",
        "      ('#DATE2#y', CT_HASH),\n",
        "      ('year #DATE2#y', CT_TAG_O+' '+CT_HASH),\n",
        "      ('#DATE2#my', CT_HASH),\n",
        "      ('#DATE2#sy', CT_HASH),\n",
        "    ],\n",
        "    '#DATE2#y' : [\n",
        "      ('$VOC$#year#voc',\n",
        "       CT_TAG_DATE2+CT_SEP+CT_SUF_B),\n",
        "    ],\n",
        "    '#DATE2#my' : [\n",
        "      ('$VOC$#mont#voc $VOC$#year#voc',\n",
        "       CT_TAG_DATE2+CT_SEP+CT_SUF_B+' '+\\\n",
        "       CT_TAG_DATE2+CT_SEP+CT_SUF_E),\n",
        "    ],\n",
        "    '#DATE2#sy' : [\n",
        "      ('$VOC$#seas#voc $VOC$#year#voc',\n",
        "       CT_TAG_DATE2+CT_SEP+CT_SUF_B+' '+\\\n",
        "       CT_TAG_DATE2+CT_SEP+CT_SUF_E),\n",
        "    ],\n",
        "\n",
        "    # Studied variable\n",
        "    '#STUDIED#' : [\n",
        "      ('#ARTICLE# $GEN$#quantity_of_flights', CT_HASH+' '+CT_TAG_STUD),\n",
        "      ('#ARTICLE# $GEN$#client_satisfaction', CT_HASH+' '+CT_TAG_STUD),\n",
        "    ],\n",
        "\n",
        "    # Propositions SHOW\n",
        "    '#PROP#show_meus_the' : [\n",
        "      ('#VERB#show #PRONON#meus #ARTICLE#', CT_HASH+' '+CT_HASH+' '+CT_HASH),\n",
        "    ],\n",
        "\n",
        "    # Propositions DATES\n",
        "    '#PROP#DATE#' : [\n",
        "        ('#PROP#DATE#from_to', CT_HASH),\n",
        "        ('#PROP#DATE#for', CT_HASH),\n",
        "        ('#PROP#DATE#since', CT_HASH),\n",
        "    ],\n",
        "    '#PROP#DATE#from_to' : [\n",
        "      ('$GEN$#PROP#from #DATE1# $GEN$#PROP#to #DATE2#',\n",
        "       CT_TAG_O+' '+CT_HASH+' '+CT_TAG_O+' '+CT_HASH),\n",
        "    ],\n",
        "    '#PROP#DATE#for' : [\n",
        "        ('for #DATE1#', CT_TAG_O+' '+CT_HASH),\n",
        "        ('for the #DATE1#', CT_TAG_O+' '+CT_TAG_O+' '+CT_HASH),\n",
        "    ],\n",
        "    '#PROP#DATE#since' : [\n",
        "        ('since #DATE1#', CT_TAG_O+' '+CT_HASH),\n",
        "        ('since the #DATE1#', CT_TAG_O+' '+CT_TAG_O+' '+CT_HASH),\n",
        "    ],\n",
        "}\n",
        "\n",
        "print(verif_dict_tagger(tagger))\n",
        "print(verif_dict_tagger_links_gen(tagger,gen))\n",
        "print(verif_dict_tagger_links_voc(tagger,voc))"
      ],
      "execution_count": 16,
      "outputs": [
        {
          "output_type": "stream",
          "text": [
            "True\n",
            "True\n",
            "True\n"
          ],
          "name": "stdout"
        }
      ]
    },
    {
      "cell_type": "code",
      "metadata": {
        "id": "zqqG7VMmgcJk",
        "colab_type": "code",
        "colab": {
          "base_uri": "https://localhost:8080/",
          "height": 34
        },
        "outputId": "3cf7c936-26d7-435e-b57f-643d9869a3e9"
      },
      "source": [
        "s_do_or_not = ('', '#PROP#show_meus_the',)\n",
        "s_what = ('#STATS#plan_of_plane',\n",
        "          '#STATS#wordcloud',\n",
        "          ['#STATS#graph', 'of', '#STUDIED#'],\n",
        "         )\n",
        "s_who_or_not = ('',\n",
        "                ['for', ('#NE#manu',['#NE#manu', ('and',',',''), '#NE#manu']),],\n",
        "               )\n",
        "s_when_or_not = ('',\n",
        "                 ['in',('#NE#coun',['#NE#coun',('and',',',''),'#NE#coun']),\"#PROP#DATE#\",],\n",
        "                )\n",
        "\n",
        "structures = [\n",
        "    [s_do_or_not, s_what, s_who_or_not, s_when_or_not,],\n",
        "    [s_do_or_not, s_what, s_when_or_not, s_who_or_not,],\n",
        "    [s_who_or_not, s_do_or_not, s_what, s_when_or_not,],\n",
        "    [s_when_or_not, s_do_or_not, s_what, s_who_or_not,],\n",
        "    [s_who_or_not, s_when_or_not, s_do_or_not, s_what,],\n",
        "    [s_when_or_not, s_who_or_not, s_do_or_not, s_what,],\n",
        "]\n",
        "\n",
        "verif_structure_link_tag(structures, tagger, display=False)"
      ],
      "execution_count": 36,
      "outputs": [
        {
          "output_type": "execute_result",
          "data": {
            "text/plain": [
              "True"
            ]
          },
          "metadata": {
            "tags": []
          },
          "execution_count": 36
        }
      ]
    },
    {
      "cell_type": "code",
      "metadata": {
        "id": "OpbL6KhrgcJk",
        "colab_type": "code",
        "colab": {
          "base_uri": "https://localhost:8080/",
          "height": 156
        },
        "outputId": "e31a7c6c-71a3-4d17-be71-8626902ca9fe"
      },
      "source": [
        "structure = structures[np.random.choice(len(structures),1)[0]]\n",
        "init_structure(structure)"
      ],
      "execution_count": 37,
      "outputs": [
        {
          "output_type": "execute_result",
          "data": {
            "text/plain": [
              "['for',\n",
              " '#NE#manu',\n",
              " ',',\n",
              " '#NE#manu',\n",
              " '#PROP#show_meus_the',\n",
              " '#STATS#graph',\n",
              " 'of',\n",
              " '#STUDIED#']"
            ]
          },
          "metadata": {
            "tags": []
          },
          "execution_count": 37
        }
      ]
    },
    {
      "cell_type": "code",
      "metadata": {
        "colab_type": "code",
        "id": "UCrZBmkgAXOU",
        "outputId": "227f0d61-0f37-4c82-a0ac-97b8429adb10",
        "colab": {
          "base_uri": "https://localhost:8080/",
          "height": 69
        }
      },
      "source": [
        "structure = structures[np.random.choice(len(structures),1)[0]]\n",
        "structure_init = init_structure(structure)\n",
        "sent,tags = generete_sentence_from_structure(tagger,structure_init)\n",
        "print(\"Same length :\", len(sent.split()) == len(tags.split()))\n",
        "sent,tags"
      ],
      "execution_count": 38,
      "outputs": [
        {
          "output_type": "stream",
          "text": [
            "Same length : True\n"
          ],
          "name": "stdout"
        },
        {
          "output_type": "execute_result",
          "data": {
            "text/plain": [
              "('display us a plans of plane for BOEING',\n",
              " 'O O O STAT_B STAT_I STAT_E O MANU_B')"
            ]
          },
          "metadata": {
            "tags": []
          },
          "execution_count": 38
        }
      ]
    },
    {
      "cell_type": "code",
      "metadata": {
        "colab_type": "code",
        "id": "4yyvn0PiAXOU",
        "outputId": "c3308567-5eb8-4f9d-951d-c7509dc6443f",
        "colab": {
          "base_uri": "https://localhost:8080/",
          "height": 278
        }
      },
      "source": [
        "sentence = 'I woulde lirke the graph of the numbr of fligt for Boing on mondy 2020'\n",
        "auto_correction(model_w2v.vocab, voc, voc_stopwords, sentence)"
      ],
      "execution_count": 39,
      "outputs": [
        {
          "output_type": "execute_result",
          "data": {
            "text/plain": [
              "['I',\n",
              " 'would',\n",
              " 'like',\n",
              " 'the',\n",
              " 'graph',\n",
              " 'of',\n",
              " 'the',\n",
              " 'number',\n",
              " 'of',\n",
              " 'flight',\n",
              " 'for',\n",
              " 'Boeing',\n",
              " 'on',\n",
              " 'monday',\n",
              " '2020']"
            ]
          },
          "metadata": {
            "tags": []
          },
          "execution_count": 39
        }
      ]
    },
    {
      "cell_type": "markdown",
      "metadata": {
        "colab_type": "text",
        "id": "g9Tt3FxdBz8s"
      },
      "source": [
        "**TRAINING**"
      ]
    },
    {
      "cell_type": "code",
      "metadata": {
        "colab_type": "code",
        "id": "b2A982WiBSgE",
        "outputId": "6939b538-a62a-4e76-c51b-25d63ad98c72",
        "colab": {
          "base_uri": "https://localhost:8080/",
          "height": 1000
        }
      },
      "source": [
        "pip install simpletransformers"
      ],
      "execution_count": 21,
      "outputs": [
        {
          "output_type": "stream",
          "text": [
            "Collecting simpletransformers\n",
            "\u001b[?25l  Downloading https://files.pythonhosted.org/packages/99/3f/3b6181fee94fae05802c2a9dab215d03b19cbaca9edb7dbb28edbcba4f0d/simpletransformers-0.17.0-py3-none-any.whl (97kB)\n",
            "\r\u001b[K     |███▍                            | 10kB 18.2MB/s eta 0:00:01\r\u001b[K     |██████▊                         | 20kB 1.7MB/s eta 0:00:01\r\u001b[K     |██████████                      | 30kB 2.5MB/s eta 0:00:01\r\u001b[K     |█████████████▍                  | 40kB 1.7MB/s eta 0:00:01\r\u001b[K     |████████████████▉               | 51kB 2.1MB/s eta 0:00:01\r\u001b[K     |████████████████████▏           | 61kB 2.5MB/s eta 0:00:01\r\u001b[K     |███████████████████████▌        | 71kB 2.9MB/s eta 0:00:01\r\u001b[K     |██████████████████████████▉     | 81kB 3.2MB/s eta 0:00:01\r\u001b[K     |██████████████████████████████▎ | 92kB 3.6MB/s eta 0:00:01\r\u001b[K     |████████████████████████████████| 102kB 2.4MB/s \n",
            "\u001b[?25hRequirement already satisfied: requests in /usr/local/lib/python3.6/dist-packages (from simpletransformers) (2.21.0)\n",
            "Requirement already satisfied: numpy in /usr/local/lib/python3.6/dist-packages (from simpletransformers) (1.17.5)\n",
            "Requirement already satisfied: tqdm in /usr/local/lib/python3.6/dist-packages (from simpletransformers) (4.28.1)\n",
            "Requirement already satisfied: scipy in /usr/local/lib/python3.6/dist-packages (from simpletransformers) (1.4.1)\n",
            "Collecting wandb\n",
            "\u001b[?25l  Downloading https://files.pythonhosted.org/packages/68/f8/87d46d306cad42e3a421471a6e8fd8728c731491f5e61c8f15bb5b3dcd36/wandb-0.8.20-py2.py3-none-any.whl (1.4MB)\n",
            "\u001b[K     |████████████████████████████████| 1.4MB 8.7MB/s \n",
            "\u001b[?25hCollecting tensorboardx\n",
            "\u001b[?25l  Downloading https://files.pythonhosted.org/packages/35/f1/5843425495765c8c2dd0784a851a93ef204d314fc87bcc2bbb9f662a3ad1/tensorboardX-2.0-py2.py3-none-any.whl (195kB)\n",
            "\u001b[K     |████████████████████████████████| 204kB 51.6MB/s \n",
            "\u001b[?25hRequirement already satisfied: regex in /usr/local/lib/python3.6/dist-packages (from simpletransformers) (2019.12.20)\n",
            "Collecting seqeval\n",
            "  Downloading https://files.pythonhosted.org/packages/34/91/068aca8d60ce56dd9ba4506850e876aba5e66a6f2f29aa223224b50df0de/seqeval-0.0.12.tar.gz\n",
            "Requirement already satisfied: scikit-learn in /usr/local/lib/python3.6/dist-packages (from simpletransformers) (0.22.1)\n",
            "Collecting transformers\n",
            "\u001b[?25l  Downloading https://files.pythonhosted.org/packages/50/10/aeefced99c8a59d828a92cc11d213e2743212d3641c87c82d61b035a7d5c/transformers-2.3.0-py3-none-any.whl (447kB)\n",
            "\u001b[K     |████████████████████████████████| 450kB 48.1MB/s \n",
            "\u001b[?25hRequirement already satisfied: idna<2.9,>=2.5 in /usr/local/lib/python3.6/dist-packages (from requests->simpletransformers) (2.8)\n",
            "Requirement already satisfied: urllib3<1.25,>=1.21.1 in /usr/local/lib/python3.6/dist-packages (from requests->simpletransformers) (1.24.3)\n",
            "Requirement already satisfied: certifi>=2017.4.17 in /usr/local/lib/python3.6/dist-packages (from requests->simpletransformers) (2019.11.28)\n",
            "Requirement already satisfied: chardet<3.1.0,>=3.0.2 in /usr/local/lib/python3.6/dist-packages (from requests->simpletransformers) (3.0.4)\n",
            "Requirement already satisfied: nvidia-ml-py3>=7.352.0 in /usr/local/lib/python3.6/dist-packages (from wandb->simpletransformers) (7.352.0)\n",
            "Requirement already satisfied: Click>=7.0 in /usr/local/lib/python3.6/dist-packages (from wandb->simpletransformers) (7.0)\n",
            "Collecting shortuuid>=0.5.0\n",
            "  Downloading https://files.pythonhosted.org/packages/80/d7/2bfc9332e68d3e15ea97b9b1588b3899ad565120253d3fd71c8f7f13b4fe/shortuuid-0.5.0.tar.gz\n",
            "Collecting docker-pycreds>=0.4.0\n",
            "  Downloading https://files.pythonhosted.org/packages/f5/e8/f6bd1eee09314e7e6dee49cbe2c5e22314ccdb38db16c9fc72d2fa80d054/docker_pycreds-0.4.0-py2.py3-none-any.whl\n",
            "Requirement already satisfied: six>=1.10.0 in /usr/local/lib/python3.6/dist-packages (from wandb->simpletransformers) (1.12.0)\n",
            "Collecting watchdog>=0.8.3\n",
            "\u001b[?25l  Downloading https://files.pythonhosted.org/packages/bb/e3/5a55d48a29300160779f0a0d2776d17c1b762a2039b36de528b093b87d5b/watchdog-0.9.0.tar.gz (85kB)\n",
            "\u001b[K     |████████████████████████████████| 92kB 12.9MB/s \n",
            "\u001b[?25hRequirement already satisfied: python-dateutil>=2.6.1 in /usr/local/lib/python3.6/dist-packages (from wandb->simpletransformers) (2.6.1)\n",
            "Collecting subprocess32>=3.5.3\n",
            "\u001b[?25l  Downloading https://files.pythonhosted.org/packages/32/c8/564be4d12629b912ea431f1a50eb8b3b9d00f1a0b1ceff17f266be190007/subprocess32-3.5.4.tar.gz (97kB)\n",
            "\u001b[K     |████████████████████████████████| 102kB 12.8MB/s \n",
            "\u001b[?25hCollecting GitPython>=1.0.0\n",
            "\u001b[?25l  Downloading https://files.pythonhosted.org/packages/20/8c/4543981439d23c4ff65b2e62dddd767ebc84a8e664a9b67e840d1e2730d3/GitPython-3.0.5-py3-none-any.whl (455kB)\n",
            "\u001b[K     |████████████████████████████████| 460kB 48.0MB/s \n",
            "\u001b[?25hCollecting gql==0.2.0\n",
            "  Downloading https://files.pythonhosted.org/packages/c4/6f/cf9a3056045518f06184e804bae89390eb706168349daa9dff8ac609962a/gql-0.2.0.tar.gz\n",
            "Collecting configparser>=3.8.1\n",
            "  Downloading https://files.pythonhosted.org/packages/7a/2a/95ed0501cf5d8709490b1d3a3f9b5cf340da6c433f896bbe9ce08dbe6785/configparser-4.0.2-py2.py3-none-any.whl\n",
            "Collecting sentry-sdk>=0.4.0\n",
            "\u001b[?25l  Downloading https://files.pythonhosted.org/packages/ba/0b/ba1655f0e9c248538b02322a979b5cd485156f5cc16ea34a3cff563527ee/sentry_sdk-0.14.0-py2.py3-none-any.whl (93kB)\n",
            "\u001b[K     |████████████████████████████████| 102kB 12.5MB/s \n",
            "\u001b[?25hRequirement already satisfied: psutil>=5.0.0 in /usr/local/lib/python3.6/dist-packages (from wandb->simpletransformers) (5.4.8)\n",
            "Requirement already satisfied: protobuf>=3.8.0 in /usr/local/lib/python3.6/dist-packages (from tensorboardx->simpletransformers) (3.10.0)\n",
            "Requirement already satisfied: Keras>=2.2.4 in /usr/local/lib/python3.6/dist-packages (from seqeval->simpletransformers) (2.2.5)\n",
            "Requirement already satisfied: joblib>=0.11 in /usr/local/lib/python3.6/dist-packages (from scikit-learn->simpletransformers) (0.14.1)\n",
            "Collecting sacremoses\n",
            "\u001b[?25l  Downloading https://files.pythonhosted.org/packages/a6/b4/7a41d630547a4afd58143597d5a49e07bfd4c42914d8335b2a5657efc14b/sacremoses-0.0.38.tar.gz (860kB)\n",
            "\u001b[K     |████████████████████████████████| 870kB 39.4MB/s \n",
            "\u001b[?25hRequirement already satisfied: boto3 in /usr/local/lib/python3.6/dist-packages (from transformers->simpletransformers) (1.10.47)\n",
            "Collecting sentencepiece\n",
            "\u001b[?25l  Downloading https://files.pythonhosted.org/packages/74/f4/2d5214cbf13d06e7cb2c20d84115ca25b53ea76fa1f0ade0e3c9749de214/sentencepiece-0.1.85-cp36-cp36m-manylinux1_x86_64.whl (1.0MB)\n",
            "\u001b[K     |████████████████████████████████| 1.0MB 40.1MB/s \n",
            "\u001b[?25hRequirement already satisfied: PyYAML>=3.10 in /usr/local/lib/python3.6/dist-packages (from watchdog>=0.8.3->wandb->simpletransformers) (3.13)\n",
            "Collecting argh>=0.24.1\n",
            "  Downloading https://files.pythonhosted.org/packages/06/1c/e667a7126f0b84aaa1c56844337bf0ac12445d1beb9c8a6199a7314944bf/argh-0.26.2-py2.py3-none-any.whl\n",
            "Collecting pathtools>=0.1.1\n",
            "  Downloading https://files.pythonhosted.org/packages/e7/7f/470d6fcdf23f9f3518f6b0b76be9df16dcc8630ad409947f8be2eb0ed13a/pathtools-0.1.2.tar.gz\n",
            "Collecting gitdb2>=2.0.0\n",
            "\u001b[?25l  Downloading https://files.pythonhosted.org/packages/03/6c/99296f89bad2ef85626e1df9f677acbee8885bb043ad82ad3ed4746d2325/gitdb2-2.0.6-py2.py3-none-any.whl (63kB)\n",
            "\u001b[K     |████████████████████████████████| 71kB 10.0MB/s \n",
            "\u001b[?25hCollecting graphql-core<2,>=0.5.0\n",
            "\u001b[?25l  Downloading https://files.pythonhosted.org/packages/b0/89/00ad5e07524d8c523b14d70c685e0299a8b0de6d0727e368c41b89b7ed0b/graphql-core-1.1.tar.gz (70kB)\n",
            "\u001b[K     |████████████████████████████████| 71kB 9.2MB/s \n",
            "\u001b[?25hRequirement already satisfied: promise<3,>=2.0 in /usr/local/lib/python3.6/dist-packages (from gql==0.2.0->wandb->simpletransformers) (2.3)\n",
            "Requirement already satisfied: setuptools in /usr/local/lib/python3.6/dist-packages (from protobuf>=3.8.0->tensorboardx->simpletransformers) (42.0.2)\n",
            "Requirement already satisfied: keras-applications>=1.0.8 in /usr/local/lib/python3.6/dist-packages (from Keras>=2.2.4->seqeval->simpletransformers) (1.0.8)\n",
            "Requirement already satisfied: h5py in /usr/local/lib/python3.6/dist-packages (from Keras>=2.2.4->seqeval->simpletransformers) (2.8.0)\n",
            "Requirement already satisfied: keras-preprocessing>=1.1.0 in /usr/local/lib/python3.6/dist-packages (from Keras>=2.2.4->seqeval->simpletransformers) (1.1.0)\n",
            "Requirement already satisfied: s3transfer<0.3.0,>=0.2.0 in /usr/local/lib/python3.6/dist-packages (from boto3->transformers->simpletransformers) (0.2.1)\n",
            "Requirement already satisfied: botocore<1.14.0,>=1.13.47 in /usr/local/lib/python3.6/dist-packages (from boto3->transformers->simpletransformers) (1.13.47)\n",
            "Requirement already satisfied: jmespath<1.0.0,>=0.7.1 in /usr/local/lib/python3.6/dist-packages (from boto3->transformers->simpletransformers) (0.9.4)\n",
            "Collecting smmap2>=2.0.0\n",
            "  Downloading https://files.pythonhosted.org/packages/55/d2/866d45e3a121ee15a1dc013824d58072fd5c7799c9c34d01378eb262ca8f/smmap2-2.0.5-py2.py3-none-any.whl\n",
            "Requirement already satisfied: docutils<0.16,>=0.10 in /usr/local/lib/python3.6/dist-packages (from botocore<1.14.0,>=1.13.47->boto3->transformers->simpletransformers) (0.15.2)\n",
            "Building wheels for collected packages: seqeval, shortuuid, watchdog, subprocess32, gql, sacremoses, pathtools, graphql-core\n",
            "  Building wheel for seqeval (setup.py) ... \u001b[?25l\u001b[?25hdone\n",
            "  Created wheel for seqeval: filename=seqeval-0.0.12-cp36-none-any.whl size=7424 sha256=bdd2f746656918e2a456d1405d4ae2dcedb957db7c8bbc388e11319c5ad1a59f\n",
            "  Stored in directory: /root/.cache/pip/wheels/4f/32/0a/df3b340a82583566975377d65e724895b3fad101a3fb729f68\n",
            "  Building wheel for shortuuid (setup.py) ... \u001b[?25l\u001b[?25hdone\n",
            "  Created wheel for shortuuid: filename=shortuuid-0.5.0-cp36-none-any.whl size=5499 sha256=d47c5f4afa58449e8cbcd182652a2ecf4edeed41fd963557eaa7202d4cd25fad\n",
            "  Stored in directory: /root/.cache/pip/wheels/3f/eb/fd/69e5177f67b505e44acbd1aedfbe44b91768ee0c4cd5636576\n",
            "  Building wheel for watchdog (setup.py) ... \u001b[?25l\u001b[?25hdone\n",
            "  Created wheel for watchdog: filename=watchdog-0.9.0-cp36-none-any.whl size=73652 sha256=f77192a3616261b1fcb982a9326c1befc0bf0ace0f3dfff97e1e7ad3425e4872\n",
            "  Stored in directory: /root/.cache/pip/wheels/61/1d/d0/04cfe495619be2095eb8d89a31c42adb4e42b76495bc8f784c\n",
            "  Building wheel for subprocess32 (setup.py) ... \u001b[?25l\u001b[?25hdone\n",
            "  Created wheel for subprocess32: filename=subprocess32-3.5.4-cp36-none-any.whl size=6489 sha256=49ed8d854886117bdf4aabd621e550f33fb0bc32401fbf7a9a0e5f9bb43e9dfe\n",
            "  Stored in directory: /root/.cache/pip/wheels/68/39/1a/5e402bdfdf004af1786c8b853fd92f8c4a04f22aad179654d1\n",
            "  Building wheel for gql (setup.py) ... \u001b[?25l\u001b[?25hdone\n",
            "  Created wheel for gql: filename=gql-0.2.0-cp36-none-any.whl size=7630 sha256=a034bd84963e8821ce86bc8426e6e7793f66f55b8a54048a86032cfbee11944d\n",
            "  Stored in directory: /root/.cache/pip/wheels/ce/0e/7b/58a8a5268655b3ad74feef5aa97946f0addafb3cbb6bd2da23\n",
            "  Building wheel for sacremoses (setup.py) ... \u001b[?25l\u001b[?25hdone\n",
            "  Created wheel for sacremoses: filename=sacremoses-0.0.38-cp36-none-any.whl size=884629 sha256=5cf58b5dee6967773284669baa78e14fc18846dc82f10f47c19590952956a1f1\n",
            "  Stored in directory: /root/.cache/pip/wheels/6d/ec/1a/21b8912e35e02741306f35f66c785f3afe94de754a0eaf1422\n",
            "  Building wheel for pathtools (setup.py) ... \u001b[?25l\u001b[?25hdone\n",
            "  Created wheel for pathtools: filename=pathtools-0.1.2-cp36-none-any.whl size=8786 sha256=6e8a7eaa227fedfb6544153a84b919eb590ad20c128ad2c4b0bcc173d9be858a\n",
            "  Stored in directory: /root/.cache/pip/wheels/0b/04/79/c3b0c3a0266a3cb4376da31e5bfe8bba0c489246968a68e843\n",
            "  Building wheel for graphql-core (setup.py) ... \u001b[?25l\u001b[?25hdone\n",
            "  Created wheel for graphql-core: filename=graphql_core-1.1-cp36-none-any.whl size=104651 sha256=3c76da7a718d4e9c7f6fff00d865137d3c2a1b4ce8f66bb9b7284b488f28a2aa\n",
            "  Stored in directory: /root/.cache/pip/wheels/45/99/d7/c424029bb0fe910c63b68dbf2aa20d3283d023042521bcd7d5\n",
            "Successfully built seqeval shortuuid watchdog subprocess32 gql sacremoses pathtools graphql-core\n",
            "Installing collected packages: shortuuid, docker-pycreds, argh, pathtools, watchdog, subprocess32, smmap2, gitdb2, GitPython, graphql-core, gql, configparser, sentry-sdk, wandb, tensorboardx, seqeval, sacremoses, sentencepiece, transformers, simpletransformers\n",
            "Successfully installed GitPython-3.0.5 argh-0.26.2 configparser-4.0.2 docker-pycreds-0.4.0 gitdb2-2.0.6 gql-0.2.0 graphql-core-1.1 pathtools-0.1.2 sacremoses-0.0.38 sentencepiece-0.1.85 sentry-sdk-0.14.0 seqeval-0.0.12 shortuuid-0.5.0 simpletransformers-0.17.0 smmap2-2.0.5 subprocess32-3.5.4 tensorboardx-2.0 transformers-2.3.0 wandb-0.8.20 watchdog-0.9.0\n"
          ],
          "name": "stdout"
        },
        {
          "output_type": "display_data",
          "data": {
            "application/vnd.colab-display-data+json": {
              "pip_warning": {
                "packages": [
                  "configparser"
                ]
              }
            }
          },
          "metadata": {
            "tags": []
          }
        }
      ]
    },
    {
      "cell_type": "code",
      "metadata": {
        "colab_type": "code",
        "id": "oa5IDC-ZBVv4",
        "outputId": "587079fc-75de-44be-fb24-6737ad615bb3",
        "colab": {
          "base_uri": "https://localhost:8080/",
          "height": 81
        }
      },
      "source": [
        "from simpletransformers.ner import NERModel"
      ],
      "execution_count": 22,
      "outputs": [
        {
          "output_type": "display_data",
          "data": {
            "text/html": [
              "<p style=\"color: red;\">\n",
              "The default version of TensorFlow in Colab will soon switch to TensorFlow 2.x.<br>\n",
              "We recommend you <a href=\"https://www.tensorflow.org/guide/migrate\" target=\"_blank\">upgrade</a> now \n",
              "or ensure your notebook will continue to use TensorFlow 1.x via the <code>%tensorflow_version 1.x</code> magic:\n",
              "<a href=\"https://colab.research.google.com/notebooks/tensorflow_version.ipynb\" target=\"_blank\">more info</a>.</p>\n"
            ],
            "text/plain": [
              "<IPython.core.display.HTML object>"
            ]
          },
          "metadata": {
            "tags": []
          }
        }
      ]
    },
    {
      "cell_type": "code",
      "metadata": {
        "colab_type": "code",
        "id": "FrDqmkhgAXOU",
        "colab": {}
      },
      "source": [
        "data_train = []\n",
        "for i in range(50000):\n",
        "  structure = structures[np.random.choice(len(structures),1)[0]]\n",
        "  structure_init = init_structure(structure)\n",
        "  sent,tags = generete_sentence_from_structure(tagger,structure_init)\n",
        "  for u,j in zip(sent.split(),tags.split()):\n",
        "    data_train.append([i,u,j])"
      ],
      "execution_count": 0,
      "outputs": []
    },
    {
      "cell_type": "code",
      "metadata": {
        "colab_type": "code",
        "id": "JIQm-B4gAXOU",
        "colab": {}
      },
      "source": [
        "data_eval = []\n",
        "for i in range(1000):\n",
        "  structure = structures[np.random.choice(len(structures),1)[0]]\n",
        "  structure_init = init_structure(structure)\n",
        "  sent,tags = generete_sentence_from_structure(tagger,structure_init)\n",
        "  for u,j in zip(sent.split(),tags.split()):\n",
        "    data_eval.append([i,u,j])"
      ],
      "execution_count": 0,
      "outputs": []
    },
    {
      "cell_type": "code",
      "metadata": {
        "colab_type": "code",
        "id": "zdEnJhdYBgZI",
        "colab": {}
      },
      "source": [
        "# Creating train_df  and eval_df \n",
        "train_df = pd.DataFrame(data_train, columns=['sentence_id', 'words', 'labels'])\n",
        "eval_df = pd.DataFrame(data_eval, columns=['sentence_id', 'words', 'labels'])"
      ],
      "execution_count": 0,
      "outputs": []
    },
    {
      "cell_type": "code",
      "metadata": {
        "colab_type": "code",
        "id": "AiiqfqYNBli0",
        "colab": {}
      },
      "source": [
        "# Create a NERModel\n",
        "model = NERModel('bert', 'bert-base-cased', \n",
        "                 args={'overwrite_output_dir': True,\n",
        "                       'reprocess_input_data': True},\n",
        "                 use_cuda = False,\n",
        "                 labels = all_tags)"
      ],
      "execution_count": 0,
      "outputs": []
    },
    {
      "cell_type": "code",
      "metadata": {
        "colab_type": "code",
        "id": "Hf31NSKPCgI0",
        "outputId": "16736de7-896d-4f42-a599-91e091ee4172",
        "colab": {
          "base_uri": "https://localhost:8080/",
          "height": 368,
          "referenced_widgets": [
            "fa776f1d8cc644ee900fa2b9f014be28",
            "15871ca0332742ed800cf8b8d3c508aa",
            "e26f673205d34698aef44289d420b428"
          ]
        }
      },
      "source": [
        "# Train the model\n",
        "model.train_model(train_df)"
      ],
      "execution_count": 47,
      "outputs": [
        {
          "output_type": "stream",
          "text": [
            "Converting to features started.\n"
          ],
          "name": "stdout"
        },
        {
          "output_type": "display_data",
          "data": {
            "application/vnd.jupyter.widget-view+json": {
              "model_id": "fa776f1d8cc644ee900fa2b9f014be28",
              "version_minor": 0,
              "version_major": 2
            },
            "text/plain": [
              "HBox(children=(IntProgress(value=0, max=50000), HTML(value='')))"
            ]
          },
          "metadata": {
            "tags": []
          }
        },
        {
          "output_type": "display_data",
          "data": {
            "application/vnd.jupyter.widget-view+json": {
              "model_id": "15871ca0332742ed800cf8b8d3c508aa",
              "version_minor": 0,
              "version_major": 2
            },
            "text/plain": [
              "HBox(children=(IntProgress(value=0, description='Epoch', max=1, style=ProgressStyle(description_width='initial…"
            ]
          },
          "metadata": {
            "tags": []
          }
        },
        {
          "output_type": "display_data",
          "data": {
            "application/vnd.jupyter.widget-view+json": {
              "model_id": "e26f673205d34698aef44289d420b428",
              "version_minor": 0,
              "version_major": 2
            },
            "text/plain": [
              "HBox(children=(IntProgress(value=0, description='Current iteration', max=6250, style=ProgressStyle(description…"
            ]
          },
          "metadata": {
            "tags": []
          }
        },
        {
          "output_type": "stream",
          "text": [
            "Running loss: 0.000290"
          ],
          "name": "stdout"
        },
        {
          "output_type": "error",
          "ename": "KeyboardInterrupt",
          "evalue": "ignored",
          "traceback": [
            "\u001b[0;31m---------------------------------------------------------------------------\u001b[0m",
            "\u001b[0;31mKeyboardInterrupt\u001b[0m                         Traceback (most recent call last)",
            "\u001b[0;32m<ipython-input-47-44e3b58a00f8>\u001b[0m in \u001b[0;36m<module>\u001b[0;34m()\u001b[0m\n\u001b[0;32m----> 1\u001b[0;31m \u001b[0mmodel\u001b[0m\u001b[0;34m.\u001b[0m\u001b[0mtrain_model\u001b[0m\u001b[0;34m(\u001b[0m\u001b[0mtrain_df\u001b[0m\u001b[0;34m)\u001b[0m\u001b[0;34m\u001b[0m\u001b[0;34m\u001b[0m\u001b[0m\n\u001b[0m",
            "\u001b[0;32m/usr/local/lib/python3.6/dist-packages/simpletransformers/ner/ner_model.py\u001b[0m in \u001b[0;36mtrain_model\u001b[0;34m(self, train_data, output_dir, show_running_loss, args, eval_df)\u001b[0m\n\u001b[1;32m    176\u001b[0m             \u001b[0mos\u001b[0m\u001b[0;34m.\u001b[0m\u001b[0mmakedirs\u001b[0m\u001b[0;34m(\u001b[0m\u001b[0moutput_dir\u001b[0m\u001b[0;34m)\u001b[0m\u001b[0;34m\u001b[0m\u001b[0;34m\u001b[0m\u001b[0m\n\u001b[1;32m    177\u001b[0m \u001b[0;34m\u001b[0m\u001b[0m\n\u001b[0;32m--> 178\u001b[0;31m         \u001b[0mglobal_step\u001b[0m\u001b[0;34m,\u001b[0m \u001b[0mtr_loss\u001b[0m \u001b[0;34m=\u001b[0m \u001b[0mself\u001b[0m\u001b[0;34m.\u001b[0m\u001b[0mtrain\u001b[0m\u001b[0;34m(\u001b[0m\u001b[0mtrain_dataset\u001b[0m\u001b[0;34m,\u001b[0m \u001b[0moutput_dir\u001b[0m\u001b[0;34m,\u001b[0m \u001b[0mshow_running_loss\u001b[0m\u001b[0;34m=\u001b[0m\u001b[0mshow_running_loss\u001b[0m\u001b[0;34m,\u001b[0m \u001b[0meval_df\u001b[0m\u001b[0;34m=\u001b[0m\u001b[0meval_df\u001b[0m\u001b[0;34m)\u001b[0m\u001b[0;34m\u001b[0m\u001b[0;34m\u001b[0m\u001b[0m\n\u001b[0m\u001b[1;32m    179\u001b[0m \u001b[0;34m\u001b[0m\u001b[0m\n\u001b[1;32m    180\u001b[0m         \u001b[0mmodel_to_save\u001b[0m \u001b[0;34m=\u001b[0m \u001b[0mself\u001b[0m\u001b[0;34m.\u001b[0m\u001b[0mmodel\u001b[0m\u001b[0;34m.\u001b[0m\u001b[0mmodule\u001b[0m \u001b[0;32mif\u001b[0m \u001b[0mhasattr\u001b[0m\u001b[0;34m(\u001b[0m\u001b[0mself\u001b[0m\u001b[0;34m.\u001b[0m\u001b[0mmodel\u001b[0m\u001b[0;34m,\u001b[0m \u001b[0;34m\"module\"\u001b[0m\u001b[0;34m)\u001b[0m \u001b[0;32melse\u001b[0m \u001b[0mself\u001b[0m\u001b[0;34m.\u001b[0m\u001b[0mmodel\u001b[0m\u001b[0;34m\u001b[0m\u001b[0;34m\u001b[0m\u001b[0m\n",
            "\u001b[0;32m/usr/local/lib/python3.6/dist-packages/simpletransformers/ner/ner_model.py\u001b[0m in \u001b[0;36mtrain\u001b[0;34m(self, train_dataset, output_dir, show_running_loss, eval_df)\u001b[0m\n\u001b[1;32m    280\u001b[0m                     \u001b[0mtorch\u001b[0m\u001b[0;34m.\u001b[0m\u001b[0mnn\u001b[0m\u001b[0;34m.\u001b[0m\u001b[0mutils\u001b[0m\u001b[0;34m.\u001b[0m\u001b[0mclip_grad_norm_\u001b[0m\u001b[0;34m(\u001b[0m\u001b[0mamp\u001b[0m\u001b[0;34m.\u001b[0m\u001b[0mmaster_params\u001b[0m\u001b[0;34m(\u001b[0m\u001b[0moptimizer\u001b[0m\u001b[0;34m)\u001b[0m\u001b[0;34m,\u001b[0m \u001b[0margs\u001b[0m\u001b[0;34m[\u001b[0m\u001b[0;34m\"max_grad_norm\"\u001b[0m\u001b[0;34m]\u001b[0m\u001b[0;34m)\u001b[0m\u001b[0;34m\u001b[0m\u001b[0;34m\u001b[0m\u001b[0m\n\u001b[1;32m    281\u001b[0m                 \u001b[0;32melse\u001b[0m\u001b[0;34m:\u001b[0m\u001b[0;34m\u001b[0m\u001b[0;34m\u001b[0m\u001b[0m\n\u001b[0;32m--> 282\u001b[0;31m                     \u001b[0mloss\u001b[0m\u001b[0;34m.\u001b[0m\u001b[0mbackward\u001b[0m\u001b[0;34m(\u001b[0m\u001b[0;34m)\u001b[0m\u001b[0;34m\u001b[0m\u001b[0;34m\u001b[0m\u001b[0m\n\u001b[0m\u001b[1;32m    283\u001b[0m                     \u001b[0mtorch\u001b[0m\u001b[0;34m.\u001b[0m\u001b[0mnn\u001b[0m\u001b[0;34m.\u001b[0m\u001b[0mutils\u001b[0m\u001b[0;34m.\u001b[0m\u001b[0mclip_grad_norm_\u001b[0m\u001b[0;34m(\u001b[0m\u001b[0mmodel\u001b[0m\u001b[0;34m.\u001b[0m\u001b[0mparameters\u001b[0m\u001b[0;34m(\u001b[0m\u001b[0;34m)\u001b[0m\u001b[0;34m,\u001b[0m \u001b[0margs\u001b[0m\u001b[0;34m[\u001b[0m\u001b[0;34m\"max_grad_norm\"\u001b[0m\u001b[0;34m]\u001b[0m\u001b[0;34m)\u001b[0m\u001b[0;34m\u001b[0m\u001b[0;34m\u001b[0m\u001b[0m\n\u001b[1;32m    284\u001b[0m \u001b[0;34m\u001b[0m\u001b[0m\n",
            "\u001b[0;32m/usr/local/lib/python3.6/dist-packages/torch/tensor.py\u001b[0m in \u001b[0;36mbackward\u001b[0;34m(self, gradient, retain_graph, create_graph)\u001b[0m\n\u001b[1;32m    164\u001b[0m                 \u001b[0mproducts\u001b[0m\u001b[0;34m.\u001b[0m \u001b[0mDefaults\u001b[0m \u001b[0mto\u001b[0m\u001b[0;31m \u001b[0m\u001b[0;31m`\u001b[0m\u001b[0;31m`\u001b[0m\u001b[0;32mFalse\u001b[0m\u001b[0;31m`\u001b[0m\u001b[0;31m`\u001b[0m\u001b[0;34m.\u001b[0m\u001b[0;34m\u001b[0m\u001b[0;34m\u001b[0m\u001b[0m\n\u001b[1;32m    165\u001b[0m         \"\"\"\n\u001b[0;32m--> 166\u001b[0;31m         \u001b[0mtorch\u001b[0m\u001b[0;34m.\u001b[0m\u001b[0mautograd\u001b[0m\u001b[0;34m.\u001b[0m\u001b[0mbackward\u001b[0m\u001b[0;34m(\u001b[0m\u001b[0mself\u001b[0m\u001b[0;34m,\u001b[0m \u001b[0mgradient\u001b[0m\u001b[0;34m,\u001b[0m \u001b[0mretain_graph\u001b[0m\u001b[0;34m,\u001b[0m \u001b[0mcreate_graph\u001b[0m\u001b[0;34m)\u001b[0m\u001b[0;34m\u001b[0m\u001b[0;34m\u001b[0m\u001b[0m\n\u001b[0m\u001b[1;32m    167\u001b[0m \u001b[0;34m\u001b[0m\u001b[0m\n\u001b[1;32m    168\u001b[0m     \u001b[0;32mdef\u001b[0m \u001b[0mregister_hook\u001b[0m\u001b[0;34m(\u001b[0m\u001b[0mself\u001b[0m\u001b[0;34m,\u001b[0m \u001b[0mhook\u001b[0m\u001b[0;34m)\u001b[0m\u001b[0;34m:\u001b[0m\u001b[0;34m\u001b[0m\u001b[0;34m\u001b[0m\u001b[0m\n",
            "\u001b[0;32m/usr/local/lib/python3.6/dist-packages/torch/autograd/__init__.py\u001b[0m in \u001b[0;36mbackward\u001b[0;34m(tensors, grad_tensors, retain_graph, create_graph, grad_variables)\u001b[0m\n\u001b[1;32m     97\u001b[0m     Variable._execution_engine.run_backward(\n\u001b[1;32m     98\u001b[0m         \u001b[0mtensors\u001b[0m\u001b[0;34m,\u001b[0m \u001b[0mgrad_tensors\u001b[0m\u001b[0;34m,\u001b[0m \u001b[0mretain_graph\u001b[0m\u001b[0;34m,\u001b[0m \u001b[0mcreate_graph\u001b[0m\u001b[0;34m,\u001b[0m\u001b[0;34m\u001b[0m\u001b[0;34m\u001b[0m\u001b[0m\n\u001b[0;32m---> 99\u001b[0;31m         allow_unreachable=True)  # allow_unreachable flag\n\u001b[0m\u001b[1;32m    100\u001b[0m \u001b[0;34m\u001b[0m\u001b[0m\n\u001b[1;32m    101\u001b[0m \u001b[0;34m\u001b[0m\u001b[0m\n",
            "\u001b[0;31mKeyboardInterrupt\u001b[0m: "
          ]
        }
      ]
    },
    {
      "cell_type": "code",
      "metadata": {
        "colab_type": "code",
        "id": "q9tjL6X2CoEo",
        "outputId": "9496bff4-4efe-4cba-8894-6f38c6a2a913",
        "colab": {
          "base_uri": "https://localhost:8080/",
          "height": 330,
          "referenced_widgets": [
            "fa9d132ebc1f47fcb67aacb3c1f6d43b",
            "1d17eaff58244ab0a82da8ddedcd2104"
          ]
        }
      },
      "source": [
        "result, model_outputs, wrong_predictions = model.eval_model(eval_df)"
      ],
      "execution_count": 48,
      "outputs": [
        {
          "output_type": "stream",
          "text": [
            "Converting to features started.\n"
          ],
          "name": "stdout"
        },
        {
          "output_type": "display_data",
          "data": {
            "application/vnd.jupyter.widget-view+json": {
              "model_id": "fa9d132ebc1f47fcb67aacb3c1f6d43b",
              "version_minor": 0,
              "version_major": 2
            },
            "text/plain": [
              "HBox(children=(IntProgress(value=0, max=5000), HTML(value='')))"
            ]
          },
          "metadata": {
            "tags": []
          }
        },
        {
          "output_type": "display_data",
          "data": {
            "application/vnd.jupyter.widget-view+json": {
              "model_id": "1d17eaff58244ab0a82da8ddedcd2104",
              "version_minor": 0,
              "version_major": 2
            },
            "text/plain": [
              "HBox(children=(IntProgress(value=0, max=625), HTML(value='')))"
            ]
          },
          "metadata": {
            "tags": []
          }
        },
        {
          "output_type": "error",
          "ename": "KeyboardInterrupt",
          "evalue": "ignored",
          "traceback": [
            "\u001b[0;31m---------------------------------------------------------------------------\u001b[0m",
            "\u001b[0;31mKeyboardInterrupt\u001b[0m                         Traceback (most recent call last)",
            "\u001b[0;32m<ipython-input-48-01b87f8825c2>\u001b[0m in \u001b[0;36m<module>\u001b[0;34m()\u001b[0m\n\u001b[0;32m----> 1\u001b[0;31m \u001b[0mresult\u001b[0m\u001b[0;34m,\u001b[0m \u001b[0mmodel_outputs\u001b[0m\u001b[0;34m,\u001b[0m \u001b[0mwrong_predictions\u001b[0m \u001b[0;34m=\u001b[0m \u001b[0mmodel\u001b[0m\u001b[0;34m.\u001b[0m\u001b[0meval_model\u001b[0m\u001b[0;34m(\u001b[0m\u001b[0meval_df\u001b[0m\u001b[0;34m)\u001b[0m\u001b[0;34m\u001b[0m\u001b[0;34m\u001b[0m\u001b[0m\n\u001b[0m",
            "\u001b[0;32m/usr/local/lib/python3.6/dist-packages/simpletransformers/ner/ner_model.py\u001b[0m in \u001b[0;36meval_model\u001b[0;34m(self, eval_data, output_dir, verbose)\u001b[0m\n\u001b[1;32m    386\u001b[0m         \u001b[0meval_dataset\u001b[0m \u001b[0;34m=\u001b[0m \u001b[0mself\u001b[0m\u001b[0;34m.\u001b[0m\u001b[0mload_and_cache_examples\u001b[0m\u001b[0;34m(\u001b[0m\u001b[0meval_data\u001b[0m\u001b[0;34m,\u001b[0m \u001b[0mevaluate\u001b[0m\u001b[0;34m=\u001b[0m\u001b[0;32mTrue\u001b[0m\u001b[0;34m)\u001b[0m\u001b[0;34m\u001b[0m\u001b[0;34m\u001b[0m\u001b[0m\n\u001b[1;32m    387\u001b[0m \u001b[0;34m\u001b[0m\u001b[0m\n\u001b[0;32m--> 388\u001b[0;31m         \u001b[0mresult\u001b[0m\u001b[0;34m,\u001b[0m \u001b[0mmodel_outputs\u001b[0m\u001b[0;34m,\u001b[0m \u001b[0mpreds_list\u001b[0m \u001b[0;34m=\u001b[0m \u001b[0mself\u001b[0m\u001b[0;34m.\u001b[0m\u001b[0mevaluate\u001b[0m\u001b[0;34m(\u001b[0m\u001b[0meval_dataset\u001b[0m\u001b[0;34m,\u001b[0m \u001b[0moutput_dir\u001b[0m\u001b[0;34m)\u001b[0m\u001b[0;34m\u001b[0m\u001b[0;34m\u001b[0m\u001b[0m\n\u001b[0m\u001b[1;32m    389\u001b[0m         \u001b[0mself\u001b[0m\u001b[0;34m.\u001b[0m\u001b[0mresults\u001b[0m\u001b[0;34m.\u001b[0m\u001b[0mupdate\u001b[0m\u001b[0;34m(\u001b[0m\u001b[0mresult\u001b[0m\u001b[0;34m)\u001b[0m\u001b[0;34m\u001b[0m\u001b[0;34m\u001b[0m\u001b[0m\n\u001b[1;32m    390\u001b[0m \u001b[0;34m\u001b[0m\u001b[0m\n",
            "\u001b[0;32m/usr/local/lib/python3.6/dist-packages/simpletransformers/ner/ner_model.py\u001b[0m in \u001b[0;36mevaluate\u001b[0;34m(self, eval_dataset, output_dir)\u001b[0m\n\u001b[1;32m    429\u001b[0m                 \u001b[0;32mif\u001b[0m \u001b[0margs\u001b[0m\u001b[0;34m[\u001b[0m\u001b[0;34m'model_type'\u001b[0m\u001b[0;34m]\u001b[0m \u001b[0;32min\u001b[0m \u001b[0;34m[\u001b[0m\u001b[0;34m\"bert\"\u001b[0m\u001b[0;34m,\u001b[0m \u001b[0;34m\"xlnet\"\u001b[0m\u001b[0;34m]\u001b[0m\u001b[0;34m:\u001b[0m\u001b[0;34m\u001b[0m\u001b[0;34m\u001b[0m\u001b[0m\n\u001b[1;32m    430\u001b[0m                     \u001b[0minputs\u001b[0m\u001b[0;34m[\u001b[0m\u001b[0;34m\"token_type_ids\"\u001b[0m\u001b[0;34m]\u001b[0m \u001b[0;34m=\u001b[0m \u001b[0mbatch\u001b[0m\u001b[0;34m[\u001b[0m\u001b[0;36m2\u001b[0m\u001b[0;34m]\u001b[0m\u001b[0;34m\u001b[0m\u001b[0;34m\u001b[0m\u001b[0m\n\u001b[0;32m--> 431\u001b[0;31m                 \u001b[0moutputs\u001b[0m \u001b[0;34m=\u001b[0m \u001b[0mmodel\u001b[0m\u001b[0;34m(\u001b[0m\u001b[0;34m**\u001b[0m\u001b[0minputs\u001b[0m\u001b[0;34m)\u001b[0m\u001b[0;34m\u001b[0m\u001b[0;34m\u001b[0m\u001b[0m\n\u001b[0m\u001b[1;32m    432\u001b[0m                 \u001b[0mtmp_eval_loss\u001b[0m\u001b[0;34m,\u001b[0m \u001b[0mlogits\u001b[0m \u001b[0;34m=\u001b[0m \u001b[0moutputs\u001b[0m\u001b[0;34m[\u001b[0m\u001b[0;34m:\u001b[0m\u001b[0;36m2\u001b[0m\u001b[0;34m]\u001b[0m\u001b[0;34m\u001b[0m\u001b[0;34m\u001b[0m\u001b[0m\n\u001b[1;32m    433\u001b[0m \u001b[0;34m\u001b[0m\u001b[0m\n",
            "\u001b[0;32m/usr/local/lib/python3.6/dist-packages/torch/nn/modules/module.py\u001b[0m in \u001b[0;36m__call__\u001b[0;34m(self, *input, **kwargs)\u001b[0m\n\u001b[1;32m    539\u001b[0m             \u001b[0mresult\u001b[0m \u001b[0;34m=\u001b[0m \u001b[0mself\u001b[0m\u001b[0;34m.\u001b[0m\u001b[0m_slow_forward\u001b[0m\u001b[0;34m(\u001b[0m\u001b[0;34m*\u001b[0m\u001b[0minput\u001b[0m\u001b[0;34m,\u001b[0m \u001b[0;34m**\u001b[0m\u001b[0mkwargs\u001b[0m\u001b[0;34m)\u001b[0m\u001b[0;34m\u001b[0m\u001b[0;34m\u001b[0m\u001b[0m\n\u001b[1;32m    540\u001b[0m         \u001b[0;32melse\u001b[0m\u001b[0;34m:\u001b[0m\u001b[0;34m\u001b[0m\u001b[0;34m\u001b[0m\u001b[0m\n\u001b[0;32m--> 541\u001b[0;31m             \u001b[0mresult\u001b[0m \u001b[0;34m=\u001b[0m \u001b[0mself\u001b[0m\u001b[0;34m.\u001b[0m\u001b[0mforward\u001b[0m\u001b[0;34m(\u001b[0m\u001b[0;34m*\u001b[0m\u001b[0minput\u001b[0m\u001b[0;34m,\u001b[0m \u001b[0;34m**\u001b[0m\u001b[0mkwargs\u001b[0m\u001b[0;34m)\u001b[0m\u001b[0;34m\u001b[0m\u001b[0;34m\u001b[0m\u001b[0m\n\u001b[0m\u001b[1;32m    542\u001b[0m         \u001b[0;32mfor\u001b[0m \u001b[0mhook\u001b[0m \u001b[0;32min\u001b[0m \u001b[0mself\u001b[0m\u001b[0;34m.\u001b[0m\u001b[0m_forward_hooks\u001b[0m\u001b[0;34m.\u001b[0m\u001b[0mvalues\u001b[0m\u001b[0;34m(\u001b[0m\u001b[0;34m)\u001b[0m\u001b[0;34m:\u001b[0m\u001b[0;34m\u001b[0m\u001b[0;34m\u001b[0m\u001b[0m\n\u001b[1;32m    543\u001b[0m             \u001b[0mhook_result\u001b[0m \u001b[0;34m=\u001b[0m \u001b[0mhook\u001b[0m\u001b[0;34m(\u001b[0m\u001b[0mself\u001b[0m\u001b[0;34m,\u001b[0m \u001b[0minput\u001b[0m\u001b[0;34m,\u001b[0m \u001b[0mresult\u001b[0m\u001b[0;34m)\u001b[0m\u001b[0;34m\u001b[0m\u001b[0;34m\u001b[0m\u001b[0m\n",
            "\u001b[0;32m/usr/local/lib/python3.6/dist-packages/transformers/modeling_bert.py\u001b[0m in \u001b[0;36mforward\u001b[0;34m(self, input_ids, attention_mask, token_type_ids, position_ids, head_mask, inputs_embeds, labels)\u001b[0m\n\u001b[1;32m   1180\u001b[0m                             \u001b[0mposition_ids\u001b[0m\u001b[0;34m=\u001b[0m\u001b[0mposition_ids\u001b[0m\u001b[0;34m,\u001b[0m\u001b[0;34m\u001b[0m\u001b[0;34m\u001b[0m\u001b[0m\n\u001b[1;32m   1181\u001b[0m                             \u001b[0mhead_mask\u001b[0m\u001b[0;34m=\u001b[0m\u001b[0mhead_mask\u001b[0m\u001b[0;34m,\u001b[0m\u001b[0;34m\u001b[0m\u001b[0;34m\u001b[0m\u001b[0m\n\u001b[0;32m-> 1182\u001b[0;31m                             inputs_embeds=inputs_embeds)\n\u001b[0m\u001b[1;32m   1183\u001b[0m \u001b[0;34m\u001b[0m\u001b[0m\n\u001b[1;32m   1184\u001b[0m         \u001b[0msequence_output\u001b[0m \u001b[0;34m=\u001b[0m \u001b[0moutputs\u001b[0m\u001b[0;34m[\u001b[0m\u001b[0;36m0\u001b[0m\u001b[0;34m]\u001b[0m\u001b[0;34m\u001b[0m\u001b[0;34m\u001b[0m\u001b[0m\n",
            "\u001b[0;32m/usr/local/lib/python3.6/dist-packages/torch/nn/modules/module.py\u001b[0m in \u001b[0;36m__call__\u001b[0;34m(self, *input, **kwargs)\u001b[0m\n\u001b[1;32m    539\u001b[0m             \u001b[0mresult\u001b[0m \u001b[0;34m=\u001b[0m \u001b[0mself\u001b[0m\u001b[0;34m.\u001b[0m\u001b[0m_slow_forward\u001b[0m\u001b[0;34m(\u001b[0m\u001b[0;34m*\u001b[0m\u001b[0minput\u001b[0m\u001b[0;34m,\u001b[0m \u001b[0;34m**\u001b[0m\u001b[0mkwargs\u001b[0m\u001b[0;34m)\u001b[0m\u001b[0;34m\u001b[0m\u001b[0;34m\u001b[0m\u001b[0m\n\u001b[1;32m    540\u001b[0m         \u001b[0;32melse\u001b[0m\u001b[0;34m:\u001b[0m\u001b[0;34m\u001b[0m\u001b[0;34m\u001b[0m\u001b[0m\n\u001b[0;32m--> 541\u001b[0;31m             \u001b[0mresult\u001b[0m \u001b[0;34m=\u001b[0m \u001b[0mself\u001b[0m\u001b[0;34m.\u001b[0m\u001b[0mforward\u001b[0m\u001b[0;34m(\u001b[0m\u001b[0;34m*\u001b[0m\u001b[0minput\u001b[0m\u001b[0;34m,\u001b[0m \u001b[0;34m**\u001b[0m\u001b[0mkwargs\u001b[0m\u001b[0;34m)\u001b[0m\u001b[0;34m\u001b[0m\u001b[0;34m\u001b[0m\u001b[0m\n\u001b[0m\u001b[1;32m    542\u001b[0m         \u001b[0;32mfor\u001b[0m \u001b[0mhook\u001b[0m \u001b[0;32min\u001b[0m \u001b[0mself\u001b[0m\u001b[0;34m.\u001b[0m\u001b[0m_forward_hooks\u001b[0m\u001b[0;34m.\u001b[0m\u001b[0mvalues\u001b[0m\u001b[0;34m(\u001b[0m\u001b[0;34m)\u001b[0m\u001b[0;34m:\u001b[0m\u001b[0;34m\u001b[0m\u001b[0;34m\u001b[0m\u001b[0m\n\u001b[1;32m    543\u001b[0m             \u001b[0mhook_result\u001b[0m \u001b[0;34m=\u001b[0m \u001b[0mhook\u001b[0m\u001b[0;34m(\u001b[0m\u001b[0mself\u001b[0m\u001b[0;34m,\u001b[0m \u001b[0minput\u001b[0m\u001b[0;34m,\u001b[0m \u001b[0mresult\u001b[0m\u001b[0;34m)\u001b[0m\u001b[0;34m\u001b[0m\u001b[0;34m\u001b[0m\u001b[0m\n",
            "\u001b[0;32m/usr/local/lib/python3.6/dist-packages/transformers/modeling_bert.py\u001b[0m in \u001b[0;36mforward\u001b[0;34m(self, input_ids, attention_mask, token_type_ids, position_ids, head_mask, inputs_embeds, encoder_hidden_states, encoder_attention_mask)\u001b[0m\n\u001b[1;32m    738\u001b[0m                                        \u001b[0mhead_mask\u001b[0m\u001b[0;34m=\u001b[0m\u001b[0mhead_mask\u001b[0m\u001b[0;34m,\u001b[0m\u001b[0;34m\u001b[0m\u001b[0;34m\u001b[0m\u001b[0m\n\u001b[1;32m    739\u001b[0m                                        \u001b[0mencoder_hidden_states\u001b[0m\u001b[0;34m=\u001b[0m\u001b[0mencoder_hidden_states\u001b[0m\u001b[0;34m,\u001b[0m\u001b[0;34m\u001b[0m\u001b[0;34m\u001b[0m\u001b[0m\n\u001b[0;32m--> 740\u001b[0;31m                                        encoder_attention_mask=encoder_extended_attention_mask)\n\u001b[0m\u001b[1;32m    741\u001b[0m         \u001b[0msequence_output\u001b[0m \u001b[0;34m=\u001b[0m \u001b[0mencoder_outputs\u001b[0m\u001b[0;34m[\u001b[0m\u001b[0;36m0\u001b[0m\u001b[0;34m]\u001b[0m\u001b[0;34m\u001b[0m\u001b[0;34m\u001b[0m\u001b[0m\n\u001b[1;32m    742\u001b[0m         \u001b[0mpooled_output\u001b[0m \u001b[0;34m=\u001b[0m \u001b[0mself\u001b[0m\u001b[0;34m.\u001b[0m\u001b[0mpooler\u001b[0m\u001b[0;34m(\u001b[0m\u001b[0msequence_output\u001b[0m\u001b[0;34m)\u001b[0m\u001b[0;34m\u001b[0m\u001b[0;34m\u001b[0m\u001b[0m\n",
            "\u001b[0;32m/usr/local/lib/python3.6/dist-packages/torch/nn/modules/module.py\u001b[0m in \u001b[0;36m__call__\u001b[0;34m(self, *input, **kwargs)\u001b[0m\n\u001b[1;32m    539\u001b[0m             \u001b[0mresult\u001b[0m \u001b[0;34m=\u001b[0m \u001b[0mself\u001b[0m\u001b[0;34m.\u001b[0m\u001b[0m_slow_forward\u001b[0m\u001b[0;34m(\u001b[0m\u001b[0;34m*\u001b[0m\u001b[0minput\u001b[0m\u001b[0;34m,\u001b[0m \u001b[0;34m**\u001b[0m\u001b[0mkwargs\u001b[0m\u001b[0;34m)\u001b[0m\u001b[0;34m\u001b[0m\u001b[0;34m\u001b[0m\u001b[0m\n\u001b[1;32m    540\u001b[0m         \u001b[0;32melse\u001b[0m\u001b[0;34m:\u001b[0m\u001b[0;34m\u001b[0m\u001b[0;34m\u001b[0m\u001b[0m\n\u001b[0;32m--> 541\u001b[0;31m             \u001b[0mresult\u001b[0m \u001b[0;34m=\u001b[0m \u001b[0mself\u001b[0m\u001b[0;34m.\u001b[0m\u001b[0mforward\u001b[0m\u001b[0;34m(\u001b[0m\u001b[0;34m*\u001b[0m\u001b[0minput\u001b[0m\u001b[0;34m,\u001b[0m \u001b[0;34m**\u001b[0m\u001b[0mkwargs\u001b[0m\u001b[0;34m)\u001b[0m\u001b[0;34m\u001b[0m\u001b[0;34m\u001b[0m\u001b[0m\n\u001b[0m\u001b[1;32m    542\u001b[0m         \u001b[0;32mfor\u001b[0m \u001b[0mhook\u001b[0m \u001b[0;32min\u001b[0m \u001b[0mself\u001b[0m\u001b[0;34m.\u001b[0m\u001b[0m_forward_hooks\u001b[0m\u001b[0;34m.\u001b[0m\u001b[0mvalues\u001b[0m\u001b[0;34m(\u001b[0m\u001b[0;34m)\u001b[0m\u001b[0;34m:\u001b[0m\u001b[0;34m\u001b[0m\u001b[0;34m\u001b[0m\u001b[0m\n\u001b[1;32m    543\u001b[0m             \u001b[0mhook_result\u001b[0m \u001b[0;34m=\u001b[0m \u001b[0mhook\u001b[0m\u001b[0;34m(\u001b[0m\u001b[0mself\u001b[0m\u001b[0;34m,\u001b[0m \u001b[0minput\u001b[0m\u001b[0;34m,\u001b[0m \u001b[0mresult\u001b[0m\u001b[0;34m)\u001b[0m\u001b[0;34m\u001b[0m\u001b[0;34m\u001b[0m\u001b[0m\n",
            "\u001b[0;32m/usr/local/lib/python3.6/dist-packages/transformers/modeling_bert.py\u001b[0m in \u001b[0;36mforward\u001b[0;34m(self, hidden_states, attention_mask, head_mask, encoder_hidden_states, encoder_attention_mask)\u001b[0m\n\u001b[1;32m    384\u001b[0m                 \u001b[0mall_hidden_states\u001b[0m \u001b[0;34m=\u001b[0m \u001b[0mall_hidden_states\u001b[0m \u001b[0;34m+\u001b[0m \u001b[0;34m(\u001b[0m\u001b[0mhidden_states\u001b[0m\u001b[0;34m,\u001b[0m\u001b[0;34m)\u001b[0m\u001b[0;34m\u001b[0m\u001b[0;34m\u001b[0m\u001b[0m\n\u001b[1;32m    385\u001b[0m \u001b[0;34m\u001b[0m\u001b[0m\n\u001b[0;32m--> 386\u001b[0;31m             \u001b[0mlayer_outputs\u001b[0m \u001b[0;34m=\u001b[0m \u001b[0mlayer_module\u001b[0m\u001b[0;34m(\u001b[0m\u001b[0mhidden_states\u001b[0m\u001b[0;34m,\u001b[0m \u001b[0mattention_mask\u001b[0m\u001b[0;34m,\u001b[0m \u001b[0mhead_mask\u001b[0m\u001b[0;34m[\u001b[0m\u001b[0mi\u001b[0m\u001b[0;34m]\u001b[0m\u001b[0;34m,\u001b[0m \u001b[0mencoder_hidden_states\u001b[0m\u001b[0;34m,\u001b[0m \u001b[0mencoder_attention_mask\u001b[0m\u001b[0;34m)\u001b[0m\u001b[0;34m\u001b[0m\u001b[0;34m\u001b[0m\u001b[0m\n\u001b[0m\u001b[1;32m    387\u001b[0m             \u001b[0mhidden_states\u001b[0m \u001b[0;34m=\u001b[0m \u001b[0mlayer_outputs\u001b[0m\u001b[0;34m[\u001b[0m\u001b[0;36m0\u001b[0m\u001b[0;34m]\u001b[0m\u001b[0;34m\u001b[0m\u001b[0;34m\u001b[0m\u001b[0m\n\u001b[1;32m    388\u001b[0m \u001b[0;34m\u001b[0m\u001b[0m\n",
            "\u001b[0;32m/usr/local/lib/python3.6/dist-packages/torch/nn/modules/module.py\u001b[0m in \u001b[0;36m__call__\u001b[0;34m(self, *input, **kwargs)\u001b[0m\n\u001b[1;32m    539\u001b[0m             \u001b[0mresult\u001b[0m \u001b[0;34m=\u001b[0m \u001b[0mself\u001b[0m\u001b[0;34m.\u001b[0m\u001b[0m_slow_forward\u001b[0m\u001b[0;34m(\u001b[0m\u001b[0;34m*\u001b[0m\u001b[0minput\u001b[0m\u001b[0;34m,\u001b[0m \u001b[0;34m**\u001b[0m\u001b[0mkwargs\u001b[0m\u001b[0;34m)\u001b[0m\u001b[0;34m\u001b[0m\u001b[0;34m\u001b[0m\u001b[0m\n\u001b[1;32m    540\u001b[0m         \u001b[0;32melse\u001b[0m\u001b[0;34m:\u001b[0m\u001b[0;34m\u001b[0m\u001b[0;34m\u001b[0m\u001b[0m\n\u001b[0;32m--> 541\u001b[0;31m             \u001b[0mresult\u001b[0m \u001b[0;34m=\u001b[0m \u001b[0mself\u001b[0m\u001b[0;34m.\u001b[0m\u001b[0mforward\u001b[0m\u001b[0;34m(\u001b[0m\u001b[0;34m*\u001b[0m\u001b[0minput\u001b[0m\u001b[0;34m,\u001b[0m \u001b[0;34m**\u001b[0m\u001b[0mkwargs\u001b[0m\u001b[0;34m)\u001b[0m\u001b[0;34m\u001b[0m\u001b[0;34m\u001b[0m\u001b[0m\n\u001b[0m\u001b[1;32m    542\u001b[0m         \u001b[0;32mfor\u001b[0m \u001b[0mhook\u001b[0m \u001b[0;32min\u001b[0m \u001b[0mself\u001b[0m\u001b[0;34m.\u001b[0m\u001b[0m_forward_hooks\u001b[0m\u001b[0;34m.\u001b[0m\u001b[0mvalues\u001b[0m\u001b[0;34m(\u001b[0m\u001b[0;34m)\u001b[0m\u001b[0;34m:\u001b[0m\u001b[0;34m\u001b[0m\u001b[0;34m\u001b[0m\u001b[0m\n\u001b[1;32m    543\u001b[0m             \u001b[0mhook_result\u001b[0m \u001b[0;34m=\u001b[0m \u001b[0mhook\u001b[0m\u001b[0;34m(\u001b[0m\u001b[0mself\u001b[0m\u001b[0;34m,\u001b[0m \u001b[0minput\u001b[0m\u001b[0;34m,\u001b[0m \u001b[0mresult\u001b[0m\u001b[0;34m)\u001b[0m\u001b[0;34m\u001b[0m\u001b[0;34m\u001b[0m\u001b[0m\n",
            "\u001b[0;32m/usr/local/lib/python3.6/dist-packages/transformers/modeling_bert.py\u001b[0m in \u001b[0;36mforward\u001b[0;34m(self, hidden_states, attention_mask, head_mask, encoder_hidden_states, encoder_attention_mask)\u001b[0m\n\u001b[1;32m    355\u001b[0m \u001b[0;34m\u001b[0m\u001b[0m\n\u001b[1;32m    356\u001b[0m     \u001b[0;32mdef\u001b[0m \u001b[0mforward\u001b[0m\u001b[0;34m(\u001b[0m\u001b[0mself\u001b[0m\u001b[0;34m,\u001b[0m \u001b[0mhidden_states\u001b[0m\u001b[0;34m,\u001b[0m \u001b[0mattention_mask\u001b[0m\u001b[0;34m=\u001b[0m\u001b[0;32mNone\u001b[0m\u001b[0;34m,\u001b[0m \u001b[0mhead_mask\u001b[0m\u001b[0;34m=\u001b[0m\u001b[0;32mNone\u001b[0m\u001b[0;34m,\u001b[0m \u001b[0mencoder_hidden_states\u001b[0m\u001b[0;34m=\u001b[0m\u001b[0;32mNone\u001b[0m\u001b[0;34m,\u001b[0m \u001b[0mencoder_attention_mask\u001b[0m\u001b[0;34m=\u001b[0m\u001b[0;32mNone\u001b[0m\u001b[0;34m)\u001b[0m\u001b[0;34m:\u001b[0m\u001b[0;34m\u001b[0m\u001b[0;34m\u001b[0m\u001b[0m\n\u001b[0;32m--> 357\u001b[0;31m         \u001b[0mself_attention_outputs\u001b[0m \u001b[0;34m=\u001b[0m \u001b[0mself\u001b[0m\u001b[0;34m.\u001b[0m\u001b[0mattention\u001b[0m\u001b[0;34m(\u001b[0m\u001b[0mhidden_states\u001b[0m\u001b[0;34m,\u001b[0m \u001b[0mattention_mask\u001b[0m\u001b[0;34m,\u001b[0m \u001b[0mhead_mask\u001b[0m\u001b[0;34m)\u001b[0m\u001b[0;34m\u001b[0m\u001b[0;34m\u001b[0m\u001b[0m\n\u001b[0m\u001b[1;32m    358\u001b[0m         \u001b[0mattention_output\u001b[0m \u001b[0;34m=\u001b[0m \u001b[0mself_attention_outputs\u001b[0m\u001b[0;34m[\u001b[0m\u001b[0;36m0\u001b[0m\u001b[0;34m]\u001b[0m\u001b[0;34m\u001b[0m\u001b[0;34m\u001b[0m\u001b[0m\n\u001b[1;32m    359\u001b[0m         \u001b[0moutputs\u001b[0m \u001b[0;34m=\u001b[0m \u001b[0mself_attention_outputs\u001b[0m\u001b[0;34m[\u001b[0m\u001b[0;36m1\u001b[0m\u001b[0;34m:\u001b[0m\u001b[0;34m]\u001b[0m  \u001b[0;31m# add self attentions if we output attention weights\u001b[0m\u001b[0;34m\u001b[0m\u001b[0;34m\u001b[0m\u001b[0m\n",
            "\u001b[0;32m/usr/local/lib/python3.6/dist-packages/torch/nn/modules/module.py\u001b[0m in \u001b[0;36m__call__\u001b[0;34m(self, *input, **kwargs)\u001b[0m\n\u001b[1;32m    539\u001b[0m             \u001b[0mresult\u001b[0m \u001b[0;34m=\u001b[0m \u001b[0mself\u001b[0m\u001b[0;34m.\u001b[0m\u001b[0m_slow_forward\u001b[0m\u001b[0;34m(\u001b[0m\u001b[0;34m*\u001b[0m\u001b[0minput\u001b[0m\u001b[0;34m,\u001b[0m \u001b[0;34m**\u001b[0m\u001b[0mkwargs\u001b[0m\u001b[0;34m)\u001b[0m\u001b[0;34m\u001b[0m\u001b[0;34m\u001b[0m\u001b[0m\n\u001b[1;32m    540\u001b[0m         \u001b[0;32melse\u001b[0m\u001b[0;34m:\u001b[0m\u001b[0;34m\u001b[0m\u001b[0;34m\u001b[0m\u001b[0m\n\u001b[0;32m--> 541\u001b[0;31m             \u001b[0mresult\u001b[0m \u001b[0;34m=\u001b[0m \u001b[0mself\u001b[0m\u001b[0;34m.\u001b[0m\u001b[0mforward\u001b[0m\u001b[0;34m(\u001b[0m\u001b[0;34m*\u001b[0m\u001b[0minput\u001b[0m\u001b[0;34m,\u001b[0m \u001b[0;34m**\u001b[0m\u001b[0mkwargs\u001b[0m\u001b[0;34m)\u001b[0m\u001b[0;34m\u001b[0m\u001b[0;34m\u001b[0m\u001b[0m\n\u001b[0m\u001b[1;32m    542\u001b[0m         \u001b[0;32mfor\u001b[0m \u001b[0mhook\u001b[0m \u001b[0;32min\u001b[0m \u001b[0mself\u001b[0m\u001b[0;34m.\u001b[0m\u001b[0m_forward_hooks\u001b[0m\u001b[0;34m.\u001b[0m\u001b[0mvalues\u001b[0m\u001b[0;34m(\u001b[0m\u001b[0;34m)\u001b[0m\u001b[0;34m:\u001b[0m\u001b[0;34m\u001b[0m\u001b[0;34m\u001b[0m\u001b[0m\n\u001b[1;32m    543\u001b[0m             \u001b[0mhook_result\u001b[0m \u001b[0;34m=\u001b[0m \u001b[0mhook\u001b[0m\u001b[0;34m(\u001b[0m\u001b[0mself\u001b[0m\u001b[0;34m,\u001b[0m \u001b[0minput\u001b[0m\u001b[0;34m,\u001b[0m \u001b[0mresult\u001b[0m\u001b[0;34m)\u001b[0m\u001b[0;34m\u001b[0m\u001b[0;34m\u001b[0m\u001b[0m\n",
            "\u001b[0;32m/usr/local/lib/python3.6/dist-packages/transformers/modeling_bert.py\u001b[0m in \u001b[0;36mforward\u001b[0;34m(self, hidden_states, attention_mask, head_mask, encoder_hidden_states, encoder_attention_mask)\u001b[0m\n\u001b[1;32m    309\u001b[0m \u001b[0;34m\u001b[0m\u001b[0m\n\u001b[1;32m    310\u001b[0m     \u001b[0;32mdef\u001b[0m \u001b[0mforward\u001b[0m\u001b[0;34m(\u001b[0m\u001b[0mself\u001b[0m\u001b[0;34m,\u001b[0m \u001b[0mhidden_states\u001b[0m\u001b[0;34m,\u001b[0m \u001b[0mattention_mask\u001b[0m\u001b[0;34m=\u001b[0m\u001b[0;32mNone\u001b[0m\u001b[0;34m,\u001b[0m \u001b[0mhead_mask\u001b[0m\u001b[0;34m=\u001b[0m\u001b[0;32mNone\u001b[0m\u001b[0;34m,\u001b[0m \u001b[0mencoder_hidden_states\u001b[0m\u001b[0;34m=\u001b[0m\u001b[0;32mNone\u001b[0m\u001b[0;34m,\u001b[0m \u001b[0mencoder_attention_mask\u001b[0m\u001b[0;34m=\u001b[0m\u001b[0;32mNone\u001b[0m\u001b[0;34m)\u001b[0m\u001b[0;34m:\u001b[0m\u001b[0;34m\u001b[0m\u001b[0;34m\u001b[0m\u001b[0m\n\u001b[0;32m--> 311\u001b[0;31m         \u001b[0mself_outputs\u001b[0m \u001b[0;34m=\u001b[0m \u001b[0mself\u001b[0m\u001b[0;34m.\u001b[0m\u001b[0mself\u001b[0m\u001b[0;34m(\u001b[0m\u001b[0mhidden_states\u001b[0m\u001b[0;34m,\u001b[0m \u001b[0mattention_mask\u001b[0m\u001b[0;34m,\u001b[0m \u001b[0mhead_mask\u001b[0m\u001b[0;34m,\u001b[0m \u001b[0mencoder_hidden_states\u001b[0m\u001b[0;34m,\u001b[0m \u001b[0mencoder_attention_mask\u001b[0m\u001b[0;34m)\u001b[0m\u001b[0;34m\u001b[0m\u001b[0;34m\u001b[0m\u001b[0m\n\u001b[0m\u001b[1;32m    312\u001b[0m         \u001b[0mattention_output\u001b[0m \u001b[0;34m=\u001b[0m \u001b[0mself\u001b[0m\u001b[0;34m.\u001b[0m\u001b[0moutput\u001b[0m\u001b[0;34m(\u001b[0m\u001b[0mself_outputs\u001b[0m\u001b[0;34m[\u001b[0m\u001b[0;36m0\u001b[0m\u001b[0;34m]\u001b[0m\u001b[0;34m,\u001b[0m \u001b[0mhidden_states\u001b[0m\u001b[0;34m)\u001b[0m\u001b[0;34m\u001b[0m\u001b[0;34m\u001b[0m\u001b[0m\n\u001b[1;32m    313\u001b[0m         \u001b[0moutputs\u001b[0m \u001b[0;34m=\u001b[0m \u001b[0;34m(\u001b[0m\u001b[0mattention_output\u001b[0m\u001b[0;34m,\u001b[0m\u001b[0;34m)\u001b[0m \u001b[0;34m+\u001b[0m \u001b[0mself_outputs\u001b[0m\u001b[0;34m[\u001b[0m\u001b[0;36m1\u001b[0m\u001b[0;34m:\u001b[0m\u001b[0;34m]\u001b[0m  \u001b[0;31m# add attentions if we output them\u001b[0m\u001b[0;34m\u001b[0m\u001b[0;34m\u001b[0m\u001b[0m\n",
            "\u001b[0;32m/usr/local/lib/python3.6/dist-packages/torch/nn/modules/module.py\u001b[0m in \u001b[0;36m__call__\u001b[0;34m(self, *input, **kwargs)\u001b[0m\n\u001b[1;32m    539\u001b[0m             \u001b[0mresult\u001b[0m \u001b[0;34m=\u001b[0m \u001b[0mself\u001b[0m\u001b[0;34m.\u001b[0m\u001b[0m_slow_forward\u001b[0m\u001b[0;34m(\u001b[0m\u001b[0;34m*\u001b[0m\u001b[0minput\u001b[0m\u001b[0;34m,\u001b[0m \u001b[0;34m**\u001b[0m\u001b[0mkwargs\u001b[0m\u001b[0;34m)\u001b[0m\u001b[0;34m\u001b[0m\u001b[0;34m\u001b[0m\u001b[0m\n\u001b[1;32m    540\u001b[0m         \u001b[0;32melse\u001b[0m\u001b[0;34m:\u001b[0m\u001b[0;34m\u001b[0m\u001b[0;34m\u001b[0m\u001b[0m\n\u001b[0;32m--> 541\u001b[0;31m             \u001b[0mresult\u001b[0m \u001b[0;34m=\u001b[0m \u001b[0mself\u001b[0m\u001b[0;34m.\u001b[0m\u001b[0mforward\u001b[0m\u001b[0;34m(\u001b[0m\u001b[0;34m*\u001b[0m\u001b[0minput\u001b[0m\u001b[0;34m,\u001b[0m \u001b[0;34m**\u001b[0m\u001b[0mkwargs\u001b[0m\u001b[0;34m)\u001b[0m\u001b[0;34m\u001b[0m\u001b[0;34m\u001b[0m\u001b[0m\n\u001b[0m\u001b[1;32m    542\u001b[0m         \u001b[0;32mfor\u001b[0m \u001b[0mhook\u001b[0m \u001b[0;32min\u001b[0m \u001b[0mself\u001b[0m\u001b[0;34m.\u001b[0m\u001b[0m_forward_hooks\u001b[0m\u001b[0;34m.\u001b[0m\u001b[0mvalues\u001b[0m\u001b[0;34m(\u001b[0m\u001b[0;34m)\u001b[0m\u001b[0;34m:\u001b[0m\u001b[0;34m\u001b[0m\u001b[0;34m\u001b[0m\u001b[0m\n\u001b[1;32m    543\u001b[0m             \u001b[0mhook_result\u001b[0m \u001b[0;34m=\u001b[0m \u001b[0mhook\u001b[0m\u001b[0;34m(\u001b[0m\u001b[0mself\u001b[0m\u001b[0;34m,\u001b[0m \u001b[0minput\u001b[0m\u001b[0;34m,\u001b[0m \u001b[0mresult\u001b[0m\u001b[0;34m)\u001b[0m\u001b[0;34m\u001b[0m\u001b[0;34m\u001b[0m\u001b[0m\n",
            "\u001b[0;31mKeyboardInterrupt\u001b[0m: "
          ]
        }
      ]
    },
    {
      "cell_type": "code",
      "metadata": {
        "colab_type": "code",
        "id": "W789Dk1BLrE4",
        "outputId": "bcae7bc4-8c4f-46bb-8b78-eb6cfb334f15",
        "colab": {
          "base_uri": "https://localhost:8080/",
          "height": 34
        }
      },
      "source": [
        "sentence = 'I woulde lirke the graph of the numbr of fligt for Boing on mondy 2020'\n",
        "corrected = \" \".join(auto_correction(model_w2v.vocab, voc, voc_stopwords, sentence))\n",
        "corrected"
      ],
      "execution_count": 49,
      "outputs": [
        {
          "output_type": "execute_result",
          "data": {
            "text/plain": [
              "'I would like the graph of the number of flight for Boeing on monday 2020'"
            ]
          },
          "metadata": {
            "tags": []
          },
          "execution_count": 49
        }
      ]
    },
    {
      "cell_type": "code",
      "metadata": {
        "colab_type": "code",
        "id": "ipLvxqUXL06k",
        "outputId": "4e2ca904-1177-45c5-b50e-ae33f1962594",
        "colab": {
          "base_uri": "https://localhost:8080/",
          "height": 72,
          "referenced_widgets": [
            "fe5c6f50093f4db2ae07c2b0335e6937",
            "86f0fa57db574182826ff4e06acde39c"
          ]
        }
      },
      "source": [
        "predictions, raw_outputs = model.predict([corrected])\n",
        "print(predictions)"
      ],
      "execution_count": 50,
      "outputs": [
        {
          "output_type": "stream",
          "text": [
            "Converting to features started.\n"
          ],
          "name": "stdout"
        },
        {
          "output_type": "display_data",
          "data": {
            "application/vnd.jupyter.widget-view+json": {
              "model_id": "fe5c6f50093f4db2ae07c2b0335e6937",
              "version_minor": 0,
              "version_major": 2
            },
            "text/plain": [
              "HBox(children=(IntProgress(value=0, max=1), HTML(value='')))"
            ]
          },
          "metadata": {
            "tags": []
          }
        },
        {
          "output_type": "display_data",
          "data": {
            "application/vnd.jupyter.widget-view+json": {
              "model_id": "86f0fa57db574182826ff4e06acde39c",
              "version_minor": 0,
              "version_major": 2
            },
            "text/plain": [
              "HBox(children=(IntProgress(value=0, max=1), HTML(value='')))"
            ]
          },
          "metadata": {
            "tags": []
          }
        },
        {
          "output_type": "stream",
          "text": [
            "[[{'I': 'O'}, {'would': 'O'}, {'like': 'O'}, {'the': 'O'}, {'graph': 'STAT_B'}, {'of': 'O'}, {'the': 'O'}, {'number': 'STUDIED_B'}, {'of': 'STUDIED_I'}, {'flight': 'STUDIED_E'}, {'for': 'O'}, {'Boeing': 'MANU_B'}, {'on': 'O'}, {'monday': 'DATE1_B'}, {'2020': 'DATE1_E'}]]\n"
          ],
          "name": "stdout"
        }
      ]
    },
    {
      "cell_type": "code",
      "metadata": {
        "colab_type": "code",
        "id": "dxAj9czCMB2s",
        "outputId": "c16a9100-19df-4578-ecc4-137c35d2a82d",
        "colab": {
          "base_uri": "https://localhost:8080/",
          "height": 424
        }
      },
      "source": [
        "eval_df"
      ],
      "execution_count": 51,
      "outputs": [
        {
          "output_type": "execute_result",
          "data": {
            "text/html": [
              "<div>\n",
              "<style scoped>\n",
              "    .dataframe tbody tr th:only-of-type {\n",
              "        vertical-align: middle;\n",
              "    }\n",
              "\n",
              "    .dataframe tbody tr th {\n",
              "        vertical-align: top;\n",
              "    }\n",
              "\n",
              "    .dataframe thead th {\n",
              "        text-align: right;\n",
              "    }\n",
              "</style>\n",
              "<table border=\"1\" class=\"dataframe\">\n",
              "  <thead>\n",
              "    <tr style=\"text-align: right;\">\n",
              "      <th></th>\n",
              "      <th>sentence_id</th>\n",
              "      <th>words</th>\n",
              "      <th>labels</th>\n",
              "    </tr>\n",
              "  </thead>\n",
              "  <tbody>\n",
              "    <tr>\n",
              "      <th>0</th>\n",
              "      <td>0</td>\n",
              "      <td>in</td>\n",
              "      <td>O</td>\n",
              "    </tr>\n",
              "    <tr>\n",
              "      <th>1</th>\n",
              "      <td>0</td>\n",
              "      <td>Iran</td>\n",
              "      <td>COUN_B</td>\n",
              "    </tr>\n",
              "    <tr>\n",
              "      <th>2</th>\n",
              "      <td>0</td>\n",
              "      <td>and</td>\n",
              "      <td>O</td>\n",
              "    </tr>\n",
              "    <tr>\n",
              "      <th>3</th>\n",
              "      <td>0</td>\n",
              "      <td>Mozambique</td>\n",
              "      <td>COUN_B</td>\n",
              "    </tr>\n",
              "    <tr>\n",
              "      <th>4</th>\n",
              "      <td>0</td>\n",
              "      <td>since</td>\n",
              "      <td>O</td>\n",
              "    </tr>\n",
              "    <tr>\n",
              "      <th>...</th>\n",
              "      <td>...</td>\n",
              "      <td>...</td>\n",
              "      <td>...</td>\n",
              "    </tr>\n",
              "    <tr>\n",
              "      <th>53354</th>\n",
              "      <td>4999</td>\n",
              "      <td>planes</td>\n",
              "      <td>STAT_E</td>\n",
              "    </tr>\n",
              "    <tr>\n",
              "      <th>53355</th>\n",
              "      <td>4999</td>\n",
              "      <td>in</td>\n",
              "      <td>O</td>\n",
              "    </tr>\n",
              "    <tr>\n",
              "      <th>53356</th>\n",
              "      <td>4999</td>\n",
              "      <td>LATVIA</td>\n",
              "      <td>COUN_B</td>\n",
              "    </tr>\n",
              "    <tr>\n",
              "      <th>53357</th>\n",
              "      <td>4999</td>\n",
              "      <td>since</td>\n",
              "      <td>O</td>\n",
              "    </tr>\n",
              "    <tr>\n",
              "      <th>53358</th>\n",
              "      <td>4999</td>\n",
              "      <td>1965</td>\n",
              "      <td>DATE1_B</td>\n",
              "    </tr>\n",
              "  </tbody>\n",
              "</table>\n",
              "<p>53359 rows × 3 columns</p>\n",
              "</div>"
            ],
            "text/plain": [
              "       sentence_id       words   labels\n",
              "0                0          in        O\n",
              "1                0        Iran   COUN_B\n",
              "2                0         and        O\n",
              "3                0  Mozambique   COUN_B\n",
              "4                0       since        O\n",
              "...            ...         ...      ...\n",
              "53354         4999      planes   STAT_E\n",
              "53355         4999          in        O\n",
              "53356         4999      LATVIA   COUN_B\n",
              "53357         4999       since        O\n",
              "53358         4999        1965  DATE1_B\n",
              "\n",
              "[53359 rows x 3 columns]"
            ]
          },
          "metadata": {
            "tags": []
          },
          "execution_count": 51
        }
      ]
    },
    {
      "cell_type": "code",
      "metadata": {
        "colab_type": "code",
        "id": "uW5gRkUpO7c0",
        "outputId": "524a6603-5d1e-46c6-de33-ac50152c5a85",
        "colab": {
          "base_uri": "https://localhost:8080/",
          "height": 191,
          "referenced_widgets": [
            "418ead2235514a748a4a77014528a45c",
            "19449235100f4cd8af0ea3d16f3cab7b",
            "19ce642ea7e24691b0d9a211e463ccb0",
            "7957ddcd3eb445118d122716573d64ed",
            "54d97814d7234d93906617f86054c663",
            "949ef51e37f344318ac9f92611989779",
            "7d567adb644f422f97c2e58283dc521d",
            "2883a28282874d199ac6b91ad5580100",
            "5644dfa4d4b742899655593a1ee362ea",
            "ed1ba3846dd34c3d89560e359b5de3c5",
            "094b637c689b4b7ab694d6e66132890f",
            "057e34434c004694a37c52b5f164a996",
            "0152d11caab54f1683ad0cfe17249509",
            "7d9f99d66ceb40b89e1e2d480aabcf78",
            "6d53c22ddbcd4d9082f518391eb0f778",
            "c7cf0889e25f4515936f98f4a56d4243",
            "a7fb91a585124cab92ea5190d2823b0a",
            "18d310c1780f4cb3879449d41e99c5c5",
            "15f7d120736b4ec69995ef75ddd23bfb",
            "7b4268d1257445518428c8531539be6b"
          ]
        }
      },
      "source": [
        "resultats = {}\n",
        "for i in eval_df['sentence_id'].unique()[0:10]:\n",
        "  sentence = \" \".join(list(eval_df.loc[eval_df['sentence_id'] == i, 'words']))\n",
        "  predictions, raw_outputs = model.predict([sentence])\n",
        "  resultats[i] = predictions"
      ],
      "execution_count": 52,
      "outputs": [
        {
          "output_type": "stream",
          "text": [
            "Converting to features started.\n"
          ],
          "name": "stdout"
        },
        {
          "output_type": "display_data",
          "data": {
            "application/vnd.jupyter.widget-view+json": {
              "model_id": "418ead2235514a748a4a77014528a45c",
              "version_minor": 0,
              "version_major": 2
            },
            "text/plain": [
              "HBox(children=(IntProgress(value=0, max=1), HTML(value='')))"
            ]
          },
          "metadata": {
            "tags": []
          }
        },
        {
          "output_type": "display_data",
          "data": {
            "application/vnd.jupyter.widget-view+json": {
              "model_id": "19449235100f4cd8af0ea3d16f3cab7b",
              "version_minor": 0,
              "version_major": 2
            },
            "text/plain": [
              "HBox(children=(IntProgress(value=0, max=1), HTML(value='')))"
            ]
          },
          "metadata": {
            "tags": []
          }
        },
        {
          "output_type": "stream",
          "text": [
            "Converting to features started.\n"
          ],
          "name": "stdout"
        },
        {
          "output_type": "display_data",
          "data": {
            "application/vnd.jupyter.widget-view+json": {
              "model_id": "19ce642ea7e24691b0d9a211e463ccb0",
              "version_minor": 0,
              "version_major": 2
            },
            "text/plain": [
              "HBox(children=(IntProgress(value=0, max=1), HTML(value='')))"
            ]
          },
          "metadata": {
            "tags": []
          }
        },
        {
          "output_type": "display_data",
          "data": {
            "application/vnd.jupyter.widget-view+json": {
              "model_id": "7957ddcd3eb445118d122716573d64ed",
              "version_minor": 0,
              "version_major": 2
            },
            "text/plain": [
              "HBox(children=(IntProgress(value=0, max=1), HTML(value='')))"
            ]
          },
          "metadata": {
            "tags": []
          }
        },
        {
          "output_type": "stream",
          "text": [
            "Converting to features started.\n"
          ],
          "name": "stdout"
        },
        {
          "output_type": "display_data",
          "data": {
            "application/vnd.jupyter.widget-view+json": {
              "model_id": "54d97814d7234d93906617f86054c663",
              "version_minor": 0,
              "version_major": 2
            },
            "text/plain": [
              "HBox(children=(IntProgress(value=0, max=1), HTML(value='')))"
            ]
          },
          "metadata": {
            "tags": []
          }
        },
        {
          "output_type": "display_data",
          "data": {
            "application/vnd.jupyter.widget-view+json": {
              "model_id": "949ef51e37f344318ac9f92611989779",
              "version_minor": 0,
              "version_major": 2
            },
            "text/plain": [
              "HBox(children=(IntProgress(value=0, max=1), HTML(value='')))"
            ]
          },
          "metadata": {
            "tags": []
          }
        },
        {
          "output_type": "stream",
          "text": [
            "Converting to features started.\n"
          ],
          "name": "stdout"
        },
        {
          "output_type": "display_data",
          "data": {
            "application/vnd.jupyter.widget-view+json": {
              "model_id": "7d567adb644f422f97c2e58283dc521d",
              "version_minor": 0,
              "version_major": 2
            },
            "text/plain": [
              "HBox(children=(IntProgress(value=0, max=1), HTML(value='')))"
            ]
          },
          "metadata": {
            "tags": []
          }
        },
        {
          "output_type": "display_data",
          "data": {
            "application/vnd.jupyter.widget-view+json": {
              "model_id": "2883a28282874d199ac6b91ad5580100",
              "version_minor": 0,
              "version_major": 2
            },
            "text/plain": [
              "HBox(children=(IntProgress(value=0, max=1), HTML(value='')))"
            ]
          },
          "metadata": {
            "tags": []
          }
        },
        {
          "output_type": "stream",
          "text": [
            "Converting to features started.\n"
          ],
          "name": "stdout"
        },
        {
          "output_type": "display_data",
          "data": {
            "application/vnd.jupyter.widget-view+json": {
              "model_id": "5644dfa4d4b742899655593a1ee362ea",
              "version_minor": 0,
              "version_major": 2
            },
            "text/plain": [
              "HBox(children=(IntProgress(value=0, max=1), HTML(value='')))"
            ]
          },
          "metadata": {
            "tags": []
          }
        },
        {
          "output_type": "display_data",
          "data": {
            "application/vnd.jupyter.widget-view+json": {
              "model_id": "ed1ba3846dd34c3d89560e359b5de3c5",
              "version_minor": 0,
              "version_major": 2
            },
            "text/plain": [
              "HBox(children=(IntProgress(value=0, max=1), HTML(value='')))"
            ]
          },
          "metadata": {
            "tags": []
          }
        },
        {
          "output_type": "stream",
          "text": [
            "Converting to features started.\n"
          ],
          "name": "stdout"
        },
        {
          "output_type": "display_data",
          "data": {
            "application/vnd.jupyter.widget-view+json": {
              "model_id": "094b637c689b4b7ab694d6e66132890f",
              "version_minor": 0,
              "version_major": 2
            },
            "text/plain": [
              "HBox(children=(IntProgress(value=0, max=1), HTML(value='')))"
            ]
          },
          "metadata": {
            "tags": []
          }
        },
        {
          "output_type": "display_data",
          "data": {
            "application/vnd.jupyter.widget-view+json": {
              "model_id": "057e34434c004694a37c52b5f164a996",
              "version_minor": 0,
              "version_major": 2
            },
            "text/plain": [
              "HBox(children=(IntProgress(value=0, max=1), HTML(value='')))"
            ]
          },
          "metadata": {
            "tags": []
          }
        },
        {
          "output_type": "stream",
          "text": [
            "Converting to features started.\n"
          ],
          "name": "stdout"
        },
        {
          "output_type": "display_data",
          "data": {
            "application/vnd.jupyter.widget-view+json": {
              "model_id": "0152d11caab54f1683ad0cfe17249509",
              "version_minor": 0,
              "version_major": 2
            },
            "text/plain": [
              "HBox(children=(IntProgress(value=0, max=1), HTML(value='')))"
            ]
          },
          "metadata": {
            "tags": []
          }
        },
        {
          "output_type": "display_data",
          "data": {
            "application/vnd.jupyter.widget-view+json": {
              "model_id": "7d9f99d66ceb40b89e1e2d480aabcf78",
              "version_minor": 0,
              "version_major": 2
            },
            "text/plain": [
              "HBox(children=(IntProgress(value=0, max=1), HTML(value='')))"
            ]
          },
          "metadata": {
            "tags": []
          }
        },
        {
          "output_type": "stream",
          "text": [
            "Converting to features started.\n"
          ],
          "name": "stdout"
        },
        {
          "output_type": "display_data",
          "data": {
            "application/vnd.jupyter.widget-view+json": {
              "model_id": "6d53c22ddbcd4d9082f518391eb0f778",
              "version_minor": 0,
              "version_major": 2
            },
            "text/plain": [
              "HBox(children=(IntProgress(value=0, max=1), HTML(value='')))"
            ]
          },
          "metadata": {
            "tags": []
          }
        },
        {
          "output_type": "display_data",
          "data": {
            "application/vnd.jupyter.widget-view+json": {
              "model_id": "c7cf0889e25f4515936f98f4a56d4243",
              "version_minor": 0,
              "version_major": 2
            },
            "text/plain": [
              "HBox(children=(IntProgress(value=0, max=1), HTML(value='')))"
            ]
          },
          "metadata": {
            "tags": []
          }
        },
        {
          "output_type": "stream",
          "text": [
            "Converting to features started.\n"
          ],
          "name": "stdout"
        },
        {
          "output_type": "display_data",
          "data": {
            "application/vnd.jupyter.widget-view+json": {
              "model_id": "a7fb91a585124cab92ea5190d2823b0a",
              "version_minor": 0,
              "version_major": 2
            },
            "text/plain": [
              "HBox(children=(IntProgress(value=0, max=1), HTML(value='')))"
            ]
          },
          "metadata": {
            "tags": []
          }
        },
        {
          "output_type": "display_data",
          "data": {
            "application/vnd.jupyter.widget-view+json": {
              "model_id": "18d310c1780f4cb3879449d41e99c5c5",
              "version_minor": 0,
              "version_major": 2
            },
            "text/plain": [
              "HBox(children=(IntProgress(value=0, max=1), HTML(value='')))"
            ]
          },
          "metadata": {
            "tags": []
          }
        },
        {
          "output_type": "stream",
          "text": [
            "Converting to features started.\n"
          ],
          "name": "stdout"
        },
        {
          "output_type": "display_data",
          "data": {
            "application/vnd.jupyter.widget-view+json": {
              "model_id": "15f7d120736b4ec69995ef75ddd23bfb",
              "version_minor": 0,
              "version_major": 2
            },
            "text/plain": [
              "HBox(children=(IntProgress(value=0, max=1), HTML(value='')))"
            ]
          },
          "metadata": {
            "tags": []
          }
        },
        {
          "output_type": "display_data",
          "data": {
            "application/vnd.jupyter.widget-view+json": {
              "model_id": "7b4268d1257445518428c8531539be6b",
              "version_minor": 0,
              "version_major": 2
            },
            "text/plain": [
              "HBox(children=(IntProgress(value=0, max=1), HTML(value='')))"
            ]
          },
          "metadata": {
            "tags": []
          }
        }
      ]
    },
    {
      "cell_type": "code",
      "metadata": {
        "colab_type": "code",
        "id": "sCtMUeY1PEdY",
        "outputId": "2fd29ba6-2318-4483-f77c-4a02d1db3589",
        "colab": {
          "base_uri": "https://localhost:8080/",
          "height": 1000
        }
      },
      "source": [
        "resultats"
      ],
      "execution_count": 53,
      "outputs": [
        {
          "output_type": "execute_result",
          "data": {
            "text/plain": [
              "{0: [[{'in': 'O'},\n",
              "   {'Iran': 'COUN_B'},\n",
              "   {'and': 'O'},\n",
              "   {'Mozambique': 'COUN_B'},\n",
              "   {'since': 'O'},\n",
              "   {'the': 'O'},\n",
              "   {'SPRING': 'DATE1_B'},\n",
              "   {'1931': 'DATE1_E'},\n",
              "   {'show': 'O'},\n",
              "   {'me': 'O'},\n",
              "   {'an': 'O'},\n",
              "   {'cloud': 'STAT_B'},\n",
              "   {'of': 'STAT_I'},\n",
              "   {'words': 'STAT_E'}]],\n",
              " 1: [[{'for': 'O'},\n",
              "   {'Airbus': 'MANU_B'},\n",
              "   {'Boeing': 'MANU_B'},\n",
              "   {'cloud': 'STAT_B'},\n",
              "   {'of': 'STAT_I'},\n",
              "   {'words': 'STAT_E'}]],\n",
              " 2: [[{'plans': 'STAT_B'}, {'of': 'STAT_I'}, {'planes': 'STAT_E'}]],\n",
              " 3: [[{'pie': 'STAT_B'},\n",
              "   {'chart': 'STAT_E'},\n",
              "   {'of': 'O'},\n",
              "   {'the': 'O'},\n",
              "   {'number': 'STUDIED_B'},\n",
              "   {'of': 'STUDIED_I'},\n",
              "   {'flight': 'STUDIED_E'},\n",
              "   {'in': 'O'},\n",
              "   {'NETHERLANDS': 'COUN_B'},\n",
              "   {'ANTILLES': 'COUN_E'},\n",
              "   {'for': 'O'},\n",
              "   {'year': 'O'},\n",
              "   {'1940': 'DATE1_B'}]],\n",
              " 4: [[{'plans': 'STAT_B'}, {'of': 'STAT_I'}, {'plane': 'STAT_E'}]],\n",
              " 5: [[{'plot': 'O'},\n",
              "   {'us': 'O'},\n",
              "   {'the': 'O'},\n",
              "   {'plans': 'STAT_B'},\n",
              "   {'of': 'STAT_I'},\n",
              "   {'plane': 'STAT_E'},\n",
              "   {'for': 'O'},\n",
              "   {'Boeing': 'MANU_B'},\n",
              "   {',': 'O'},\n",
              "   {'Boeing': 'MANU_B'}]],\n",
              " 6: [[{'highlight': 'O'},\n",
              "   {'me': 'O'},\n",
              "   {'an': 'O'},\n",
              "   {'pie': 'STAT_B'},\n",
              "   {'chart': 'STAT_E'},\n",
              "   {'of': 'O'},\n",
              "   {'an': 'O'},\n",
              "   {'contentment': 'STUDIED_B'},\n",
              "   {'of': 'STUDIED_I'},\n",
              "   {'passenger': 'STUDIED_E'}]],\n",
              " 7: [[{'for': 'O'},\n",
              "   {'Pilatus': 'MANU_B'},\n",
              "   {'histogram': 'STAT_B'},\n",
              "   {'of': 'O'},\n",
              "   {'a': 'O'},\n",
              "   {'number': 'STUDIED_B'},\n",
              "   {'of': 'STUDIED_I'},\n",
              "   {'travel': 'STUDIED_E'}]],\n",
              " 8: [[{'plans': 'STAT_B'}, {'of': 'STAT_I'}, {'plane': 'STAT_E'}]],\n",
              " 9: [[{'in': 'O'},\n",
              "   {'Sweden': 'COUN_B'},\n",
              "   {'from': 'O'},\n",
              "   {'1902': 'DATE1_B'},\n",
              "   {'to': 'O'},\n",
              "   {'AUTUMN': 'DATE2_B'},\n",
              "   {'2017': 'DATE2_E'},\n",
              "   {'cloud': 'STAT_B'},\n",
              "   {'of': 'STAT_I'},\n",
              "   {'words': 'STAT_E'},\n",
              "   {'for': 'O'},\n",
              "   {'Pilatus': 'MANU_B'}]]}"
            ]
          },
          "metadata": {
            "tags": []
          },
          "execution_count": 53
        }
      ]
    },
    {
      "cell_type": "code",
      "metadata": {
        "colab_type": "code",
        "id": "hDYTtNY9QYGg",
        "colab": {}
      },
      "source": [
        ""
      ],
      "execution_count": 0,
      "outputs": []
    }
  ]
}