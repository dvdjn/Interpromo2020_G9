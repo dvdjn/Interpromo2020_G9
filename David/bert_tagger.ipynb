{
 "cells": [
  {
   "cell_type": "markdown",
   "metadata": {},
   "source": [
    "Created on Fri Jan 17 17:03:35 2019  \n",
    "Group 9  \n",
    "@authors:  "
   ]
  },
  {
   "cell_type": "markdown",
   "metadata": {},
   "source": [
    "# Train the Bert model"
   ]
  },
  {
   "cell_type": "markdown",
   "metadata": {
    "colab": {
     "base_uri": "https://localhost:8080/",
     "height": 1000
    },
    "colab_type": "code",
    "id": "_rxnEohKpkkQ",
    "outputId": "3af50a88-aa7b-4adb-82eb-163330a4703b"
   },
   "source": [
    "!pip install simpletransformers"
   ]
  },
  {
   "cell_type": "code",
   "execution_count": 1,
   "metadata": {
    "colab": {
     "base_uri": "https://localhost:8080/",
     "height": 81
    },
    "colab_type": "code",
    "id": "1npSPtlPownQ",
    "outputId": "9e221401-fd91-4c74-b1fe-a87c0aded901"
   },
   "outputs": [],
   "source": [
    "import pandas as pd\n",
    "from simpletransformers.ner import NERModel\n",
    "import itertools"
   ]
  },
  {
   "cell_type": "code",
   "execution_count": 2,
   "metadata": {
    "colab": {},
    "colab_type": "code",
    "id": "fa9rLapzownQ"
   },
   "outputs": [],
   "source": [
    "%run constants.ipynb\n",
    "%run functions.ipynb"
   ]
  },
  {
   "cell_type": "code",
   "execution_count": 3,
   "metadata": {
    "colab": {},
    "colab_type": "code",
    "id": "RUl7kkLrowo0"
   },
   "outputs": [],
   "source": [
    "train_df = pd.read_csv(data_directory+'tagger_train.csv', sep='§', engine='python',\n",
    "                       index_col=0, encoding='utf-8')\n",
    "\n",
    "eval_df = pd.read_csv(data_directory+'tagger_eval.csv', sep='§', engine='python',\n",
    "                      index_col=0, encoding='utf-8')"
   ]
  },
  {
   "cell_type": "code",
   "execution_count": 4,
   "metadata": {
    "colab": {
     "base_uri": "https://localhost:8080/",
     "height": 54
    },
    "colab_type": "code",
    "id": "EFOz1qa6owo0",
    "outputId": "e3e8766c-609a-49fa-d42c-79dfbcafdcd1"
   },
   "outputs": [
    {
     "name": "stdout",
     "output_type": "stream",
     "text": [
      "['O', 'STAT_B', 'STAT_I', 'STAT_E', 'MANU_B', 'MANU_I', 'MANU_E', 'AIRP_B', 'AIRP_I', 'AIRP_E', 'AIRL_B', 'AIRL_I', 'AIRL_E', 'COUN_B', 'COUN_I', 'COUN_E', 'DATE1_B', 'DATE1_I', 'DATE1_E', 'DATE2_B', 'DATE2_I', 'DATE2_E', 'STUDIED_B', 'STUDIED_I', 'STUDIED_E']\n"
     ]
    }
   ],
   "source": [
    "all_tags = get_all_tags()\n",
    "print(all_tags)"
   ]
  },
  {
   "cell_type": "code",
   "execution_count": null,
   "metadata": {},
   "outputs": [],
   "source": [
    "# Create a NERModel\n",
    "model = NERModel(model_type='bert',\n",
    "                 model_name='bert-base-cased',\n",
    "                 args={'overwrite_output_dir': True,\n",
    "                       'reprocess_input_data': True,\n",
    "                       'save_steps': 100,\n",
    "                       'output_dir': data_directory+'bert', },\n",
    "                 use_cuda=False,\n",
    "                 labels=all_tags)"
   ]
  },
  {
   "cell_type": "code",
   "execution_count": 6,
   "metadata": {},
   "outputs": [],
   "source": [
    "# Load a NERModel\n",
    "model = NERModel(model_type='bert',\n",
    "                 model_name=data_directory+'bert/current_model/',\n",
    "                 labels=all_tags,\n",
    "                 args={'overwrite_output_dir': True,\n",
    "                       'reprocess_input_data': True,\n",
    "                       'save_steps': 100,\n",
    "                       'output_dir': data_directory+'bert', },\n",
    "                 use_cuda=False)"
   ]
  },
  {
   "cell_type": "code",
   "execution_count": 7,
   "metadata": {
    "colab": {
     "base_uri": "https://localhost:8080/",
     "height": 368,
     "referenced_widgets": [
      "b5f3d8adae8c4a479285432d47123012",
      "41cb46236cba4192902027766c7bf9b4",
      "7afdec65190543bfafff79387e6871f8"
     ]
    },
    "colab_type": "code",
    "id": "Cic7Y76eowo0",
    "outputId": "a6423c05-6a61-4ea6-9b56-9eb391a9a0a5",
    "scrolled": true
   },
   "outputs": [
    {
     "name": "stdout",
     "output_type": "stream",
     "text": [
      "Converting to features started.\n"
     ]
    },
    {
     "data": {
      "application/vnd.jupyter.widget-view+json": {
       "model_id": "7fc8ade1f0c348ffa9d407f2073652f7",
       "version_major": 2,
       "version_minor": 0
      },
      "text/plain": [
       "HBox(children=(FloatProgress(value=0.0, max=10000.0), HTML(value='')))"
      ]
     },
     "metadata": {},
     "output_type": "display_data"
    },
    {
     "name": "stdout",
     "output_type": "stream",
     "text": [
      "\n"
     ]
    },
    {
     "data": {
      "application/vnd.jupyter.widget-view+json": {
       "model_id": "6900ef64071d4e81b5001d20859d5aab",
       "version_major": 2,
       "version_minor": 0
      },
      "text/plain": [
       "HBox(children=(FloatProgress(value=0.0, description='Epoch', max=1.0, style=ProgressStyle(description_width='i…"
      ]
     },
     "metadata": {},
     "output_type": "display_data"
    },
    {
     "data": {
      "application/vnd.jupyter.widget-view+json": {
       "model_id": "2a2cd598bcf345639359fad23698fff9",
       "version_major": 2,
       "version_minor": 0
      },
      "text/plain": [
       "HBox(children=(FloatProgress(value=0.0, description='Current iteration', max=1250.0, style=ProgressStyle(descr…"
      ]
     },
     "metadata": {},
     "output_type": "display_data"
    },
    {
     "name": "stdout",
     "output_type": "stream",
     "text": [
      "Running loss: 0.001222"
     ]
    },
    {
     "ename": "KeyboardInterrupt",
     "evalue": "",
     "output_type": "error",
     "traceback": [
      "\u001b[0;31m---------------------------------------------------------------------------\u001b[0m",
      "\u001b[0;31mKeyboardInterrupt\u001b[0m                         Traceback (most recent call last)",
      "\u001b[0;32m<ipython-input-7-e5e7fe90b02d>\u001b[0m in \u001b[0;36m<module>\u001b[0;34m\u001b[0m\n\u001b[1;32m      1\u001b[0m \u001b[0;31m# Train the model\u001b[0m\u001b[0;34m\u001b[0m\u001b[0;34m\u001b[0m\u001b[0;34m\u001b[0m\u001b[0m\n\u001b[0;32m----> 2\u001b[0;31m \u001b[0mmodel\u001b[0m\u001b[0;34m.\u001b[0m\u001b[0mtrain_model\u001b[0m\u001b[0;34m(\u001b[0m\u001b[0mtrain_df\u001b[0m\u001b[0;34m,\u001b[0m \u001b[0meval_df\u001b[0m\u001b[0;34m=\u001b[0m\u001b[0meval_df\u001b[0m\u001b[0;34m)\u001b[0m\u001b[0;34m\u001b[0m\u001b[0;34m\u001b[0m\u001b[0m\n\u001b[0m",
      "\u001b[0;32m~/.local/lib/python3.6/site-packages/simpletransformers/ner/ner_model.py\u001b[0m in \u001b[0;36mtrain_model\u001b[0;34m(self, train_data, output_dir, show_running_loss, args, eval_df)\u001b[0m\n\u001b[1;32m    144\u001b[0m             \u001b[0mos\u001b[0m\u001b[0;34m.\u001b[0m\u001b[0mmakedirs\u001b[0m\u001b[0;34m(\u001b[0m\u001b[0moutput_dir\u001b[0m\u001b[0;34m)\u001b[0m\u001b[0;34m\u001b[0m\u001b[0;34m\u001b[0m\u001b[0m\n\u001b[1;32m    145\u001b[0m \u001b[0;34m\u001b[0m\u001b[0m\n\u001b[0;32m--> 146\u001b[0;31m         \u001b[0mglobal_step\u001b[0m\u001b[0;34m,\u001b[0m \u001b[0mtr_loss\u001b[0m \u001b[0;34m=\u001b[0m \u001b[0mself\u001b[0m\u001b[0;34m.\u001b[0m\u001b[0mtrain\u001b[0m\u001b[0;34m(\u001b[0m\u001b[0mtrain_dataset\u001b[0m\u001b[0;34m,\u001b[0m \u001b[0moutput_dir\u001b[0m\u001b[0;34m,\u001b[0m \u001b[0mshow_running_loss\u001b[0m\u001b[0;34m=\u001b[0m\u001b[0mshow_running_loss\u001b[0m\u001b[0;34m,\u001b[0m \u001b[0meval_df\u001b[0m\u001b[0;34m=\u001b[0m\u001b[0meval_df\u001b[0m\u001b[0;34m)\u001b[0m\u001b[0;34m\u001b[0m\u001b[0;34m\u001b[0m\u001b[0m\n\u001b[0m\u001b[1;32m    147\u001b[0m \u001b[0;34m\u001b[0m\u001b[0m\n\u001b[1;32m    148\u001b[0m         \u001b[0mmodel_to_save\u001b[0m \u001b[0;34m=\u001b[0m \u001b[0mself\u001b[0m\u001b[0;34m.\u001b[0m\u001b[0mmodel\u001b[0m\u001b[0;34m.\u001b[0m\u001b[0mmodule\u001b[0m \u001b[0;32mif\u001b[0m \u001b[0mhasattr\u001b[0m\u001b[0;34m(\u001b[0m\u001b[0mself\u001b[0m\u001b[0;34m.\u001b[0m\u001b[0mmodel\u001b[0m\u001b[0;34m,\u001b[0m \u001b[0;34m\"module\"\u001b[0m\u001b[0;34m)\u001b[0m \u001b[0;32melse\u001b[0m \u001b[0mself\u001b[0m\u001b[0;34m.\u001b[0m\u001b[0mmodel\u001b[0m\u001b[0;34m\u001b[0m\u001b[0;34m\u001b[0m\u001b[0m\n",
      "\u001b[0;32m~/.local/lib/python3.6/site-packages/simpletransformers/ner/ner_model.py\u001b[0m in \u001b[0;36mtrain\u001b[0;34m(self, train_dataset, output_dir, show_running_loss, eval_df)\u001b[0m\n\u001b[1;32m    248\u001b[0m                     \u001b[0mtorch\u001b[0m\u001b[0;34m.\u001b[0m\u001b[0mnn\u001b[0m\u001b[0;34m.\u001b[0m\u001b[0mutils\u001b[0m\u001b[0;34m.\u001b[0m\u001b[0mclip_grad_norm_\u001b[0m\u001b[0;34m(\u001b[0m\u001b[0mamp\u001b[0m\u001b[0;34m.\u001b[0m\u001b[0mmaster_params\u001b[0m\u001b[0;34m(\u001b[0m\u001b[0moptimizer\u001b[0m\u001b[0;34m)\u001b[0m\u001b[0;34m,\u001b[0m \u001b[0margs\u001b[0m\u001b[0;34m[\u001b[0m\u001b[0;34m\"max_grad_norm\"\u001b[0m\u001b[0;34m]\u001b[0m\u001b[0;34m)\u001b[0m\u001b[0;34m\u001b[0m\u001b[0;34m\u001b[0m\u001b[0m\n\u001b[1;32m    249\u001b[0m                 \u001b[0;32melse\u001b[0m\u001b[0;34m:\u001b[0m\u001b[0;34m\u001b[0m\u001b[0;34m\u001b[0m\u001b[0m\n\u001b[0;32m--> 250\u001b[0;31m                     \u001b[0mloss\u001b[0m\u001b[0;34m.\u001b[0m\u001b[0mbackward\u001b[0m\u001b[0;34m(\u001b[0m\u001b[0;34m)\u001b[0m\u001b[0;34m\u001b[0m\u001b[0;34m\u001b[0m\u001b[0m\n\u001b[0m\u001b[1;32m    251\u001b[0m                     \u001b[0mtorch\u001b[0m\u001b[0;34m.\u001b[0m\u001b[0mnn\u001b[0m\u001b[0;34m.\u001b[0m\u001b[0mutils\u001b[0m\u001b[0;34m.\u001b[0m\u001b[0mclip_grad_norm_\u001b[0m\u001b[0;34m(\u001b[0m\u001b[0mmodel\u001b[0m\u001b[0;34m.\u001b[0m\u001b[0mparameters\u001b[0m\u001b[0;34m(\u001b[0m\u001b[0;34m)\u001b[0m\u001b[0;34m,\u001b[0m \u001b[0margs\u001b[0m\u001b[0;34m[\u001b[0m\u001b[0;34m\"max_grad_norm\"\u001b[0m\u001b[0;34m]\u001b[0m\u001b[0;34m)\u001b[0m\u001b[0;34m\u001b[0m\u001b[0;34m\u001b[0m\u001b[0m\n\u001b[1;32m    252\u001b[0m \u001b[0;34m\u001b[0m\u001b[0m\n",
      "\u001b[0;32m~/.local/lib/python3.6/site-packages/torch/tensor.py\u001b[0m in \u001b[0;36mbackward\u001b[0;34m(self, gradient, retain_graph, create_graph)\u001b[0m\n\u001b[1;32m    164\u001b[0m                 \u001b[0mproducts\u001b[0m\u001b[0;34m.\u001b[0m \u001b[0mDefaults\u001b[0m \u001b[0mto\u001b[0m\u001b[0;31m \u001b[0m\u001b[0;31m`\u001b[0m\u001b[0;31m`\u001b[0m\u001b[0;32mFalse\u001b[0m\u001b[0;31m`\u001b[0m\u001b[0;31m`\u001b[0m\u001b[0;34m.\u001b[0m\u001b[0;34m\u001b[0m\u001b[0;34m\u001b[0m\u001b[0m\n\u001b[1;32m    165\u001b[0m         \"\"\"\n\u001b[0;32m--> 166\u001b[0;31m         \u001b[0mtorch\u001b[0m\u001b[0;34m.\u001b[0m\u001b[0mautograd\u001b[0m\u001b[0;34m.\u001b[0m\u001b[0mbackward\u001b[0m\u001b[0;34m(\u001b[0m\u001b[0mself\u001b[0m\u001b[0;34m,\u001b[0m \u001b[0mgradient\u001b[0m\u001b[0;34m,\u001b[0m \u001b[0mretain_graph\u001b[0m\u001b[0;34m,\u001b[0m \u001b[0mcreate_graph\u001b[0m\u001b[0;34m)\u001b[0m\u001b[0;34m\u001b[0m\u001b[0;34m\u001b[0m\u001b[0m\n\u001b[0m\u001b[1;32m    167\u001b[0m \u001b[0;34m\u001b[0m\u001b[0m\n\u001b[1;32m    168\u001b[0m     \u001b[0;32mdef\u001b[0m \u001b[0mregister_hook\u001b[0m\u001b[0;34m(\u001b[0m\u001b[0mself\u001b[0m\u001b[0;34m,\u001b[0m \u001b[0mhook\u001b[0m\u001b[0;34m)\u001b[0m\u001b[0;34m:\u001b[0m\u001b[0;34m\u001b[0m\u001b[0;34m\u001b[0m\u001b[0m\n",
      "\u001b[0;32m~/.local/lib/python3.6/site-packages/torch/autograd/__init__.py\u001b[0m in \u001b[0;36mbackward\u001b[0;34m(tensors, grad_tensors, retain_graph, create_graph, grad_variables)\u001b[0m\n\u001b[1;32m     97\u001b[0m     Variable._execution_engine.run_backward(\n\u001b[1;32m     98\u001b[0m         \u001b[0mtensors\u001b[0m\u001b[0;34m,\u001b[0m \u001b[0mgrad_tensors\u001b[0m\u001b[0;34m,\u001b[0m \u001b[0mretain_graph\u001b[0m\u001b[0;34m,\u001b[0m \u001b[0mcreate_graph\u001b[0m\u001b[0;34m,\u001b[0m\u001b[0;34m\u001b[0m\u001b[0;34m\u001b[0m\u001b[0m\n\u001b[0;32m---> 99\u001b[0;31m         allow_unreachable=True)  # allow_unreachable flag\n\u001b[0m\u001b[1;32m    100\u001b[0m \u001b[0;34m\u001b[0m\u001b[0m\n\u001b[1;32m    101\u001b[0m \u001b[0;34m\u001b[0m\u001b[0m\n",
      "\u001b[0;31mKeyboardInterrupt\u001b[0m: "
     ]
    }
   ],
   "source": [
    "# Train the model\n",
    "model.train_model(train_df, eval_df=eval_df)"
   ]
  },
  {
   "cell_type": "code",
   "execution_count": 8,
   "metadata": {
    "colab": {
     "base_uri": "https://localhost:8080/",
     "height": 72,
     "referenced_widgets": [
      "4d93e8713b824349b50c74a5d54c1e70",
      "b5f26fe1968e4a36ab2dface8ab63412"
     ]
    },
    "colab_type": "code",
    "id": "3HvbZsj-owo0",
    "outputId": "ab956bd6-583b-4794-8bc9-681ac8dbbd20"
   },
   "outputs": [
    {
     "name": "stdout",
     "output_type": "stream",
     "text": [
      "Converting to features started.\n"
     ]
    },
    {
     "data": {
      "application/vnd.jupyter.widget-view+json": {
       "model_id": "26cf3841408c4ad3876029edebca9de7",
       "version_major": 2,
       "version_minor": 0
      },
      "text/plain": [
       "HBox(children=(FloatProgress(value=0.0, max=1000.0), HTML(value='')))"
      ]
     },
     "metadata": {},
     "output_type": "display_data"
    },
    {
     "name": "stdout",
     "output_type": "stream",
     "text": [
      "\n"
     ]
    },
    {
     "data": {
      "application/vnd.jupyter.widget-view+json": {
       "model_id": "d7e250024555404c9e44fe3719349719",
       "version_major": 2,
       "version_minor": 0
      },
      "text/plain": [
       "HBox(children=(FloatProgress(value=0.0, max=125.0), HTML(value='')))"
      ]
     },
     "metadata": {},
     "output_type": "display_data"
    },
    {
     "name": "stdout",
     "output_type": "stream",
     "text": [
      "\n",
      "{'eval_loss': 0.0010659911904949695, 'precision': 0.9988465974625144, 'recall': 0.9994229659549914, 'f1_score': 0.9991346985866745}\n"
     ]
    }
   ],
   "source": [
    "result, model_outputs, wrong_predictions = model.eval_model(eval_df)"
   ]
  },
  {
   "cell_type": "code",
   "execution_count": 9,
   "metadata": {
    "colab": {
     "base_uri": "https://localhost:8080/",
     "height": 191,
     "referenced_widgets": [
      "3f507240001a437f8a886f931bfa5afb",
      "9437b2b5cf6541a2b4a8bbf9ba907cca",
      "dd0a3eea62d2432ea32b69de13e3eefa",
      "da86f52250fe497e89626a5d26bd1e27",
      "acdfbc0e14ee42ae9b981c03632ddc2c",
      "e575ce63e7c24ef5b89fece7725cea64",
      "b8b122c73c4f4871bf478d2688d3afb2",
      "628c9b0512f74aba85c35922ba5923ff",
      "b669d68316434e15ab472316475bb98b",
      "749c641d0034431e9fb33219be18987d",
      "4eae312744524f8da0fd3cc60ded1b44",
      "1862a333dde649bc9a1b12d0bbe838ff",
      "01b933e02f0c48d9a3951bf859848d5f",
      "b27e61d1a3784d88ab545068bb757a85",
      "4748ede683ca40179c7f9c2c894192a0",
      "9d732efbc24b4dba883ee0e668a351d1",
      "70a6916cfc6843b4ba4ec174f785d919",
      "d8a5d7aa67744fc1a6e970cdea414f48",
      "f812c25ce3d642068ed3c1d4892f18f4",
      "a237bf6597aa4993852c1e253511e40e"
     ]
    },
    "colab_type": "code",
    "id": "keuC-1Poowo0",
    "outputId": "4fd803ed-5cc7-4ce3-bec4-05784e2ad3db",
    "scrolled": true
   },
   "outputs": [
    {
     "name": "stdout",
     "output_type": "stream",
     "text": [
      "Converting to features started.\n"
     ]
    },
    {
     "data": {
      "application/vnd.jupyter.widget-view+json": {
       "model_id": "231f01c631064a42a71f66b62916b09b",
       "version_major": 2,
       "version_minor": 0
      },
      "text/plain": [
       "HBox(children=(FloatProgress(value=0.0, max=1.0), HTML(value='')))"
      ]
     },
     "metadata": {},
     "output_type": "display_data"
    },
    {
     "name": "stdout",
     "output_type": "stream",
     "text": [
      "\n"
     ]
    },
    {
     "data": {
      "application/vnd.jupyter.widget-view+json": {
       "model_id": "08ea3dc4a55e44e2aeacd44a82c455a8",
       "version_major": 2,
       "version_minor": 0
      },
      "text/plain": [
       "HBox(children=(FloatProgress(value=0.0, max=1.0), HTML(value='')))"
      ]
     },
     "metadata": {},
     "output_type": "display_data"
    },
    {
     "name": "stdout",
     "output_type": "stream",
     "text": [
      "\n",
      "Converting to features started.\n"
     ]
    },
    {
     "data": {
      "application/vnd.jupyter.widget-view+json": {
       "model_id": "98a24df6757d47d8bc9b473c73170e7a",
       "version_major": 2,
       "version_minor": 0
      },
      "text/plain": [
       "HBox(children=(FloatProgress(value=0.0, max=1.0), HTML(value='')))"
      ]
     },
     "metadata": {},
     "output_type": "display_data"
    },
    {
     "name": "stdout",
     "output_type": "stream",
     "text": [
      "\n"
     ]
    },
    {
     "data": {
      "application/vnd.jupyter.widget-view+json": {
       "model_id": "02b41b3a6d6f4961b7b960de07c2958b",
       "version_major": 2,
       "version_minor": 0
      },
      "text/plain": [
       "HBox(children=(FloatProgress(value=0.0, max=1.0), HTML(value='')))"
      ]
     },
     "metadata": {},
     "output_type": "display_data"
    },
    {
     "name": "stdout",
     "output_type": "stream",
     "text": [
      "\n",
      "Converting to features started.\n"
     ]
    },
    {
     "data": {
      "application/vnd.jupyter.widget-view+json": {
       "model_id": "e08ab0a1ac6c4f84bbeedc78094c9ada",
       "version_major": 2,
       "version_minor": 0
      },
      "text/plain": [
       "HBox(children=(FloatProgress(value=0.0, max=1.0), HTML(value='')))"
      ]
     },
     "metadata": {},
     "output_type": "display_data"
    },
    {
     "name": "stdout",
     "output_type": "stream",
     "text": [
      "\n"
     ]
    },
    {
     "data": {
      "application/vnd.jupyter.widget-view+json": {
       "model_id": "73c954d5be9c4dfbb0f3de1c5565c320",
       "version_major": 2,
       "version_minor": 0
      },
      "text/plain": [
       "HBox(children=(FloatProgress(value=0.0, max=1.0), HTML(value='')))"
      ]
     },
     "metadata": {},
     "output_type": "display_data"
    },
    {
     "name": "stdout",
     "output_type": "stream",
     "text": [
      "\n",
      "Converting to features started.\n"
     ]
    },
    {
     "data": {
      "application/vnd.jupyter.widget-view+json": {
       "model_id": "ef747c0cc47b404cacb92b7a7d38c7c2",
       "version_major": 2,
       "version_minor": 0
      },
      "text/plain": [
       "HBox(children=(FloatProgress(value=0.0, max=1.0), HTML(value='')))"
      ]
     },
     "metadata": {},
     "output_type": "display_data"
    },
    {
     "name": "stdout",
     "output_type": "stream",
     "text": [
      "\n"
     ]
    },
    {
     "data": {
      "application/vnd.jupyter.widget-view+json": {
       "model_id": "1e6868e53f0549ac8718d0fd0a18626a",
       "version_major": 2,
       "version_minor": 0
      },
      "text/plain": [
       "HBox(children=(FloatProgress(value=0.0, max=1.0), HTML(value='')))"
      ]
     },
     "metadata": {},
     "output_type": "display_data"
    },
    {
     "name": "stdout",
     "output_type": "stream",
     "text": [
      "\n",
      "Converting to features started.\n"
     ]
    },
    {
     "data": {
      "application/vnd.jupyter.widget-view+json": {
       "model_id": "6d77fc356e324374b40b326c2db19270",
       "version_major": 2,
       "version_minor": 0
      },
      "text/plain": [
       "HBox(children=(FloatProgress(value=0.0, max=1.0), HTML(value='')))"
      ]
     },
     "metadata": {},
     "output_type": "display_data"
    },
    {
     "name": "stdout",
     "output_type": "stream",
     "text": [
      "\n"
     ]
    },
    {
     "data": {
      "application/vnd.jupyter.widget-view+json": {
       "model_id": "2c380ea06cb84b548eb10c51542f6b18",
       "version_major": 2,
       "version_minor": 0
      },
      "text/plain": [
       "HBox(children=(FloatProgress(value=0.0, max=1.0), HTML(value='')))"
      ]
     },
     "metadata": {},
     "output_type": "display_data"
    },
    {
     "name": "stdout",
     "output_type": "stream",
     "text": [
      "\n",
      "Converting to features started.\n"
     ]
    },
    {
     "data": {
      "application/vnd.jupyter.widget-view+json": {
       "model_id": "7c499683239d4d189fb1d7d11b6e6dd3",
       "version_major": 2,
       "version_minor": 0
      },
      "text/plain": [
       "HBox(children=(FloatProgress(value=0.0, max=1.0), HTML(value='')))"
      ]
     },
     "metadata": {},
     "output_type": "display_data"
    },
    {
     "name": "stdout",
     "output_type": "stream",
     "text": [
      "\n"
     ]
    },
    {
     "data": {
      "application/vnd.jupyter.widget-view+json": {
       "model_id": "fc22a5945a214eba91fe5b3dccc83d82",
       "version_major": 2,
       "version_minor": 0
      },
      "text/plain": [
       "HBox(children=(FloatProgress(value=0.0, max=1.0), HTML(value='')))"
      ]
     },
     "metadata": {},
     "output_type": "display_data"
    },
    {
     "name": "stdout",
     "output_type": "stream",
     "text": [
      "\n",
      "Converting to features started.\n"
     ]
    },
    {
     "data": {
      "application/vnd.jupyter.widget-view+json": {
       "model_id": "2bf4672ada08404998cb52d1776d0d24",
       "version_major": 2,
       "version_minor": 0
      },
      "text/plain": [
       "HBox(children=(FloatProgress(value=0.0, max=1.0), HTML(value='')))"
      ]
     },
     "metadata": {},
     "output_type": "display_data"
    },
    {
     "name": "stdout",
     "output_type": "stream",
     "text": [
      "\n"
     ]
    },
    {
     "data": {
      "application/vnd.jupyter.widget-view+json": {
       "model_id": "0993f844b75a47beba650345c7576971",
       "version_major": 2,
       "version_minor": 0
      },
      "text/plain": [
       "HBox(children=(FloatProgress(value=0.0, max=1.0), HTML(value='')))"
      ]
     },
     "metadata": {},
     "output_type": "display_data"
    },
    {
     "name": "stdout",
     "output_type": "stream",
     "text": [
      "\n",
      "Converting to features started.\n"
     ]
    },
    {
     "data": {
      "application/vnd.jupyter.widget-view+json": {
       "model_id": "d376b5788f154271a2cfc0ab8d0d748c",
       "version_major": 2,
       "version_minor": 0
      },
      "text/plain": [
       "HBox(children=(FloatProgress(value=0.0, max=1.0), HTML(value='')))"
      ]
     },
     "metadata": {},
     "output_type": "display_data"
    },
    {
     "name": "stdout",
     "output_type": "stream",
     "text": [
      "\n"
     ]
    },
    {
     "data": {
      "application/vnd.jupyter.widget-view+json": {
       "model_id": "8a99f4457840408aaf34b80a25ebe7c8",
       "version_major": 2,
       "version_minor": 0
      },
      "text/plain": [
       "HBox(children=(FloatProgress(value=0.0, max=1.0), HTML(value='')))"
      ]
     },
     "metadata": {},
     "output_type": "display_data"
    },
    {
     "name": "stdout",
     "output_type": "stream",
     "text": [
      "\n",
      "Converting to features started.\n"
     ]
    },
    {
     "data": {
      "application/vnd.jupyter.widget-view+json": {
       "model_id": "eae498b8ccf64b72ba6aa97404718668",
       "version_major": 2,
       "version_minor": 0
      },
      "text/plain": [
       "HBox(children=(FloatProgress(value=0.0, max=1.0), HTML(value='')))"
      ]
     },
     "metadata": {},
     "output_type": "display_data"
    },
    {
     "name": "stdout",
     "output_type": "stream",
     "text": [
      "\n"
     ]
    },
    {
     "data": {
      "application/vnd.jupyter.widget-view+json": {
       "model_id": "df8b3b2a0e00449696596a282b638f1d",
       "version_major": 2,
       "version_minor": 0
      },
      "text/plain": [
       "HBox(children=(FloatProgress(value=0.0, max=1.0), HTML(value='')))"
      ]
     },
     "metadata": {},
     "output_type": "display_data"
    },
    {
     "name": "stdout",
     "output_type": "stream",
     "text": [
      "\n",
      "Converting to features started.\n"
     ]
    },
    {
     "data": {
      "application/vnd.jupyter.widget-view+json": {
       "model_id": "4e463e060cd14065b6445ea7d939d90a",
       "version_major": 2,
       "version_minor": 0
      },
      "text/plain": [
       "HBox(children=(FloatProgress(value=0.0, max=1.0), HTML(value='')))"
      ]
     },
     "metadata": {},
     "output_type": "display_data"
    },
    {
     "name": "stdout",
     "output_type": "stream",
     "text": [
      "\n"
     ]
    },
    {
     "data": {
      "application/vnd.jupyter.widget-view+json": {
       "model_id": "6d062cf3f7014a889cf00dec3da0149d",
       "version_major": 2,
       "version_minor": 0
      },
      "text/plain": [
       "HBox(children=(FloatProgress(value=0.0, max=1.0), HTML(value='')))"
      ]
     },
     "metadata": {},
     "output_type": "display_data"
    },
    {
     "name": "stdout",
     "output_type": "stream",
     "text": [
      "\n"
     ]
    }
   ],
   "source": [
    "resultats = {}\n",
    "for i in eval_df['sentence_id'].unique()[0:10]:\n",
    "    sentence = \" \".join(\n",
    "        list(eval_df.loc[eval_df['sentence_id'] == i, 'words']))\n",
    "    predictions, raw_outputs = model.predict([sentence])\n",
    "    resultats[i] = predictions"
   ]
  },
  {
   "cell_type": "code",
   "execution_count": 10,
   "metadata": {
    "colab": {
     "base_uri": "https://localhost:8080/",
     "height": 1000
    },
    "colab_type": "code",
    "id": "T8PuFsXiowqY",
    "outputId": "6a7ccabd-a48b-4f4e-8cb8-e5485481b35c",
    "scrolled": true
   },
   "outputs": [
    {
     "data": {
      "text/plain": [
       "{0: [[{'in': 'O'},\n",
       "   {'ZAMBIA': 'COUN_B'},\n",
       "   {'since': 'O'},\n",
       "   {'year': 'O'},\n",
       "   {'1927': 'DATE1_B'},\n",
       "   {'pie': 'STAT_B'},\n",
       "   {'charts': 'STAT_E'},\n",
       "   {'of': 'O'},\n",
       "   {'a': 'O'},\n",
       "   {'flights': 'STUDIED_B'},\n",
       "   {'amount': 'STUDIED_E'}]],\n",
       " 1: [[{'highlight': 'O'},\n",
       "   {'me': 'O'},\n",
       "   {'the': 'O'},\n",
       "   {'plan': 'STAT_B'},\n",
       "   {'of': 'STAT_I'},\n",
       "   {'plane': 'STAT_E'},\n",
       "   {'for': 'O'},\n",
       "   {'Pilatus': 'MANU_B'},\n",
       "   {'Pilatus': 'MANU_B'}]],\n",
       " 2: [[{'in': 'O'},\n",
       "   {'CUBA': 'COUN_B'},\n",
       "   {'and': 'O'},\n",
       "   {'RWANDA': 'COUN_B'},\n",
       "   {'for': 'O'},\n",
       "   {'year': 'O'},\n",
       "   {'1923': 'DATE1_B'},\n",
       "   {'for': 'O'},\n",
       "   {'Boeing': 'MANU_B'},\n",
       "   {'display': 'O'},\n",
       "   {'us': 'O'},\n",
       "   {'the': 'O'},\n",
       "   {'histograms': 'STAT_B'},\n",
       "   {'of': 'O'},\n",
       "   {'the': 'O'},\n",
       "   {'sums': 'STUDIED_B'},\n",
       "   {'of': 'STUDIED_I'},\n",
       "   {'travel': 'STUDIED_E'}]],\n",
       " 3: [[{'print': 'O'},\n",
       "   {'me': 'O'},\n",
       "   {'an': 'O'},\n",
       "   {'cloud': 'STAT_B'},\n",
       "   {'of': 'STAT_I'},\n",
       "   {'words': 'STAT_E'},\n",
       "   {'in': 'O'},\n",
       "   {'Gambia': 'COUN_B'},\n",
       "   {'since': 'O'},\n",
       "   {'1975': 'DATE1_B'}]],\n",
       " 4: [[{'display': 'O'},\n",
       "   {'us': 'O'},\n",
       "   {'an': 'O'},\n",
       "   {'wordcloud': 'STAT_B'},\n",
       "   {'for': 'O'},\n",
       "   {'AIRBUS': 'MANU_B'}]],\n",
       " 5: [[{'in': 'O'},\n",
       "   {'ARGENTINA': 'COUN_B'},\n",
       "   {'Mozambique': 'COUN_B'},\n",
       "   {'for': 'O'},\n",
       "   {'year': 'O'},\n",
       "   {'1913': 'DATE1_B'},\n",
       "   {'view': 'O'},\n",
       "   {'us': 'O'},\n",
       "   {'a': 'O'},\n",
       "   {'plan': 'STAT_B'},\n",
       "   {'of': 'STAT_I'},\n",
       "   {'plane': 'STAT_E'}]],\n",
       " 6: [[{'for': 'O'},\n",
       "   {'MATRA': 'MANU_B'},\n",
       "   {',': 'O'},\n",
       "   {'CESSNA': 'MANU_B'},\n",
       "   {'slopes': 'STAT_B'},\n",
       "   {'of': 'O'},\n",
       "   {'a': 'O'},\n",
       "   {'passengers': 'STUDIED_B'},\n",
       "   {'satisfactions': 'STUDIED_E'}]],\n",
       " 7: [[{'print': 'O'}, {'us': 'O'}, {'an': 'O'}, {'wordcloud': 'STAT_B'}]],\n",
       " 8: [[{'show': 'O'},\n",
       "   {'us': 'O'},\n",
       "   {'the': 'O'},\n",
       "   {'plans': 'STAT_B'},\n",
       "   {'of': 'STAT_I'},\n",
       "   {'planes': 'STAT_E'},\n",
       "   {'for': 'O'},\n",
       "   {'CESSNA': 'MANU_B'}]],\n",
       " 9: [[{'plot': 'O'},\n",
       "   {'me': 'O'},\n",
       "   {'a': 'O'},\n",
       "   {'plans': 'STAT_B'},\n",
       "   {'of': 'STAT_I'},\n",
       "   {'planes': 'STAT_E'},\n",
       "   {'in': 'O'},\n",
       "   {'EGYPT': 'COUN_B'},\n",
       "   {'Zimbabwe': 'COUN_B'},\n",
       "   {'for': 'O'},\n",
       "   {'the': 'O'},\n",
       "   {'Autumn': 'DATE1_B'},\n",
       "   {'2045': 'DATE1_E'}]]}"
      ]
     },
     "execution_count": 10,
     "metadata": {},
     "output_type": "execute_result"
    }
   ],
   "source": [
    "resultats"
   ]
  },
  {
   "cell_type": "code",
   "execution_count": null,
   "metadata": {},
   "outputs": [],
   "source": []
  }
 ],
 "metadata": {
  "accelerator": "GPU",
  "colab": {
   "collapsed_sections": [],
   "name": "bert_tagger.ipynb",
   "provenance": []
  },
  "kernelspec": {
   "display_name": "Python 3",
   "language": "python",
   "name": "python3"
  },
  "language_info": {
   "codemirror_mode": {
    "name": "ipython",
    "version": 3
   },
   "file_extension": ".py",
   "mimetype": "text/x-python",
   "name": "python",
   "nbconvert_exporter": "python",
   "pygments_lexer": "ipython3",
   "version": "3.6.9"
  },
  "toc": {
   "base_numbering": 1,
   "nav_menu": {},
   "number_sections": true,
   "sideBar": true,
   "skip_h1_title": false,
   "title_cell": "Table of Contents",
   "title_sidebar": "Contents",
   "toc_cell": false,
   "toc_position": {},
   "toc_section_display": true,
   "toc_window_display": false
  },
  "widgets": {
   "application/vnd.jupyter.widget-state+json": {
    "01b933e02f0c48d9a3951bf859848d5f": {
     "model_module": "@jupyter-widgets/controls",
     "model_name": "HBoxModel",
     "state": {
      "_dom_classes": [],
      "_model_module": "@jupyter-widgets/controls",
      "_model_module_version": "1.5.0",
      "_model_name": "HBoxModel",
      "_view_count": null,
      "_view_module": "@jupyter-widgets/controls",
      "_view_module_version": "1.5.0",
      "_view_name": "HBoxView",
      "box_style": "",
      "children": [
       "IPY_MODEL_042b52985b524360a2d297e523676f63",
       "IPY_MODEL_ed1172fe53da43cd9ee47b7f419e5611"
      ],
      "layout": "IPY_MODEL_ee318a785d34498f8dbfe00c74ed2925"
     }
    },
    "1862a333dde649bc9a1b12d0bbe838ff": {
     "model_module": "@jupyter-widgets/controls",
     "model_name": "HBoxModel",
     "state": {
      "_dom_classes": [],
      "_model_module": "@jupyter-widgets/controls",
      "_model_module_version": "1.5.0",
      "_model_name": "HBoxModel",
      "_view_count": null,
      "_view_module": "@jupyter-widgets/controls",
      "_view_module_version": "1.5.0",
      "_view_name": "HBoxView",
      "box_style": "",
      "children": [
       "IPY_MODEL_a916129d739849af8a306489c9c4703b",
       "IPY_MODEL_3439a59760904ac08b15802ea5eb9de2"
      ],
      "layout": "IPY_MODEL_62f2ab1f11394a68b2ab0ebf4b646532"
     }
    },
    "3f507240001a437f8a886f931bfa5afb": {
     "model_module": "@jupyter-widgets/controls",
     "model_name": "HBoxModel",
     "state": {
      "_dom_classes": [],
      "_model_module": "@jupyter-widgets/controls",
      "_model_module_version": "1.5.0",
      "_model_name": "HBoxModel",
      "_view_count": null,
      "_view_module": "@jupyter-widgets/controls",
      "_view_module_version": "1.5.0",
      "_view_name": "HBoxView",
      "box_style": "",
      "children": [
       "IPY_MODEL_024714150c744967bc51b1433f8d81e8",
       "IPY_MODEL_82e93385040748fab66d8a96132f9385"
      ],
      "layout": "IPY_MODEL_f1a0bae06971493580241f08bffa82ab"
     }
    },
    "41cb46236cba4192902027766c7bf9b4": {
     "model_module": "@jupyter-widgets/controls",
     "model_name": "HBoxModel",
     "state": {
      "_dom_classes": [],
      "_model_module": "@jupyter-widgets/controls",
      "_model_module_version": "1.5.0",
      "_model_name": "HBoxModel",
      "_view_count": null,
      "_view_module": "@jupyter-widgets/controls",
      "_view_module_version": "1.5.0",
      "_view_name": "HBoxView",
      "box_style": "",
      "children": [
       "IPY_MODEL_5cba79b1a9384021a3ec57e75f525d77",
       "IPY_MODEL_e8ba89264968423ab777cc2013a4b21e"
      ],
      "layout": "IPY_MODEL_128df0f33d074365981ff1267a5652e5"
     }
    },
    "4748ede683ca40179c7f9c2c894192a0": {
     "model_module": "@jupyter-widgets/controls",
     "model_name": "HBoxModel",
     "state": {
      "_dom_classes": [],
      "_model_module": "@jupyter-widgets/controls",
      "_model_module_version": "1.5.0",
      "_model_name": "HBoxModel",
      "_view_count": null,
      "_view_module": "@jupyter-widgets/controls",
      "_view_module_version": "1.5.0",
      "_view_name": "HBoxView",
      "box_style": "",
      "children": [
       "IPY_MODEL_6b2c63bf06b64b25b52cf8f91c10b878",
       "IPY_MODEL_ee04c94b92c34abdb779f40e04c16537"
      ],
      "layout": "IPY_MODEL_06d355676f70400dac6101668fbd3eed"
     }
    },
    "4d93e8713b824349b50c74a5d54c1e70": {
     "model_module": "@jupyter-widgets/controls",
     "model_name": "HBoxModel",
     "state": {
      "_dom_classes": [],
      "_model_module": "@jupyter-widgets/controls",
      "_model_module_version": "1.5.0",
      "_model_name": "HBoxModel",
      "_view_count": null,
      "_view_module": "@jupyter-widgets/controls",
      "_view_module_version": "1.5.0",
      "_view_name": "HBoxView",
      "box_style": "",
      "children": [
       "IPY_MODEL_c152f606e4f341b7b09b7d5a3805d89b",
       "IPY_MODEL_4741056b46424c70816429115106f377"
      ],
      "layout": "IPY_MODEL_8ea15337ac2447d3bbbe6800e30e4a05"
     }
    },
    "4eae312744524f8da0fd3cc60ded1b44": {
     "model_module": "@jupyter-widgets/controls",
     "model_name": "HBoxModel",
     "state": {
      "_dom_classes": [],
      "_model_module": "@jupyter-widgets/controls",
      "_model_module_version": "1.5.0",
      "_model_name": "HBoxModel",
      "_view_count": null,
      "_view_module": "@jupyter-widgets/controls",
      "_view_module_version": "1.5.0",
      "_view_name": "HBoxView",
      "box_style": "",
      "children": [
       "IPY_MODEL_392523c8a75447dd82224749babc5fe7",
       "IPY_MODEL_30d7828c3740430594fff4063b840064"
      ],
      "layout": "IPY_MODEL_9fc8af419e364da6974368e042fef461"
     }
    },
    "628c9b0512f74aba85c35922ba5923ff": {
     "model_module": "@jupyter-widgets/controls",
     "model_name": "HBoxModel",
     "state": {
      "_dom_classes": [],
      "_model_module": "@jupyter-widgets/controls",
      "_model_module_version": "1.5.0",
      "_model_name": "HBoxModel",
      "_view_count": null,
      "_view_module": "@jupyter-widgets/controls",
      "_view_module_version": "1.5.0",
      "_view_name": "HBoxView",
      "box_style": "",
      "children": [
       "IPY_MODEL_f6ef1cd532034a5eb6c3d6c0928d2709",
       "IPY_MODEL_4673177828e74aa498f740ea6d9a8aff"
      ],
      "layout": "IPY_MODEL_9924fc3eec0941e1821e9b64307d3f53"
     }
    },
    "70a6916cfc6843b4ba4ec174f785d919": {
     "model_module": "@jupyter-widgets/controls",
     "model_name": "HBoxModel",
     "state": {
      "_dom_classes": [],
      "_model_module": "@jupyter-widgets/controls",
      "_model_module_version": "1.5.0",
      "_model_name": "HBoxModel",
      "_view_count": null,
      "_view_module": "@jupyter-widgets/controls",
      "_view_module_version": "1.5.0",
      "_view_name": "HBoxView",
      "box_style": "",
      "children": [
       "IPY_MODEL_5b356bc491b042f688cc232dab0193c9",
       "IPY_MODEL_e57cdc99db224d4f80ffe7e395c11eea"
      ],
      "layout": "IPY_MODEL_aa94802c06724934b7efbcf2ab3f3128"
     }
    },
    "749c641d0034431e9fb33219be18987d": {
     "model_module": "@jupyter-widgets/controls",
     "model_name": "HBoxModel",
     "state": {
      "_dom_classes": [],
      "_model_module": "@jupyter-widgets/controls",
      "_model_module_version": "1.5.0",
      "_model_name": "HBoxModel",
      "_view_count": null,
      "_view_module": "@jupyter-widgets/controls",
      "_view_module_version": "1.5.0",
      "_view_name": "HBoxView",
      "box_style": "",
      "children": [
       "IPY_MODEL_a1cc5e75c932484598f73d61ae723c27",
       "IPY_MODEL_75ec2b9cda0d4543a88d7dc5aeafc311"
      ],
      "layout": "IPY_MODEL_1af6494908bd42eb92bdb0bf02c96f27"
     }
    },
    "7afdec65190543bfafff79387e6871f8": {
     "model_module": "@jupyter-widgets/controls",
     "model_name": "HBoxModel",
     "state": {
      "_dom_classes": [],
      "_model_module": "@jupyter-widgets/controls",
      "_model_module_version": "1.5.0",
      "_model_name": "HBoxModel",
      "_view_count": null,
      "_view_module": "@jupyter-widgets/controls",
      "_view_module_version": "1.5.0",
      "_view_name": "HBoxView",
      "box_style": "",
      "children": [
       "IPY_MODEL_0d95cd0e6e9049a1a1e48b3ad5accd76",
       "IPY_MODEL_9b33c25b41214cdcbfaf556311bafa3c"
      ],
      "layout": "IPY_MODEL_4c917303011d4cf9b6be335c13dedbc9"
     }
    },
    "9437b2b5cf6541a2b4a8bbf9ba907cca": {
     "model_module": "@jupyter-widgets/controls",
     "model_name": "HBoxModel",
     "state": {
      "_dom_classes": [],
      "_model_module": "@jupyter-widgets/controls",
      "_model_module_version": "1.5.0",
      "_model_name": "HBoxModel",
      "_view_count": null,
      "_view_module": "@jupyter-widgets/controls",
      "_view_module_version": "1.5.0",
      "_view_name": "HBoxView",
      "box_style": "",
      "children": [
       "IPY_MODEL_2e1fec39cf4b4972b70b41365dacfae4",
       "IPY_MODEL_de0e2db3a3cc48bbbb61c9a260086650"
      ],
      "layout": "IPY_MODEL_232ab4926a794729becaf1c1c88b49f9"
     }
    },
    "9d732efbc24b4dba883ee0e668a351d1": {
     "model_module": "@jupyter-widgets/controls",
     "model_name": "HBoxModel",
     "state": {
      "_dom_classes": [],
      "_model_module": "@jupyter-widgets/controls",
      "_model_module_version": "1.5.0",
      "_model_name": "HBoxModel",
      "_view_count": null,
      "_view_module": "@jupyter-widgets/controls",
      "_view_module_version": "1.5.0",
      "_view_name": "HBoxView",
      "box_style": "",
      "children": [
       "IPY_MODEL_3382e99e6b0a4f0d98a2a33d58a700c3",
       "IPY_MODEL_3764be9efb80414494e3e0cd85f02319"
      ],
      "layout": "IPY_MODEL_b9195dafd7f047fbae2a63440c3c9174"
     }
    },
    "a237bf6597aa4993852c1e253511e40e": {
     "model_module": "@jupyter-widgets/controls",
     "model_name": "HBoxModel",
     "state": {
      "_dom_classes": [],
      "_model_module": "@jupyter-widgets/controls",
      "_model_module_version": "1.5.0",
      "_model_name": "HBoxModel",
      "_view_count": null,
      "_view_module": "@jupyter-widgets/controls",
      "_view_module_version": "1.5.0",
      "_view_name": "HBoxView",
      "box_style": "",
      "children": [
       "IPY_MODEL_b519cc33cf744346ac772d8023bd22a5",
       "IPY_MODEL_a6812c82e94e44d38b16db775666bc8f"
      ],
      "layout": "IPY_MODEL_fcaec478afb4435eb6f647951381c5b0"
     }
    },
    "acdfbc0e14ee42ae9b981c03632ddc2c": {
     "model_module": "@jupyter-widgets/controls",
     "model_name": "HBoxModel",
     "state": {
      "_dom_classes": [],
      "_model_module": "@jupyter-widgets/controls",
      "_model_module_version": "1.5.0",
      "_model_name": "HBoxModel",
      "_view_count": null,
      "_view_module": "@jupyter-widgets/controls",
      "_view_module_version": "1.5.0",
      "_view_name": "HBoxView",
      "box_style": "",
      "children": [
       "IPY_MODEL_e21fa9ed072143d69cd1d175e673638a",
       "IPY_MODEL_775eb760f6a247c185f9eb7c54820354"
      ],
      "layout": "IPY_MODEL_5152e54196b2448fbcd48bbbac70427a"
     }
    },
    "b27e61d1a3784d88ab545068bb757a85": {
     "model_module": "@jupyter-widgets/controls",
     "model_name": "HBoxModel",
     "state": {
      "_dom_classes": [],
      "_model_module": "@jupyter-widgets/controls",
      "_model_module_version": "1.5.0",
      "_model_name": "HBoxModel",
      "_view_count": null,
      "_view_module": "@jupyter-widgets/controls",
      "_view_module_version": "1.5.0",
      "_view_name": "HBoxView",
      "box_style": "",
      "children": [
       "IPY_MODEL_2b116fa461a74e89967d46d9337e57b9",
       "IPY_MODEL_75b0b90f3d0c40d68349a46a53aebaa3"
      ],
      "layout": "IPY_MODEL_d01ed6e1749f4bae95680f644bfb7f66"
     }
    },
    "b5f26fe1968e4a36ab2dface8ab63412": {
     "model_module": "@jupyter-widgets/controls",
     "model_name": "HBoxModel",
     "state": {
      "_dom_classes": [],
      "_model_module": "@jupyter-widgets/controls",
      "_model_module_version": "1.5.0",
      "_model_name": "HBoxModel",
      "_view_count": null,
      "_view_module": "@jupyter-widgets/controls",
      "_view_module_version": "1.5.0",
      "_view_name": "HBoxView",
      "box_style": "",
      "children": [
       "IPY_MODEL_82f8cd5f62b2404faaeec2eca2f3a4eb",
       "IPY_MODEL_bd044af8944e44b9a9a081f3e4bd577b"
      ],
      "layout": "IPY_MODEL_e7e12f3320ed4fdb8445f70b0583566e"
     }
    },
    "b5f3d8adae8c4a479285432d47123012": {
     "model_module": "@jupyter-widgets/controls",
     "model_name": "HBoxModel",
     "state": {
      "_dom_classes": [],
      "_model_module": "@jupyter-widgets/controls",
      "_model_module_version": "1.5.0",
      "_model_name": "HBoxModel",
      "_view_count": null,
      "_view_module": "@jupyter-widgets/controls",
      "_view_module_version": "1.5.0",
      "_view_name": "HBoxView",
      "box_style": "",
      "children": [
       "IPY_MODEL_adde5f7fefe14f13b7db576b5893b31a",
       "IPY_MODEL_bfd56871f36d46c498661c5dc4297a5e"
      ],
      "layout": "IPY_MODEL_87d3307f106341988bd25c8720c0f6b4"
     }
    },
    "b669d68316434e15ab472316475bb98b": {
     "model_module": "@jupyter-widgets/controls",
     "model_name": "HBoxModel",
     "state": {
      "_dom_classes": [],
      "_model_module": "@jupyter-widgets/controls",
      "_model_module_version": "1.5.0",
      "_model_name": "HBoxModel",
      "_view_count": null,
      "_view_module": "@jupyter-widgets/controls",
      "_view_module_version": "1.5.0",
      "_view_name": "HBoxView",
      "box_style": "",
      "children": [
       "IPY_MODEL_2668252a66d84f1e9d4102bc1b546915",
       "IPY_MODEL_1031afb6db214dd7be70e416b43a29a1"
      ],
      "layout": "IPY_MODEL_4e699cd8b663411ca0ad169dd7400ca2"
     }
    },
    "b8b122c73c4f4871bf478d2688d3afb2": {
     "model_module": "@jupyter-widgets/controls",
     "model_name": "HBoxModel",
     "state": {
      "_dom_classes": [],
      "_model_module": "@jupyter-widgets/controls",
      "_model_module_version": "1.5.0",
      "_model_name": "HBoxModel",
      "_view_count": null,
      "_view_module": "@jupyter-widgets/controls",
      "_view_module_version": "1.5.0",
      "_view_name": "HBoxView",
      "box_style": "",
      "children": [
       "IPY_MODEL_88fe0c0e9ebf41539b490cfff6d5477c",
       "IPY_MODEL_4800fcc9376a437ab51839d8f3c9e0d9"
      ],
      "layout": "IPY_MODEL_c94d04a98f414a86ba521ca266e65a89"
     }
    },
    "d8a5d7aa67744fc1a6e970cdea414f48": {
     "model_module": "@jupyter-widgets/controls",
     "model_name": "HBoxModel",
     "state": {
      "_dom_classes": [],
      "_model_module": "@jupyter-widgets/controls",
      "_model_module_version": "1.5.0",
      "_model_name": "HBoxModel",
      "_view_count": null,
      "_view_module": "@jupyter-widgets/controls",
      "_view_module_version": "1.5.0",
      "_view_name": "HBoxView",
      "box_style": "",
      "children": [
       "IPY_MODEL_0aaa214b1b8b41568026088aa04b4baf",
       "IPY_MODEL_a3063243cb4745e8a4a6961e0a7e0e8b"
      ],
      "layout": "IPY_MODEL_674f845951ac4f259ca06863f2839259"
     }
    },
    "da86f52250fe497e89626a5d26bd1e27": {
     "model_module": "@jupyter-widgets/controls",
     "model_name": "HBoxModel",
     "state": {
      "_dom_classes": [],
      "_model_module": "@jupyter-widgets/controls",
      "_model_module_version": "1.5.0",
      "_model_name": "HBoxModel",
      "_view_count": null,
      "_view_module": "@jupyter-widgets/controls",
      "_view_module_version": "1.5.0",
      "_view_name": "HBoxView",
      "box_style": "",
      "children": [
       "IPY_MODEL_18d73014d6534dbbb61044202c7d28e5",
       "IPY_MODEL_8dba5867435b4ab2ab3839c8cb0c85ac"
      ],
      "layout": "IPY_MODEL_a8c0da155aaf4528b1a3b7e882620305"
     }
    },
    "dd0a3eea62d2432ea32b69de13e3eefa": {
     "model_module": "@jupyter-widgets/controls",
     "model_name": "HBoxModel",
     "state": {
      "_dom_classes": [],
      "_model_module": "@jupyter-widgets/controls",
      "_model_module_version": "1.5.0",
      "_model_name": "HBoxModel",
      "_view_count": null,
      "_view_module": "@jupyter-widgets/controls",
      "_view_module_version": "1.5.0",
      "_view_name": "HBoxView",
      "box_style": "",
      "children": [
       "IPY_MODEL_09e860a58da3406396ef908ddce02cde",
       "IPY_MODEL_7e1f721bd7034f10a2afb8a4c5a650f5"
      ],
      "layout": "IPY_MODEL_958d46be7eb448d1925b9944ef53c627"
     }
    },
    "e575ce63e7c24ef5b89fece7725cea64": {
     "model_module": "@jupyter-widgets/controls",
     "model_name": "HBoxModel",
     "state": {
      "_dom_classes": [],
      "_model_module": "@jupyter-widgets/controls",
      "_model_module_version": "1.5.0",
      "_model_name": "HBoxModel",
      "_view_count": null,
      "_view_module": "@jupyter-widgets/controls",
      "_view_module_version": "1.5.0",
      "_view_name": "HBoxView",
      "box_style": "",
      "children": [
       "IPY_MODEL_14167425289a4917b42cbb9c5052c62e",
       "IPY_MODEL_fbdfcfcfb2c34c9c9ce4bdd557ad7197"
      ],
      "layout": "IPY_MODEL_a123e570bcbf4dcfae9bd1262c6a7d6c"
     }
    },
    "f812c25ce3d642068ed3c1d4892f18f4": {
     "model_module": "@jupyter-widgets/controls",
     "model_name": "HBoxModel",
     "state": {
      "_dom_classes": [],
      "_model_module": "@jupyter-widgets/controls",
      "_model_module_version": "1.5.0",
      "_model_name": "HBoxModel",
      "_view_count": null,
      "_view_module": "@jupyter-widgets/controls",
      "_view_module_version": "1.5.0",
      "_view_name": "HBoxView",
      "box_style": "",
      "children": [
       "IPY_MODEL_b8e9f13503cb4fb3b19650a51fee743d",
       "IPY_MODEL_45be51117f494aa193f5b65125b04551"
      ],
      "layout": "IPY_MODEL_3dbd596e29fd4b8488f20459d764d03b"
     }
    }
   }
  }
 },
 "nbformat": 4,
 "nbformat_minor": 1
}
