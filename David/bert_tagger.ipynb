{
 "cells": [
  {
   "cell_type": "code",
   "execution_count": 2,
   "metadata": {
    "colab": {
     "base_uri": "https://localhost:8080/",
     "height": 1000
    },
    "colab_type": "code",
    "id": "_rxnEohKpkkQ",
    "outputId": "3af50a88-aa7b-4adb-82eb-163330a4703b"
   },
   "outputs": [
    {
     "name": "stdout",
     "output_type": "stream",
     "text": [
      "Collecting simpletransformers\n",
      "\u001b[?25l  Downloading https://files.pythonhosted.org/packages/da/cd/73ec93aa0ddefc75a963928d8b670e0ddbbb97456479fe3f10eb71f11d82/simpletransformers-0.18.2-py3-none-any.whl (98kB)\n",
      "\r",
      "\u001b[K     |███▎                            | 10kB 18.8MB/s eta 0:00:01\r",
      "\u001b[K     |██████▋                         | 20kB 1.8MB/s eta 0:00:01\r",
      "\u001b[K     |██████████                      | 30kB 2.6MB/s eta 0:00:01\r",
      "\u001b[K     |█████████████▎                  | 40kB 1.7MB/s eta 0:00:01\r",
      "\u001b[K     |████████████████▋               | 51kB 2.1MB/s eta 0:00:01\r",
      "\u001b[K     |████████████████████            | 61kB 2.5MB/s eta 0:00:01\r",
      "\u001b[K     |███████████████████████▎        | 71kB 2.9MB/s eta 0:00:01\r",
      "\u001b[K     |██████████████████████████▋     | 81kB 3.3MB/s eta 0:00:01\r",
      "\u001b[K     |██████████████████████████████  | 92kB 3.7MB/s eta 0:00:01\r",
      "\u001b[K     |████████████████████████████████| 102kB 2.4MB/s \n",
      "\u001b[?25hRequirement already satisfied: regex in /usr/local/lib/python3.6/dist-packages (from simpletransformers) (2019.12.20)\n",
      "Collecting tensorboardx\n",
      "\u001b[?25l  Downloading https://files.pythonhosted.org/packages/35/f1/5843425495765c8c2dd0784a851a93ef204d314fc87bcc2bbb9f662a3ad1/tensorboardX-2.0-py2.py3-none-any.whl (195kB)\n",
      "\u001b[K     |████████████████████████████████| 204kB 9.1MB/s \n",
      "\u001b[?25hRequirement already satisfied: scikit-learn in /usr/local/lib/python3.6/dist-packages (from simpletransformers) (0.22.1)\n",
      "Collecting transformers\n",
      "\u001b[?25l  Downloading https://files.pythonhosted.org/packages/50/10/aeefced99c8a59d828a92cc11d213e2743212d3641c87c82d61b035a7d5c/transformers-2.3.0-py3-none-any.whl (447kB)\n",
      "\u001b[K     |████████████████████████████████| 450kB 52.7MB/s \n",
      "\u001b[?25hRequirement already satisfied: tqdm in /usr/local/lib/python3.6/dist-packages (from simpletransformers) (4.28.1)\n",
      "Collecting seqeval\n",
      "  Downloading https://files.pythonhosted.org/packages/34/91/068aca8d60ce56dd9ba4506850e876aba5e66a6f2f29aa223224b50df0de/seqeval-0.0.12.tar.gz\n",
      "Requirement already satisfied: requests in /usr/local/lib/python3.6/dist-packages (from simpletransformers) (2.21.0)\n",
      "Collecting wandb\n",
      "\u001b[?25l  Downloading https://files.pythonhosted.org/packages/68/f8/87d46d306cad42e3a421471a6e8fd8728c731491f5e61c8f15bb5b3dcd36/wandb-0.8.20-py2.py3-none-any.whl (1.4MB)\n",
      "\u001b[K     |████████████████████████████████| 1.4MB 23.6MB/s \n",
      "\u001b[?25hRequirement already satisfied: numpy in /usr/local/lib/python3.6/dist-packages (from simpletransformers) (1.17.5)\n",
      "Requirement already satisfied: scipy in /usr/local/lib/python3.6/dist-packages (from simpletransformers) (1.4.1)\n",
      "Requirement already satisfied: protobuf>=3.8.0 in /usr/local/lib/python3.6/dist-packages (from tensorboardx->simpletransformers) (3.10.0)\n",
      "Requirement already satisfied: six in /usr/local/lib/python3.6/dist-packages (from tensorboardx->simpletransformers) (1.12.0)\n",
      "Requirement already satisfied: joblib>=0.11 in /usr/local/lib/python3.6/dist-packages (from scikit-learn->simpletransformers) (0.14.1)\n",
      "Collecting sentencepiece\n",
      "\u001b[?25l  Downloading https://files.pythonhosted.org/packages/74/f4/2d5214cbf13d06e7cb2c20d84115ca25b53ea76fa1f0ade0e3c9749de214/sentencepiece-0.1.85-cp36-cp36m-manylinux1_x86_64.whl (1.0MB)\n",
      "\u001b[K     |████████████████████████████████| 1.0MB 45.0MB/s \n",
      "\u001b[?25hCollecting sacremoses\n",
      "\u001b[?25l  Downloading https://files.pythonhosted.org/packages/a6/b4/7a41d630547a4afd58143597d5a49e07bfd4c42914d8335b2a5657efc14b/sacremoses-0.0.38.tar.gz (860kB)\n",
      "\u001b[K     |████████████████████████████████| 870kB 46.2MB/s \n",
      "\u001b[?25hRequirement already satisfied: boto3 in /usr/local/lib/python3.6/dist-packages (from transformers->simpletransformers) (1.10.47)\n",
      "Requirement already satisfied: Keras>=2.2.4 in /usr/local/lib/python3.6/dist-packages (from seqeval->simpletransformers) (2.2.5)\n",
      "Requirement already satisfied: urllib3<1.25,>=1.21.1 in /usr/local/lib/python3.6/dist-packages (from requests->simpletransformers) (1.24.3)\n",
      "Requirement already satisfied: idna<2.9,>=2.5 in /usr/local/lib/python3.6/dist-packages (from requests->simpletransformers) (2.8)\n",
      "Requirement already satisfied: certifi>=2017.4.17 in /usr/local/lib/python3.6/dist-packages (from requests->simpletransformers) (2019.11.28)\n",
      "Requirement already satisfied: chardet<3.1.0,>=3.0.2 in /usr/local/lib/python3.6/dist-packages (from requests->simpletransformers) (3.0.4)\n",
      "Collecting watchdog>=0.8.3\n",
      "\u001b[?25l  Downloading https://files.pythonhosted.org/packages/bb/e3/5a55d48a29300160779f0a0d2776d17c1b762a2039b36de528b093b87d5b/watchdog-0.9.0.tar.gz (85kB)\n",
      "\u001b[K     |████████████████████████████████| 92kB 11.8MB/s \n",
      "\u001b[?25hCollecting sentry-sdk>=0.4.0\n",
      "\u001b[?25l  Downloading https://files.pythonhosted.org/packages/ba/0b/ba1655f0e9c248538b02322a979b5cd485156f5cc16ea34a3cff563527ee/sentry_sdk-0.14.0-py2.py3-none-any.whl (93kB)\n",
      "\u001b[K     |████████████████████████████████| 102kB 13.2MB/s \n",
      "\u001b[?25hCollecting gql==0.2.0\n",
      "  Downloading https://files.pythonhosted.org/packages/c4/6f/cf9a3056045518f06184e804bae89390eb706168349daa9dff8ac609962a/gql-0.2.0.tar.gz\n",
      "Collecting docker-pycreds>=0.4.0\n",
      "  Downloading https://files.pythonhosted.org/packages/f5/e8/f6bd1eee09314e7e6dee49cbe2c5e22314ccdb38db16c9fc72d2fa80d054/docker_pycreds-0.4.0-py2.py3-none-any.whl\n",
      "Requirement already satisfied: python-dateutil>=2.6.1 in /usr/local/lib/python3.6/dist-packages (from wandb->simpletransformers) (2.6.1)\n",
      "Collecting shortuuid>=0.5.0\n",
      "  Downloading https://files.pythonhosted.org/packages/80/d7/2bfc9332e68d3e15ea97b9b1588b3899ad565120253d3fd71c8f7f13b4fe/shortuuid-0.5.0.tar.gz\n",
      "Collecting configparser>=3.8.1\n",
      "  Downloading https://files.pythonhosted.org/packages/7a/2a/95ed0501cf5d8709490b1d3a3f9b5cf340da6c433f896bbe9ce08dbe6785/configparser-4.0.2-py2.py3-none-any.whl\n",
      "Requirement already satisfied: nvidia-ml-py3>=7.352.0 in /usr/local/lib/python3.6/dist-packages (from wandb->simpletransformers) (7.352.0)\n",
      "Collecting GitPython>=1.0.0\n",
      "\u001b[?25l  Downloading https://files.pythonhosted.org/packages/20/8c/4543981439d23c4ff65b2e62dddd767ebc84a8e664a9b67e840d1e2730d3/GitPython-3.0.5-py3-none-any.whl (455kB)\n",
      "\u001b[K     |████████████████████████████████| 460kB 51.5MB/s \n",
      "\u001b[?25hRequirement already satisfied: psutil>=5.0.0 in /usr/local/lib/python3.6/dist-packages (from wandb->simpletransformers) (5.4.8)\n",
      "Collecting subprocess32>=3.5.3\n",
      "\u001b[?25l  Downloading https://files.pythonhosted.org/packages/32/c8/564be4d12629b912ea431f1a50eb8b3b9d00f1a0b1ceff17f266be190007/subprocess32-3.5.4.tar.gz (97kB)\n",
      "\u001b[K     |████████████████████████████████| 102kB 13.2MB/s \n",
      "\u001b[?25hRequirement already satisfied: Click>=7.0 in /usr/local/lib/python3.6/dist-packages (from wandb->simpletransformers) (7.0)\n",
      "Requirement already satisfied: setuptools in /usr/local/lib/python3.6/dist-packages (from protobuf>=3.8.0->tensorboardx->simpletransformers) (42.0.2)\n",
      "Requirement already satisfied: s3transfer<0.3.0,>=0.2.0 in /usr/local/lib/python3.6/dist-packages (from boto3->transformers->simpletransformers) (0.2.1)\n",
      "Requirement already satisfied: jmespath<1.0.0,>=0.7.1 in /usr/local/lib/python3.6/dist-packages (from boto3->transformers->simpletransformers) (0.9.4)\n",
      "Requirement already satisfied: botocore<1.14.0,>=1.13.47 in /usr/local/lib/python3.6/dist-packages (from boto3->transformers->simpletransformers) (1.13.47)\n",
      "Requirement already satisfied: keras-applications>=1.0.8 in /usr/local/lib/python3.6/dist-packages (from Keras>=2.2.4->seqeval->simpletransformers) (1.0.8)\n",
      "Requirement already satisfied: h5py in /usr/local/lib/python3.6/dist-packages (from Keras>=2.2.4->seqeval->simpletransformers) (2.8.0)\n",
      "Requirement already satisfied: pyyaml in /usr/local/lib/python3.6/dist-packages (from Keras>=2.2.4->seqeval->simpletransformers) (3.13)\n",
      "Requirement already satisfied: keras-preprocessing>=1.1.0 in /usr/local/lib/python3.6/dist-packages (from Keras>=2.2.4->seqeval->simpletransformers) (1.1.0)\n",
      "Collecting argh>=0.24.1\n",
      "  Downloading https://files.pythonhosted.org/packages/06/1c/e667a7126f0b84aaa1c56844337bf0ac12445d1beb9c8a6199a7314944bf/argh-0.26.2-py2.py3-none-any.whl\n",
      "Collecting pathtools>=0.1.1\n",
      "  Downloading https://files.pythonhosted.org/packages/e7/7f/470d6fcdf23f9f3518f6b0b76be9df16dcc8630ad409947f8be2eb0ed13a/pathtools-0.1.2.tar.gz\n",
      "Collecting graphql-core<2,>=0.5.0\n",
      "\u001b[?25l  Downloading https://files.pythonhosted.org/packages/b0/89/00ad5e07524d8c523b14d70c685e0299a8b0de6d0727e368c41b89b7ed0b/graphql-core-1.1.tar.gz (70kB)\n",
      "\u001b[K     |████████████████████████████████| 71kB 9.8MB/s \n",
      "\u001b[?25hRequirement already satisfied: promise<3,>=2.0 in /usr/local/lib/python3.6/dist-packages (from gql==0.2.0->wandb->simpletransformers) (2.3)\n",
      "Collecting gitdb2>=2.0.0\n",
      "\u001b[?25l  Downloading https://files.pythonhosted.org/packages/03/6c/99296f89bad2ef85626e1df9f677acbee8885bb043ad82ad3ed4746d2325/gitdb2-2.0.6-py2.py3-none-any.whl (63kB)\n",
      "\u001b[K     |████████████████████████████████| 71kB 10.0MB/s \n",
      "\u001b[?25hRequirement already satisfied: docutils<0.16,>=0.10 in /usr/local/lib/python3.6/dist-packages (from botocore<1.14.0,>=1.13.47->boto3->transformers->simpletransformers) (0.15.2)\n",
      "Collecting smmap2>=2.0.0\n",
      "  Downloading https://files.pythonhosted.org/packages/55/d2/866d45e3a121ee15a1dc013824d58072fd5c7799c9c34d01378eb262ca8f/smmap2-2.0.5-py2.py3-none-any.whl\n",
      "Building wheels for collected packages: seqeval, sacremoses, watchdog, gql, shortuuid, subprocess32, pathtools, graphql-core\n",
      "  Building wheel for seqeval (setup.py) ... \u001b[?25l\u001b[?25hdone\n",
      "  Created wheel for seqeval: filename=seqeval-0.0.12-cp36-none-any.whl size=7424 sha256=9a3153dbeea3f1fd28a8303a2955ba20c6c4619e870e9e9ca3c09f65560a0875\n",
      "  Stored in directory: /root/.cache/pip/wheels/4f/32/0a/df3b340a82583566975377d65e724895b3fad101a3fb729f68\n",
      "  Building wheel for sacremoses (setup.py) ... \u001b[?25l\u001b[?25hdone\n",
      "  Created wheel for sacremoses: filename=sacremoses-0.0.38-cp36-none-any.whl size=884629 sha256=44a25f9ddb0c3e374f453d1c5e64ad94b6b2ca5c5ee6316b0001e8565912eedd\n",
      "  Stored in directory: /root/.cache/pip/wheels/6d/ec/1a/21b8912e35e02741306f35f66c785f3afe94de754a0eaf1422\n",
      "  Building wheel for watchdog (setup.py) ... \u001b[?25l\u001b[?25hdone\n",
      "  Created wheel for watchdog: filename=watchdog-0.9.0-cp36-none-any.whl size=73652 sha256=b3a2627a08503fdc0bb7f9cd24ab5344071e84b25493dc416aa1bfd843b3485b\n",
      "  Stored in directory: /root/.cache/pip/wheels/61/1d/d0/04cfe495619be2095eb8d89a31c42adb4e42b76495bc8f784c\n",
      "  Building wheel for gql (setup.py) ... \u001b[?25l\u001b[?25hdone\n",
      "  Created wheel for gql: filename=gql-0.2.0-cp36-none-any.whl size=7630 sha256=b0c76df8eba81760796724d439f7874242feeeef1787d60202c427d785ae2c76\n",
      "  Stored in directory: /root/.cache/pip/wheels/ce/0e/7b/58a8a5268655b3ad74feef5aa97946f0addafb3cbb6bd2da23\n",
      "  Building wheel for shortuuid (setup.py) ... \u001b[?25l\u001b[?25hdone\n",
      "  Created wheel for shortuuid: filename=shortuuid-0.5.0-cp36-none-any.whl size=5499 sha256=6b7addfef94cef4822d6724873dd096cc9f934b17446c97b0aca72976ad3e159\n",
      "  Stored in directory: /root/.cache/pip/wheels/3f/eb/fd/69e5177f67b505e44acbd1aedfbe44b91768ee0c4cd5636576\n",
      "  Building wheel for subprocess32 (setup.py) ... \u001b[?25l\u001b[?25hdone\n",
      "  Created wheel for subprocess32: filename=subprocess32-3.5.4-cp36-none-any.whl size=6489 sha256=aca41aca7740d8760e90ff87be0cc0bebb89af98f7ed4bc1fb5d46857eb26ca9\n",
      "  Stored in directory: /root/.cache/pip/wheels/68/39/1a/5e402bdfdf004af1786c8b853fd92f8c4a04f22aad179654d1\n",
      "  Building wheel for pathtools (setup.py) ... \u001b[?25l\u001b[?25hdone\n",
      "  Created wheel for pathtools: filename=pathtools-0.1.2-cp36-none-any.whl size=8786 sha256=8ad501180b2ace3cc3cc25cea2c38c4eac293634381230d1f11b7e00935d7a5f\n",
      "  Stored in directory: /root/.cache/pip/wheels/0b/04/79/c3b0c3a0266a3cb4376da31e5bfe8bba0c489246968a68e843\n",
      "  Building wheel for graphql-core (setup.py) ... \u001b[?25l\u001b[?25hdone\n",
      "  Created wheel for graphql-core: filename=graphql_core-1.1-cp36-none-any.whl size=104651 sha256=8a9330cac71571b1c75b0759ff95d7a2ee9de755e3c51d891b84ed99db5d0d4f\n",
      "  Stored in directory: /root/.cache/pip/wheels/45/99/d7/c424029bb0fe910c63b68dbf2aa20d3283d023042521bcd7d5\n",
      "Successfully built seqeval sacremoses watchdog gql shortuuid subprocess32 pathtools graphql-core\n",
      "Installing collected packages: tensorboardx, sentencepiece, sacremoses, transformers, seqeval, argh, pathtools, watchdog, sentry-sdk, graphql-core, gql, docker-pycreds, shortuuid, configparser, smmap2, gitdb2, GitPython, subprocess32, wandb, simpletransformers\n",
      "Successfully installed GitPython-3.0.5 argh-0.26.2 configparser-4.0.2 docker-pycreds-0.4.0 gitdb2-2.0.6 gql-0.2.0 graphql-core-1.1 pathtools-0.1.2 sacremoses-0.0.38 sentencepiece-0.1.85 sentry-sdk-0.14.0 seqeval-0.0.12 shortuuid-0.5.0 simpletransformers-0.18.2 smmap2-2.0.5 subprocess32-3.5.4 tensorboardx-2.0 transformers-2.3.0 wandb-0.8.20 watchdog-0.9.0\n"
     ]
    }
   ],
   "source": [
    "!pip install simpletransformers"
   ]
  },
  {
   "cell_type": "code",
   "execution_count": 3,
   "metadata": {
    "colab": {
     "base_uri": "https://localhost:8080/",
     "height": 81
    },
    "colab_type": "code",
    "id": "1npSPtlPownQ",
    "outputId": "9e221401-fd91-4c74-b1fe-a87c0aded901"
   },
   "outputs": [
    {
     "data": {
      "text/html": [
       "<p style=\"color: red;\">\n",
       "The default version of TensorFlow in Colab will soon switch to TensorFlow 2.x.<br>\n",
       "We recommend you <a href=\"https://www.tensorflow.org/guide/migrate\" target=\"_blank\">upgrade</a> now \n",
       "or ensure your notebook will continue to use TensorFlow 1.x via the <code>%tensorflow_version 1.x</code> magic:\n",
       "<a href=\"https://colab.research.google.com/notebooks/tensorflow_version.ipynb\" target=\"_blank\">more info</a>.</p>\n"
      ],
      "text/plain": [
       "<IPython.core.display.HTML object>"
      ]
     },
     "metadata": {
      "tags": []
     },
     "output_type": "display_data"
    }
   ],
   "source": [
    "import pandas as pd\n",
    "from simpletransformers.ner import NERModel\n",
    "import itertools"
   ]
  },
  {
   "cell_type": "code",
   "execution_count": 0,
   "metadata": {
    "colab": {},
    "colab_type": "code",
    "id": "fa9rLapzownQ"
   },
   "outputs": [],
   "source": [
    "%run constants.ipynb\n",
    "%run functions.ipynb"
   ]
  },
  {
   "cell_type": "code",
   "execution_count": 0,
   "metadata": {
    "colab": {},
    "colab_type": "code",
    "id": "RUl7kkLrowo0"
   },
   "outputs": [],
   "source": [
    "train_df = pd.read_csv(data_directory+'tagger_train.csv', sep='§', engine='python',\n",
    "                       index_col=0, encoding='utf-8')\n",
    "\n",
    "eval_df = pd.read_csv(data_directory+'tagger_eval.csv', sep='§', engine='python',\n",
    "                       index_col=0, encoding='utf-8')"
   ]
  },
  {
   "cell_type": "code",
   "execution_count": 8,
   "metadata": {
    "colab": {
     "base_uri": "https://localhost:8080/",
     "height": 54
    },
    "colab_type": "code",
    "id": "EFOz1qa6owo0",
    "outputId": "e3e8766c-609a-49fa-d42c-79dfbcafdcd1"
   },
   "outputs": [
    {
     "name": "stdout",
     "output_type": "stream",
     "text": [
      "['O', 'STAT_B', 'STAT_I', 'STAT_E', 'MANU_B', 'MANU_I', 'MANU_E', 'AIRP_B', 'AIRP_I', 'AIRP_E', 'AIRL_B', 'AIRL_I', 'AIRL_E', 'COUN_B', 'COUN_I', 'COUN_E', 'DATE1_B', 'DATE1_I', 'DATE1_E', 'DATE2_B', 'DATE2_I', 'DATE2_E', 'STUDIED_B', 'STUDIED_I', 'STUDIED_E']\n"
     ]
    }
   ],
   "source": [
    "prefixe = [CT_TAG_STAT, CT_TAG_MANU, CT_TAG_AIRP, CT_TAG_AIRL, CT_TAG_COUN,\n",
    "           CT_TAG_DATE1, CT_TAG_DATE2, CT_TAG_STUD]\n",
    "separat = [CT_SEP]\n",
    "suffixe = [CT_SUF_B, CT_SUF_I, CT_SUF_E]\n",
    "\n",
    "all_tags =  [CT_TAG_O] + [\"\".join(t) \n",
    "                          for t in list(itertools.product(prefixe,separat,suffixe))]\n",
    "print(all_tags)"
   ]
  },
  {
   "cell_type": "code",
   "execution_count": 0,
   "metadata": {
    "colab": {},
    "colab_type": "code",
    "id": "tPr4K2wsowo0"
   },
   "outputs": [],
   "source": [
    "# Create a NERModel\n",
    "model = NERModel('bert', 'bert-base-cased', \n",
    "                 args={'overwrite_output_dir': True,\n",
    "                       'reprocess_input_data': True},\n",
    "                 use_cuda = False,\n",
    "                 labels = all_tags)"
   ]
  },
  {
   "cell_type": "code",
   "execution_count": 16,
   "metadata": {
    "colab": {
     "base_uri": "https://localhost:8080/",
     "height": 368,
     "referenced_widgets": [
      "b5f3d8adae8c4a479285432d47123012",
      "41cb46236cba4192902027766c7bf9b4",
      "7afdec65190543bfafff79387e6871f8"
     ]
    },
    "colab_type": "code",
    "id": "Cic7Y76eowo0",
    "outputId": "a6423c05-6a61-4ea6-9b56-9eb391a9a0a5"
   },
   "outputs": [
    {
     "name": "stdout",
     "output_type": "stream",
     "text": [
      "Converting to features started.\n"
     ]
    },
    {
     "data": {
      "application/vnd.jupyter.widget-view+json": {
       "model_id": "b5f3d8adae8c4a479285432d47123012",
       "version_major": 2,
       "version_minor": 0
      },
      "text/plain": [
       "HBox(children=(IntProgress(value=0, max=10000), HTML(value='')))"
      ]
     },
     "metadata": {
      "tags": []
     },
     "output_type": "display_data"
    },
    {
     "data": {
      "application/vnd.jupyter.widget-view+json": {
       "model_id": "41cb46236cba4192902027766c7bf9b4",
       "version_major": 2,
       "version_minor": 0
      },
      "text/plain": [
       "HBox(children=(IntProgress(value=0, description='Epoch', max=1, style=ProgressStyle(description_width='initial…"
      ]
     },
     "metadata": {
      "tags": []
     },
     "output_type": "display_data"
    },
    {
     "data": {
      "application/vnd.jupyter.widget-view+json": {
       "model_id": "7afdec65190543bfafff79387e6871f8",
       "version_major": 2,
       "version_minor": 0
      },
      "text/plain": [
       "HBox(children=(IntProgress(value=0, description='Current iteration', max=1250, style=ProgressStyle(description…"
      ]
     },
     "metadata": {
      "tags": []
     },
     "output_type": "display_data"
    },
    {
     "name": "stdout",
     "output_type": "stream",
     "text": [
      "Running loss: 0.004075"
     ]
    },
    {
     "ename": "KeyboardInterrupt",
     "evalue": "ignored",
     "output_type": "error",
     "traceback": [
      "\u001b[0;31m---------------------------------------------------------------------------\u001b[0m",
      "\u001b[0;31mKeyboardInterrupt\u001b[0m                         Traceback (most recent call last)",
      "\u001b[0;32m<ipython-input-16-44e3b58a00f8>\u001b[0m in \u001b[0;36m<module>\u001b[0;34m()\u001b[0m\n\u001b[0;32m----> 1\u001b[0;31m \u001b[0mmodel\u001b[0m\u001b[0;34m.\u001b[0m\u001b[0mtrain_model\u001b[0m\u001b[0;34m(\u001b[0m\u001b[0mtrain_df\u001b[0m\u001b[0;34m)\u001b[0m\u001b[0;34m\u001b[0m\u001b[0;34m\u001b[0m\u001b[0m\n\u001b[0m",
      "\u001b[0;32m/usr/local/lib/python3.6/dist-packages/simpletransformers/ner/ner_model.py\u001b[0m in \u001b[0;36mtrain_model\u001b[0;34m(self, train_data, output_dir, show_running_loss, args, eval_df)\u001b[0m\n\u001b[1;32m    144\u001b[0m             \u001b[0mos\u001b[0m\u001b[0;34m.\u001b[0m\u001b[0mmakedirs\u001b[0m\u001b[0;34m(\u001b[0m\u001b[0moutput_dir\u001b[0m\u001b[0;34m)\u001b[0m\u001b[0;34m\u001b[0m\u001b[0;34m\u001b[0m\u001b[0m\n\u001b[1;32m    145\u001b[0m \u001b[0;34m\u001b[0m\u001b[0m\n\u001b[0;32m--> 146\u001b[0;31m         \u001b[0mglobal_step\u001b[0m\u001b[0;34m,\u001b[0m \u001b[0mtr_loss\u001b[0m \u001b[0;34m=\u001b[0m \u001b[0mself\u001b[0m\u001b[0;34m.\u001b[0m\u001b[0mtrain\u001b[0m\u001b[0;34m(\u001b[0m\u001b[0mtrain_dataset\u001b[0m\u001b[0;34m,\u001b[0m \u001b[0moutput_dir\u001b[0m\u001b[0;34m,\u001b[0m \u001b[0mshow_running_loss\u001b[0m\u001b[0;34m=\u001b[0m\u001b[0mshow_running_loss\u001b[0m\u001b[0;34m,\u001b[0m \u001b[0meval_df\u001b[0m\u001b[0;34m=\u001b[0m\u001b[0meval_df\u001b[0m\u001b[0;34m)\u001b[0m\u001b[0;34m\u001b[0m\u001b[0;34m\u001b[0m\u001b[0m\n\u001b[0m\u001b[1;32m    147\u001b[0m \u001b[0;34m\u001b[0m\u001b[0m\n\u001b[1;32m    148\u001b[0m         \u001b[0mmodel_to_save\u001b[0m \u001b[0;34m=\u001b[0m \u001b[0mself\u001b[0m\u001b[0;34m.\u001b[0m\u001b[0mmodel\u001b[0m\u001b[0;34m.\u001b[0m\u001b[0mmodule\u001b[0m \u001b[0;32mif\u001b[0m \u001b[0mhasattr\u001b[0m\u001b[0;34m(\u001b[0m\u001b[0mself\u001b[0m\u001b[0;34m.\u001b[0m\u001b[0mmodel\u001b[0m\u001b[0;34m,\u001b[0m \u001b[0;34m\"module\"\u001b[0m\u001b[0;34m)\u001b[0m \u001b[0;32melse\u001b[0m \u001b[0mself\u001b[0m\u001b[0;34m.\u001b[0m\u001b[0mmodel\u001b[0m\u001b[0;34m\u001b[0m\u001b[0;34m\u001b[0m\u001b[0m\n",
      "\u001b[0;32m/usr/local/lib/python3.6/dist-packages/simpletransformers/ner/ner_model.py\u001b[0m in \u001b[0;36mtrain\u001b[0;34m(self, train_dataset, output_dir, show_running_loss, eval_df)\u001b[0m\n\u001b[1;32m    248\u001b[0m                     \u001b[0mtorch\u001b[0m\u001b[0;34m.\u001b[0m\u001b[0mnn\u001b[0m\u001b[0;34m.\u001b[0m\u001b[0mutils\u001b[0m\u001b[0;34m.\u001b[0m\u001b[0mclip_grad_norm_\u001b[0m\u001b[0;34m(\u001b[0m\u001b[0mamp\u001b[0m\u001b[0;34m.\u001b[0m\u001b[0mmaster_params\u001b[0m\u001b[0;34m(\u001b[0m\u001b[0moptimizer\u001b[0m\u001b[0;34m)\u001b[0m\u001b[0;34m,\u001b[0m \u001b[0margs\u001b[0m\u001b[0;34m[\u001b[0m\u001b[0;34m\"max_grad_norm\"\u001b[0m\u001b[0;34m]\u001b[0m\u001b[0;34m)\u001b[0m\u001b[0;34m\u001b[0m\u001b[0;34m\u001b[0m\u001b[0m\n\u001b[1;32m    249\u001b[0m                 \u001b[0;32melse\u001b[0m\u001b[0;34m:\u001b[0m\u001b[0;34m\u001b[0m\u001b[0;34m\u001b[0m\u001b[0m\n\u001b[0;32m--> 250\u001b[0;31m                     \u001b[0mloss\u001b[0m\u001b[0;34m.\u001b[0m\u001b[0mbackward\u001b[0m\u001b[0;34m(\u001b[0m\u001b[0;34m)\u001b[0m\u001b[0;34m\u001b[0m\u001b[0;34m\u001b[0m\u001b[0m\n\u001b[0m\u001b[1;32m    251\u001b[0m                     \u001b[0mtorch\u001b[0m\u001b[0;34m.\u001b[0m\u001b[0mnn\u001b[0m\u001b[0;34m.\u001b[0m\u001b[0mutils\u001b[0m\u001b[0;34m.\u001b[0m\u001b[0mclip_grad_norm_\u001b[0m\u001b[0;34m(\u001b[0m\u001b[0mmodel\u001b[0m\u001b[0;34m.\u001b[0m\u001b[0mparameters\u001b[0m\u001b[0;34m(\u001b[0m\u001b[0;34m)\u001b[0m\u001b[0;34m,\u001b[0m \u001b[0margs\u001b[0m\u001b[0;34m[\u001b[0m\u001b[0;34m\"max_grad_norm\"\u001b[0m\u001b[0;34m]\u001b[0m\u001b[0;34m)\u001b[0m\u001b[0;34m\u001b[0m\u001b[0;34m\u001b[0m\u001b[0m\n\u001b[1;32m    252\u001b[0m \u001b[0;34m\u001b[0m\u001b[0m\n",
      "\u001b[0;32m/usr/local/lib/python3.6/dist-packages/torch/tensor.py\u001b[0m in \u001b[0;36mbackward\u001b[0;34m(self, gradient, retain_graph, create_graph)\u001b[0m\n\u001b[1;32m    164\u001b[0m                 \u001b[0mproducts\u001b[0m\u001b[0;34m.\u001b[0m \u001b[0mDefaults\u001b[0m \u001b[0mto\u001b[0m\u001b[0;31m \u001b[0m\u001b[0;31m`\u001b[0m\u001b[0;31m`\u001b[0m\u001b[0;32mFalse\u001b[0m\u001b[0;31m`\u001b[0m\u001b[0;31m`\u001b[0m\u001b[0;34m.\u001b[0m\u001b[0;34m\u001b[0m\u001b[0;34m\u001b[0m\u001b[0m\n\u001b[1;32m    165\u001b[0m         \"\"\"\n\u001b[0;32m--> 166\u001b[0;31m         \u001b[0mtorch\u001b[0m\u001b[0;34m.\u001b[0m\u001b[0mautograd\u001b[0m\u001b[0;34m.\u001b[0m\u001b[0mbackward\u001b[0m\u001b[0;34m(\u001b[0m\u001b[0mself\u001b[0m\u001b[0;34m,\u001b[0m \u001b[0mgradient\u001b[0m\u001b[0;34m,\u001b[0m \u001b[0mretain_graph\u001b[0m\u001b[0;34m,\u001b[0m \u001b[0mcreate_graph\u001b[0m\u001b[0;34m)\u001b[0m\u001b[0;34m\u001b[0m\u001b[0;34m\u001b[0m\u001b[0m\n\u001b[0m\u001b[1;32m    167\u001b[0m \u001b[0;34m\u001b[0m\u001b[0m\n\u001b[1;32m    168\u001b[0m     \u001b[0;32mdef\u001b[0m \u001b[0mregister_hook\u001b[0m\u001b[0;34m(\u001b[0m\u001b[0mself\u001b[0m\u001b[0;34m,\u001b[0m \u001b[0mhook\u001b[0m\u001b[0;34m)\u001b[0m\u001b[0;34m:\u001b[0m\u001b[0;34m\u001b[0m\u001b[0;34m\u001b[0m\u001b[0m\n",
      "\u001b[0;32m/usr/local/lib/python3.6/dist-packages/torch/autograd/__init__.py\u001b[0m in \u001b[0;36mbackward\u001b[0;34m(tensors, grad_tensors, retain_graph, create_graph, grad_variables)\u001b[0m\n\u001b[1;32m     97\u001b[0m     Variable._execution_engine.run_backward(\n\u001b[1;32m     98\u001b[0m         \u001b[0mtensors\u001b[0m\u001b[0;34m,\u001b[0m \u001b[0mgrad_tensors\u001b[0m\u001b[0;34m,\u001b[0m \u001b[0mretain_graph\u001b[0m\u001b[0;34m,\u001b[0m \u001b[0mcreate_graph\u001b[0m\u001b[0;34m,\u001b[0m\u001b[0;34m\u001b[0m\u001b[0;34m\u001b[0m\u001b[0m\n\u001b[0;32m---> 99\u001b[0;31m         allow_unreachable=True)  # allow_unreachable flag\n\u001b[0m\u001b[1;32m    100\u001b[0m \u001b[0;34m\u001b[0m\u001b[0m\n\u001b[1;32m    101\u001b[0m \u001b[0;34m\u001b[0m\u001b[0m\n",
      "\u001b[0;31mKeyboardInterrupt\u001b[0m: "
     ]
    }
   ],
   "source": [
    "# Train the model\n",
    "model.train_model(train_df)"
   ]
  },
  {
   "cell_type": "code",
   "execution_count": 17,
   "metadata": {
    "colab": {
     "base_uri": "https://localhost:8080/",
     "height": 72,
     "referenced_widgets": [
      "4d93e8713b824349b50c74a5d54c1e70",
      "b5f26fe1968e4a36ab2dface8ab63412"
     ]
    },
    "colab_type": "code",
    "id": "3HvbZsj-owo0",
    "outputId": "ab956bd6-583b-4794-8bc9-681ac8dbbd20"
   },
   "outputs": [
    {
     "name": "stdout",
     "output_type": "stream",
     "text": [
      "Converting to features started.\n"
     ]
    },
    {
     "data": {
      "application/vnd.jupyter.widget-view+json": {
       "model_id": "4d93e8713b824349b50c74a5d54c1e70",
       "version_major": 2,
       "version_minor": 0
      },
      "text/plain": [
       "HBox(children=(IntProgress(value=0, max=1000), HTML(value='')))"
      ]
     },
     "metadata": {
      "tags": []
     },
     "output_type": "display_data"
    },
    {
     "data": {
      "application/vnd.jupyter.widget-view+json": {
       "model_id": "b5f26fe1968e4a36ab2dface8ab63412",
       "version_major": 2,
       "version_minor": 0
      },
      "text/plain": [
       "HBox(children=(IntProgress(value=0, max=125), HTML(value='')))"
      ]
     },
     "metadata": {
      "tags": []
     },
     "output_type": "display_data"
    },
    {
     "name": "stdout",
     "output_type": "stream",
     "text": [
      "{'eval_loss': 0.0019001626381650568, 'precision': 0.9998134328358209, 'recall': 0.9998134328358209, 'f1_score': 0.9998134328358209}\n"
     ]
    }
   ],
   "source": [
    "result, model_outputs, wrong_predictions = model.eval_model(eval_df)"
   ]
  },
  {
   "cell_type": "code",
   "execution_count": 20,
   "metadata": {
    "colab": {
     "base_uri": "https://localhost:8080/",
     "height": 191,
     "referenced_widgets": [
      "3f507240001a437f8a886f931bfa5afb",
      "9437b2b5cf6541a2b4a8bbf9ba907cca",
      "dd0a3eea62d2432ea32b69de13e3eefa",
      "da86f52250fe497e89626a5d26bd1e27",
      "acdfbc0e14ee42ae9b981c03632ddc2c",
      "e575ce63e7c24ef5b89fece7725cea64",
      "b8b122c73c4f4871bf478d2688d3afb2",
      "628c9b0512f74aba85c35922ba5923ff",
      "b669d68316434e15ab472316475bb98b",
      "749c641d0034431e9fb33219be18987d",
      "4eae312744524f8da0fd3cc60ded1b44",
      "1862a333dde649bc9a1b12d0bbe838ff",
      "01b933e02f0c48d9a3951bf859848d5f",
      "b27e61d1a3784d88ab545068bb757a85",
      "4748ede683ca40179c7f9c2c894192a0",
      "9d732efbc24b4dba883ee0e668a351d1",
      "70a6916cfc6843b4ba4ec174f785d919",
      "d8a5d7aa67744fc1a6e970cdea414f48",
      "f812c25ce3d642068ed3c1d4892f18f4",
      "a237bf6597aa4993852c1e253511e40e"
     ]
    },
    "colab_type": "code",
    "id": "keuC-1Poowo0",
    "outputId": "4fd803ed-5cc7-4ce3-bec4-05784e2ad3db"
   },
   "outputs": [
    {
     "name": "stdout",
     "output_type": "stream",
     "text": [
      "Converting to features started.\n"
     ]
    },
    {
     "data": {
      "application/vnd.jupyter.widget-view+json": {
       "model_id": "3f507240001a437f8a886f931bfa5afb",
       "version_major": 2,
       "version_minor": 0
      },
      "text/plain": [
       "HBox(children=(IntProgress(value=0, max=1), HTML(value='')))"
      ]
     },
     "metadata": {
      "tags": []
     },
     "output_type": "display_data"
    },
    {
     "data": {
      "application/vnd.jupyter.widget-view+json": {
       "model_id": "9437b2b5cf6541a2b4a8bbf9ba907cca",
       "version_major": 2,
       "version_minor": 0
      },
      "text/plain": [
       "HBox(children=(IntProgress(value=0, max=1), HTML(value='')))"
      ]
     },
     "metadata": {
      "tags": []
     },
     "output_type": "display_data"
    },
    {
     "name": "stdout",
     "output_type": "stream",
     "text": [
      "Converting to features started.\n"
     ]
    },
    {
     "data": {
      "application/vnd.jupyter.widget-view+json": {
       "model_id": "dd0a3eea62d2432ea32b69de13e3eefa",
       "version_major": 2,
       "version_minor": 0
      },
      "text/plain": [
       "HBox(children=(IntProgress(value=0, max=1), HTML(value='')))"
      ]
     },
     "metadata": {
      "tags": []
     },
     "output_type": "display_data"
    },
    {
     "data": {
      "application/vnd.jupyter.widget-view+json": {
       "model_id": "da86f52250fe497e89626a5d26bd1e27",
       "version_major": 2,
       "version_minor": 0
      },
      "text/plain": [
       "HBox(children=(IntProgress(value=0, max=1), HTML(value='')))"
      ]
     },
     "metadata": {
      "tags": []
     },
     "output_type": "display_data"
    },
    {
     "name": "stdout",
     "output_type": "stream",
     "text": [
      "Converting to features started.\n"
     ]
    },
    {
     "data": {
      "application/vnd.jupyter.widget-view+json": {
       "model_id": "acdfbc0e14ee42ae9b981c03632ddc2c",
       "version_major": 2,
       "version_minor": 0
      },
      "text/plain": [
       "HBox(children=(IntProgress(value=0, max=1), HTML(value='')))"
      ]
     },
     "metadata": {
      "tags": []
     },
     "output_type": "display_data"
    },
    {
     "data": {
      "application/vnd.jupyter.widget-view+json": {
       "model_id": "e575ce63e7c24ef5b89fece7725cea64",
       "version_major": 2,
       "version_minor": 0
      },
      "text/plain": [
       "HBox(children=(IntProgress(value=0, max=1), HTML(value='')))"
      ]
     },
     "metadata": {
      "tags": []
     },
     "output_type": "display_data"
    },
    {
     "name": "stdout",
     "output_type": "stream",
     "text": [
      "Converting to features started.\n"
     ]
    },
    {
     "data": {
      "application/vnd.jupyter.widget-view+json": {
       "model_id": "b8b122c73c4f4871bf478d2688d3afb2",
       "version_major": 2,
       "version_minor": 0
      },
      "text/plain": [
       "HBox(children=(IntProgress(value=0, max=1), HTML(value='')))"
      ]
     },
     "metadata": {
      "tags": []
     },
     "output_type": "display_data"
    },
    {
     "data": {
      "application/vnd.jupyter.widget-view+json": {
       "model_id": "628c9b0512f74aba85c35922ba5923ff",
       "version_major": 2,
       "version_minor": 0
      },
      "text/plain": [
       "HBox(children=(IntProgress(value=0, max=1), HTML(value='')))"
      ]
     },
     "metadata": {
      "tags": []
     },
     "output_type": "display_data"
    },
    {
     "name": "stdout",
     "output_type": "stream",
     "text": [
      "Converting to features started.\n"
     ]
    },
    {
     "data": {
      "application/vnd.jupyter.widget-view+json": {
       "model_id": "b669d68316434e15ab472316475bb98b",
       "version_major": 2,
       "version_minor": 0
      },
      "text/plain": [
       "HBox(children=(IntProgress(value=0, max=1), HTML(value='')))"
      ]
     },
     "metadata": {
      "tags": []
     },
     "output_type": "display_data"
    },
    {
     "data": {
      "application/vnd.jupyter.widget-view+json": {
       "model_id": "749c641d0034431e9fb33219be18987d",
       "version_major": 2,
       "version_minor": 0
      },
      "text/plain": [
       "HBox(children=(IntProgress(value=0, max=1), HTML(value='')))"
      ]
     },
     "metadata": {
      "tags": []
     },
     "output_type": "display_data"
    },
    {
     "name": "stdout",
     "output_type": "stream",
     "text": [
      "Converting to features started.\n"
     ]
    },
    {
     "data": {
      "application/vnd.jupyter.widget-view+json": {
       "model_id": "4eae312744524f8da0fd3cc60ded1b44",
       "version_major": 2,
       "version_minor": 0
      },
      "text/plain": [
       "HBox(children=(IntProgress(value=0, max=1), HTML(value='')))"
      ]
     },
     "metadata": {
      "tags": []
     },
     "output_type": "display_data"
    },
    {
     "data": {
      "application/vnd.jupyter.widget-view+json": {
       "model_id": "1862a333dde649bc9a1b12d0bbe838ff",
       "version_major": 2,
       "version_minor": 0
      },
      "text/plain": [
       "HBox(children=(IntProgress(value=0, max=1), HTML(value='')))"
      ]
     },
     "metadata": {
      "tags": []
     },
     "output_type": "display_data"
    },
    {
     "name": "stdout",
     "output_type": "stream",
     "text": [
      "Converting to features started.\n"
     ]
    },
    {
     "data": {
      "application/vnd.jupyter.widget-view+json": {
       "model_id": "01b933e02f0c48d9a3951bf859848d5f",
       "version_major": 2,
       "version_minor": 0
      },
      "text/plain": [
       "HBox(children=(IntProgress(value=0, max=1), HTML(value='')))"
      ]
     },
     "metadata": {
      "tags": []
     },
     "output_type": "display_data"
    },
    {
     "data": {
      "application/vnd.jupyter.widget-view+json": {
       "model_id": "b27e61d1a3784d88ab545068bb757a85",
       "version_major": 2,
       "version_minor": 0
      },
      "text/plain": [
       "HBox(children=(IntProgress(value=0, max=1), HTML(value='')))"
      ]
     },
     "metadata": {
      "tags": []
     },
     "output_type": "display_data"
    },
    {
     "name": "stdout",
     "output_type": "stream",
     "text": [
      "Converting to features started.\n"
     ]
    },
    {
     "data": {
      "application/vnd.jupyter.widget-view+json": {
       "model_id": "4748ede683ca40179c7f9c2c894192a0",
       "version_major": 2,
       "version_minor": 0
      },
      "text/plain": [
       "HBox(children=(IntProgress(value=0, max=1), HTML(value='')))"
      ]
     },
     "metadata": {
      "tags": []
     },
     "output_type": "display_data"
    },
    {
     "data": {
      "application/vnd.jupyter.widget-view+json": {
       "model_id": "9d732efbc24b4dba883ee0e668a351d1",
       "version_major": 2,
       "version_minor": 0
      },
      "text/plain": [
       "HBox(children=(IntProgress(value=0, max=1), HTML(value='')))"
      ]
     },
     "metadata": {
      "tags": []
     },
     "output_type": "display_data"
    },
    {
     "name": "stdout",
     "output_type": "stream",
     "text": [
      "Converting to features started.\n"
     ]
    },
    {
     "data": {
      "application/vnd.jupyter.widget-view+json": {
       "model_id": "70a6916cfc6843b4ba4ec174f785d919",
       "version_major": 2,
       "version_minor": 0
      },
      "text/plain": [
       "HBox(children=(IntProgress(value=0, max=1), HTML(value='')))"
      ]
     },
     "metadata": {
      "tags": []
     },
     "output_type": "display_data"
    },
    {
     "data": {
      "application/vnd.jupyter.widget-view+json": {
       "model_id": "d8a5d7aa67744fc1a6e970cdea414f48",
       "version_major": 2,
       "version_minor": 0
      },
      "text/plain": [
       "HBox(children=(IntProgress(value=0, max=1), HTML(value='')))"
      ]
     },
     "metadata": {
      "tags": []
     },
     "output_type": "display_data"
    },
    {
     "name": "stdout",
     "output_type": "stream",
     "text": [
      "Converting to features started.\n"
     ]
    },
    {
     "data": {
      "application/vnd.jupyter.widget-view+json": {
       "model_id": "f812c25ce3d642068ed3c1d4892f18f4",
       "version_major": 2,
       "version_minor": 0
      },
      "text/plain": [
       "HBox(children=(IntProgress(value=0, max=1), HTML(value='')))"
      ]
     },
     "metadata": {
      "tags": []
     },
     "output_type": "display_data"
    },
    {
     "data": {
      "application/vnd.jupyter.widget-view+json": {
       "model_id": "a237bf6597aa4993852c1e253511e40e",
       "version_major": 2,
       "version_minor": 0
      },
      "text/plain": [
       "HBox(children=(IntProgress(value=0, max=1), HTML(value='')))"
      ]
     },
     "metadata": {
      "tags": []
     },
     "output_type": "display_data"
    }
   ],
   "source": [
    "resultats = {}\n",
    "for i in eval_df['sentence_id'].unique()[0:10]:\n",
    "    sentence = \" \".join(list(eval_df.loc[eval_df['sentence_id'] == i, 'words']))\n",
    "    predictions, raw_outputs = model.predict([sentence])\n",
    "    resultats[i] = predictions"
   ]
  },
  {
   "cell_type": "code",
   "execution_count": 21,
   "metadata": {
    "colab": {
     "base_uri": "https://localhost:8080/",
     "height": 1000
    },
    "colab_type": "code",
    "id": "T8PuFsXiowqY",
    "outputId": "6a7ccabd-a48b-4f4e-8cb8-e5485481b35c"
   },
   "outputs": [
    {
     "data": {
      "text/plain": [
       "{0: [[{'for': 'O'},\n",
       "   {'Boeing': 'MANU_B'},\n",
       "   {'print': 'O'},\n",
       "   {'us': 'O'},\n",
       "   {'an': 'O'},\n",
       "   {'slopes': 'STAT_B'},\n",
       "   {'of': 'O'},\n",
       "   {'the': 'O'},\n",
       "   {'sums': 'STUDIED_B'},\n",
       "   {'of': 'STUDIED_I'},\n",
       "   {'flights': 'STUDIED_E'},\n",
       "   {'in': 'O'},\n",
       "   {'CONGO': 'COUN_B'},\n",
       "   {'in': 'O'},\n",
       "   {'winter': 'DATE1_B'},\n",
       "   {'2044': 'DATE1_E'},\n",
       "   {'until': 'O'},\n",
       "   {'1936': 'DATE2_B'}]],\n",
       " 1: [[{'in': 'O'},\n",
       "   {'Usa': 'COUN_B'},\n",
       "   {'in': 'O'},\n",
       "   {'2014': 'DATE1_B'},\n",
       "   {'to': 'O'},\n",
       "   {'the': 'O'},\n",
       "   {'beginning': 'O'},\n",
       "   {'of': 'O'},\n",
       "   {'Winter': 'DATE2_B'},\n",
       "   {'1953': 'DATE2_E'},\n",
       "   {'display': 'O'},\n",
       "   {'me': 'O'},\n",
       "   {'an': 'O'},\n",
       "   {'slope': 'STAT_B'},\n",
       "   {'of': 'O'},\n",
       "   {'an': 'O'},\n",
       "   {'contentment': 'STUDIED_B'},\n",
       "   {'of': 'STUDIED_I'},\n",
       "   {'customers': 'STUDIED_E'}]],\n",
       " 2: [[{'histograms': 'STAT_B'},\n",
       "   {'of': 'O'},\n",
       "   {'the': 'O'},\n",
       "   {'amount': 'STUDIED_B'},\n",
       "   {'of': 'STUDIED_I'},\n",
       "   {'flights': 'STUDIED_E'},\n",
       "   {'in': 'O'},\n",
       "   {'MOZAMBIQUE': 'COUN_B'},\n",
       "   {'and': 'O'},\n",
       "   {'BURUNDI': 'COUN_B'},\n",
       "   {'from': 'O'},\n",
       "   {'the': 'O'},\n",
       "   {'beginning': 'O'},\n",
       "   {'of': 'O'},\n",
       "   {'2028': 'DATE1_B'},\n",
       "   {'to': 'O'},\n",
       "   {'the': 'O'},\n",
       "   {'beginning': 'O'},\n",
       "   {'of': 'O'},\n",
       "   {'1961': 'DATE2_B'}]],\n",
       " 3: [[{'highlight': 'O'},\n",
       "   {'me': 'O'},\n",
       "   {'the': 'O'},\n",
       "   {'plans': 'STAT_B'},\n",
       "   {'of': 'STAT_I'},\n",
       "   {'plane': 'STAT_E'}]],\n",
       " 4: [[{'plan': 'STAT_B'}, {'of': 'STAT_I'}, {'plane': 'STAT_E'}]],\n",
       " 5: [[{'for': 'O'},\n",
       "   {'Airbus': 'MANU_B'},\n",
       "   {'view': 'O'},\n",
       "   {'me': 'O'},\n",
       "   {'an': 'O'},\n",
       "   {'cloud': 'STAT_B'},\n",
       "   {'of': 'STAT_I'},\n",
       "   {'words': 'STAT_E'}]],\n",
       " 6: [[{'pie': 'STAT_B'},\n",
       "   {'chart': 'STAT_E'},\n",
       "   {'of': 'O'},\n",
       "   {'the': 'O'},\n",
       "   {'satisfaction': 'STUDIED_B'},\n",
       "   {'of': 'STUDIED_I'},\n",
       "   {'client': 'STUDIED_E'},\n",
       "   {'in': 'O'},\n",
       "   {'Australia': 'COUN_B'},\n",
       "   {'and': 'O'},\n",
       "   {'Mauritius': 'COUN_B'},\n",
       "   {'from': 'O'},\n",
       "   {'the': 'O'},\n",
       "   {'end': 'O'},\n",
       "   {'of': 'O'},\n",
       "   {'Autumn': 'DATE1_B'},\n",
       "   {'2020': 'DATE1_E'},\n",
       "   {'to': 'O'},\n",
       "   {'1948': 'DATE2_B'}]],\n",
       " 7: [[{'in': 'O'},\n",
       "   {'Somalia': 'COUN_B'},\n",
       "   {'from': 'O'},\n",
       "   {'1914': 'DATE1_B'},\n",
       "   {'to': 'O'},\n",
       "   {'autumn': 'DATE2_B'},\n",
       "   {'2036': 'DATE2_E'},\n",
       "   {'for': 'O'},\n",
       "   {'CESSNA': 'MANU_B'},\n",
       "   {',': 'O'},\n",
       "   {'Airbus': 'MANU_B'},\n",
       "   {'plans': 'STAT_B'},\n",
       "   {'of': 'STAT_I'},\n",
       "   {'plane': 'STAT_E'}]],\n",
       " 8: [[{'for': 'O'},\n",
       "   {'Boeing': 'MANU_B'},\n",
       "   {',': 'O'},\n",
       "   {'AIRBUS': 'MANU_B'},\n",
       "   {'plan': 'STAT_B'},\n",
       "   {'of': 'STAT_I'},\n",
       "   {'plane': 'STAT_E'}]],\n",
       " 9: [[{'print': 'O'},\n",
       "   {'us': 'O'},\n",
       "   {'the': 'O'},\n",
       "   {'graphs': 'STAT_B'},\n",
       "   {'of': 'O'},\n",
       "   {'an': 'O'},\n",
       "   {'quantity': 'STUDIED_B'},\n",
       "   {'of': 'STUDIED_I'},\n",
       "   {'flights': 'STUDIED_E'},\n",
       "   {'for': 'O'},\n",
       "   {'Cessna': 'MANU_B'},\n",
       "   {',': 'O'},\n",
       "   {'Cessna': 'MANU_B'}]]}"
      ]
     },
     "execution_count": 21,
     "metadata": {
      "tags": []
     },
     "output_type": "execute_result"
    }
   ],
   "source": [
    "resultats"
   ]
  }
 ],
 "metadata": {
  "accelerator": "GPU",
  "colab": {
   "collapsed_sections": [],
   "name": "bert_tagger.ipynb",
   "provenance": []
  },
  "kernelspec": {
   "display_name": "Python 3",
   "language": "python",
   "name": "python3"
  },
  "language_info": {
   "codemirror_mode": {
    "name": "ipython",
    "version": 3
   },
   "file_extension": ".py",
   "mimetype": "text/x-python",
   "name": "python",
   "nbconvert_exporter": "python",
   "pygments_lexer": "ipython3",
   "version": "3.6.9"
  },
  "widgets": {
   "application/vnd.jupyter.widget-state+json": {
    "01b933e02f0c48d9a3951bf859848d5f": {
     "model_module": "@jupyter-widgets/controls",
     "model_name": "HBoxModel",
     "state": {
      "_dom_classes": [],
      "_model_module": "@jupyter-widgets/controls",
      "_model_module_version": "1.5.0",
      "_model_name": "HBoxModel",
      "_view_count": null,
      "_view_module": "@jupyter-widgets/controls",
      "_view_module_version": "1.5.0",
      "_view_name": "HBoxView",
      "box_style": "",
      "children": [
       "IPY_MODEL_042b52985b524360a2d297e523676f63",
       "IPY_MODEL_ed1172fe53da43cd9ee47b7f419e5611"
      ],
      "layout": "IPY_MODEL_ee318a785d34498f8dbfe00c74ed2925"
     }
    },
    "1862a333dde649bc9a1b12d0bbe838ff": {
     "model_module": "@jupyter-widgets/controls",
     "model_name": "HBoxModel",
     "state": {
      "_dom_classes": [],
      "_model_module": "@jupyter-widgets/controls",
      "_model_module_version": "1.5.0",
      "_model_name": "HBoxModel",
      "_view_count": null,
      "_view_module": "@jupyter-widgets/controls",
      "_view_module_version": "1.5.0",
      "_view_name": "HBoxView",
      "box_style": "",
      "children": [
       "IPY_MODEL_a916129d739849af8a306489c9c4703b",
       "IPY_MODEL_3439a59760904ac08b15802ea5eb9de2"
      ],
      "layout": "IPY_MODEL_62f2ab1f11394a68b2ab0ebf4b646532"
     }
    },
    "3f507240001a437f8a886f931bfa5afb": {
     "model_module": "@jupyter-widgets/controls",
     "model_name": "HBoxModel",
     "state": {
      "_dom_classes": [],
      "_model_module": "@jupyter-widgets/controls",
      "_model_module_version": "1.5.0",
      "_model_name": "HBoxModel",
      "_view_count": null,
      "_view_module": "@jupyter-widgets/controls",
      "_view_module_version": "1.5.0",
      "_view_name": "HBoxView",
      "box_style": "",
      "children": [
       "IPY_MODEL_024714150c744967bc51b1433f8d81e8",
       "IPY_MODEL_82e93385040748fab66d8a96132f9385"
      ],
      "layout": "IPY_MODEL_f1a0bae06971493580241f08bffa82ab"
     }
    },
    "41cb46236cba4192902027766c7bf9b4": {
     "model_module": "@jupyter-widgets/controls",
     "model_name": "HBoxModel",
     "state": {
      "_dom_classes": [],
      "_model_module": "@jupyter-widgets/controls",
      "_model_module_version": "1.5.0",
      "_model_name": "HBoxModel",
      "_view_count": null,
      "_view_module": "@jupyter-widgets/controls",
      "_view_module_version": "1.5.0",
      "_view_name": "HBoxView",
      "box_style": "",
      "children": [
       "IPY_MODEL_5cba79b1a9384021a3ec57e75f525d77",
       "IPY_MODEL_e8ba89264968423ab777cc2013a4b21e"
      ],
      "layout": "IPY_MODEL_128df0f33d074365981ff1267a5652e5"
     }
    },
    "4748ede683ca40179c7f9c2c894192a0": {
     "model_module": "@jupyter-widgets/controls",
     "model_name": "HBoxModel",
     "state": {
      "_dom_classes": [],
      "_model_module": "@jupyter-widgets/controls",
      "_model_module_version": "1.5.0",
      "_model_name": "HBoxModel",
      "_view_count": null,
      "_view_module": "@jupyter-widgets/controls",
      "_view_module_version": "1.5.0",
      "_view_name": "HBoxView",
      "box_style": "",
      "children": [
       "IPY_MODEL_6b2c63bf06b64b25b52cf8f91c10b878",
       "IPY_MODEL_ee04c94b92c34abdb779f40e04c16537"
      ],
      "layout": "IPY_MODEL_06d355676f70400dac6101668fbd3eed"
     }
    },
    "4d93e8713b824349b50c74a5d54c1e70": {
     "model_module": "@jupyter-widgets/controls",
     "model_name": "HBoxModel",
     "state": {
      "_dom_classes": [],
      "_model_module": "@jupyter-widgets/controls",
      "_model_module_version": "1.5.0",
      "_model_name": "HBoxModel",
      "_view_count": null,
      "_view_module": "@jupyter-widgets/controls",
      "_view_module_version": "1.5.0",
      "_view_name": "HBoxView",
      "box_style": "",
      "children": [
       "IPY_MODEL_c152f606e4f341b7b09b7d5a3805d89b",
       "IPY_MODEL_4741056b46424c70816429115106f377"
      ],
      "layout": "IPY_MODEL_8ea15337ac2447d3bbbe6800e30e4a05"
     }
    },
    "4eae312744524f8da0fd3cc60ded1b44": {
     "model_module": "@jupyter-widgets/controls",
     "model_name": "HBoxModel",
     "state": {
      "_dom_classes": [],
      "_model_module": "@jupyter-widgets/controls",
      "_model_module_version": "1.5.0",
      "_model_name": "HBoxModel",
      "_view_count": null,
      "_view_module": "@jupyter-widgets/controls",
      "_view_module_version": "1.5.0",
      "_view_name": "HBoxView",
      "box_style": "",
      "children": [
       "IPY_MODEL_392523c8a75447dd82224749babc5fe7",
       "IPY_MODEL_30d7828c3740430594fff4063b840064"
      ],
      "layout": "IPY_MODEL_9fc8af419e364da6974368e042fef461"
     }
    },
    "628c9b0512f74aba85c35922ba5923ff": {
     "model_module": "@jupyter-widgets/controls",
     "model_name": "HBoxModel",
     "state": {
      "_dom_classes": [],
      "_model_module": "@jupyter-widgets/controls",
      "_model_module_version": "1.5.0",
      "_model_name": "HBoxModel",
      "_view_count": null,
      "_view_module": "@jupyter-widgets/controls",
      "_view_module_version": "1.5.0",
      "_view_name": "HBoxView",
      "box_style": "",
      "children": [
       "IPY_MODEL_f6ef1cd532034a5eb6c3d6c0928d2709",
       "IPY_MODEL_4673177828e74aa498f740ea6d9a8aff"
      ],
      "layout": "IPY_MODEL_9924fc3eec0941e1821e9b64307d3f53"
     }
    },
    "70a6916cfc6843b4ba4ec174f785d919": {
     "model_module": "@jupyter-widgets/controls",
     "model_name": "HBoxModel",
     "state": {
      "_dom_classes": [],
      "_model_module": "@jupyter-widgets/controls",
      "_model_module_version": "1.5.0",
      "_model_name": "HBoxModel",
      "_view_count": null,
      "_view_module": "@jupyter-widgets/controls",
      "_view_module_version": "1.5.0",
      "_view_name": "HBoxView",
      "box_style": "",
      "children": [
       "IPY_MODEL_5b356bc491b042f688cc232dab0193c9",
       "IPY_MODEL_e57cdc99db224d4f80ffe7e395c11eea"
      ],
      "layout": "IPY_MODEL_aa94802c06724934b7efbcf2ab3f3128"
     }
    },
    "749c641d0034431e9fb33219be18987d": {
     "model_module": "@jupyter-widgets/controls",
     "model_name": "HBoxModel",
     "state": {
      "_dom_classes": [],
      "_model_module": "@jupyter-widgets/controls",
      "_model_module_version": "1.5.0",
      "_model_name": "HBoxModel",
      "_view_count": null,
      "_view_module": "@jupyter-widgets/controls",
      "_view_module_version": "1.5.0",
      "_view_name": "HBoxView",
      "box_style": "",
      "children": [
       "IPY_MODEL_a1cc5e75c932484598f73d61ae723c27",
       "IPY_MODEL_75ec2b9cda0d4543a88d7dc5aeafc311"
      ],
      "layout": "IPY_MODEL_1af6494908bd42eb92bdb0bf02c96f27"
     }
    },
    "7afdec65190543bfafff79387e6871f8": {
     "model_module": "@jupyter-widgets/controls",
     "model_name": "HBoxModel",
     "state": {
      "_dom_classes": [],
      "_model_module": "@jupyter-widgets/controls",
      "_model_module_version": "1.5.0",
      "_model_name": "HBoxModel",
      "_view_count": null,
      "_view_module": "@jupyter-widgets/controls",
      "_view_module_version": "1.5.0",
      "_view_name": "HBoxView",
      "box_style": "",
      "children": [
       "IPY_MODEL_0d95cd0e6e9049a1a1e48b3ad5accd76",
       "IPY_MODEL_9b33c25b41214cdcbfaf556311bafa3c"
      ],
      "layout": "IPY_MODEL_4c917303011d4cf9b6be335c13dedbc9"
     }
    },
    "9437b2b5cf6541a2b4a8bbf9ba907cca": {
     "model_module": "@jupyter-widgets/controls",
     "model_name": "HBoxModel",
     "state": {
      "_dom_classes": [],
      "_model_module": "@jupyter-widgets/controls",
      "_model_module_version": "1.5.0",
      "_model_name": "HBoxModel",
      "_view_count": null,
      "_view_module": "@jupyter-widgets/controls",
      "_view_module_version": "1.5.0",
      "_view_name": "HBoxView",
      "box_style": "",
      "children": [
       "IPY_MODEL_2e1fec39cf4b4972b70b41365dacfae4",
       "IPY_MODEL_de0e2db3a3cc48bbbb61c9a260086650"
      ],
      "layout": "IPY_MODEL_232ab4926a794729becaf1c1c88b49f9"
     }
    },
    "9d732efbc24b4dba883ee0e668a351d1": {
     "model_module": "@jupyter-widgets/controls",
     "model_name": "HBoxModel",
     "state": {
      "_dom_classes": [],
      "_model_module": "@jupyter-widgets/controls",
      "_model_module_version": "1.5.0",
      "_model_name": "HBoxModel",
      "_view_count": null,
      "_view_module": "@jupyter-widgets/controls",
      "_view_module_version": "1.5.0",
      "_view_name": "HBoxView",
      "box_style": "",
      "children": [
       "IPY_MODEL_3382e99e6b0a4f0d98a2a33d58a700c3",
       "IPY_MODEL_3764be9efb80414494e3e0cd85f02319"
      ],
      "layout": "IPY_MODEL_b9195dafd7f047fbae2a63440c3c9174"
     }
    },
    "a237bf6597aa4993852c1e253511e40e": {
     "model_module": "@jupyter-widgets/controls",
     "model_name": "HBoxModel",
     "state": {
      "_dom_classes": [],
      "_model_module": "@jupyter-widgets/controls",
      "_model_module_version": "1.5.0",
      "_model_name": "HBoxModel",
      "_view_count": null,
      "_view_module": "@jupyter-widgets/controls",
      "_view_module_version": "1.5.0",
      "_view_name": "HBoxView",
      "box_style": "",
      "children": [
       "IPY_MODEL_b519cc33cf744346ac772d8023bd22a5",
       "IPY_MODEL_a6812c82e94e44d38b16db775666bc8f"
      ],
      "layout": "IPY_MODEL_fcaec478afb4435eb6f647951381c5b0"
     }
    },
    "acdfbc0e14ee42ae9b981c03632ddc2c": {
     "model_module": "@jupyter-widgets/controls",
     "model_name": "HBoxModel",
     "state": {
      "_dom_classes": [],
      "_model_module": "@jupyter-widgets/controls",
      "_model_module_version": "1.5.0",
      "_model_name": "HBoxModel",
      "_view_count": null,
      "_view_module": "@jupyter-widgets/controls",
      "_view_module_version": "1.5.0",
      "_view_name": "HBoxView",
      "box_style": "",
      "children": [
       "IPY_MODEL_e21fa9ed072143d69cd1d175e673638a",
       "IPY_MODEL_775eb760f6a247c185f9eb7c54820354"
      ],
      "layout": "IPY_MODEL_5152e54196b2448fbcd48bbbac70427a"
     }
    },
    "b27e61d1a3784d88ab545068bb757a85": {
     "model_module": "@jupyter-widgets/controls",
     "model_name": "HBoxModel",
     "state": {
      "_dom_classes": [],
      "_model_module": "@jupyter-widgets/controls",
      "_model_module_version": "1.5.0",
      "_model_name": "HBoxModel",
      "_view_count": null,
      "_view_module": "@jupyter-widgets/controls",
      "_view_module_version": "1.5.0",
      "_view_name": "HBoxView",
      "box_style": "",
      "children": [
       "IPY_MODEL_2b116fa461a74e89967d46d9337e57b9",
       "IPY_MODEL_75b0b90f3d0c40d68349a46a53aebaa3"
      ],
      "layout": "IPY_MODEL_d01ed6e1749f4bae95680f644bfb7f66"
     }
    },
    "b5f26fe1968e4a36ab2dface8ab63412": {
     "model_module": "@jupyter-widgets/controls",
     "model_name": "HBoxModel",
     "state": {
      "_dom_classes": [],
      "_model_module": "@jupyter-widgets/controls",
      "_model_module_version": "1.5.0",
      "_model_name": "HBoxModel",
      "_view_count": null,
      "_view_module": "@jupyter-widgets/controls",
      "_view_module_version": "1.5.0",
      "_view_name": "HBoxView",
      "box_style": "",
      "children": [
       "IPY_MODEL_82f8cd5f62b2404faaeec2eca2f3a4eb",
       "IPY_MODEL_bd044af8944e44b9a9a081f3e4bd577b"
      ],
      "layout": "IPY_MODEL_e7e12f3320ed4fdb8445f70b0583566e"
     }
    },
    "b5f3d8adae8c4a479285432d47123012": {
     "model_module": "@jupyter-widgets/controls",
     "model_name": "HBoxModel",
     "state": {
      "_dom_classes": [],
      "_model_module": "@jupyter-widgets/controls",
      "_model_module_version": "1.5.0",
      "_model_name": "HBoxModel",
      "_view_count": null,
      "_view_module": "@jupyter-widgets/controls",
      "_view_module_version": "1.5.0",
      "_view_name": "HBoxView",
      "box_style": "",
      "children": [
       "IPY_MODEL_adde5f7fefe14f13b7db576b5893b31a",
       "IPY_MODEL_bfd56871f36d46c498661c5dc4297a5e"
      ],
      "layout": "IPY_MODEL_87d3307f106341988bd25c8720c0f6b4"
     }
    },
    "b669d68316434e15ab472316475bb98b": {
     "model_module": "@jupyter-widgets/controls",
     "model_name": "HBoxModel",
     "state": {
      "_dom_classes": [],
      "_model_module": "@jupyter-widgets/controls",
      "_model_module_version": "1.5.0",
      "_model_name": "HBoxModel",
      "_view_count": null,
      "_view_module": "@jupyter-widgets/controls",
      "_view_module_version": "1.5.0",
      "_view_name": "HBoxView",
      "box_style": "",
      "children": [
       "IPY_MODEL_2668252a66d84f1e9d4102bc1b546915",
       "IPY_MODEL_1031afb6db214dd7be70e416b43a29a1"
      ],
      "layout": "IPY_MODEL_4e699cd8b663411ca0ad169dd7400ca2"
     }
    },
    "b8b122c73c4f4871bf478d2688d3afb2": {
     "model_module": "@jupyter-widgets/controls",
     "model_name": "HBoxModel",
     "state": {
      "_dom_classes": [],
      "_model_module": "@jupyter-widgets/controls",
      "_model_module_version": "1.5.0",
      "_model_name": "HBoxModel",
      "_view_count": null,
      "_view_module": "@jupyter-widgets/controls",
      "_view_module_version": "1.5.0",
      "_view_name": "HBoxView",
      "box_style": "",
      "children": [
       "IPY_MODEL_88fe0c0e9ebf41539b490cfff6d5477c",
       "IPY_MODEL_4800fcc9376a437ab51839d8f3c9e0d9"
      ],
      "layout": "IPY_MODEL_c94d04a98f414a86ba521ca266e65a89"
     }
    },
    "d8a5d7aa67744fc1a6e970cdea414f48": {
     "model_module": "@jupyter-widgets/controls",
     "model_name": "HBoxModel",
     "state": {
      "_dom_classes": [],
      "_model_module": "@jupyter-widgets/controls",
      "_model_module_version": "1.5.0",
      "_model_name": "HBoxModel",
      "_view_count": null,
      "_view_module": "@jupyter-widgets/controls",
      "_view_module_version": "1.5.0",
      "_view_name": "HBoxView",
      "box_style": "",
      "children": [
       "IPY_MODEL_0aaa214b1b8b41568026088aa04b4baf",
       "IPY_MODEL_a3063243cb4745e8a4a6961e0a7e0e8b"
      ],
      "layout": "IPY_MODEL_674f845951ac4f259ca06863f2839259"
     }
    },
    "da86f52250fe497e89626a5d26bd1e27": {
     "model_module": "@jupyter-widgets/controls",
     "model_name": "HBoxModel",
     "state": {
      "_dom_classes": [],
      "_model_module": "@jupyter-widgets/controls",
      "_model_module_version": "1.5.0",
      "_model_name": "HBoxModel",
      "_view_count": null,
      "_view_module": "@jupyter-widgets/controls",
      "_view_module_version": "1.5.0",
      "_view_name": "HBoxView",
      "box_style": "",
      "children": [
       "IPY_MODEL_18d73014d6534dbbb61044202c7d28e5",
       "IPY_MODEL_8dba5867435b4ab2ab3839c8cb0c85ac"
      ],
      "layout": "IPY_MODEL_a8c0da155aaf4528b1a3b7e882620305"
     }
    },
    "dd0a3eea62d2432ea32b69de13e3eefa": {
     "model_module": "@jupyter-widgets/controls",
     "model_name": "HBoxModel",
     "state": {
      "_dom_classes": [],
      "_model_module": "@jupyter-widgets/controls",
      "_model_module_version": "1.5.0",
      "_model_name": "HBoxModel",
      "_view_count": null,
      "_view_module": "@jupyter-widgets/controls",
      "_view_module_version": "1.5.0",
      "_view_name": "HBoxView",
      "box_style": "",
      "children": [
       "IPY_MODEL_09e860a58da3406396ef908ddce02cde",
       "IPY_MODEL_7e1f721bd7034f10a2afb8a4c5a650f5"
      ],
      "layout": "IPY_MODEL_958d46be7eb448d1925b9944ef53c627"
     }
    },
    "e575ce63e7c24ef5b89fece7725cea64": {
     "model_module": "@jupyter-widgets/controls",
     "model_name": "HBoxModel",
     "state": {
      "_dom_classes": [],
      "_model_module": "@jupyter-widgets/controls",
      "_model_module_version": "1.5.0",
      "_model_name": "HBoxModel",
      "_view_count": null,
      "_view_module": "@jupyter-widgets/controls",
      "_view_module_version": "1.5.0",
      "_view_name": "HBoxView",
      "box_style": "",
      "children": [
       "IPY_MODEL_14167425289a4917b42cbb9c5052c62e",
       "IPY_MODEL_fbdfcfcfb2c34c9c9ce4bdd557ad7197"
      ],
      "layout": "IPY_MODEL_a123e570bcbf4dcfae9bd1262c6a7d6c"
     }
    },
    "f812c25ce3d642068ed3c1d4892f18f4": {
     "model_module": "@jupyter-widgets/controls",
     "model_name": "HBoxModel",
     "state": {
      "_dom_classes": [],
      "_model_module": "@jupyter-widgets/controls",
      "_model_module_version": "1.5.0",
      "_model_name": "HBoxModel",
      "_view_count": null,
      "_view_module": "@jupyter-widgets/controls",
      "_view_module_version": "1.5.0",
      "_view_name": "HBoxView",
      "box_style": "",
      "children": [
       "IPY_MODEL_b8e9f13503cb4fb3b19650a51fee743d",
       "IPY_MODEL_45be51117f494aa193f5b65125b04551"
      ],
      "layout": "IPY_MODEL_3dbd596e29fd4b8488f20459d764d03b"
     }
    }
   }
  }
 },
 "nbformat": 4,
 "nbformat_minor": 1
}
