{
 "cells": [
  {
   "cell_type": "markdown",
   "metadata": {},
   "source": [
    "# Make the transition matrix from the database of events"
   ]
  },
  {
   "cell_type": "code",
   "execution_count": 1,
   "metadata": {},
   "outputs": [],
   "source": [
    "import pandas as pd\n",
    "import numpy as np\n",
    "import json\n",
    "from gensim.models import KeyedVectors"
   ]
  },
  {
   "cell_type": "code",
   "execution_count": 2,
   "metadata": {},
   "outputs": [],
   "source": [
    "%run constants.ipynb\n",
    "%run functions.ipynb\n",
    "%run dictionnaries.ipynb"
   ]
  },
  {
   "cell_type": "code",
   "execution_count": 3,
   "metadata": {},
   "outputs": [],
   "source": [
    "model_w2v = KeyedVectors.load_word2vec_format(pathword2vec, binary=True)"
   ]
  },
  {
   "cell_type": "markdown",
   "metadata": {},
   "source": [
    "##### make the database"
   ]
  },
  {
   "cell_type": "code",
   "execution_count": 12,
   "metadata": {},
   "outputs": [],
   "source": [
    "if False:\n",
    "    prevoc = get_prevoc()\n",
    "    voc = get_voc(model_w2v, prevoc)\n",
    "    bdd = make_bdd(prevoc, 50)\n",
    "    bdd.head()"
   ]
  },
  {
   "cell_type": "code",
   "execution_count": 5,
   "metadata": {},
   "outputs": [
    {
     "data": {
      "text/html": [
       "<div>\n",
       "<style scoped>\n",
       "    .dataframe tbody tr th:only-of-type {\n",
       "        vertical-align: middle;\n",
       "    }\n",
       "\n",
       "    .dataframe tbody tr th {\n",
       "        vertical-align: top;\n",
       "    }\n",
       "\n",
       "    .dataframe thead th {\n",
       "        text-align: right;\n",
       "    }\n",
       "</style>\n",
       "<table border=\"1\" class=\"dataframe\">\n",
       "  <thead>\n",
       "    <tr style=\"text-align: right;\">\n",
       "      <th></th>\n",
       "      <th>session</th>\n",
       "      <th>date</th>\n",
       "      <th>json</th>\n",
       "    </tr>\n",
       "  </thead>\n",
       "  <tbody>\n",
       "    <tr>\n",
       "      <td>0</td>\n",
       "      <td>0</td>\n",
       "      <td>07/11/2018 00h10m36s</td>\n",
       "      <td>{\"session\": 0, \"filters\": {\"manufacturer\": [\"A...</td>\n",
       "    </tr>\n",
       "    <tr>\n",
       "      <td>1</td>\n",
       "      <td>0</td>\n",
       "      <td>07/11/2018 00h15m00s</td>\n",
       "      <td>{\"session\": 0, \"filters\": {\"manufacturer\": [\"B...</td>\n",
       "    </tr>\n",
       "    <tr>\n",
       "      <td>2</td>\n",
       "      <td>0</td>\n",
       "      <td>07/11/2016 00h20m36s</td>\n",
       "      <td>{\"session\": 0, \"filters\": {\"manufacturer\": [ \"...</td>\n",
       "    </tr>\n",
       "    <tr>\n",
       "      <td>3</td>\n",
       "      <td>0</td>\n",
       "      <td>07/11/2016 00h23m36s</td>\n",
       "      <td>{\"session\": 0, \"filters\": {\"manufacturer\": [ \"...</td>\n",
       "    </tr>\n",
       "    <tr>\n",
       "      <td>4</td>\n",
       "      <td>0</td>\n",
       "      <td>07/11/2016 00h22m36s</td>\n",
       "      <td>{\"session\": 0, \"filters\": {\"manufacturer\": [ \"...</td>\n",
       "    </tr>\n",
       "    <tr>\n",
       "      <td>5</td>\n",
       "      <td>0</td>\n",
       "      <td>07/11/2016 00h25m36s</td>\n",
       "      <td>{\"session\": 0, \"filters\": {\"manufacturer\": [ \"...</td>\n",
       "    </tr>\n",
       "    <tr>\n",
       "      <td>6</td>\n",
       "      <td>0</td>\n",
       "      <td>07/11/2016 00h28m36s</td>\n",
       "      <td>{\"session\": 0, \"filters\": {\"manufacturer\": [ \"...</td>\n",
       "    </tr>\n",
       "    <tr>\n",
       "      <td>7</td>\n",
       "      <td>0</td>\n",
       "      <td>07/11/2016 00h30m36s</td>\n",
       "      <td>{\"session\": 0, \"filters\": {\"manufacturer\": [ \"...</td>\n",
       "    </tr>\n",
       "    <tr>\n",
       "      <td>8</td>\n",
       "      <td>0</td>\n",
       "      <td>07/11/2016 00h35m36s</td>\n",
       "      <td>{\"session\": 0, \"filters\": {\"manufacturer\": [ \"...</td>\n",
       "    </tr>\n",
       "    <tr>\n",
       "      <td>9</td>\n",
       "      <td>0</td>\n",
       "      <td>07/11/2016 00h40m36s</td>\n",
       "      <td>{\"session\": 0, \"filters\": {\"manufacturer\": [\"A...</td>\n",
       "    </tr>\n",
       "  </tbody>\n",
       "</table>\n",
       "</div>"
      ],
      "text/plain": [
       "   session                  date  \\\n",
       "0        0  07/11/2018 00h10m36s   \n",
       "1        0  07/11/2018 00h15m00s   \n",
       "2        0  07/11/2016 00h20m36s   \n",
       "3        0  07/11/2016 00h23m36s   \n",
       "4        0  07/11/2016 00h22m36s   \n",
       "5        0  07/11/2016 00h25m36s   \n",
       "6        0  07/11/2016 00h28m36s   \n",
       "7        0  07/11/2016 00h30m36s   \n",
       "8        0  07/11/2016 00h35m36s   \n",
       "9        0  07/11/2016 00h40m36s   \n",
       "\n",
       "                                                json  \n",
       "0  {\"session\": 0, \"filters\": {\"manufacturer\": [\"A...  \n",
       "1  {\"session\": 0, \"filters\": {\"manufacturer\": [\"B...  \n",
       "2  {\"session\": 0, \"filters\": {\"manufacturer\": [ \"...  \n",
       "3  {\"session\": 0, \"filters\": {\"manufacturer\": [ \"...  \n",
       "4  {\"session\": 0, \"filters\": {\"manufacturer\": [ \"...  \n",
       "5  {\"session\": 0, \"filters\": {\"manufacturer\": [ \"...  \n",
       "6  {\"session\": 0, \"filters\": {\"manufacturer\": [ \"...  \n",
       "7  {\"session\": 0, \"filters\": {\"manufacturer\": [ \"...  \n",
       "8  {\"session\": 0, \"filters\": {\"manufacturer\": [ \"...  \n",
       "9  {\"session\": 0, \"filters\": {\"manufacturer\": [\"A...  "
      ]
     },
     "execution_count": 5,
     "metadata": {},
     "output_type": "execute_result"
    }
   ],
   "source": [
    "df_bdd_history = pd.read_csv(bdd_directory+'df_bdd.csv', sep=',', engine='python',\n",
    "                             index_col=0, encoding='utf-8').reset_index()\n",
    "df_bdd_history"
   ]
  },
  {
   "cell_type": "code",
   "execution_count": 6,
   "metadata": {},
   "outputs": [],
   "source": [
    "bdd = df_bdd_history"
   ]
  },
  {
   "cell_type": "markdown",
   "metadata": {},
   "source": [
    "##### hash the jsons : create a single representation for every corresponding json"
   ]
  },
  {
   "cell_type": "code",
   "execution_count": 7,
   "metadata": {},
   "outputs": [],
   "source": [
    "bdd[CT_bdd_hash] = bdd[CT_bdd_json].apply(json_string_to_hash)"
   ]
  },
  {
   "cell_type": "markdown",
   "metadata": {},
   "source": [
    "##### extract the states"
   ]
  },
  {
   "cell_type": "code",
   "execution_count": 8,
   "metadata": {},
   "outputs": [],
   "source": [
    "etats = dict([(a, b)\n",
    "              for (b, a) in enumerate(sorted(bdd[CT_bdd_hash].unique()))])\n",
    "id_to_etats = dict((b, a) for (a, b) in etats.items())"
   ]
  },
  {
   "cell_type": "markdown",
   "metadata": {},
   "source": [
    "##### extract the transitions"
   ]
  },
  {
   "cell_type": "code",
   "execution_count": 9,
   "metadata": {},
   "outputs": [
    {
     "name": "stderr",
     "output_type": "stream",
     "text": [
      "/home/david/.local/lib/python3.6/site-packages/ipykernel_launcher.py:8: RuntimeWarning: invalid value encountered in true_divide\n",
      "  \n"
     ]
    }
   ],
   "source": [
    "transitions = np.zeros([len(etats), len(etats)])\n",
    "for session in bdd[\"session\"].unique():\n",
    "    for i in bdd[bdd[\"session\"] == session].index[1:]:\n",
    "        transitions[etats[bdd[CT_bdd_hash][i-1]],\n",
    "                    etats[bdd[CT_bdd_hash][i]]] += 1\n",
    "\n",
    "# to proba matrix\n",
    "transitions = (transitions.T / np.sum(transitions, axis=1)).T\n",
    "df_transitions = pd.DataFrame(transitions, columns=etats, index=etats)"
   ]
  },
  {
   "cell_type": "markdown",
   "metadata": {},
   "source": [
    "##### make a prediction"
   ]
  },
  {
   "cell_type": "code",
   "execution_count": 10,
   "metadata": {},
   "outputs": [
    {
     "data": {
      "text/plain": [
       "'{\"filters\": {\"manufacturer\": [\"airbus\", \"boeing\"], \"aircraft\": [], \"company\": [], \"country\": [], \"category\": [], \"date\": [\"01092017\", \"30092017\"]}, \"tab\": \"general\"}'"
      ]
     },
     "execution_count": 10,
     "metadata": {},
     "output_type": "execute_result"
    }
   ],
   "source": [
    "a = id_to_etats[0]\n",
    "\n",
    "predict_next_state(a, df_transitions)"
   ]
  },
  {
   "cell_type": "code",
   "execution_count": 11,
   "metadata": {},
   "outputs": [],
   "source": [
    "df_transitions.to_csv(bdd_directory+'df_transitions.csv',\n",
    "                      sep='§', encoding='utf-8')"
   ]
  },
  {
   "cell_type": "code",
   "execution_count": null,
   "metadata": {},
   "outputs": [],
   "source": []
  }
 ],
 "metadata": {
  "kernelspec": {
   "display_name": "Python 3",
   "language": "python",
   "name": "python3"
  },
  "language_info": {
   "codemirror_mode": {
    "name": "ipython",
    "version": 3
   },
   "file_extension": ".py",
   "mimetype": "text/x-python",
   "name": "python",
   "nbconvert_exporter": "python",
   "pygments_lexer": "ipython3",
   "version": "3.6.9"
  }
 },
 "nbformat": 4,
 "nbformat_minor": 2
}
