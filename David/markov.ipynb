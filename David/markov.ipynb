{
 "cells": [
  {
   "cell_type": "code",
   "execution_count": 1,
   "metadata": {},
   "outputs": [],
   "source": [
    "import pandas as pd\n",
    "import numpy as np\n",
    "import json\n",
    "from gensim.models import KeyedVectors"
   ]
  },
  {
   "cell_type": "code",
   "execution_count": 2,
   "metadata": {},
   "outputs": [],
   "source": [
    "%run constants.ipynb\n",
    "%run functions.ipynb\n",
    "%run dictionnaries.ipynb"
   ]
  },
  {
   "cell_type": "code",
   "execution_count": 3,
   "metadata": {},
   "outputs": [],
   "source": [
    "model_w2v = KeyedVectors.load_word2vec_format(pathword2vec, binary=True)"
   ]
  },
  {
   "cell_type": "code",
   "execution_count": 4,
   "metadata": {},
   "outputs": [],
   "source": [
    "prevoc = get_prevoc()\n",
    "voc = get_voc(model_w2v, prevoc)"
   ]
  },
  {
   "cell_type": "markdown",
   "metadata": {},
   "source": [
    "tabs = ['default','bars']\n",
    "cate = ['Seat', 'Food']\n",
    "manu = ['Airbus', 'Boeing', 'Cessna', 'Cirrus ','Pilatus', 'Matra']\n",
    "airl = list(df_airline['airline'].apply(preprocess))\n",
    "airc = list(df_aircraft['model'].apply(preprocess))"
   ]
  },
  {
   "cell_type": "markdown",
   "metadata": {},
   "source": [
    "##### make the database"
   ]
  },
  {
   "cell_type": "code",
   "execution_count": 5,
   "metadata": {},
   "outputs": [
    {
     "data": {
      "text/html": [
       "<div>\n",
       "<style scoped>\n",
       "    .dataframe tbody tr th:only-of-type {\n",
       "        vertical-align: middle;\n",
       "    }\n",
       "\n",
       "    .dataframe tbody tr th {\n",
       "        vertical-align: top;\n",
       "    }\n",
       "\n",
       "    .dataframe thead th {\n",
       "        text-align: right;\n",
       "    }\n",
       "</style>\n",
       "<table border=\"1\" class=\"dataframe\">\n",
       "  <thead>\n",
       "    <tr style=\"text-align: right;\">\n",
       "      <th></th>\n",
       "      <th>session</th>\n",
       "      <th>date</th>\n",
       "      <th>json</th>\n",
       "    </tr>\n",
       "  </thead>\n",
       "  <tbody>\n",
       "    <tr>\n",
       "      <td>0</td>\n",
       "      <td>0</td>\n",
       "      <td>19/06/2010 09h14m32s</td>\n",
       "      <td>{\"tab\": \"Food\", \"filters\": {\"manufacturer\": [\"...</td>\n",
       "    </tr>\n",
       "    <tr>\n",
       "      <td>1</td>\n",
       "      <td>0</td>\n",
       "      <td>17/05/2014 16h18m25s</td>\n",
       "      <td>{\"tab\": \"Seat\", \"filters\": {\"manufacturer\": [\"...</td>\n",
       "    </tr>\n",
       "    <tr>\n",
       "      <td>2</td>\n",
       "      <td>0</td>\n",
       "      <td>21/01/2011 23h06m15s</td>\n",
       "      <td>{\"tab\": \"Food\", \"filters\": {\"manufacturer\": [\"...</td>\n",
       "    </tr>\n",
       "    <tr>\n",
       "      <td>3</td>\n",
       "      <td>0</td>\n",
       "      <td>09/03/2019 06h39m16s</td>\n",
       "      <td>{\"tab\": \"Seat\", \"filters\": {\"manufacturer\": [\"...</td>\n",
       "    </tr>\n",
       "    <tr>\n",
       "      <td>4</td>\n",
       "      <td>1</td>\n",
       "      <td>12/06/2012 09h51m31s</td>\n",
       "      <td>{\"tab\": \"default\", \"filters\": {\"manufacturer\":...</td>\n",
       "    </tr>\n",
       "  </tbody>\n",
       "</table>\n",
       "</div>"
      ],
      "text/plain": [
       "  session                  date  \\\n",
       "0       0  19/06/2010 09h14m32s   \n",
       "1       0  17/05/2014 16h18m25s   \n",
       "2       0  21/01/2011 23h06m15s   \n",
       "3       0  09/03/2019 06h39m16s   \n",
       "4       1  12/06/2012 09h51m31s   \n",
       "\n",
       "                                                json  \n",
       "0  {\"tab\": \"Food\", \"filters\": {\"manufacturer\": [\"...  \n",
       "1  {\"tab\": \"Seat\", \"filters\": {\"manufacturer\": [\"...  \n",
       "2  {\"tab\": \"Food\", \"filters\": {\"manufacturer\": [\"...  \n",
       "3  {\"tab\": \"Seat\", \"filters\": {\"manufacturer\": [\"...  \n",
       "4  {\"tab\": \"default\", \"filters\": {\"manufacturer\":...  "
      ]
     },
     "execution_count": 5,
     "metadata": {},
     "output_type": "execute_result"
    }
   ],
   "source": [
    "bdd = make_bdd(prevoc, 50)\n",
    "bdd.head()"
   ]
  },
  {
   "cell_type": "markdown",
   "metadata": {},
   "source": [
    "##### hash the jsons : create a single representation for every corresponding json"
   ]
  },
  {
   "cell_type": "code",
   "execution_count": 6,
   "metadata": {},
   "outputs": [],
   "source": [
    "bdd[CT_bdd_hash] = bdd[CT_bdd_json].apply(json_string_to_hash)"
   ]
  },
  {
   "cell_type": "markdown",
   "metadata": {},
   "source": [
    "##### extract the states"
   ]
  },
  {
   "cell_type": "code",
   "execution_count": 7,
   "metadata": {},
   "outputs": [],
   "source": [
    "etats = dict([(a,b) for (b,a) in enumerate(sorted(bdd[CT_bdd_hash].unique()))])\n",
    "id_to_etats = dict((b,a) for (a,b) in etats.items())"
   ]
  },
  {
   "cell_type": "markdown",
   "metadata": {},
   "source": [
    "##### extract the transitions"
   ]
  },
  {
   "cell_type": "code",
   "execution_count": 8,
   "metadata": {},
   "outputs": [
    {
     "name": "stderr",
     "output_type": "stream",
     "text": [
      "/home/david/.local/lib/python3.6/site-packages/ipykernel_launcher.py:7: RuntimeWarning: invalid value encountered in true_divide\n",
      "  import sys\n"
     ]
    }
   ],
   "source": [
    "transitions = np.zeros([len(etats),len(etats)])\n",
    "for session in bdd[\"session\"].unique():\n",
    "    for i in bdd[bdd[\"session\"]==session].index[1:]:\n",
    "        transitions[etats[bdd[CT_bdd_hash][i-1]], etats[bdd[CT_bdd_hash][i]]] += 1\n",
    "        \n",
    "# to proba matrix\n",
    "transitions = (transitions.T / np.sum(transitions,axis=1)).T\n",
    "df_transitions = pd.DataFrame(transitions, columns=etats, index=etats)"
   ]
  },
  {
   "cell_type": "markdown",
   "metadata": {},
   "source": [
    "##### make a prediction"
   ]
  },
  {
   "cell_type": "code",
   "execution_count": 9,
   "metadata": {},
   "outputs": [
    {
     "data": {
      "text/plain": [
       "'{\"filters\": {\"manufacturer\": [\"airbus\", \"boeing\", \"cirrus \"], \"aircraft\": [\"40\", \"404\", \"c_2_greyhound\", \"cornell\"], \"company\": [\"air_tahiti\", \"mandarin_airlines\", \"waltair\"], \"country\": [\"solomon_islands\"], \"category\": [\"business\"], \"date\": [\"15112012\", \"29022015\"]}, \"tab\": \"seat\"}'"
      ]
     },
     "execution_count": 9,
     "metadata": {},
     "output_type": "execute_result"
    }
   ],
   "source": [
    "a = id_to_etats[0]\n",
    "\n",
    "predict_next_state(a, df_transitions)"
   ]
  },
  {
   "cell_type": "code",
   "execution_count": null,
   "metadata": {},
   "outputs": [],
   "source": []
  },
  {
   "cell_type": "code",
   "execution_count": 11,
   "metadata": {},
   "outputs": [],
   "source": [
    "df_transitions.to_csv(data_directory+'df_transitions.csv', sep='§', encoding='utf-8')"
   ]
  },
  {
   "cell_type": "code",
   "execution_count": null,
   "metadata": {},
   "outputs": [],
   "source": []
  }
 ],
 "metadata": {
  "kernelspec": {
   "display_name": "Python 3",
   "language": "python",
   "name": "python3"
  },
  "language_info": {
   "codemirror_mode": {
    "name": "ipython",
    "version": 3
   },
   "file_extension": ".py",
   "mimetype": "text/x-python",
   "name": "python",
   "nbconvert_exporter": "python",
   "pygments_lexer": "ipython3",
   "version": "3.6.9"
  }
 },
 "nbformat": 4,
 "nbformat_minor": 2
}
