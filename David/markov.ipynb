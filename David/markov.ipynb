{
 "cells": [
  {
   "cell_type": "markdown",
   "metadata": {},
   "source": [
    "Created on Fri Jan 17 17:03:35 2019  \n",
    "Group 9  \n",
    "@authors:  "
   ]
  },
  {
   "cell_type": "markdown",
   "metadata": {},
   "source": [
    "# Make the transition matrix from the database of events"
   ]
  },
  {
   "cell_type": "code",
   "execution_count": 1,
   "metadata": {},
   "outputs": [],
   "source": [
    "import pandas as pd\n",
    "import numpy as np\n",
    "import json\n",
    "from gensim.models import KeyedVectors"
   ]
  },
  {
   "cell_type": "code",
   "execution_count": 2,
   "metadata": {},
   "outputs": [],
   "source": [
    "%run constants.ipynb\n",
    "%run dictionnaries.ipynb\n",
    "%run functions.ipynb"
   ]
  },
  {
   "cell_type": "code",
   "execution_count": 3,
   "metadata": {},
   "outputs": [],
   "source": [
    "model_w2v = KeyedVectors.load_word2vec_format(pathword2vec, binary=True)"
   ]
  },
  {
   "cell_type": "markdown",
   "metadata": {},
   "source": [
    "##### make the database"
   ]
  },
  {
   "cell_type": "code",
   "execution_count": 5,
   "metadata": {},
   "outputs": [
    {
     "data": {
      "text/html": [
       "<div>\n",
       "<style scoped>\n",
       "    .dataframe tbody tr th:only-of-type {\n",
       "        vertical-align: middle;\n",
       "    }\n",
       "\n",
       "    .dataframe tbody tr th {\n",
       "        vertical-align: top;\n",
       "    }\n",
       "\n",
       "    .dataframe thead th {\n",
       "        text-align: right;\n",
       "    }\n",
       "</style>\n",
       "<table border=\"1\" class=\"dataframe\">\n",
       "  <thead>\n",
       "    <tr style=\"text-align: right;\">\n",
       "      <th></th>\n",
       "      <th>session</th>\n",
       "      <th>date</th>\n",
       "      <th>json</th>\n",
       "      <th>hash</th>\n",
       "    </tr>\n",
       "  </thead>\n",
       "  <tbody>\n",
       "    <tr>\n",
       "      <td>259</td>\n",
       "      <td>49</td>\n",
       "      <td>28/04/2010 23h50m42s</td>\n",
       "      <td>{\"tab\": \"Seat\", \"filters\": {\"manufacturer\": [\"...</td>\n",
       "      <td>{\"filters\": {\"aircraft\": [\"d_150_mascaret\"], \"...</td>\n",
       "    </tr>\n",
       "    <tr>\n",
       "      <td>260</td>\n",
       "      <td>49</td>\n",
       "      <td>28/01/2016 22h25m07s</td>\n",
       "      <td>{\"tab\": \"Seat\", \"filters\": {\"manufacturer\": [\"...</td>\n",
       "      <td>{\"filters\": {\"aircraft\": [\"f_22\", \"il_114\", \"s...</td>\n",
       "    </tr>\n",
       "    <tr>\n",
       "      <td>261</td>\n",
       "      <td>49</td>\n",
       "      <td>25/06/2016 20h42m02s</td>\n",
       "      <td>{\"tab\": \"Flight characteristics\", \"filters\": {...</td>\n",
       "      <td>{\"filters\": {\"aircraft\": [\"bt_67_turbo_67\", \"d...</td>\n",
       "    </tr>\n",
       "    <tr>\n",
       "      <td>262</td>\n",
       "      <td>49</td>\n",
       "      <td>22/01/2011 06h07m56s</td>\n",
       "      <td>{\"tab\": \"Flight characteristics\", \"filters\": {...</td>\n",
       "      <td>{\"filters\": {\"aircraft\": [\"ba_609\", \"mig_27_ba...</td>\n",
       "    </tr>\n",
       "    <tr>\n",
       "      <td>263</td>\n",
       "      <td>49</td>\n",
       "      <td>18/08/2015 05h08m34s</td>\n",
       "      <td>{\"tab\": \"Flight characteristics\", \"filters\": {...</td>\n",
       "      <td>{\"filters\": {\"aircraft\": [\"fa_200_aero_subaru\"...</td>\n",
       "    </tr>\n",
       "  </tbody>\n",
       "</table>\n",
       "</div>"
      ],
      "text/plain": [
       "    session                  date  \\\n",
       "259      49  28/04/2010 23h50m42s   \n",
       "260      49  28/01/2016 22h25m07s   \n",
       "261      49  25/06/2016 20h42m02s   \n",
       "262      49  22/01/2011 06h07m56s   \n",
       "263      49  18/08/2015 05h08m34s   \n",
       "\n",
       "                                                  json  \\\n",
       "259  {\"tab\": \"Seat\", \"filters\": {\"manufacturer\": [\"...   \n",
       "260  {\"tab\": \"Seat\", \"filters\": {\"manufacturer\": [\"...   \n",
       "261  {\"tab\": \"Flight characteristics\", \"filters\": {...   \n",
       "262  {\"tab\": \"Flight characteristics\", \"filters\": {...   \n",
       "263  {\"tab\": \"Flight characteristics\", \"filters\": {...   \n",
       "\n",
       "                                                  hash  \n",
       "259  {\"filters\": {\"aircraft\": [\"d_150_mascaret\"], \"...  \n",
       "260  {\"filters\": {\"aircraft\": [\"f_22\", \"il_114\", \"s...  \n",
       "261  {\"filters\": {\"aircraft\": [\"bt_67_turbo_67\", \"d...  \n",
       "262  {\"filters\": {\"aircraft\": [\"ba_609\", \"mig_27_ba...  \n",
       "263  {\"filters\": {\"aircraft\": [\"fa_200_aero_subaru\"...  "
      ]
     },
     "execution_count": 5,
     "metadata": {},
     "output_type": "execute_result"
    }
   ],
   "source": [
    "if True:\n",
    "    prevoc = get_prevoc()\n",
    "    voc = get_voc(model_w2v, prevoc)\n",
    "    bdd = make_bdd(prevoc, 50)\n",
    "\n",
    "bdd[CT_bdd_hash] = bdd[CT_bdd_json].apply(json_string_to_hash)\n",
    "bdd.tail()"
   ]
  },
  {
   "cell_type": "markdown",
   "metadata": {},
   "source": [
    "##### or load an existing one"
   ]
  },
  {
   "cell_type": "code",
   "execution_count": 6,
   "metadata": {},
   "outputs": [
    {
     "data": {
      "text/html": [
       "<div>\n",
       "<style scoped>\n",
       "    .dataframe tbody tr th:only-of-type {\n",
       "        vertical-align: middle;\n",
       "    }\n",
       "\n",
       "    .dataframe tbody tr th {\n",
       "        vertical-align: top;\n",
       "    }\n",
       "\n",
       "    .dataframe thead th {\n",
       "        text-align: right;\n",
       "    }\n",
       "</style>\n",
       "<table border=\"1\" class=\"dataframe\">\n",
       "  <thead>\n",
       "    <tr style=\"text-align: right;\">\n",
       "      <th></th>\n",
       "      <th>session</th>\n",
       "      <th>date</th>\n",
       "      <th>json</th>\n",
       "      <th>hash</th>\n",
       "    </tr>\n",
       "  </thead>\n",
       "  <tbody>\n",
       "    <tr>\n",
       "      <td>5</td>\n",
       "      <td>0</td>\n",
       "      <td>07/11/2016 00h25m36s</td>\n",
       "      <td>{\"session\": 0, \"filters\": {\"manufacturer\": [ \"...</td>\n",
       "      <td>{\"filters\": {\"aircraft\": [\"a350-900\"], \"catego...</td>\n",
       "    </tr>\n",
       "    <tr>\n",
       "      <td>6</td>\n",
       "      <td>0</td>\n",
       "      <td>07/11/2016 00h28m36s</td>\n",
       "      <td>{\"session\": 0, \"filters\": {\"manufacturer\": [ \"...</td>\n",
       "      <td>{\"filters\": {\"aircraft\": [\"a320\"], \"category\":...</td>\n",
       "    </tr>\n",
       "    <tr>\n",
       "      <td>7</td>\n",
       "      <td>0</td>\n",
       "      <td>07/11/2016 00h30m36s</td>\n",
       "      <td>{\"session\": 0, \"filters\": {\"manufacturer\": [ \"...</td>\n",
       "      <td>{\"filters\": {\"aircraft\": [\"a320\"], \"category\":...</td>\n",
       "    </tr>\n",
       "    <tr>\n",
       "      <td>8</td>\n",
       "      <td>0</td>\n",
       "      <td>07/11/2016 00h35m36s</td>\n",
       "      <td>{\"session\": 0, \"filters\": {\"manufacturer\": [ \"...</td>\n",
       "      <td>{\"filters\": {\"aircraft\": [\"a320\"], \"category\":...</td>\n",
       "    </tr>\n",
       "    <tr>\n",
       "      <td>9</td>\n",
       "      <td>0</td>\n",
       "      <td>07/11/2016 00h40m36s</td>\n",
       "      <td>{\"session\": 0, \"filters\": {\"manufacturer\": [\"A...</td>\n",
       "      <td>{\"filters\": {\"aircraft\": [], \"category\": [], \"...</td>\n",
       "    </tr>\n",
       "  </tbody>\n",
       "</table>\n",
       "</div>"
      ],
      "text/plain": [
       "   session                  date  \\\n",
       "5        0  07/11/2016 00h25m36s   \n",
       "6        0  07/11/2016 00h28m36s   \n",
       "7        0  07/11/2016 00h30m36s   \n",
       "8        0  07/11/2016 00h35m36s   \n",
       "9        0  07/11/2016 00h40m36s   \n",
       "\n",
       "                                                json  \\\n",
       "5  {\"session\": 0, \"filters\": {\"manufacturer\": [ \"...   \n",
       "6  {\"session\": 0, \"filters\": {\"manufacturer\": [ \"...   \n",
       "7  {\"session\": 0, \"filters\": {\"manufacturer\": [ \"...   \n",
       "8  {\"session\": 0, \"filters\": {\"manufacturer\": [ \"...   \n",
       "9  {\"session\": 0, \"filters\": {\"manufacturer\": [\"A...   \n",
       "\n",
       "                                                hash  \n",
       "5  {\"filters\": {\"aircraft\": [\"a350-900\"], \"catego...  \n",
       "6  {\"filters\": {\"aircraft\": [\"a320\"], \"category\":...  \n",
       "7  {\"filters\": {\"aircraft\": [\"a320\"], \"category\":...  \n",
       "8  {\"filters\": {\"aircraft\": [\"a320\"], \"category\":...  \n",
       "9  {\"filters\": {\"aircraft\": [], \"category\": [], \"...  "
      ]
     },
     "execution_count": 6,
     "metadata": {},
     "output_type": "execute_result"
    }
   ],
   "source": [
    "bdd = pd.read_csv(bdd_directory+'df_bdd.csv', sep=',', engine='python',\n",
    "                  index_col=0, encoding='utf-8').reset_index()\n",
    "\n",
    "bdd[CT_bdd_hash] = bdd[CT_bdd_json].apply(json_string_to_hash)\n",
    "bdd.tail()"
   ]
  },
  {
   "cell_type": "markdown",
   "metadata": {},
   "source": [
    "##### extract the states"
   ]
  },
  {
   "cell_type": "code",
   "execution_count": 7,
   "metadata": {},
   "outputs": [],
   "source": [
    "etats = dict([(a, b)\n",
    "              for (b, a) in enumerate(sorted(bdd[CT_bdd_hash].unique()))])\n",
    "id_to_etats = dict((b, a) for (a, b) in etats.items())"
   ]
  },
  {
   "cell_type": "markdown",
   "metadata": {},
   "source": [
    "##### extract the transitions"
   ]
  },
  {
   "cell_type": "code",
   "execution_count": 8,
   "metadata": {},
   "outputs": [
    {
     "name": "stderr",
     "output_type": "stream",
     "text": [
      "/home/david/.local/lib/python3.6/site-packages/ipykernel_launcher.py:8: RuntimeWarning: invalid value encountered in true_divide\n",
      "  \n"
     ]
    }
   ],
   "source": [
    "transitions = np.zeros([len(etats), len(etats)])\n",
    "for session in bdd[\"session\"].unique():\n",
    "    for i in bdd[bdd[\"session\"] == session].index[1:]:\n",
    "        transitions[etats[bdd[CT_bdd_hash][i-1]],\n",
    "                    etats[bdd[CT_bdd_hash][i]]] += 1\n",
    "\n",
    "# to proba matrix\n",
    "transitions = (transitions.T / np.sum(transitions, axis=1)).T\n",
    "df_transitions = pd.DataFrame(transitions, columns=etats, index=etats)"
   ]
  },
  {
   "cell_type": "markdown",
   "metadata": {},
   "source": [
    "##### make a prediction"
   ]
  },
  {
   "cell_type": "code",
   "execution_count": 9,
   "metadata": {},
   "outputs": [
    {
     "data": {
      "text/plain": [
       "'{\"filters\": {\"aircraft\": [\"a350-900\"], \"category\": [], \"company\": [], \"country\": [\"england\", \"france\", \"germany\", \"italy\", \"spain\"], \"date\": [\"01092017\", \"30092017\"], \"manufacturer\": [\"airbus\"]}, \"tab\": \"general\"}'"
      ]
     },
     "execution_count": 9,
     "metadata": {},
     "output_type": "execute_result"
    }
   ],
   "source": [
    "a = id_to_etats[0]\n",
    "\n",
    "predict_next_state(a, df_transitions)"
   ]
  },
  {
   "cell_type": "code",
   "execution_count": 10,
   "metadata": {},
   "outputs": [],
   "source": [
    "df_transitions.to_csv(bdd_directory+'df_transitions.csv',\n",
    "                      sep='§', encoding='utf-8')"
   ]
  },
  {
   "cell_type": "code",
   "execution_count": null,
   "metadata": {},
   "outputs": [],
   "source": []
  }
 ],
 "metadata": {
  "kernelspec": {
   "display_name": "Python 3",
   "language": "python",
   "name": "python3"
  },
  "language_info": {
   "codemirror_mode": {
    "name": "ipython",
    "version": 3
   },
   "file_extension": ".py",
   "mimetype": "text/x-python",
   "name": "python",
   "nbconvert_exporter": "python",
   "pygments_lexer": "ipython3",
   "version": "3.6.9"
  },
  "toc": {
   "base_numbering": 1,
   "nav_menu": {},
   "number_sections": true,
   "sideBar": true,
   "skip_h1_title": false,
   "title_cell": "Table of Contents",
   "title_sidebar": "Contents",
   "toc_cell": false,
   "toc_position": {},
   "toc_section_display": true,
   "toc_window_display": false
  }
 },
 "nbformat": 4,
 "nbformat_minor": 2
}
