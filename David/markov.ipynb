{
 "cells": [
  {
   "cell_type": "code",
   "execution_count": 1,
   "metadata": {},
   "outputs": [],
   "source": [
    "import pandas as pd\n",
    "import numpy as np\n",
    "import json"
   ]
  },
  {
   "cell_type": "code",
   "execution_count": 2,
   "metadata": {},
   "outputs": [],
   "source": [
    "def preprocess(w):\n",
    "    w = w.split(',')[0].strip()\n",
    "    w = w.split('(')[0].strip()\n",
    "    w = w.split('/')[0].strip()\n",
    "    w = \"_\".join(list(map(lambda x:x.strip(), w.split('&'))))\n",
    "    w = w.replace(\"St \",\"Saint \")\n",
    "    w = w.replace(\"-\",\" \")\n",
    "    w = w.replace(\".\",\" \")\n",
    "    w = w.replace(\"*\",\" \")\n",
    "    w = w.replace(\"\\'\",\" \")\n",
    "    w = w.split()\n",
    "    if w[-1].lower() == 'airport': w = w[0:-1]\n",
    "    if w[-1].lower() == 'intl': w = w[0:-1]\n",
    "    w = \"_\".join(w)\n",
    "    return w"
   ]
  },
  {
   "cell_type": "code",
   "execution_count": 3,
   "metadata": {},
   "outputs": [],
   "source": [
    "df_aircraft = pd.read_csv('./data/df_aircraft.csv', sep='§', engine='python',\n",
    "                          index_col=0, encoding='utf-8')\n",
    "df_airline = pd.read_csv('./data/df_airline.csv', sep='§', engine='python',\n",
    "                         index_col=0, encoding='utf-8')\n",
    "df_airport = pd.read_csv('./data/df_airport.csv', sep='§', engine='python',\n",
    "                         index_col=0, encoding='utf-8')\n",
    "df_country = pd.read_csv('./data/df_country.csv', sep='§', engine='python',\n",
    "                         index_col=0, encoding='utf-8')\n"
   ]
  },
  {
   "cell_type": "code",
   "execution_count": 4,
   "metadata": {},
   "outputs": [],
   "source": [
    "tabs = ['default','bars']\n",
    "cate = ['Seat', 'Food']\n",
    "manu = ['Airbus', 'Boeing', 'Cessna', 'Cirrus ','Pilatus', 'Matra']\n",
    "airl = list(df_airline['airline'].apply(preprocess))\n",
    "airc = list(df_aircraft['model'].apply(preprocess))"
   ]
  },
  {
   "cell_type": "code",
   "execution_count": 15,
   "metadata": {},
   "outputs": [],
   "source": [
    "CT_tabs = 'tab'\n",
    "CT_tabs_default = 'default'\n",
    "CT_sess = 'session'\n",
    "CT_date = 'date'\n",
    "CT_filt = 'filters'\n",
    "CT_filt_manu = 'manufacturer'\n",
    "CT_filt_airc = 'aircraft'\n",
    "CT_filt_airl = 'company'\n",
    "CT_filt_cate = 'category'\n",
    "CT_filt_date = 'date'\n",
    "\n",
    "CT_bdd_sess = 'session'\n",
    "CT_bdd_date = 'date'\n",
    "CT_bdd_json = 'json'\n",
    "CT_bdd_hash = 'hash'"
   ]
  },
  {
   "cell_type": "code",
   "execution_count": 16,
   "metadata": {},
   "outputs": [],
   "source": [
    "def make_date() -> str :\n",
    "    year = str(np.random.randint(2010,2020)).zfill(4)\n",
    "    month = str(np.random.randint(12)).zfill(2)\n",
    "    day = str(np.random.randint(31)).zfill(2)\n",
    "    return day+month+year\n",
    "\n",
    "def make_timestamp() -> str :\n",
    "    year = str(np.random.randint(2010,2020)).zfill(4)\n",
    "    month = str(np.random.randint(12)).zfill(2)\n",
    "    day = str(np.random.randint(31)).zfill(2)\n",
    "    hour = str(np.random.randint(24)).zfill(2)\n",
    "    minute = str(np.random.randint(60)).zfill(2)\n",
    "    sec = str(np.random.randint(60)).zfill(2)\n",
    "    return day+'/'+month+'/'+year+' '+hour+'h'+minute+'m'+sec+'s'\n",
    "\n",
    "def make_manu() -> str:\n",
    "    return np.random.choice(manu,1)[0]\n",
    "\n",
    "def make_airl() -> str:\n",
    "    return np.random.choice(airl,1)[0]\n",
    "\n",
    "def make_airc() -> str:\n",
    "    return np.random.choice(airc,1)[0]\n",
    "\n",
    "def make_cate() -> str:\n",
    "    return np.random.choice(cate,1)[0]\n",
    "\n",
    "def make_tab() -> str:\n",
    "    return np.random.choice(tabs,1)[0]\n",
    "\n",
    "def init_filters() -> dict:\n",
    "    filters = {\n",
    "        CT_filt_manu : [],\n",
    "        CT_filt_airc : [],\n",
    "        CT_filt_airl : [],\n",
    "        CT_filt_cate : [],\n",
    "        CT_filt_date : [],\n",
    "    }\n",
    "    return filters\n",
    "\n",
    "def make_event_str(sessid: int,\n",
    "                   timestamp: str,\n",
    "                   tab: str = None,\n",
    "                   filters : dict = None) -> str :\n",
    "    if tab is None:\n",
    "        tab = CT_tabs_default\n",
    "    if filters is None:\n",
    "        filters = init_filters()\n",
    "    \n",
    "    event = {\n",
    "        CT_sess : sessid,\n",
    "        CT_filt : filters,\n",
    "        CT_tabs : tab,\n",
    "        CT_date : timestamp,\n",
    "    }\n",
    "    \n",
    "    event_string = json.dumps(event)\n",
    "    return event_string\n",
    "\n",
    "def make_filters() -> dict:\n",
    "    filters = {\n",
    "        CT_filt_manu : [make_manu() for i in range(np.random.randint(5))],\n",
    "        CT_filt_airc : [make_airc() for i in range(np.random.randint(5))],\n",
    "        CT_filt_airl : [make_airl() for i in range(np.random.randint(5))],\n",
    "        CT_filt_cate : [make_cate() for i in range(np.random.randint(5))],\n",
    "        CT_filt_date : [make_date(), make_date()],\n",
    "    }\n",
    "    return filters\n",
    "\n",
    "def make_session(sessid:int, n=None) -> pd.DataFrame:\n",
    "    df = make_bdd(0)\n",
    "    if n is None:\n",
    "        n = np.random.randint(1,10)\n",
    "    for i in range(n):\n",
    "        timestamp = make_timestamp()\n",
    "        filters = make_filters()\n",
    "        tab = make_tab()\n",
    "        event = make_event_str(sessid, timestamp, tab , filters)\n",
    "        row = pd.Series([sessid, timestamp, event],\n",
    "                        index = df.columns)\n",
    "        df = df.append(row, ignore_index=True)\n",
    "    return df\n",
    "\n",
    "def make_bdd(nb_session : int = 1):\n",
    "    bdd = pd.DataFrame(columns=[CT_bdd_session, CT_bdd_date, CT_bdd_json])\n",
    "    for i in range(nb_session):\n",
    "        bdd = bdd.append(make_session(i)).reset_index(drop=True)\n",
    "    return bdd\n",
    "\n",
    "def hash_event_dict(content):\n",
    "    if isinstance(content, str):\n",
    "        res = content.lower()\n",
    "    \n",
    "    elif isinstance(content, int) or isinstance(content, float):\n",
    "        res = content\n",
    "    \n",
    "    elif isinstance(content, list):\n",
    "        res = []\n",
    "        content = sorted(set(content))\n",
    "        for ik,k in enumerate(content):\n",
    "            res += [hash_event_dict(content[ik])]\n",
    "    \n",
    "    elif isinstance(content, dict):\n",
    "        res = {}\n",
    "        for k in content.keys():\n",
    "            res[k] = hash_event_dict(content[k])\n",
    "    \n",
    "    elif isinstance(content, tuple):\n",
    "        res = tuple([])\n",
    "        content = sorted(set(content))\n",
    "        for ik,k in enumerate(content):\n",
    "            res += tuple([hash_event_dict(content[ik])])\n",
    "        \n",
    "    return res\n",
    "\n",
    "def json_string_to_hash(json_string):\n",
    "    event_dict = json.loads(str(json_string))\n",
    "    event_dict_to_hash = {\n",
    "        key : event_dict[key] \n",
    "        for key in sorted([k for k in event_dict.keys()\n",
    "                           if k not in [CT_sess, CT_date]])\n",
    "    }\n",
    "    event_dict_filtered = hash_event_dict(event_dict_to_hash)\n",
    "    event_dict_hasheded = json.dumps(event_dict_filtered)\n",
    "    return event_dict_hasheded"
   ]
  },
  {
   "cell_type": "markdown",
   "metadata": {},
   "source": [
    "##### make the database"
   ]
  },
  {
   "cell_type": "code",
   "execution_count": 17,
   "metadata": {},
   "outputs": [
    {
     "data": {
      "text/html": [
       "<div>\n",
       "<style scoped>\n",
       "    .dataframe tbody tr th:only-of-type {\n",
       "        vertical-align: middle;\n",
       "    }\n",
       "\n",
       "    .dataframe tbody tr th {\n",
       "        vertical-align: top;\n",
       "    }\n",
       "\n",
       "    .dataframe thead th {\n",
       "        text-align: right;\n",
       "    }\n",
       "</style>\n",
       "<table border=\"1\" class=\"dataframe\">\n",
       "  <thead>\n",
       "    <tr style=\"text-align: right;\">\n",
       "      <th></th>\n",
       "      <th>session</th>\n",
       "      <th>date</th>\n",
       "      <th>json</th>\n",
       "    </tr>\n",
       "  </thead>\n",
       "  <tbody>\n",
       "    <tr>\n",
       "      <td>0</td>\n",
       "      <td>0</td>\n",
       "      <td>19/11/2011 14h20m27s</td>\n",
       "      <td>{\"session\": 0, \"filters\": {\"manufacturer\": [\"C...</td>\n",
       "    </tr>\n",
       "    <tr>\n",
       "      <td>1</td>\n",
       "      <td>0</td>\n",
       "      <td>21/06/2011 16h05m50s</td>\n",
       "      <td>{\"session\": 0, \"filters\": {\"manufacturer\": [],...</td>\n",
       "    </tr>\n",
       "    <tr>\n",
       "      <td>2</td>\n",
       "      <td>1</td>\n",
       "      <td>01/08/2016 00h04m51s</td>\n",
       "      <td>{\"session\": 1, \"filters\": {\"manufacturer\": [\"C...</td>\n",
       "    </tr>\n",
       "    <tr>\n",
       "      <td>3</td>\n",
       "      <td>1</td>\n",
       "      <td>08/06/2016 04h02m18s</td>\n",
       "      <td>{\"session\": 1, \"filters\": {\"manufacturer\": [\"A...</td>\n",
       "    </tr>\n",
       "    <tr>\n",
       "      <td>4</td>\n",
       "      <td>1</td>\n",
       "      <td>25/00/2017 17h35m44s</td>\n",
       "      <td>{\"session\": 1, \"filters\": {\"manufacturer\": [],...</td>\n",
       "    </tr>\n",
       "  </tbody>\n",
       "</table>\n",
       "</div>"
      ],
      "text/plain": [
       "  session                  date  \\\n",
       "0       0  19/11/2011 14h20m27s   \n",
       "1       0  21/06/2011 16h05m50s   \n",
       "2       1  01/08/2016 00h04m51s   \n",
       "3       1  08/06/2016 04h02m18s   \n",
       "4       1  25/00/2017 17h35m44s   \n",
       "\n",
       "                                                json  \n",
       "0  {\"session\": 0, \"filters\": {\"manufacturer\": [\"C...  \n",
       "1  {\"session\": 0, \"filters\": {\"manufacturer\": [],...  \n",
       "2  {\"session\": 1, \"filters\": {\"manufacturer\": [\"C...  \n",
       "3  {\"session\": 1, \"filters\": {\"manufacturer\": [\"A...  \n",
       "4  {\"session\": 1, \"filters\": {\"manufacturer\": [],...  "
      ]
     },
     "execution_count": 17,
     "metadata": {},
     "output_type": "execute_result"
    }
   ],
   "source": [
    "bdd = make_bdd(50)\n",
    "bdd.head()"
   ]
  },
  {
   "cell_type": "markdown",
   "metadata": {},
   "source": [
    "##### hash the jsons : create a single representation for every corresponding json"
   ]
  },
  {
   "cell_type": "code",
   "execution_count": 18,
   "metadata": {},
   "outputs": [],
   "source": [
    "bdd[CT_bdd_hash] = bdd[CT_bdd_json].apply(json_string_to_hash)"
   ]
  },
  {
   "cell_type": "markdown",
   "metadata": {},
   "source": [
    "##### extract the states"
   ]
  },
  {
   "cell_type": "code",
   "execution_count": 19,
   "metadata": {},
   "outputs": [],
   "source": [
    "etats = dict([(a,b) for (b,a) in enumerate(sorted(bdd[CT_bdd_hash].unique()))])\n",
    "id_to_etats = dict(enumerate(sorted(bdd[CT_bdd_hash].unique())))"
   ]
  },
  {
   "cell_type": "markdown",
   "metadata": {},
   "source": [
    "##### extract the transitions"
   ]
  },
  {
   "cell_type": "code",
   "execution_count": 20,
   "metadata": {},
   "outputs": [],
   "source": [
    "transitions = np.zeros([len(etats),len(etats)])\n",
    "for i in range(1,len(bdd)):\n",
    "    transitions[etats[bdd[CT_bdd_hash][i-1]], etats[bdd[CT_bdd_hash][i]]] += 1"
   ]
  },
  {
   "cell_type": "code",
   "execution_count": null,
   "metadata": {},
   "outputs": [],
   "source": []
  },
  {
   "cell_type": "code",
   "execution_count": null,
   "metadata": {},
   "outputs": [],
   "source": []
  },
  {
   "cell_type": "code",
   "execution_count": null,
   "metadata": {},
   "outputs": [],
   "source": []
  }
 ],
 "metadata": {
  "kernelspec": {
   "display_name": "Python 3",
   "language": "python",
   "name": "python3"
  },
  "language_info": {
   "codemirror_mode": {
    "name": "ipython",
    "version": 3
   },
   "file_extension": ".py",
   "mimetype": "text/x-python",
   "name": "python",
   "nbconvert_exporter": "python",
   "pygments_lexer": "ipython3",
   "version": "3.6.9"
  }
 },
 "nbformat": 4,
 "nbformat_minor": 2
}
