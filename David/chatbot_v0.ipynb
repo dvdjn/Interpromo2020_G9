{
 "cells": [
  {
   "cell_type": "code",
   "execution_count": 1,
   "metadata": {},
   "outputs": [],
   "source": [
    "import pandas as pd\n",
    "import numpy as np\n",
    "import nltk\n",
    "import json\n",
    "from simpletransformers.ner import NERModel\n",
    "from gensim.models import KeyedVectors\n",
    "from strsimpy.jaro_winkler import JaroWinkler\n",
    "from spellchecker import SpellChecker  # pyspellchecker\n",
    "from nltk.corpus import stopwords"
   ]
  },
  {
   "cell_type": "markdown",
   "metadata": {
    "heading_collapsed": true
   },
   "source": [
    "##### Loads NER and W2V models \n",
    "source for the NER model : https://ufile.io/ichyycfe (or train it with bert_tagger.ipynb)  \n",
    "source for the W2V model : https://github.com/eyaler/word2vec-slim/blob/master/GoogleNews-vectors-negative300-SLIM.bin.gz  \n",
    "source for df_transitions : markov.ipynb"
   ]
  },
  {
   "cell_type": "code",
   "execution_count": 2,
   "metadata": {
    "hidden": true
   },
   "outputs": [],
   "source": [
    "%run constants.ipynb\n",
    "%run dictionnaries.ipynb"
   ]
  },
  {
   "cell_type": "code",
   "execution_count": 3,
   "metadata": {},
   "outputs": [],
   "source": [
    "all_tags = get_all_tags()\n",
    "tagger = NERModel(model_type='bert',\n",
    "                  model_name=data_directory+'bert/current_model/',\n",
    "                  labels=all_tags,\n",
    "                  use_cuda=False)\n",
    "\n",
    "model_w2v = KeyedVectors.load_word2vec_format(pathword2vec, binary=True)\n",
    "voc_stopwords = set(stopwords.words('english'))\n",
    "db = get_DB()"
   ]
  },
  {
   "cell_type": "code",
   "execution_count": 4,
   "metadata": {},
   "outputs": [
    {
     "data": {
      "text/plain": [
       "(10, 10)"
      ]
     },
     "execution_count": 4,
     "metadata": {},
     "output_type": "execute_result"
    }
   ],
   "source": [
    "df_transitions = pd.read_csv(bdd_directory+'df_transitions.csv',\n",
    "                             sep='§',\n",
    "                             engine='python',\n",
    "                             index_col=0,\n",
    "                             encoding='utf-8')\n",
    "df_transitions.shape"
   ]
  },
  {
   "cell_type": "code",
   "execution_count": 5,
   "metadata": {},
   "outputs": [
    {
     "data": {
      "text/plain": [
       "(104, 2)"
      ]
     },
     "execution_count": 5,
     "metadata": {},
     "output_type": "execute_result"
    }
   ],
   "source": [
    "df_facts = pd.read_csv(bdd_directory+'df_facts.csv',\n",
    "                       sep='§',\n",
    "                       engine='python',\n",
    "                       index_col=0,\n",
    "                       encoding='utf-8')\n",
    "df_facts.shape"
   ]
  },
  {
   "cell_type": "markdown",
   "metadata": {},
   "source": [
    "##### Functions"
   ]
  },
  {
   "cell_type": "code",
   "execution_count": 6,
   "metadata": {},
   "outputs": [],
   "source": [
    "%run functions.ipynb\n",
    "%run tag_to_filter.v1.ipynb"
   ]
  },
  {
   "cell_type": "markdown",
   "metadata": {},
   "source": [
    "##### Intents"
   ]
  },
  {
   "cell_type": "code",
   "execution_count": 7,
   "metadata": {},
   "outputs": [],
   "source": [
    "class Intent:\n",
    "    \"\"\" An intent is a function fo a chatbot, there can be multiple one.\n",
    "    This is a mother class\"\"\"\n",
    "\n",
    "    def __init__(self, name: str, state: str = None):\n",
    "        if state is None:\n",
    "            state = json.dumps(init_event(tab=CT_tabs_default))\n",
    "        self.name = name\n",
    "        self.interface_in = state\n",
    "        self.interface_out = None\n",
    "\n",
    "    def synchronize(self, event: str):\n",
    "        \"\"\" Even when there is no intercation with the chatboat, the dashboard\n",
    "        can synchronize it to get information back\"\"\"\n",
    "\n",
    "        self.interface_in = event\n",
    "        self.interface_out = None\n",
    "\n",
    "    def get_interface_in(self) -> str:\n",
    "        \"\"\" get the traduction of the intput from the interface\n",
    "        with the dashboard\"\"\"\n",
    "\n",
    "        return self.interface_in\n",
    "\n",
    "    def get_interface_out(self) -> str:\n",
    "        \"\"\" get the traduction of the output for the interface\n",
    "        with the dashboard\"\"\"\n",
    "\n",
    "        return self.interface_out\n",
    "\n",
    "    def interact(self, sentence: str = None) -> str:\n",
    "        \"\"\" This method is called by the chatbot and must return the sentence\n",
    "        to show in the chat\"\"\"\n",
    "\n",
    "        return \"Please implement this method\""
   ]
  },
  {
   "cell_type": "markdown",
   "metadata": {},
   "source": [
    "##### Markov recommandation"
   ]
  },
  {
   "cell_type": "code",
   "execution_count": 8,
   "metadata": {},
   "outputs": [
    {
     "data": {
      "text/plain": [
       "'{\"filters\": {\"aircraft\": [], \"category\": [], \"company\": [], \"country\": [], \"date\": [\"01092017\", \"30092017\"], \"manufacturer\": [\"airbus\", \"boeing\"]}, \"tab\": \"general\"}'"
      ]
     },
     "execution_count": 8,
     "metadata": {},
     "output_type": "execute_result"
    }
   ],
   "source": [
    "class Predictor:\n",
    "    \"\"\" This class is used to create the recommandation module\"\"\"\n",
    "\n",
    "    def __init__(self, name: str, transitions: pd.DataFrame):\n",
    "        self.name = name\n",
    "        self.transitions = transitions\n",
    "\n",
    "    def predict(self, event: str) -> str:\n",
    "        \"\"\" give the recommanded state\"\"\"\n",
    "        predict = predict_next_state(event, self.transitions)\n",
    "        return predict\n",
    "\n",
    "    def random_state(self):\n",
    "        \"\"\" give a random state\"\"\"\n",
    "        return np.random.choice(self.transitions.index)\n",
    "\n",
    "\n",
    "markov = Predictor(name='Markov', transitions=df_transitions.dropna())\n",
    "markov.predict(markov.random_state())"
   ]
  },
  {
   "cell_type": "markdown",
   "metadata": {},
   "source": [
    "##### creation of the intent displayer-recommandation"
   ]
  },
  {
   "cell_type": "code",
   "execution_count": 9,
   "metadata": {},
   "outputs": [],
   "source": [
    "class Displayer(Intent):\n",
    "    \"\"\" A displayer is an intent that understand a user sentence and return\n",
    "    to the dashboard by the interface the board to show and a next\n",
    "    recommandation \"\"\"\n",
    "\n",
    "    def __init__(self,\n",
    "                 name: str,\n",
    "                 model_tagger: NERModel,\n",
    "                 model_predicteur: Predictor,\n",
    "                 model_w2v: KeyedVectors,\n",
    "                 db: dict = {},\n",
    "                 voc_stopwords: set = set(),\n",
    "                 state: str = None):\n",
    "\n",
    "        super(Displayer, self).__init__(name)\n",
    "        self.tagger = model_tagger\n",
    "        self.predicteur = model_predicteur\n",
    "        self.w2v = model_w2v\n",
    "        self.voc_stopwords = voc_stopwords\n",
    "        self.db = db\n",
    "\n",
    "    def synchronize(self, event: str):\n",
    "        self.interface_in = json_string_to_hash(event)\n",
    "        self.interface_out = self.predicteur.predict(self.interface_in)\n",
    "\n",
    "    def get_tags(self, sentence: str) -> list:\n",
    "        \"\"\" Associate a tag to each word\"\"\"\n",
    "\n",
    "        sentence_corrected = self.auto_correction(sentence)\n",
    "        request = self.tagger.predict([sentence_corrected])[0][0]\n",
    "        print(request, '\\n')\n",
    "        return request\n",
    "\n",
    "    def get_filters(self, sentence: str) -> dict:\n",
    "        \"\"\" create the state to communicate with the dashboard\"\"\"\n",
    "\n",
    "        request = self.get_tags(sentence)\n",
    "        tags_values = extract_tags(request)\n",
    "        filters = tag_to_filters(tags_values)\n",
    "        filters = apply_date(filters)\n",
    "        event = {\n",
    "            CT_tabs: CT_tabs_default,\n",
    "            CT_filt: filters,\n",
    "        }\n",
    "        return event\n",
    "\n",
    "    def get_output_sentence(self, pred_state_hash: str) -> str:\n",
    "        \"\"\" create a sentence from a state \"\"\"\n",
    "\n",
    "        pred_sentence = make_sentence_fom_json(json.loads(pred_state_hash))\n",
    "        return pred_sentence\n",
    "\n",
    "    def interact(self, sentence: str) -> str:\n",
    "        event = self.get_filters(sentence)\n",
    "        event_state = json.dumps(event)\n",
    "        self.synchronize(event_state)\n",
    "\n",
    "        pred_state_hash = self.get_interface_out()\n",
    "        pred_sentence = self.get_output_sentence(pred_state_hash)\n",
    "\n",
    "        res = pred_sentence\n",
    "        return res\n",
    "\n",
    "    def auto_correction(self, sentence: str):\n",
    "        \"\"\" correction for typos before processing \"\"\"\n",
    "\n",
    "        return auto_correction(self.w2v.vocab, db, voc_stopwords, sentence)"
   ]
  },
  {
   "cell_type": "code",
   "execution_count": 10,
   "metadata": {},
   "outputs": [
    {
     "name": "stdout",
     "output_type": "stream",
     "text": [
      "Displayer_Recommandation\n",
      "None\n",
      "{\"filters\": {\"aircraft\": [\"a350-900\"], \"category\": [], \"company\": [\"air france\"], \"country\": [\"england\", \"france\"], \"date\": [\"01092017\", \"30092017\"], \"manufacturer\": [\"airbus\"]}, \"tab\": \"general\"}\n"
     ]
    }
   ],
   "source": [
    "Intent_displayer = Displayer(name='Displayer_Recommandation',\n",
    "                             model_tagger=tagger,\n",
    "                             model_predicteur=markov,\n",
    "                             model_w2v=model_w2v,\n",
    "                             voc_stopwords=voc_stopwords,\n",
    "                             db=db)\n",
    "print(Intent_displayer.name)\n",
    "print(Intent_displayer.get_interface_out())\n",
    "Intent_displayer.synchronize(Intent_displayer.interface_in)\n",
    "print(Intent_displayer.get_interface_out())"
   ]
  },
  {
   "cell_type": "markdown",
   "metadata": {},
   "source": [
    "##### Random intent"
   ]
  },
  {
   "cell_type": "code",
   "execution_count": 11,
   "metadata": {},
   "outputs": [],
   "source": [
    "class Random_info(Intent):\n",
    "    \"\"\" An other intent implemetation which randomly choose a sentences\n",
    "    from a database if called\"\"\"\n",
    "\n",
    "    def __init__(self, name, db={}):\n",
    "        super(Random_info, self).__init__(name)\n",
    "        self.db = db\n",
    "\n",
    "    def interact(self, sentence: str = None) -> str:\n",
    "        output = None\n",
    "        if db:\n",
    "            k = np.random.choice(list(random_bdd.keys()))\n",
    "            output = np.random.choice(list(random_bdd[k][\"sentences\"]))\n",
    "        return output"
   ]
  },
  {
   "cell_type": "code",
   "execution_count": 12,
   "metadata": {},
   "outputs": [
    {
     "name": "stdout",
     "output_type": "stream",
     "text": [
      "A woman flying in to Florida tried to smuggle a human head (along with hair, teeth, and skin) from Haiti in order to keep away evil spirits. She was charged with a smuggling a human head into the U.S. without documentation. She was also charged with failure to declare the head and for transporting hazardous material.\n"
     ]
    }
   ],
   "source": [
    "random_bdd = {}\n",
    "for s in list(df_facts['subject'].unique()):\n",
    "    random_bdd[s] = {}\n",
    "    random_bdd[s]['sentences'] = set(\n",
    "        df_facts.loc[df_facts['subject'] == s, 'facts'].values)\n",
    "\n",
    "Intent_random_info = Random_info(name='Random_Info', db=random_bdd)\n",
    "print(Intent_random_info.interact())"
   ]
  },
  {
   "cell_type": "markdown",
   "metadata": {},
   "source": [
    "##### Intent classifier"
   ]
  },
  {
   "cell_type": "code",
   "execution_count": 13,
   "metadata": {},
   "outputs": [
    {
     "name": "stdout",
     "output_type": "stream",
     "text": [
      "0\n"
     ]
    }
   ],
   "source": [
    "class Classifier:\n",
    "    \"\"\" This classifier let the chatbot choose the best intent when\n",
    "    receiving a user request\"\"\"\n",
    "\n",
    "    def __init__(self, name: str):\n",
    "        self.name = name\n",
    "\n",
    "    def predict(self, sentence: str) -> int:\n",
    "        if sentence.lower() == 'fact':\n",
    "            c = 1\n",
    "        else:\n",
    "            c = 0\n",
    "        return c\n",
    "\n",
    "\n",
    "classifier = Classifier(name='Intent classifieur')\n",
    "print(classifier.predict(sentence=\"\"))"
   ]
  },
  {
   "cell_type": "code",
   "execution_count": 14,
   "metadata": {},
   "outputs": [
    {
     "data": {
      "text/plain": [
       "{'classifier': <__main__.Classifier at 0x7fa7fb896400>,\n",
       " 'intents': {0: <__main__.Displayer at 0x7fa7fb8e7e10>,\n",
       "  1: <__main__.Random_info at 0x7fa7fb896518>}}"
      ]
     },
     "execution_count": 14,
     "metadata": {},
     "output_type": "execute_result"
    }
   ],
   "source": [
    "intents = {\"classifier\": classifier,\n",
    "           \"intents\": {0: Intent_displayer,\n",
    "                       1: Intent_random_info}\n",
    "           }\n",
    "intents"
   ]
  },
  {
   "cell_type": "markdown",
   "metadata": {},
   "source": [
    "##### Chatbot"
   ]
  },
  {
   "cell_type": "code",
   "execution_count": 15,
   "metadata": {},
   "outputs": [
    {
     "data": {
      "text/plain": [
       "0"
      ]
     },
     "execution_count": 15,
     "metadata": {},
     "output_type": "execute_result"
    }
   ],
   "source": [
    "class ChatBot:\n",
    "    \"\"\" The Chatbot\n",
    "    \"\"\"\n",
    "\n",
    "    def __init__(self, name, intents: dict):\n",
    "        self.name = name\n",
    "        self.classifier = intents['classifier']\n",
    "        self.intents = intents['intents']\n",
    "        self.active_intent = list(intents.keys())[0]\n",
    "\n",
    "    def classify(self, sentence: str) -> int:\n",
    "        \"\"\" Choose the best intent \"\"\"\n",
    "\n",
    "        self.active_intent = self.classifier.predict(sentence)\n",
    "\n",
    "    def interact(self, sentence: str) -> str:\n",
    "        \"\"\" Call the interact method of the selected intent \n",
    "        and return the sentence generated\"\"\"\n",
    "\n",
    "        self.classify(sentence)\n",
    "        intent = self.intents[self.active_intent]\n",
    "        interaction = intent.interact(sentence)\n",
    "        return interaction\n",
    "\n",
    "    def synchronize(self, event: str):\n",
    "        \"\"\" synchronize all the intents \"\"\"\n",
    "\n",
    "        for intent in self.intents.values():\n",
    "            intent.synchronize(event)\n",
    "\n",
    "    def get_interface_in(self) -> str:\n",
    "        \"\"\" get the traduction of the input from the interface\n",
    "        with the dashboard\"\"\"\n",
    "\n",
    "        return self.intents[self.active_intent].get_interface_in()\n",
    "\n",
    "    def get_interface_out(self) -> str:\n",
    "        \"\"\" get the traduction of the output for the interface\n",
    "        with the dashboard\"\"\"\n",
    "\n",
    "        return self.intents[self.active_intent].get_interface_out()\n",
    "\n",
    "\n",
    "Hubert = ChatBot(name='Chatbot Hubert', intents=intents)\n",
    "Hubert.classify('aertetreb')\n",
    "Hubert.active_intent"
   ]
  },
  {
   "cell_type": "code",
   "execution_count": 16,
   "metadata": {},
   "outputs": [
    {
     "name": "stdout",
     "output_type": "stream",
     "text": [
      "Converting to features started.\n"
     ]
    },
    {
     "data": {
      "application/vnd.jupyter.widget-view+json": {
       "model_id": "05f9add3c4c745308665f76689e46189",
       "version_major": 2,
       "version_minor": 0
      },
      "text/plain": [
       "HBox(children=(FloatProgress(value=0.0, max=1.0), HTML(value='')))"
      ]
     },
     "metadata": {},
     "output_type": "display_data"
    },
    {
     "name": "stdout",
     "output_type": "stream",
     "text": [
      "\n"
     ]
    },
    {
     "data": {
      "application/vnd.jupyter.widget-view+json": {
       "model_id": "5848c21a2fcc40a29439a20fc41849a1",
       "version_major": 2,
       "version_minor": 0
      },
      "text/plain": [
       "HBox(children=(FloatProgress(value=0.0, max=1.0), HTML(value='')))"
      ]
     },
     "metadata": {},
     "output_type": "display_data"
    },
    {
     "name": "stdout",
     "output_type": "stream",
     "text": [
      "\n",
      "[{'Show': 'O'}, {'me': 'O'}, {'the': 'O'}, {'graph': 'STAT_B'}, {'of': 'O'}, {'passengers': 'STUDIED_B'}, {'contentment': 'STUDIED_E'}, {'for': 'O'}, {'Matra': 'MANU_B'}, {'and': 'O'}, {'MATRA': 'MANU_B'}, {'and': 'O'}, {'AIRBUS': 'MANU_B'}, {'in': 'O'}, {'CONGO': 'COUN_B'}, {'from': 'O'}, {'10/1993': 'DATE1_B'}, {'to': 'O'}, {'the': 'O'}, {'end': 'O'}, {'of': 'O'}, {'the': 'O'}, {'year': 'O'}, {'1946': 'DATE2_B'}] \n",
      "\n",
      "IN :\t {\"filters\": {\"aircraft\": [], \"category\": [], \"company\": [], \"country\": [\"congo\"], \"date\": [\"01101993\", \"31121946\"], \"manufacturer\": [\"airbus\", \"matra\"]}, \"tab\": \"general\"} \n",
      "\n",
      "We suggest you the seats' study from 01-09-2017 to 30-09-2017 for the manufacturer airbus and for the aircrafta320 in france. If you agree, click on the following link ;) \n",
      "\n",
      "OUT :\t {\"filters\": {\"aircraft\": [\"a320\"], \"category\": [], \"company\": [], \"country\": [\"france\"], \"date\": [\"01092017\", \"30092017\"], \"manufacturer\": [\"airbus\"]}, \"tab\": \"seat\"} \n",
      "\n"
     ]
    }
   ],
   "source": [
    "sent = 'Show me the graph of passengrs contentments for Matra  \\\n",
    "    and MATRA and AIRBUS in CONGO from 10/1993 to the end of the year 1946'\n",
    "\n",
    "output_sentence = Hubert.interact(sent)\n",
    "input_interfac = Hubert.get_interface_in()\n",
    "output_interfac = Hubert.get_interface_out()\n",
    "\n",
    "print(\"IN :\\t\", input_interfac, '\\n')\n",
    "print(output_sentence, '\\n')\n",
    "print(\"OUT :\\t\", output_interfac, '\\n')"
   ]
  },
  {
   "cell_type": "code",
   "execution_count": null,
   "metadata": {},
   "outputs": [],
   "source": []
  }
 ],
 "metadata": {
  "kernelspec": {
   "display_name": "Python 3",
   "language": "python",
   "name": "python3"
  },
  "language_info": {
   "codemirror_mode": {
    "name": "ipython",
    "version": 3
   },
   "file_extension": ".py",
   "mimetype": "text/x-python",
   "name": "python",
   "nbconvert_exporter": "python",
   "pygments_lexer": "ipython3",
   "version": "3.6.9"
  },
  "toc": {
   "base_numbering": 1,
   "nav_menu": {},
   "number_sections": true,
   "sideBar": true,
   "skip_h1_title": false,
   "title_cell": "Table of Contents",
   "title_sidebar": "Contents",
   "toc_cell": false,
   "toc_position": {
    "height": "calc(100% - 180px)",
    "left": "10px",
    "top": "150px",
    "width": "264.188px"
   },
   "toc_section_display": true,
   "toc_window_display": true
  },
  "varInspector": {
   "cols": {
    "lenName": 16,
    "lenType": 16,
    "lenVar": 40
   },
   "kernels_config": {
    "python": {
     "delete_cmd_postfix": "",
     "delete_cmd_prefix": "del ",
     "library": "var_list.py",
     "varRefreshCmd": "print(var_dic_list())"
    },
    "r": {
     "delete_cmd_postfix": ") ",
     "delete_cmd_prefix": "rm(",
     "library": "var_list.r",
     "varRefreshCmd": "cat(var_dic_list()) "
    }
   },
   "types_to_exclude": [
    "module",
    "function",
    "builtin_function_or_method",
    "instance",
    "_Feature"
   ],
   "window_display": false
  }
 },
 "nbformat": 4,
 "nbformat_minor": 2
}
