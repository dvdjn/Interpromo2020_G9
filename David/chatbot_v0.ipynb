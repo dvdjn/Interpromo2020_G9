{
 "cells": [
  {
   "cell_type": "markdown",
   "metadata": {},
   "source": [
    "Created on Fri Jan 17 17:03:35 2019  \n",
    "Group 9  \n",
    "@authors:  "
   ]
  },
  {
   "cell_type": "code",
   "execution_count": 1,
   "metadata": {},
   "outputs": [],
   "source": [
    "import pandas as pd\n",
    "import numpy as np\n",
    "import nltk\n",
    "import json\n",
    "from simpletransformers.ner import NERModel\n",
    "from gensim.models import KeyedVectors\n",
    "from strsimpy.jaro_winkler import JaroWinkler\n",
    "from spellchecker import SpellChecker\n",
    "from nltk.corpus import stopwords"
   ]
  },
  {
   "cell_type": "code",
   "execution_count": 2,
   "metadata": {},
   "outputs": [],
   "source": [
    "%run constants.ipynb\n",
    "%run functions.ipynb\n",
    "%run dictionnaries.ipynb"
   ]
  },
  {
   "cell_type": "code",
   "execution_count": 3,
   "metadata": {},
   "outputs": [],
   "source": [
    "%run tag_to_filter.v1.ipynb"
   ]
  },
  {
   "cell_type": "code",
   "execution_count": 4,
   "metadata": {},
   "outputs": [
    {
     "data": {
      "text/plain": [
       "(10, 10)"
      ]
     },
     "execution_count": 4,
     "metadata": {},
     "output_type": "execute_result"
    }
   ],
   "source": [
    "df_transitions = pd.read_csv(bdd_directory+'df_transitions.csv', \n",
    "                             sep='§', \n",
    "                             engine='python',\n",
    "                             index_col=0, \n",
    "                             encoding='utf-8')\n",
    "df_transitions.shape"
   ]
  },
  {
   "cell_type": "code",
   "execution_count": 5,
   "metadata": {},
   "outputs": [
    {
     "data": {
      "text/plain": [
       "'{\"filters\": {\"manufacturer\": [\"airbus\"], \"aircraft\": [\"a320\"], \"company\": [\"air france\"], \"country\": [\"england\", \"france\"], \"category\": [], \"date\": [\"01092017\", \"30092017\"]}, \"tab\": \"seat\"}'"
      ]
     },
     "execution_count": 5,
     "metadata": {},
     "output_type": "execute_result"
    }
   ],
   "source": [
    "class Markov:\n",
    "    def __init__(self, name, transitions):\n",
    "        self.name = name\n",
    "        self.transitions = transitions\n",
    "        \n",
    "    def predict(self, event):\n",
    "        predict = predict_next_state(event, self.transitions)\n",
    "        return predict\n",
    "    \n",
    "    def random_state(self):\n",
    "        return np.random.choice(self.transitions.index)\n",
    "    \n",
    "markov = Markov('Markov', df_transitions)\n",
    "markov.predict(markov.random_state())"
   ]
  },
  {
   "cell_type": "markdown",
   "metadata": {},
   "source": [
    "### Loads NER and W2V models \n",
    "source for the NER model : https://ufile.io/ichyycfe  \n",
    "source for the W2V model : https://github.com/eyaler/word2vec-slim/blob/master/GoogleNews-vectors-negative300-SLIM.bin.gz  "
   ]
  },
  {
   "cell_type": "code",
   "execution_count": 6,
   "metadata": {},
   "outputs": [],
   "source": [
    "all_tags = get_all_tags()\n",
    "tagger = NERModel(model_type = 'bert',\n",
    "                  model_name = data_directory+'bert/current_model/',\n",
    "                  labels = all_tags,\n",
    "                  use_cuda = False)\n",
    "\n",
    "model_w2v = KeyedVectors.load_word2vec_format(pathword2vec, binary=True)\n",
    "voc_stopwords = set(stopwords.words('english'))\n",
    "db = get_BDD()"
   ]
  },
  {
   "cell_type": "code",
   "execution_count": 7,
   "metadata": {},
   "outputs": [
    {
     "data": {
      "text/plain": [
       "'Displayer_Recommandation'"
      ]
     },
     "execution_count": 7,
     "metadata": {},
     "output_type": "execute_result"
    }
   ],
   "source": [
    "class Intent:\n",
    "    def __init__(self, name, state=None):\n",
    "        if state is None: state = json.dumps(init_event(tab=CT_tabs_default))\n",
    "        self.name = name\n",
    "        self.interface_in = state\n",
    "        self.interface_out = None\n",
    "        \n",
    "    def synchronize(self, event):\n",
    "        self.interface_in = event\n",
    "        self.interface_out = None\n",
    "    \n",
    "    def get_interact_interface(self):\n",
    "        return self.interface_out\n",
    "        \n",
    "    def interact(self, sentence):\n",
    "        return \"Please Implement this method\"\n",
    "\n",
    "class Displayer(Intent):\n",
    "    def __init__(self, \n",
    "                 name, \n",
    "                 model_tagger, \n",
    "                 model_predicteur, \n",
    "                 model_w2v, \n",
    "                 db={}, \n",
    "                 voc_stopwords=set(),\n",
    "                 state=None):\n",
    "        \n",
    "        super(Displayer, self).__init__(name)\n",
    "        self.tagger = model_tagger\n",
    "        self.predicteur = model_predicteur\n",
    "        self.w2v = model_w2v\n",
    "        self.voc_stopwords = voc_stopwords\n",
    "        self.db = db\n",
    "        \n",
    "    def synchronize(self, event):\n",
    "        self.interface_in = event\n",
    "        self.interface_out = self.predicteur.predict(self.interface_in)\n",
    "    \n",
    "    def get_tags(self, sentence):\n",
    "        sentence_corrected_list = self.auto_correction(sentence)\n",
    "        sentence_corrected = \" \".join(sentence_corrected_list)\n",
    "        request = self.tagger.predict([sentence_corrected])[0][0]\n",
    "        print(request,'\\n')\n",
    "        return request\n",
    "    \n",
    "    def get_filters(self, sentence):\n",
    "        request = self.get_tags(sentence)\n",
    "        tags_values = extract_tags(request)\n",
    "        filters = tag_to_filters(tags_values)\n",
    "        filters = apply_date(filters)\n",
    "        event = {\n",
    "            CT_tabs : CT_tabs_default,\n",
    "            CT_filt : filters,\n",
    "        }\n",
    "        return event\n",
    "    \n",
    "    def get_output_sentence(self, pred_state_hash):\n",
    "        pred_sentence = make_sentence_fom_json(json.loads(pred_state_hash))\n",
    "        return pred_sentence\n",
    "    \n",
    "    def interact(self, sentence):\n",
    "        event = self.get_filters(sentence)\n",
    "        event_state = json.dumps(event)\n",
    "        self.synchronize(json_string_to_hash(event_state))\n",
    "        \n",
    "        pred_state_hash = self.get_interact_interface()\n",
    "        pred_sentence = self.get_output_sentence(pred_state_hash)\n",
    "        \n",
    "        res = pred_sentence\n",
    "        return res\n",
    "    \n",
    "    def auto_correction(self, sentence):\n",
    "        return auto_correction(self.w2v.vocab, db, voc_stopwords, sentence)\n",
    "    \n",
    "Intent_displayer = Displayer(name='Displayer_Recommandation',\n",
    "                           model_tagger=tagger,\n",
    "                           model_predicteur=markov,\n",
    "                           model_w2v=model_w2v,\n",
    "                           voc_stopwords=voc_stopwords,\n",
    "                           db=db)\n",
    "Intent_displayer.name"
   ]
  },
  {
   "cell_type": "code",
   "execution_count": 8,
   "metadata": {},
   "outputs": [
    {
     "data": {
      "text/plain": [
       "'{\"tab\": \"general\", \"filters\": {\"manufacturer\": [], \"aircraft\": [], \"company\": [], \"country\": [], \"category\": [], \"date\": []}}'"
      ]
     },
     "execution_count": 8,
     "metadata": {},
     "output_type": "execute_result"
    }
   ],
   "source": [
    "test_event = Intent_displayer.interface_in\n",
    "test_event"
   ]
  },
  {
   "cell_type": "code",
   "execution_count": 9,
   "metadata": {},
   "outputs": [
    {
     "data": {
      "text/plain": [
       "'{\"filters\": {\"manufacturer\": [\"airbus\"], \"aircraft\": [\"a350-900\"], \"company\": [], \"country\": [\"england\", \"france\", \"germany\", \"italy\", \"spain\"], \"category\": [], \"date\": [\"01092017\", \"30092017\"]}, \"tab\": \"general\"}'"
      ]
     },
     "execution_count": 9,
     "metadata": {},
     "output_type": "execute_result"
    }
   ],
   "source": [
    "Intent_displayer.synchronize(test_event)\n",
    "Intent_displayer.get_interact_interface()"
   ]
  },
  {
   "cell_type": "code",
   "execution_count": 10,
   "metadata": {},
   "outputs": [
    {
     "data": {
      "text/plain": [
       "0"
      ]
     },
     "execution_count": 10,
     "metadata": {},
     "output_type": "execute_result"
    }
   ],
   "source": [
    "class Classifieur:\n",
    "    def __init__(self, name, model_classifieur):\n",
    "        self.name = name\n",
    "        self.classifieur = model_classifieur\n",
    "        \n",
    "    def predict(self, sentence):\n",
    "        return 0\n",
    "\n",
    "Classifieur = Classifieur(name='Intent classifieur', model_classifieur=\"\")\n",
    "Classifieur.predict(sentence=\"\")"
   ]
  },
  {
   "cell_type": "code",
   "execution_count": 11,
   "metadata": {},
   "outputs": [
    {
     "data": {
      "text/plain": [
       "{'classifieur': <__main__.Classifieur at 0x7f599fcebc18>,\n",
       " 'intents': {0: <__main__.Displayer at 0x7f599fc8aac8>}}"
      ]
     },
     "execution_count": 11,
     "metadata": {},
     "output_type": "execute_result"
    }
   ],
   "source": [
    "intents  = {\"classifieur\" : Classifieur,\n",
    "            \"intents\" : {0 : Intent_displayer}\n",
    "           }\n",
    "\n",
    "intents"
   ]
  },
  {
   "cell_type": "code",
   "execution_count": 12,
   "metadata": {},
   "outputs": [],
   "source": [
    "class ChatBot:\n",
    "    def __init__(self, name, intents={}, classifieur=\"\"):\n",
    "        self.name = name\n",
    "        self.classifieur = intents['classifieur']\n",
    "        self.intents = intents['intents']\n",
    "        self.active_intent = list(intents.keys())[0]\n",
    "    \n",
    "    def classify(self, sentence):\n",
    "        self.active_intent = self.classifieur.predict(sentence)\n",
    "    \n",
    "    def interact(self, sentence):\n",
    "        self.classify(sentence)\n",
    "        intent = self.intents[self.active_intent]\n",
    "        interaction = intent.interact(sentence)\n",
    "        return interaction\n",
    "    \n",
    "    def synchronize(self, event):\n",
    "        for intent in self.intents.values():\n",
    "            intent.synchronize(event)\n",
    "    \n",
    "    def get_interact_interface(self):\n",
    "        return self.intents[self.active_intent].get_interact_interface()\n",
    "\n",
    "Hubert = ChatBot(name='Chatbot Hubert', intents=intents)\n",
    "Hubert.classify('aertetreb')\n",
    "Hubert.synchronize(test_event)"
   ]
  },
  {
   "cell_type": "code",
   "execution_count": 13,
   "metadata": {},
   "outputs": [
    {
     "name": "stdout",
     "output_type": "stream",
     "text": [
      "Converting to features started.\n"
     ]
    },
    {
     "data": {
      "application/vnd.jupyter.widget-view+json": {
       "model_id": "9855c729eaff4490b3d0398036f9b032",
       "version_major": 2,
       "version_minor": 0
      },
      "text/plain": [
       "HBox(children=(FloatProgress(value=0.0, max=1.0), HTML(value='')))"
      ]
     },
     "metadata": {},
     "output_type": "display_data"
    },
    {
     "name": "stdout",
     "output_type": "stream",
     "text": [
      "\n"
     ]
    },
    {
     "data": {
      "application/vnd.jupyter.widget-view+json": {
       "model_id": "a0e5fa0341d54c00b8226e7733dff6c8",
       "version_major": 2,
       "version_minor": 0
      },
      "text/plain": [
       "HBox(children=(FloatProgress(value=0.0, max=1.0), HTML(value='')))"
      ]
     },
     "metadata": {},
     "output_type": "display_data"
    },
    {
     "name": "stdout",
     "output_type": "stream",
     "text": [
      "\n",
      "[{'show': 'O'}, {'me': 'O'}, {'the': 'O'}, {'number': 'STUDIED_B'}, {'of': 'STUDIED_I'}, {'flight': 'STUDIED_E'}, {'in': 'O'}, {'France': 'COUN_B'}, {'for': 'O'}, {'Airbus': 'MANU_B'}] \n",
      "\n",
      "We suggest you the seats' study from 01-01-2017 to 31-12-2017 for the manufacturer airbus in france. If you agree, click on the following link ;) \n",
      "\n",
      "{\"filters\": {\"manufacturer\": [\"airbus\"], \"aircraft\": [], \"company\": [], \"country\": [\"france\"], \"category\": [], \"date\": [\"01012017\", \"31122017\"]}, \"tab\": \"seat\"} \n",
      "\n"
     ]
    }
   ],
   "source": [
    "%run functions.ipynb\n",
    "\n",
    "output_sentence = Hubert.interact('show me the numberd of flight in FRAnCE for Aribus')\n",
    "output_interfac = Hubert.get_interact_interface()\n",
    "\n",
    "print(output_sentence, '\\n')\n",
    "print(output_interfac, '\\n')"
   ]
  },
  {
   "cell_type": "code",
   "execution_count": null,
   "metadata": {},
   "outputs": [],
   "source": []
  }
 ],
 "metadata": {
  "kernelspec": {
   "display_name": "Python 3",
   "language": "python",
   "name": "python3"
  },
  "language_info": {
   "codemirror_mode": {
    "name": "ipython",
    "version": 3
   },
   "file_extension": ".py",
   "mimetype": "text/x-python",
   "name": "python",
   "nbconvert_exporter": "python",
   "pygments_lexer": "ipython3",
   "version": "3.6.9"
  }
 },
 "nbformat": 4,
 "nbformat_minor": 2
}
