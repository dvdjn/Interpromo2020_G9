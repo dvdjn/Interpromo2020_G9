{
 "cells": [
  {
   "cell_type": "code",
   "execution_count": 1,
   "metadata": {},
   "outputs": [],
   "source": [
    "import pandas as pd\n",
    "import numpy as np\n",
    "import nltk\n",
    "import json\n",
    "from simpletransformers.ner import NERModel\n",
    "from gensim.models import KeyedVectors\n",
    "from strsimpy.jaro_winkler import JaroWinkler\n",
    "from spellchecker import SpellChecker\n",
    "from nltk.corpus import stopwords"
   ]
  },
  {
   "cell_type": "code",
   "execution_count": 2,
   "metadata": {},
   "outputs": [],
   "source": [
    "%run constants.ipynb\n",
    "%run functions.ipynb\n",
    "%run dictionnaries.ipynb"
   ]
  },
  {
   "cell_type": "code",
   "execution_count": 3,
   "metadata": {},
   "outputs": [],
   "source": [
    "%run tag_to_filter.v1.ipynb"
   ]
  },
  {
   "cell_type": "code",
   "execution_count": 4,
   "metadata": {},
   "outputs": [
    {
     "data": {
      "text/plain": [
       "(10, 10)"
      ]
     },
     "execution_count": 4,
     "metadata": {},
     "output_type": "execute_result"
    }
   ],
   "source": [
    "df_transitions = pd.read_csv(bdd_directory+'df_transitions.csv', \n",
    "                             sep='§', \n",
    "                             engine='python',\n",
    "                             index_col=0, \n",
    "                             encoding='utf-8')\n",
    "df_transitions.shape"
   ]
  },
  {
   "cell_type": "code",
   "execution_count": 5,
   "metadata": {},
   "outputs": [
    {
     "data": {
      "text/plain": [
       "'{\"filters\": {\"manufacturer\": [\"airbus\"], \"aircraft\": [\"a320\"], \"company\": [], \"category\": [], \"date\": [\"01092017\", \"30092017\"]}, \"tab\": \"seat\"}'"
      ]
     },
     "execution_count": 5,
     "metadata": {},
     "output_type": "execute_result"
    }
   ],
   "source": [
    "class Markov:\n",
    "    def __init__(self, name, transitions):\n",
    "        self.name = name\n",
    "        self.transitions = transitions\n",
    "        \n",
    "    def predict(self, event):\n",
    "        predict = predict_next_state(event, self.transitions)\n",
    "        return predict\n",
    "    \n",
    "    def random_state(self):\n",
    "        return np.random.choice(self.transitions.index)\n",
    "    \n",
    "markov = Markov('Markov', df_transitions)\n",
    "markov.predict(markov.random_state())"
   ]
  },
  {
   "cell_type": "markdown",
   "metadata": {},
   "source": [
    "### Loads NER and W2V models \n",
    "source for the NER model : https://ufile.io/ichyycfe  \n",
    "source for the W2V model : https://github.com/eyaler/word2vec-slim/blob/master/GoogleNews-vectors-negative300-SLIM.bin.gz  "
   ]
  },
  {
   "cell_type": "code",
   "execution_count": 6,
   "metadata": {},
   "outputs": [],
   "source": [
    "all_tags = get_all_tags()\n",
    "tagger = NERModel(model_type = 'bert',\n",
    "                  model_name = data_directory+'bert/current_model',\n",
    "                  labels = all_tags,\n",
    "                  use_cuda = False)\n",
    "\n",
    "model_w2v = KeyedVectors.load_word2vec_format(pathword2vec, binary=True)\n",
    "voc_stopwords = set(stopwords.words('english'))\n",
    "db = get_BDD()"
   ]
  },
  {
   "cell_type": "code",
   "execution_count": 7,
   "metadata": {},
   "outputs": [
    {
     "data": {
      "text/plain": [
       "'Afficheur'"
      ]
     },
     "execution_count": 7,
     "metadata": {},
     "output_type": "execute_result"
    }
   ],
   "source": [
    "class Intent:\n",
    "    def __init__(self, name):\n",
    "        self.name = name\n",
    "\n",
    "class Afficheur(Intent):\n",
    "    def __init__(self, name, model_tagger, model_predicteur, model_w2v, db={}, voc_stopwords=set()):\n",
    "        self.name = name\n",
    "        self.tagger = model_tagger\n",
    "        self.predicteur = model_predicteur\n",
    "        self.w2v = model_w2v\n",
    "        self.voc_stopwords = voc_stopwords\n",
    "        self.db = db\n",
    "    \n",
    "    def get_tags(self, sentence):\n",
    "        sentence_corrected_list = self.auto_correction(sentence)\n",
    "        sentence_corrected = \" \".join(sentence_corrected_list)\n",
    "        request = self.tagger.predict([sentence_corrected])[0][0]\n",
    "        print(request,'\\n')\n",
    "        return request\n",
    "    \n",
    "    def get_filters(self, sentence):\n",
    "        request = self.get_tags(sentence)\n",
    "        tags_values = extract_tags(request)\n",
    "        filters = tag_to_filters(tags_values)\n",
    "        filters = apply_date(filters)\n",
    "        event = {\n",
    "            CT_tabs : CT_tabs_default,\n",
    "            CT_filt : filters,\n",
    "        }\n",
    "        return event\n",
    "    \n",
    "    def interact(self, sentence):\n",
    "        event = self.get_filters(sentence)\n",
    "        event_state = json.dumps(event)\n",
    "        event_state_hash = json_string_to_hash(event_state)\n",
    "        pred_state_hash = self.predicteur.predict(event_state_hash)\n",
    "        pred_sentence = make_sentence_fom_json(json.loads(pred_state_hash))\n",
    "        \n",
    "        res = {\"in_sate\" : event_state_hash,\n",
    "               \"out_state\" : pred_state_hash,\n",
    "               \"out_sentence\" : pred_sentence,}\n",
    "        return res\n",
    "    \n",
    "    def auto_correction(self, sentence):\n",
    "        return auto_correction(self.w2v.vocab, db, voc_stopwords, sentence)\n",
    "    \n",
    "Afficheur_Intent = Afficheur(name='Afficheur', \n",
    "                             model_tagger=tagger, \n",
    "                             model_predicteur=markov,\n",
    "                             model_w2v=model_w2v,\n",
    "                             voc_stopwords=voc_stopwords,\n",
    "                             db=db)\n",
    "Afficheur_Intent.name"
   ]
  },
  {
   "cell_type": "code",
   "execution_count": 8,
   "metadata": {},
   "outputs": [
    {
     "data": {
      "text/plain": [
       "0"
      ]
     },
     "execution_count": 8,
     "metadata": {},
     "output_type": "execute_result"
    }
   ],
   "source": [
    "class Classifieur:\n",
    "    def __init__(self, name, model_classifieur):\n",
    "        self.name = name\n",
    "        self.classifieur = model_classifieur\n",
    "        \n",
    "    def predict(self, sentence):\n",
    "        return 0\n",
    "\n",
    "Classifieur = Classifieur(name='Intent classifieur', model_classifieur=\"\")\n",
    "Classifieur.predict(sentence=\"\")"
   ]
  },
  {
   "cell_type": "code",
   "execution_count": 9,
   "metadata": {},
   "outputs": [
    {
     "data": {
      "text/plain": [
       "{'classifieur': <__main__.Classifieur at 0x7f1c7a3f58d0>,\n",
       " 'intents': {0: <__main__.Afficheur at 0x7f1c7a3f56d8>}}"
      ]
     },
     "execution_count": 9,
     "metadata": {},
     "output_type": "execute_result"
    }
   ],
   "source": [
    "intents  = {\"classifieur\" : Classifieur,\n",
    "            \"intents\" : {0 : Afficheur_Intent}\n",
    "           }\n",
    "\n",
    "intents"
   ]
  },
  {
   "cell_type": "code",
   "execution_count": 10,
   "metadata": {},
   "outputs": [
    {
     "data": {
      "text/plain": [
       "0"
      ]
     },
     "execution_count": 10,
     "metadata": {},
     "output_type": "execute_result"
    }
   ],
   "source": [
    "class ChatBot:\n",
    "    def __init__(self, name, intents={}, classifieur=\"\"):\n",
    "        self.name = name\n",
    "        self.classifieur = intents['classifieur']\n",
    "        self.intents = intents['intents']\n",
    "        \n",
    "    def get_intent_classification(self, sentence):\n",
    "        return self.classifieur.predict(sentence)\n",
    "    \n",
    "    def interact(self, sentence):\n",
    "        intent_id = self.get_intent_classification(sentence)\n",
    "        intent = self.intents[intent_id]\n",
    "        interaction = intent.interact(sentence)\n",
    "        return interaction\n",
    "\n",
    "    \n",
    "    \n",
    "Hubert = ChatBot(name='Chatbot Hubert', intents=intents)\n",
    "Hubert.get_intent_classification('aertetreb')"
   ]
  },
  {
   "cell_type": "code",
   "execution_count": 11,
   "metadata": {},
   "outputs": [
    {
     "name": "stdout",
     "output_type": "stream",
     "text": [
      "Converting to features started.\n"
     ]
    },
    {
     "data": {
      "application/vnd.jupyter.widget-view+json": {
       "model_id": "2a1c5b8823cb4a95ac4596a33cc03098",
       "version_major": 2,
       "version_minor": 0
      },
      "text/plain": [
       "HBox(children=(FloatProgress(value=0.0, max=1.0), HTML(value='')))"
      ]
     },
     "metadata": {},
     "output_type": "display_data"
    },
    {
     "name": "stdout",
     "output_type": "stream",
     "text": [
      "\n"
     ]
    },
    {
     "data": {
      "application/vnd.jupyter.widget-view+json": {
       "model_id": "d2770243387f46338489b750b1699603",
       "version_major": 2,
       "version_minor": 0
      },
      "text/plain": [
       "HBox(children=(FloatProgress(value=0.0, max=1.0), HTML(value='')))"
      ]
     },
     "metadata": {},
     "output_type": "display_data"
    },
    {
     "name": "stdout",
     "output_type": "stream",
     "text": [
      "\n",
      "[{'show': 'O'}, {'me': 'O'}, {'number': 'STUDIED_B'}, {'of': 'STUDIED_I'}, {'flight': 'STUDIED_E'}, {'in': 'O'}, {'France': 'COUN_B'}, {'for': 'O'}, {'Airbus': 'MANU_B'}] \n",
      "\n",
      "in_sate :\t {\"filters\": {\"manufacturer\": [\"airbus\"], \"aircraft\": [], \"company\": [], \"country\": [\"france\"], \"category\": [], \"date\": []}, \"tab\": \"default\"} \n",
      "\n",
      "out_state :\t {\"filters\": {\"manufacturer\": [\"airbus\"], \"aircraft\": [\"a350-900\"], \"company\": [\"air france\"], \"category\": [], \"date\": [\"01092017\", \"30092017\"]}, \"tab\": \"general\"} \n",
      "\n",
      "out_sentence :\t We suggest you thegenerals' study from 01-09-2017 to 30-09-2017 for the manufacturerairbus and for the aircrafta350-900 and for the companyair france and. If you agree, click onto the following link ;) \n",
      "\n"
     ]
    }
   ],
   "source": [
    "res = Hubert.interact('show me numberd of flight in FRAnCE for Airbus')\n",
    "for k,v in res.items():\n",
    "    print(k,':\\t',v,'\\n')"
   ]
  },
  {
   "cell_type": "code",
   "execution_count": null,
   "metadata": {},
   "outputs": [],
   "source": []
  },
  {
   "cell_type": "code",
   "execution_count": null,
   "metadata": {},
   "outputs": [],
   "source": []
  }
 ],
 "metadata": {
  "kernelspec": {
   "display_name": "Python 3",
   "language": "python",
   "name": "python3"
  },
  "language_info": {
   "codemirror_mode": {
    "name": "ipython",
    "version": 3
   },
   "file_extension": ".py",
   "mimetype": "text/x-python",
   "name": "python",
   "nbconvert_exporter": "python",
   "pygments_lexer": "ipython3",
   "version": "3.6.9"
  }
 },
 "nbformat": 4,
 "nbformat_minor": 2
}
