{
 "cells": [
  {
   "cell_type": "markdown",
   "metadata": {},
   "source": [
    "Created on Fri Jan 17 17:03:35 2019  \n",
    "Group 9  \n",
    "@authors:  "
   ]
  },
  {
   "cell_type": "code",
   "execution_count": 1,
   "metadata": {},
   "outputs": [],
   "source": [
    "import pandas as pd\n",
    "import numpy as np\n",
    "import nltk\n",
    "import json\n",
    "from simpletransformers.ner import NERModel\n",
    "from gensim.models import KeyedVectors\n",
    "from strsimpy.jaro_winkler import JaroWinkler\n",
    "from spellchecker import SpellChecker\n",
    "from nltk.corpus import stopwords"
   ]
  },
  {
   "cell_type": "code",
   "execution_count": 2,
   "metadata": {},
   "outputs": [],
   "source": [
    "%run constants.ipynb\n",
    "%run functions.ipynb\n",
    "%run dictionnaries.ipynb"
   ]
  },
  {
   "cell_type": "code",
   "execution_count": 3,
   "metadata": {},
   "outputs": [],
   "source": [
    "%run tag_to_filter.v1.ipynb"
   ]
  },
  {
   "cell_type": "code",
   "execution_count": 4,
   "metadata": {},
   "outputs": [
    {
     "data": {
      "text/plain": [
       "(10, 10)"
      ]
     },
     "execution_count": 4,
     "metadata": {},
     "output_type": "execute_result"
    }
   ],
   "source": [
    "df_transitions = pd.read_csv(bdd_directory+'df_transitions.csv',\n",
    "                             sep='§',\n",
    "                             engine='python',\n",
    "                             index_col=0,\n",
    "                             encoding='utf-8')\n",
    "df_transitions.shape"
   ]
  },
  {
   "cell_type": "code",
   "execution_count": 5,
   "metadata": {},
   "outputs": [
    {
     "data": {
      "text/plain": [
       "'{\"filters\": {\"aircraft\": [], \"category\": [], \"company\": [], \"country\": [\"england\", \"france\", \"germany\", \"italy\", \"spain\"], \"date\": [\"01092017\", \"30092017\"], \"manufacturer\": [\"airbus\"]}, \"tab\": \"general\"}'"
      ]
     },
     "execution_count": 5,
     "metadata": {},
     "output_type": "execute_result"
    }
   ],
   "source": [
    "class Predictor:\n",
    "    def __init__(self, name: str, transitions: pd.DataFrame):\n",
    "        self.name = name\n",
    "        self.transitions = transitions\n",
    "\n",
    "    def predict(self, event: str) -> str:\n",
    "        predict = predict_next_state(event, self.transitions)\n",
    "        return predict\n",
    "\n",
    "    def random_state(self):\n",
    "        return np.random.choice(self.transitions.index)\n",
    "\n",
    "\n",
    "markov = Predictor('Markov', df_transitions.dropna())\n",
    "markov.predict(markov.random_state())"
   ]
  },
  {
   "cell_type": "markdown",
   "metadata": {},
   "source": [
    "### Loads NER and W2V models \n",
    "source for the NER model : https://ufile.io/ichyycfe (or train it with bert_tagger.ipynb)  \n",
    "source for the W2V model : https://github.com/eyaler/word2vec-slim/blob/master/GoogleNews-vectors-negative300-SLIM.bin.gz  "
   ]
  },
  {
   "cell_type": "code",
   "execution_count": 6,
   "metadata": {},
   "outputs": [],
   "source": [
    "all_tags = get_all_tags()\n",
    "tagger = NERModel(model_type='bert',\n",
    "                  model_name=data_directory+'bert/current_model/',\n",
    "                  labels=all_tags,\n",
    "                  use_cuda=False)\n",
    "\n",
    "model_w2v = KeyedVectors.load_word2vec_format(pathword2vec, binary=True)\n",
    "voc_stopwords = set(stopwords.words('english'))\n",
    "db = get_DB()"
   ]
  },
  {
   "cell_type": "code",
   "execution_count": 7,
   "metadata": {},
   "outputs": [],
   "source": [
    "class Intent:\n",
    "    def __init__(self, name: str, state: str = None):\n",
    "        if state is None:\n",
    "            state = json.dumps(init_event(tab=CT_tabs_default))\n",
    "        self.name = name\n",
    "        self.interface_in = state\n",
    "        self.interface_out = None\n",
    "\n",
    "    def synchronize(self, event: str):\n",
    "        self.interface_in = event\n",
    "        self.interface_out = None\n",
    "\n",
    "    def get_interface_out(self) -> str:\n",
    "        return self.interface_out\n",
    "\n",
    "    def interact(self, sentence: str = None) -> str:\n",
    "        return \"Please implement this method\"\n",
    "\n",
    "\n",
    "class Displayer(Intent):\n",
    "    def __init__(self,\n",
    "                 name: str,\n",
    "                 model_tagger: NERModel,\n",
    "                 model_predicteur: Predictor,\n",
    "                 model_w2v: KeyedVectors,\n",
    "                 db: dict = {},\n",
    "                 voc_stopwords: set = set(),\n",
    "                 state: str = None):\n",
    "\n",
    "        super(Displayer, self).__init__(name)\n",
    "        self.tagger = model_tagger\n",
    "        self.predicteur = model_predicteur\n",
    "        self.w2v = model_w2v\n",
    "        self.voc_stopwords = voc_stopwords\n",
    "        self.db = db\n",
    "\n",
    "    def synchronize(self, event: str):\n",
    "        self.interface_in = json_string_to_hash(event)\n",
    "        self.interface_out = self.predicteur.predict(self.interface_in)\n",
    "\n",
    "    def get_tags(self, sentence: str) -> list:\n",
    "        sentence_corrected = self.auto_correction(sentence)\n",
    "        request = self.tagger.predict([sentence_corrected])[0][0]\n",
    "        print(request, '\\n')\n",
    "        return request\n",
    "\n",
    "    def get_filters(self, sentence: str) -> dict:\n",
    "        request = self.get_tags(sentence)\n",
    "        tags_values = extract_tags(request)\n",
    "        filters = tag_to_filters(tags_values)\n",
    "        filters = apply_date(filters)\n",
    "        event = {\n",
    "            CT_tabs: CT_tabs_default,\n",
    "            CT_filt: filters,\n",
    "        }\n",
    "        return event\n",
    "\n",
    "    def get_output_sentence(self, pred_state_hash: str) -> str:\n",
    "        pred_sentence = make_sentence_fom_json(json.loads(pred_state_hash))\n",
    "        return pred_sentence\n",
    "\n",
    "    def interact(self, sentence: str) -> str:\n",
    "        event = self.get_filters(sentence)\n",
    "        event_state = json.dumps(event)\n",
    "        self.synchronize(event_state)\n",
    "\n",
    "        pred_state_hash = self.get_interface_out()\n",
    "        pred_sentence = self.get_output_sentence(pred_state_hash)\n",
    "\n",
    "        res = pred_sentence\n",
    "        return res\n",
    "\n",
    "    def auto_correction(self, sentence: str):\n",
    "        return auto_correction(self.w2v.vocab, db, voc_stopwords, sentence)\n",
    "\n",
    "\n",
    "class Random_info(Intent):\n",
    "    def __init__(self, name, db={}):\n",
    "        super(Random_info, self).__init__(name)\n",
    "        self.db = db\n",
    "\n",
    "    def interact(self, sentence: str = None) -> str:\n",
    "        output = None\n",
    "        if db:\n",
    "            k = np.random.choice(list(random_bdd.keys()))\n",
    "            output = np.random.choice(list(random_bdd[k][\"sentences\"]))\n",
    "        return output"
   ]
  },
  {
   "cell_type": "code",
   "execution_count": 8,
   "metadata": {},
   "outputs": [
    {
     "data": {
      "text/plain": [
       "'{\"filters\": {\"aircraft\": [\"a320\"], \"category\": [], \"company\": [\"air france\"], \"country\": [\"england\", \"france\"], \"date\": [\"01092017\", \"30092017\"], \"manufacturer\": [\"airbus\"]}, \"tab\": \"general\"}'"
      ]
     },
     "execution_count": 8,
     "metadata": {},
     "output_type": "execute_result"
    }
   ],
   "source": [
    "Intent_displayer = Displayer(name='Displayer_Recommandation',\n",
    "                             model_tagger=tagger,\n",
    "                             model_predicteur=markov,\n",
    "                             model_w2v=model_w2v,\n",
    "                             voc_stopwords=voc_stopwords,\n",
    "                             db=db)\n",
    "Intent_displayer.name\n",
    "Intent_displayer.synchronize(Intent_displayer.interface_in)\n",
    "Intent_displayer.get_interface_out()"
   ]
  },
  {
   "cell_type": "code",
   "execution_count": 9,
   "metadata": {},
   "outputs": [
    {
     "name": "stdout",
     "output_type": "stream",
     "text": [
      "Converting to features started.\n"
     ]
    },
    {
     "data": {
      "application/vnd.jupyter.widget-view+json": {
       "model_id": "482ed7a553074c20b30c25c22de2d844",
       "version_major": 2,
       "version_minor": 0
      },
      "text/plain": [
       "HBox(children=(FloatProgress(value=0.0, max=1.0), HTML(value='')))"
      ]
     },
     "metadata": {},
     "output_type": "display_data"
    },
    {
     "name": "stdout",
     "output_type": "stream",
     "text": [
      "\n"
     ]
    },
    {
     "data": {
      "application/vnd.jupyter.widget-view+json": {
       "model_id": "b08badeeba4a4f11ae71b7ce3144aacf",
       "version_major": 2,
       "version_minor": 0
      },
      "text/plain": [
       "HBox(children=(FloatProgress(value=0.0, max=1.0), HTML(value='')))"
      ]
     },
     "metadata": {},
     "output_type": "display_data"
    },
    {
     "name": "stdout",
     "output_type": "stream",
     "text": [
      "\n",
      "[{'number': 'STAT_B'}, {'of': 'STUDIED_I'}, {'flight': 'STUDIED_E'}, {'of': 'O'}, {'Pilatus': 'MANU_B'}, {'for': 'O'}, {'october': 'DATE1_B'}, {'2020': 'DATE1_E'}] \n",
      "\n"
     ]
    },
    {
     "data": {
      "text/plain": [
       "[{'STAT': 'number of flight'}, {'MANU': 'Pilatus'}, {'DATE1': 'october 2020'}]"
      ]
     },
     "execution_count": 9,
     "metadata": {},
     "output_type": "execute_result"
    }
   ],
   "source": [
    "request = Intent_displayer.get_tags('numbr of fligt of Pilotus for octob 2020')\n",
    "tags_values = extract_tags(request)\n",
    "tags_values"
   ]
  },
  {
   "cell_type": "code",
   "execution_count": 10,
   "metadata": {},
   "outputs": [
    {
     "data": {
      "text/plain": [
       "{'manufacturer': ['Pilatus'],\n",
       " 'aircraft': [],\n",
       " 'company': [],\n",
       " 'country': [],\n",
       " 'category': [],\n",
       " 'date': ['october 2020']}"
      ]
     },
     "execution_count": 10,
     "metadata": {},
     "output_type": "execute_result"
    }
   ],
   "source": [
    "filters = tag_to_filters(tags_values)\n",
    "filters"
   ]
  },
  {
   "cell_type": "code",
   "execution_count": 11,
   "metadata": {},
   "outputs": [
    {
     "data": {
      "text/plain": [
       "'A woman flying in to Florida tried to smuggle a human head (along with hair, teeth, and skin) from Haiti in order to keep away evil spirits. She was charged with a smuggling a human head into the U.S. without documentation. She was also charged with failure to declare the head and for transporting hazardous material.'"
      ]
     },
     "execution_count": 11,
     "metadata": {},
     "output_type": "execute_result"
    }
   ],
   "source": [
    "df_facts = pd.read_csv(bdd_directory+'df_facts.csv',\n",
    "                       sep='§',\n",
    "                       engine='python',\n",
    "                       index_col=0,\n",
    "                       encoding='utf-8')\n",
    "df_facts.shape\n",
    "\n",
    "random_bdd = {}\n",
    "for s in list(df_facts['subject'].unique()):\n",
    "    random_bdd[s] = {}\n",
    "    random_bdd[s]['sentences'] = set(\n",
    "        df_facts.loc[df_facts['subject'] == s, 'facts'].values)\n",
    "\n",
    "Intent_random_info = Random_info(name='Random_Info', db=random_bdd)\n",
    "Intent_random_info.interact()"
   ]
  },
  {
   "cell_type": "code",
   "execution_count": 12,
   "metadata": {},
   "outputs": [
    {
     "data": {
      "text/plain": [
       "0"
      ]
     },
     "execution_count": 12,
     "metadata": {},
     "output_type": "execute_result"
    }
   ],
   "source": [
    "class Classifier:\n",
    "    def __init__(self, name:str):\n",
    "        self.name = name\n",
    "\n",
    "    def predict(self, sentence: str) -> int:\n",
    "        if sentence.lower() == 'fact':\n",
    "            c = 1\n",
    "        else:\n",
    "            c = 0\n",
    "        return c\n",
    "\n",
    "\n",
    "classifier = Classifier(name='Intent classifieur')\n",
    "classifier.predict(sentence=\"\")"
   ]
  },
  {
   "cell_type": "code",
   "execution_count": 13,
   "metadata": {},
   "outputs": [
    {
     "data": {
      "text/plain": [
       "{'classifier': <__main__.Classifier at 0x7fbba0dcee80>,\n",
       " 'intents': {0: <__main__.Displayer at 0x7fbc5c31b978>,\n",
       "  1: <__main__.Random_info at 0x7fbba0dcf668>}}"
      ]
     },
     "execution_count": 13,
     "metadata": {},
     "output_type": "execute_result"
    }
   ],
   "source": [
    "intents = {\"classifier\": classifier,\n",
    "           \"intents\": {0: Intent_displayer,\n",
    "                       1: Intent_random_info}\n",
    "           }\n",
    "\n",
    "intents"
   ]
  },
  {
   "cell_type": "code",
   "execution_count": 14,
   "metadata": {},
   "outputs": [
    {
     "data": {
      "text/plain": [
       "0"
      ]
     },
     "execution_count": 14,
     "metadata": {},
     "output_type": "execute_result"
    }
   ],
   "source": [
    "class ChatBot:\n",
    "    def __init__(self, name, classifier: Classifier, intents: dict):\n",
    "        self.name = name\n",
    "        self.classifier = intents['classifier']\n",
    "        self.intents = intents['intents']\n",
    "        self.active_intent = list(intents.keys())[0]\n",
    "\n",
    "    def classify(self, sentence: str) -> int:\n",
    "        self.active_intent = self.classifier.predict(sentence)\n",
    "\n",
    "    def interact(self, sentence: str) -> str:\n",
    "        self.classify(sentence)\n",
    "        intent = self.intents[self.active_intent]\n",
    "        interaction = intent.interact(sentence)\n",
    "        return interaction\n",
    "\n",
    "    def synchronize(self, event: str):\n",
    "        for intent in self.intents.values():\n",
    "            intent.synchronize(event)\n",
    "\n",
    "    def get_interface_out(self) -> str:\n",
    "        return self.intents[self.active_intent].get_interface_out()\n",
    "\n",
    "\n",
    "Hubert = ChatBot(name='Chatbot Hubert', classifier=classifier, intents=intents)\n",
    "Hubert.classify('aertetreb')\n",
    "Hubert.active_intent"
   ]
  },
  {
   "cell_type": "code",
   "execution_count": 15,
   "metadata": {},
   "outputs": [
    {
     "name": "stdout",
     "output_type": "stream",
     "text": [
      "Converting to features started.\n"
     ]
    },
    {
     "data": {
      "application/vnd.jupyter.widget-view+json": {
       "model_id": "1d93d5b523284deaa4613773bfa8f8de",
       "version_major": 2,
       "version_minor": 0
      },
      "text/plain": [
       "HBox(children=(FloatProgress(value=0.0, max=1.0), HTML(value='')))"
      ]
     },
     "metadata": {},
     "output_type": "display_data"
    },
    {
     "name": "stdout",
     "output_type": "stream",
     "text": [
      "\n"
     ]
    },
    {
     "data": {
      "application/vnd.jupyter.widget-view+json": {
       "model_id": "558f7f5ebd9647fda656d95a38a44e30",
       "version_major": 2,
       "version_minor": 0
      },
      "text/plain": [
       "HBox(children=(FloatProgress(value=0.0, max=1.0), HTML(value='')))"
      ]
     },
     "metadata": {},
     "output_type": "display_data"
    },
    {
     "name": "stdout",
     "output_type": "stream",
     "text": [
      "\n",
      "[{'number': 'STAT_B'}, {'of': 'STUDIED_I'}, {'flight': 'STUDIED_E'}, {'of': 'O'}, {'Pilatus': 'MANU_B'}, {'for': 'O'}, {'october': 'DATE1_B'}, {'2020': 'DATE1_E'}] \n",
      "\n",
      "{\"filters\": {\"aircraft\": [], \"category\": [], \"company\": [], \"country\": [], \"date\": [\"01102020\", \"31102020\"], \"manufacturer\": [\"pilatus\"]}, \"tab\": \"general\"} \n",
      "\n",
      "We suggest you the seats' study from 01-09-2017 to 30-09-2017 for the manufacturer airbus and for the aircrafta320 and for the companyair france in the countries england, france. If you agree, click on the following link ;) \n",
      "\n",
      "{\"filters\": {\"aircraft\": [\"a320\"], \"category\": [], \"company\": [\"air france\"], \"country\": [\"england\", \"france\"], \"date\": [\"01092017\", \"30092017\"], \"manufacturer\": [\"airbus\"]}, \"tab\": \"seat\"} \n",
      "\n"
     ]
    }
   ],
   "source": [
    "%run functions.ipynb\n",
    "sent = 'Show me the number of flights of an Pilotus between 2018 and 2020'\n",
    "#sent = 'In Finland and Norway from December 2017 until winter 2019, pie charts of passengers satisfaction'\n",
    "sent = 'numbr of fligt of Pilotus for octob 2020'\n",
    "\n",
    "output_sentence = Hubert.interact(sent)\n",
    "filter_in = Hubert.intents[Hubert.active_intent].interface_in\n",
    "output_interfac = Hubert.get_interface_out()\n",
    "\n",
    "print(filter_in, '\\n')\n",
    "print(output_sentence, '\\n')\n",
    "print(output_interfac, '\\n')"
   ]
  },
  {
   "cell_type": "code",
   "execution_count": 16,
   "metadata": {},
   "outputs": [
    {
     "name": "stdout",
     "output_type": "stream",
     "text": [
      "The world’s smallest jet is the BD-5 Micro. Its wingspan is 14–21 feet and weighs just 358 pounds.\n"
     ]
    }
   ],
   "source": [
    "output_sentence = Hubert.interact('fact')\n",
    "print(output_sentence)"
   ]
  },
  {
   "cell_type": "code",
   "execution_count": null,
   "metadata": {},
   "outputs": [],
   "source": []
  }
 ],
 "metadata": {
  "kernelspec": {
   "display_name": "Python 3",
   "language": "python",
   "name": "python3"
  },
  "language_info": {
   "codemirror_mode": {
    "name": "ipython",
    "version": 3
   },
   "file_extension": ".py",
   "mimetype": "text/x-python",
   "name": "python",
   "nbconvert_exporter": "python",
   "pygments_lexer": "ipython3",
   "version": "3.6.9"
  },
  "toc": {
   "base_numbering": 1,
   "nav_menu": {},
   "number_sections": true,
   "sideBar": true,
   "skip_h1_title": false,
   "title_cell": "Table of Contents",
   "title_sidebar": "Contents",
   "toc_cell": false,
   "toc_position": {},
   "toc_section_display": true,
   "toc_window_display": false
  }
 },
 "nbformat": 4,
 "nbformat_minor": 2
}
