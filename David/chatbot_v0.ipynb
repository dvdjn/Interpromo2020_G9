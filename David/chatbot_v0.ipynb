{
 "cells": [
  {
   "cell_type": "code",
   "execution_count": 1,
   "metadata": {},
   "outputs": [],
   "source": [
    "import pandas as pd\n",
    "import numpy as np\n",
    "import os\n",
    "from autocorrect import Speller"
   ]
  },
  {
   "cell_type": "code",
   "execution_count": 2,
   "metadata": {},
   "outputs": [],
   "source": [
    "directory = 'Interpromo2020/Interpromo2020/'\n",
    "\n",
    "files = os.listdir(directory+'All Data/')\n",
    "files_xlsx = [directory+'All Data/'+f for f in files if os.path.isfile(directory+'All Data/'+f) and f.endswith('.xlsx')]\n",
    "files_csv  = [directory+'All Data/'+f for f in files if os.path.isfile(directory+'All Data/'+f) and f.endswith('.csv')]\n",
    "\n",
    "files = os.listdir(directory)\n",
    "files_xlsx2 = [directory+f for f in files if os.path.isfile(directory+f) and f.endswith('.xlsx')]\n",
    "files_xlsx.extend(files_xlsx2)"
   ]
  },
  {
   "cell_type": "code",
   "execution_count": 3,
   "metadata": {},
   "outputs": [
    {
     "data": {
      "text/plain": [
       "['Interpromo2020/Interpromo2020/All Data/KAYAK_AIRLINE_RATE_GLOBAL.xlsx',\n",
       " 'Interpromo2020/Interpromo2020/All Data/ALL_DATA.xlsx',\n",
       " 'Interpromo2020/Interpromo2020/All Data/AIRCRAFT_DETAIL_V2.xlsx',\n",
       " 'Interpromo2020/Interpromo2020/All Data/DATA_KAYAK_ROUTE.xlsx',\n",
       " 'Interpromo2020/Interpromo2020/All Data/ALL_DATA_ANNOTATE.xlsx',\n",
       " 'Interpromo2020/Interpromo2020/All Data/OTHERS_DATA_ANNOTATE.xlsx',\n",
       " 'Interpromo2020/Interpromo2020/TWITTER.xlsx']"
      ]
     },
     "execution_count": 3,
     "metadata": {},
     "output_type": "execute_result"
    }
   ],
   "source": [
    "files_xlsx"
   ]
  },
  {
   "cell_type": "code",
   "execution_count": 4,
   "metadata": {},
   "outputs": [
    {
     "data": {
      "text/html": [
       "<div>\n",
       "<style scoped>\n",
       "    .dataframe tbody tr th:only-of-type {\n",
       "        vertical-align: middle;\n",
       "    }\n",
       "\n",
       "    .dataframe tbody tr th {\n",
       "        vertical-align: top;\n",
       "    }\n",
       "\n",
       "    .dataframe thead th {\n",
       "        text-align: right;\n",
       "    }\n",
       "</style>\n",
       "<table border=\"1\" class=\"dataframe\">\n",
       "  <thead>\n",
       "    <tr style=\"text-align: right;\">\n",
       "      <th></th>\n",
       "      <th>contains_photo</th>\n",
       "      <th>contains_video</th>\n",
       "      <th>created_at</th>\n",
       "      <th>entities</th>\n",
       "      <th>favorite_count</th>\n",
       "      <th>is_quote_status</th>\n",
       "      <th>lang</th>\n",
       "      <th>quoted_status</th>\n",
       "      <th>quoted_status_id_str</th>\n",
       "      <th>retweet_count</th>\n",
       "      <th>text</th>\n",
       "      <th>user</th>\n",
       "    </tr>\n",
       "  </thead>\n",
       "  <tbody>\n",
       "    <tr>\n",
       "      <td>0</td>\n",
       "      <td>1</td>\n",
       "      <td>0</td>\n",
       "      <td>2019-04-02 14:38:26</td>\n",
       "      <td>{'hashtags': ['airBaltic'], 'symbols': [], 'us...</td>\n",
       "      <td>72</td>\n",
       "      <td>0</td>\n",
       "      <td>en</td>\n",
       "      <td>NaN</td>\n",
       "      <td>NaN</td>\n",
       "      <td>13</td>\n",
       "      <td>Good news for passengers on the Prague route! ...</td>\n",
       "      <td>{'id_str': '26726695', 'name': 'airBaltic', 's...</td>\n",
       "    </tr>\n",
       "    <tr>\n",
       "      <td>1</td>\n",
       "      <td>1</td>\n",
       "      <td>0</td>\n",
       "      <td>2019-04-01 19:00:01</td>\n",
       "      <td>{'hashtags': ['Airbus', 'A220', 'avgeek', 'Afr...</td>\n",
       "      <td>111</td>\n",
       "      <td>0</td>\n",
       "      <td>en</td>\n",
       "      <td>NaN</td>\n",
       "      <td>NaN</td>\n",
       "      <td>19</td>\n",
       "      <td>Thanks to the GTF, Mount Kilimanjaro 🗻 was bre...</td>\n",
       "      <td>{'id_str': '20814874', 'name': 'Pratt &amp; Whitne...</td>\n",
       "    </tr>\n",
       "    <tr>\n",
       "      <td>2</td>\n",
       "      <td>1</td>\n",
       "      <td>0</td>\n",
       "      <td>2019-04-01 10:40:21</td>\n",
       "      <td>{'hashtags': ['A220'], 'symbols': [], 'user_me...</td>\n",
       "      <td>29</td>\n",
       "      <td>0</td>\n",
       "      <td>en</td>\n",
       "      <td>NaN</td>\n",
       "      <td>NaN</td>\n",
       "      <td>6</td>\n",
       "      <td>Sunbathing in Bucharest: YL-CSM, @Airbus #A220...</td>\n",
       "      <td>{'id_str': '1403040254', 'name': 'Aeronews', '...</td>\n",
       "    </tr>\n",
       "    <tr>\n",
       "      <td>3</td>\n",
       "      <td>1</td>\n",
       "      <td>0</td>\n",
       "      <td>2019-03-31 10:20:23</td>\n",
       "      <td>{'hashtags': [], 'symbols': [], 'user_mentions...</td>\n",
       "      <td>74</td>\n",
       "      <td>0</td>\n",
       "      <td>en</td>\n",
       "      <td>NaN</td>\n",
       "      <td>NaN</td>\n",
       "      <td>9</td>\n",
       "      <td>Today we opened long-awaited @airBaltic route ...</td>\n",
       "      <td>{'id_str': '52174696', 'name': 'Martin Gauss',...</td>\n",
       "    </tr>\n",
       "    <tr>\n",
       "      <td>4</td>\n",
       "      <td>1</td>\n",
       "      <td>0</td>\n",
       "      <td>2019-03-31 06:10:27</td>\n",
       "      <td>{'hashtags': ['airBaltic'], 'symbols': [], 'us...</td>\n",
       "      <td>58</td>\n",
       "      <td>0</td>\n",
       "      <td>en</td>\n",
       "      <td>NaN</td>\n",
       "      <td>NaN</td>\n",
       "      <td>9</td>\n",
       "      <td>The new #airBaltic route between Riga and Dubl...</td>\n",
       "      <td>{'id_str': '26726695', 'name': 'airBaltic', 's...</td>\n",
       "    </tr>\n",
       "  </tbody>\n",
       "</table>\n",
       "</div>"
      ],
      "text/plain": [
       "   contains_photo  contains_video           created_at  \\\n",
       "0               1               0  2019-04-02 14:38:26   \n",
       "1               1               0  2019-04-01 19:00:01   \n",
       "2               1               0  2019-04-01 10:40:21   \n",
       "3               1               0  2019-03-31 10:20:23   \n",
       "4               1               0  2019-03-31 06:10:27   \n",
       "\n",
       "                                            entities  favorite_count  \\\n",
       "0  {'hashtags': ['airBaltic'], 'symbols': [], 'us...              72   \n",
       "1  {'hashtags': ['Airbus', 'A220', 'avgeek', 'Afr...             111   \n",
       "2  {'hashtags': ['A220'], 'symbols': [], 'user_me...              29   \n",
       "3  {'hashtags': [], 'symbols': [], 'user_mentions...              74   \n",
       "4  {'hashtags': ['airBaltic'], 'symbols': [], 'us...              58   \n",
       "\n",
       "   is_quote_status lang quoted_status  quoted_status_id_str  retweet_count  \\\n",
       "0                0   en           NaN                   NaN             13   \n",
       "1                0   en           NaN                   NaN             19   \n",
       "2                0   en           NaN                   NaN              6   \n",
       "3                0   en           NaN                   NaN              9   \n",
       "4                0   en           NaN                   NaN              9   \n",
       "\n",
       "                                                text  \\\n",
       "0  Good news for passengers on the Prague route! ...   \n",
       "1  Thanks to the GTF, Mount Kilimanjaro 🗻 was bre...   \n",
       "2  Sunbathing in Bucharest: YL-CSM, @Airbus #A220...   \n",
       "3  Today we opened long-awaited @airBaltic route ...   \n",
       "4  The new #airBaltic route between Riga and Dubl...   \n",
       "\n",
       "                                                user  \n",
       "0  {'id_str': '26726695', 'name': 'airBaltic', 's...  \n",
       "1  {'id_str': '20814874', 'name': 'Pratt & Whitne...  \n",
       "2  {'id_str': '1403040254', 'name': 'Aeronews', '...  \n",
       "3  {'id_str': '52174696', 'name': 'Martin Gauss',...  \n",
       "4  {'id_str': '26726695', 'name': 'airBaltic', 's...  "
      ]
     },
     "execution_count": 4,
     "metadata": {},
     "output_type": "execute_result"
    }
   ],
   "source": [
    "df = pd.read_excel(files_xlsx[-1])\n",
    "df.head()"
   ]
  },
  {
   "cell_type": "markdown",
   "metadata": {},
   "source": [
    "### Slot class"
   ]
  },
  {
   "cell_type": "code",
   "execution_count": 5,
   "metadata": {},
   "outputs": [],
   "source": [
    "def get_slot_date(text): return '08/01/2020' if 'date' in  text else np.nan\n",
    "def get_slot_city_dep(text): return 'Paris' if np.random.rand() > 0.9 else np.nan\n",
    "def get_slot_city_arr(text): return 'London' if np.random.rand() > 0.9 else np.nan\n",
    "def get_slot_airport_dep(text): return 'CDG' if np.random.rand() > 0.9 else np.nan\n",
    "def get_slot_airport_arr(text): return 'LCY' if np.random.rand() > 0.9 else np.nan\n",
    "def get_slot_flight_number(text): return 'BA2490' if np.random.rand() > 0.9 else np.nan"
   ]
  },
  {
   "cell_type": "code",
   "execution_count": 6,
   "metadata": {},
   "outputs": [],
   "source": [
    "class Slot:\n",
    "    def __init__(self, question, detection_function):\n",
    "        self.question = question\n",
    "        self.fun = detection_function\n",
    "    \n",
    "    def get_value(self, text):\n",
    "        return self.fun(text)"
   ]
  },
  {
   "cell_type": "code",
   "execution_count": 7,
   "metadata": {},
   "outputs": [],
   "source": [
    "Slot_date = Slot('What is the date of the flight?', get_slot_date)\n",
    "Slot_city_dep = Slot('What is the city of departure?', get_slot_city_dep)\n",
    "Slot_city_arr = Slot('What is the city of arrival?', get_slot_city_arr)\n",
    "Slot_airport_dep = Slot('What is the airport of departure?', get_slot_airport_dep)\n",
    "Slot_airport_dep = Slot('What is the airport of arrival?', get_slot_airport_arr)\n",
    "Slot_flight = Slot('What is the flight number?', get_slot_flight_number)"
   ]
  },
  {
   "cell_type": "markdown",
   "metadata": {},
   "source": [
    "### Intent class"
   ]
  },
  {
   "cell_type": "code",
   "execution_count": 8,
   "metadata": {},
   "outputs": [],
   "source": [
    "class Intent:\n",
    "    def __init__(self, name, slots):\n",
    "        self.name = name\n",
    "        self.slots = slots"
   ]
  },
  {
   "cell_type": "code",
   "execution_count": 9,
   "metadata": {},
   "outputs": [],
   "source": [
    "Intent_com = Intent('Communication',[])\n",
    "Intent_flight = Intent('Fligh',[Slot_date, Slot_city_dep, Slot_city_arr, \n",
    "                                Slot_airport_dep, Slot_airport_dep, Slot_flight])\n",
    "Intent_path = Intent('Path',[Slot_date, Slot_city_dep, Slot_city_arr, \n",
    "                                Slot_airport_dep, Slot_airport_dep, Slot_flight])"
   ]
  },
  {
   "cell_type": "code",
   "execution_count": 10,
   "metadata": {},
   "outputs": [],
   "source": [
    "dict_intents = {0 : Intent_com,\n",
    "                1 : Intent_path,\n",
    "                2 : Intent_flight}"
   ]
  },
  {
   "cell_type": "markdown",
   "metadata": {},
   "source": [
    "### Interest filter"
   ]
  },
  {
   "cell_type": "code",
   "execution_count": 11,
   "metadata": {},
   "outputs": [
    {
     "data": {
      "text/html": [
       "<div>\n",
       "<style scoped>\n",
       "    .dataframe tbody tr th:only-of-type {\n",
       "        vertical-align: middle;\n",
       "    }\n",
       "\n",
       "    .dataframe tbody tr th {\n",
       "        vertical-align: top;\n",
       "    }\n",
       "\n",
       "    .dataframe thead th {\n",
       "        text-align: right;\n",
       "    }\n",
       "</style>\n",
       "<table border=\"1\" class=\"dataframe\">\n",
       "  <thead>\n",
       "    <tr style=\"text-align: right;\">\n",
       "      <th></th>\n",
       "      <th>text</th>\n",
       "    </tr>\n",
       "  </thead>\n",
       "  <tbody>\n",
       "    <tr>\n",
       "      <td>226</td>\n",
       "      <td>Order of 60 A220-300s to replace our A318 and ...</td>\n",
       "    </tr>\n",
       "    <tr>\n",
       "      <td>298</td>\n",
       "      <td>Happy to fly directly from Riga to #Stuttgart ...</td>\n",
       "    </tr>\n",
       "    <tr>\n",
       "      <td>663</td>\n",
       "      <td>A6-SHJ | Airbus A320-232(CJ)(WL) Prestige | Ru...</td>\n",
       "    </tr>\n",
       "    <tr>\n",
       "      <td>703</td>\n",
       "      <td>An Alaska Airlines A320 landing in Las Vegas. ...</td>\n",
       "    </tr>\n",
       "    <tr>\n",
       "      <td>836</td>\n",
       "      <td>[4K VIDEO] 2️⃣ #ALASKAAIRLINES #AIRBUS #A320-2...</td>\n",
       "    </tr>\n",
       "  </tbody>\n",
       "</table>\n",
       "</div>"
      ],
      "text/plain": [
       "                                                  text\n",
       "226  Order of 60 A220-300s to replace our A318 and ...\n",
       "298  Happy to fly directly from Riga to #Stuttgart ...\n",
       "663  A6-SHJ | Airbus A320-232(CJ)(WL) Prestige | Ru...\n",
       "703  An Alaska Airlines A320 landing in Las Vegas. ...\n",
       "836  [4K VIDEO] 2️⃣ #ALASKAAIRLINES #AIRBUS #A320-2..."
      ]
     },
     "execution_count": 11,
     "metadata": {},
     "output_type": "execute_result"
    }
   ],
   "source": [
    "# return if a text is intersting for us (filter)\n",
    "def isOfInterest(text):\n",
    "    return np.random.rand() > 0.99\n",
    "\n",
    "df_textOfInterest = df.loc[:,['text']][df['text'].apply(isOfInterest) == True]\n",
    "df_textOfInterest.head()"
   ]
  },
  {
   "cell_type": "markdown",
   "metadata": {},
   "source": [
    "### Intent detection"
   ]
  },
  {
   "cell_type": "code",
   "execution_count": 12,
   "metadata": {},
   "outputs": [],
   "source": [
    "# return the intend corresponding to the text\n",
    "def detect_intent(model, text):\n",
    "    nb_class = 3\n",
    "    return int(np.random.rand()*3) % nb_class"
   ]
  },
  {
   "cell_type": "code",
   "execution_count": 13,
   "metadata": {},
   "outputs": [
    {
     "data": {
      "text/plain": [
       "'Path'"
      ]
     },
     "execution_count": 13,
     "metadata": {},
     "output_type": "execute_result"
    }
   ],
   "source": [
    "dict_intents[detect_intent('','')].name"
   ]
  },
  {
   "cell_type": "markdown",
   "metadata": {},
   "source": [
    "# Intent communication"
   ]
  },
  {
   "cell_type": "code",
   "execution_count": 14,
   "metadata": {},
   "outputs": [],
   "source": [
    "def get_context(text):\n",
    "    context = np.random.rand(100)\n",
    "    sentiment = int(np.random.rand()*3) % 3 - 1\n",
    "    sentiment = np.nan if np.random.rand() > 0.9 else sentiment\n",
    "    return context, sentiment\n",
    "\n",
    "def get_context_words(context):\n",
    "    return ['window','plane']\n",
    "\n",
    "def make_near_question(words_list):\n",
    "    return (words_list[0] + ' is your concern. What do you recommand to improve our service?')\n",
    "\n",
    "def make_sentence_ok(context, sentiment):\n",
    "    return 'ok thanks for your reply, we can understand that.'\n",
    "\n",
    "def make_question_open(context, sentiment):\n",
    "    return 'What can you tell us more about your experience?'\n",
    "\n",
    "def make_question_close(context, sentiment):\n",
    "    context_words = get_context_words(context)\n",
    "    return make_near_question(context_words)"
   ]
  },
  {
   "cell_type": "markdown",
   "metadata": {},
   "source": [
    "##### Test"
   ]
  },
  {
   "cell_type": "code",
   "execution_count": 15,
   "metadata": {},
   "outputs": [],
   "source": [
    "# autocorrection:\n",
    "spell = Speller(lang='en')"
   ]
  },
  {
   "cell_type": "code",
   "execution_count": 16,
   "metadata": {},
   "outputs": [
    {
     "name": "stdout",
     "output_type": "stream",
     "text": [
      "Order of 60 A220-300s to replace our A318 and A319, generating 20% less CO2 emissions than comparable aircraft and twice as quiet ✈️                                                                         \n",
      "More information 👉 https://t.co/wEXLQBGqy2 https://t.co/qOlqYWwqD1\n",
      "Order of 60 A220-300s to replace our A318 and A319, generating 20% less CO2 emissions than comparable aircraft and twice as quiet ✈️                                                                         \n",
      "More information 👉 http://t.co/wEXLQBGqy2 http://t.co/qOlqYWwqD1\n"
     ]
    }
   ],
   "source": [
    "current_text = df_textOfInterest['text'].tolist()[0]\n",
    "current_text_corrected = spell(current_text)\n",
    "\n",
    "print(current_text)\n",
    "print(current_text_corrected)"
   ]
  },
  {
   "cell_type": "code",
   "execution_count": 17,
   "metadata": {},
   "outputs": [
    {
     "name": "stdout",
     "output_type": "stream",
     "text": [
      "detected intent: 2 : Fligh\n"
     ]
    }
   ],
   "source": [
    "detected_intent = detect_intent('',current_text)\n",
    "print(\"detected intent:\", detected_intent, \":\", dict_intents[detected_intent].name)"
   ]
  },
  {
   "cell_type": "code",
   "execution_count": 18,
   "metadata": {},
   "outputs": [
    {
     "name": "stdout",
     "output_type": "stream",
     "text": [
      "ok thanks for your reply, we can understand that.\n",
      "What can you tell us more about your experience?\n",
      "window is your concern. What do you recommand to improve our service?\n"
     ]
    }
   ],
   "source": [
    "context, sentiment = get_context(current_text)\n",
    "\n",
    "sent_ok = make_sentence_ok(context, sentiment)\n",
    "sent_open = make_question_open(context, sentiment)\n",
    "sent_close = make_question_close(context, sentiment)\n",
    "\n",
    "print(sent_ok)\n",
    "print(sent_open)\n",
    "print(sent_close)"
   ]
  },
  {
   "cell_type": "code",
   "execution_count": null,
   "metadata": {},
   "outputs": [],
   "source": []
  },
  {
   "cell_type": "code",
   "execution_count": null,
   "metadata": {},
   "outputs": [],
   "source": []
  },
  {
   "cell_type": "code",
   "execution_count": null,
   "metadata": {},
   "outputs": [],
   "source": []
  },
  {
   "cell_type": "markdown",
   "metadata": {},
   "source": [
    "# NLTK"
   ]
  },
  {
   "cell_type": "code",
   "execution_count": 19,
   "metadata": {},
   "outputs": [],
   "source": [
    "import nltk\n",
    "from nltk.tokenize import word_tokenize\n",
    "from nltk.tag import pos_tag"
   ]
  },
  {
   "cell_type": "code",
   "execution_count": 20,
   "metadata": {},
   "outputs": [
    {
     "data": {
      "text/plain": [
       "'Order of 60 A220-300s to replace our A318 and A319, generating 20% less CO2 emissions than comparable aircraft and twice as quiet ✈️                                                                         \\nMore information 👉 https://t.co/wEXLQBGqy2 https://t.co/qOlqYWwqD1'"
      ]
     },
     "execution_count": 20,
     "metadata": {},
     "output_type": "execute_result"
    }
   ],
   "source": [
    "current_text"
   ]
  },
  {
   "cell_type": "code",
   "execution_count": 21,
   "metadata": {},
   "outputs": [],
   "source": [
    "sent = nltk.word_tokenize(current_text)\n",
    "post = nltk.pos_tag(sent)"
   ]
  },
  {
   "cell_type": "code",
   "execution_count": 22,
   "metadata": {},
   "outputs": [
    {
     "data": {
      "text/plain": [
       "[('Order', 'NN'),\n",
       " ('of', 'IN'),\n",
       " ('60', 'CD'),\n",
       " ('A220-300s', 'JJ'),\n",
       " ('to', 'TO'),\n",
       " ('replace', 'VB'),\n",
       " ('our', 'PRP$'),\n",
       " ('A318', 'NNP'),\n",
       " ('and', 'CC'),\n",
       " ('A319', 'NNP'),\n",
       " (',', ','),\n",
       " ('generating', 'VBG'),\n",
       " ('20', 'CD'),\n",
       " ('%', 'NN'),\n",
       " ('less', 'JJR'),\n",
       " ('CO2', 'NNP'),\n",
       " ('emissions', 'NNS'),\n",
       " ('than', 'IN'),\n",
       " ('comparable', 'JJ'),\n",
       " ('aircraft', 'NN'),\n",
       " ('and', 'CC'),\n",
       " ('twice', 'RB'),\n",
       " ('as', 'IN'),\n",
       " ('quiet', 'JJ'),\n",
       " ('✈️', 'NNP'),\n",
       " ('More', 'JJR'),\n",
       " ('information', 'NN'),\n",
       " ('👉', 'NN'),\n",
       " ('https', 'NN'),\n",
       " (':', ':'),\n",
       " ('//t.co/wEXLQBGqy2', 'JJ'),\n",
       " ('https', 'NN'),\n",
       " (':', ':'),\n",
       " ('//t.co/qOlqYWwqD1', 'NN')]"
      ]
     },
     "execution_count": 22,
     "metadata": {},
     "output_type": "execute_result"
    }
   ],
   "source": [
    "post"
   ]
  },
  {
   "cell_type": "code",
   "execution_count": 23,
   "metadata": {},
   "outputs": [],
   "source": [
    "import spacy\n",
    "nlp = spacy.load('en_core_web_sm')"
   ]
  },
  {
   "cell_type": "code",
   "execution_count": null,
   "metadata": {},
   "outputs": [],
   "source": []
  }
 ],
 "metadata": {
  "kernelspec": {
   "display_name": "Python 3",
   "language": "python",
   "name": "python3"
  },
  "language_info": {
   "codemirror_mode": {
    "name": "ipython",
    "version": 3
   },
   "file_extension": ".py",
   "mimetype": "text/x-python",
   "name": "python",
   "nbconvert_exporter": "python",
   "pygments_lexer": "ipython3",
   "version": "3.6.9"
  }
 },
 "nbformat": 4,
 "nbformat_minor": 2
}
