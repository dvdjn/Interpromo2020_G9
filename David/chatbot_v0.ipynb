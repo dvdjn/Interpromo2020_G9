{
 "cells": [
  {
   "cell_type": "code",
   "execution_count": 1,
   "metadata": {},
   "outputs": [],
   "source": [
    "import pandas as pd\n",
    "import numpy as np\n",
    "import nltk\n",
    "import json\n",
    "from simpletransformers.ner import NERModel\n",
    "from gensim.models import KeyedVectors\n",
    "from strsimpy.jaro_winkler import JaroWinkler\n",
    "from spellchecker import SpellChecker\n",
    "from nltk.corpus import stopwords"
   ]
  },
  {
   "cell_type": "code",
   "execution_count": 2,
   "metadata": {},
   "outputs": [],
   "source": [
    "%run constants.ipynb\n",
    "%run functions.ipynb\n",
    "%run dictionnaries.ipynb"
   ]
  },
  {
   "cell_type": "code",
   "execution_count": 3,
   "metadata": {},
   "outputs": [],
   "source": [
    "%run tag_to_filter.v1.ipynb"
   ]
  },
  {
   "cell_type": "code",
   "execution_count": 4,
   "metadata": {},
   "outputs": [
    {
     "data": {
      "text/plain": [
       "(10, 10)"
      ]
     },
     "execution_count": 4,
     "metadata": {},
     "output_type": "execute_result"
    }
   ],
   "source": [
    "df_transitions = pd.read_csv(bdd_directory+'df_transitions.csv', \n",
    "                             sep='§', \n",
    "                             engine='python',\n",
    "                             index_col=0, \n",
    "                             encoding='utf-8')\n",
    "df_transitions.shape"
   ]
  },
  {
   "cell_type": "code",
   "execution_count": 5,
   "metadata": {},
   "outputs": [
    {
     "data": {
      "text/plain": [
       "'{\"filters\": {\"manufacturer\": [\"airbus\"], \"aircraft\": [\"a320\"], \"company\": [\"air france\"], \"country\": [\"england\", \"france\"], \"category\": [], \"date\": [\"01092017\", \"30092017\"]}, \"tab\": \"seat\"}'"
      ]
     },
     "execution_count": 5,
     "metadata": {},
     "output_type": "execute_result"
    }
   ],
   "source": [
    "class Markov:\n",
    "    def __init__(self, name, transitions):\n",
    "        self.name = name\n",
    "        self.transitions = transitions\n",
    "        \n",
    "    def predict(self, event):\n",
    "        predict = predict_next_state(event, self.transitions)\n",
    "        return predict\n",
    "    \n",
    "    def random_state(self):\n",
    "        return np.random.choice(self.transitions.index)\n",
    "    \n",
    "markov = Markov('Markov', df_transitions)\n",
    "markov.predict(markov.random_state())"
   ]
  },
  {
   "cell_type": "markdown",
   "metadata": {},
   "source": [
    "### Loads NER and W2V models \n",
    "source for the NER model : https://ufile.io/ichyycfe  \n",
    "source for the W2V model : https://github.com/eyaler/word2vec-slim/blob/master/GoogleNews-vectors-negative300-SLIM.bin.gz  "
   ]
  },
  {
   "cell_type": "code",
   "execution_count": 6,
   "metadata": {},
   "outputs": [],
   "source": [
    "all_tags = get_all_tags()\n",
    "tagger = NERModel(model_type = 'bert',\n",
    "                  model_name = data_directory+'bert/current_model/',\n",
    "                  labels = all_tags,\n",
    "                  use_cuda = False)\n",
    "\n",
    "model_w2v = KeyedVectors.load_word2vec_format(pathword2vec, binary=True)\n",
    "voc_stopwords = set(stopwords.words('english'))\n",
    "db = get_BDD()"
   ]
  },
  {
   "cell_type": "code",
   "execution_count": 7,
   "metadata": {},
   "outputs": [
    {
     "data": {
      "text/plain": [
       "'Afficheur'"
      ]
     },
     "execution_count": 7,
     "metadata": {},
     "output_type": "execute_result"
    }
   ],
   "source": [
    "class Intent:\n",
    "    def __init__(self, name, state=None):\n",
    "        if state is None: state = init_event(tab=CT_tabs_default)\n",
    "        self.name = name\n",
    "        self.state = state\n",
    "        \n",
    "    def synchronize(self, event):\n",
    "        self.state = event\n",
    "        \n",
    "    def interact(self, sentence):\n",
    "        raise NotImplementedError(\"Please Implement this method\")\n",
    "\n",
    "class Afficheur(Intent):\n",
    "    def __init__(self, \n",
    "                 name, \n",
    "                 model_tagger, \n",
    "                 model_predicteur, \n",
    "                 model_w2v, \n",
    "                 db={}, \n",
    "                 voc_stopwords=set(),\n",
    "                 state=None):\n",
    "        \n",
    "        super(Afficheur, self).__init__(name)\n",
    "        self.tagger = model_tagger\n",
    "        self.predicteur = model_predicteur\n",
    "        self.w2v = model_w2v\n",
    "        self.voc_stopwords = voc_stopwords\n",
    "        self.db = db\n",
    "    \n",
    "    def get_tags(self, sentence):\n",
    "        sentence_corrected_list = self.auto_correction(sentence)\n",
    "        sentence_corrected = \" \".join(sentence_corrected_list)\n",
    "        request = self.tagger.predict([sentence_corrected])[0][0]\n",
    "        print(request,'\\n')\n",
    "        return request\n",
    "    \n",
    "    def get_filters(self, sentence):\n",
    "        request = self.get_tags(sentence)\n",
    "        tags_values = extract_tags(request)\n",
    "        filters = tag_to_filters(tags_values)\n",
    "        filters = apply_date(filters)\n",
    "        event = {\n",
    "            CT_tabs : CT_tabs_default,\n",
    "            CT_filt : filters,\n",
    "        }\n",
    "        return event\n",
    "    \n",
    "    def recommand(self):\n",
    "        pred_state_hash = self.predicteur.predict(self.state)\n",
    "        return pred_state_hash\n",
    "    \n",
    "    def get_output_sentence(self, pred_state_hash):\n",
    "        pred_sentence = make_sentence_fom_json(json.loads(pred_state_hash))\n",
    "        return pred_sentence\n",
    "    \n",
    "    def interact(self, sentence):\n",
    "        event = self.get_filters(sentence)\n",
    "        event_state = json.dumps(event)\n",
    "        self.synchronize(json_string_to_hash(event_state))\n",
    "        \n",
    "        pred_state_hash = self.recommand()\n",
    "        pred_sentence = self.get_output_sentence(pred_state_hash)\n",
    "        \n",
    "        res = {\"in_sate\" : self.state,\n",
    "               \"out_state\" : pred_state_hash,\n",
    "               \"out_sentence\" : pred_sentence,}\n",
    "        return res\n",
    "    \n",
    "    def auto_correction(self, sentence):\n",
    "        return auto_correction(self.w2v.vocab, db, voc_stopwords, sentence)\n",
    "    \n",
    "Afficheur_Intent = Afficheur(name='Afficheur', \n",
    "                             model_tagger=tagger, \n",
    "                             model_predicteur=markov,\n",
    "                             model_w2v=model_w2v,\n",
    "                             voc_stopwords=voc_stopwords,\n",
    "                             db=db)\n",
    "Afficheur_Intent.name"
   ]
  },
  {
   "cell_type": "code",
   "execution_count": 8,
   "metadata": {},
   "outputs": [],
   "source": [
    "test_event = Afficheur_Intent.state\n",
    "Afficheur_Intent.synchronize(test_event)"
   ]
  },
  {
   "cell_type": "code",
   "execution_count": 9,
   "metadata": {},
   "outputs": [
    {
     "data": {
      "text/plain": [
       "0"
      ]
     },
     "execution_count": 9,
     "metadata": {},
     "output_type": "execute_result"
    }
   ],
   "source": [
    "class Classifieur:\n",
    "    def __init__(self, name, model_classifieur):\n",
    "        self.name = name\n",
    "        self.classifieur = model_classifieur\n",
    "        \n",
    "    def predict(self, sentence):\n",
    "        return 0\n",
    "\n",
    "Classifieur = Classifieur(name='Intent classifieur', model_classifieur=\"\")\n",
    "Classifieur.predict(sentence=\"\")"
   ]
  },
  {
   "cell_type": "code",
   "execution_count": 10,
   "metadata": {},
   "outputs": [
    {
     "data": {
      "text/plain": [
       "{'classifieur': <__main__.Classifieur at 0x7f0f5a08b5c0>,\n",
       " 'intents': {0: <__main__.Afficheur at 0x7f0f3d9fe160>}}"
      ]
     },
     "execution_count": 10,
     "metadata": {},
     "output_type": "execute_result"
    }
   ],
   "source": [
    "intents  = {\"classifieur\" : Classifieur,\n",
    "            \"intents\" : {0 : Afficheur_Intent}\n",
    "           }\n",
    "\n",
    "intents"
   ]
  },
  {
   "cell_type": "code",
   "execution_count": 11,
   "metadata": {},
   "outputs": [],
   "source": [
    "class ChatBot:\n",
    "    def __init__(self, name, intents={}, classifieur=\"\"):\n",
    "        self.name = name\n",
    "        self.classifieur = intents['classifieur']\n",
    "        self.intents = intents['intents']\n",
    "        \n",
    "    def get_intent_classification(self, sentence):\n",
    "        return self.classifieur.predict(sentence)\n",
    "    \n",
    "    def interact(self, sentence):\n",
    "        intent_id = self.get_intent_classification(sentence)\n",
    "        intent = self.intents[intent_id]\n",
    "        interaction = intent.interact(sentence)\n",
    "        return interaction\n",
    "    \n",
    "    def synchronize(self, event):\n",
    "        for intent in self.intents.values():\n",
    "            intent.synchronize(event)\n",
    "    \n",
    "    \n",
    "Hubert = ChatBot(name='Chatbot Hubert', intents=intents)\n",
    "Hubert.get_intent_classification('aertetreb')\n",
    "Hubert.synchronize(test_event)"
   ]
  },
  {
   "cell_type": "code",
   "execution_count": 12,
   "metadata": {},
   "outputs": [
    {
     "name": "stdout",
     "output_type": "stream",
     "text": [
      "Converting to features started.\n"
     ]
    },
    {
     "data": {
      "application/vnd.jupyter.widget-view+json": {
       "model_id": "d7b398000849400c95306bac08f803e5",
       "version_major": 2,
       "version_minor": 0
      },
      "text/plain": [
       "HBox(children=(FloatProgress(value=0.0, max=1.0), HTML(value='')))"
      ]
     },
     "metadata": {},
     "output_type": "display_data"
    },
    {
     "name": "stdout",
     "output_type": "stream",
     "text": [
      "\n"
     ]
    },
    {
     "data": {
      "application/vnd.jupyter.widget-view+json": {
       "model_id": "6ae2c45fb21047d38da209b760bf0b06",
       "version_major": 2,
       "version_minor": 0
      },
      "text/plain": [
       "HBox(children=(FloatProgress(value=0.0, max=1.0), HTML(value='')))"
      ]
     },
     "metadata": {},
     "output_type": "display_data"
    },
    {
     "name": "stdout",
     "output_type": "stream",
     "text": [
      "\n",
      "[{'show': 'O'}, {'me': 'O'}, {'the': 'O'}, {'number': 'STUDIED_B'}, {'of': 'STUDIED_I'}, {'flight': 'STUDIED_E'}, {'in': 'O'}, {'France': 'COUN_B'}, {'for': 'O'}, {'Airbus': 'MANU_B'}] \n",
      "\n",
      "in_sate :\t {\"filters\": {\"manufacturer\": [\"airbus\"], \"aircraft\": [], \"company\": [], \"country\": [\"france\"], \"category\": [], \"date\": []}, \"tab\": \"general\"} \n",
      "\n",
      "out_state :\t {\"filters\": {\"manufacturer\": [\"airbus\"], \"aircraft\": [\"a318\", \"a320\", \"a340-300\", \"a350-900\"], \"company\": [], \"country\": [\"england\", \"france\", \"germany\", \"italy\", \"spain\"], \"category\": [], \"date\": [\"01092017\", \"30092017\"]}, \"tab\": \"general\"} \n",
      "\n",
      "out_sentence :\t We suggest you the global study from 01-09-2017 to 30-09-2017 for the manufacturer airbus and for the aircrafts a318, a320, a340-300, a350-900 in the countries england, france, germany, italy, spain. If you agree, click on the following link ;) \n",
      "\n"
     ]
    }
   ],
   "source": [
    "%run functions.ipynb\n",
    "\n",
    "res = Hubert.interact('show me the numberd of flight in FRAnCE for Aribus')\n",
    "for k,v in res.items():\n",
    "    print(k,':\\t',v,'\\n')"
   ]
  },
  {
   "cell_type": "code",
   "execution_count": null,
   "metadata": {},
   "outputs": [],
   "source": []
  }
 ],
 "metadata": {
  "kernelspec": {
   "display_name": "Python 3",
   "language": "python",
   "name": "python3"
  },
  "language_info": {
   "codemirror_mode": {
    "name": "ipython",
    "version": 3
   },
   "file_extension": ".py",
   "mimetype": "text/x-python",
   "name": "python",
   "nbconvert_exporter": "python",
   "pygments_lexer": "ipython3",
   "version": "3.6.9"
  }
 },
 "nbformat": 4,
 "nbformat_minor": 2
}
