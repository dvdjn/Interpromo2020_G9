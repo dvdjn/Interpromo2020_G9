{
 "cells": [
  {
   "cell_type": "code",
   "execution_count": 1,
   "metadata": {},
   "outputs": [],
   "source": [
    "import re"
   ]
  },
  {
   "cell_type": "code",
   "execution_count": 2,
   "metadata": {},
   "outputs": [],
   "source": [
    "%run constants.ipynb\n",
    "%run functions.ipynb\n",
    "%run dictionnaries.ipynb"
   ]
  },
  {
   "cell_type": "code",
   "execution_count": 3,
   "metadata": {},
   "outputs": [],
   "source": [
    "def extract_tags(request):\n",
    "    sent = [list(r.keys())[0] for r in request]\n",
    "    tags = [list(r.values())[0] for r in request]\n",
    "    \n",
    "    coding = [1 if t.endswith(CT_SUF_B)\n",
    "              else -1 if t == CT_TAG_O \n",
    "              else 0 for t in tags]\n",
    "\n",
    "    prev = -1\n",
    "    chunk = {}\n",
    "    res = []\n",
    "    for ic,c in enumerate(coding):\n",
    "        new_tag = False\n",
    "        sam_tag = False\n",
    "        if c == 1: new_tag = True\n",
    "        if c == 0: sam_tag = True\n",
    "\n",
    "        if new_tag:\n",
    "            if len(chunk)>0: \n",
    "                chunk[tag] = \" \".join(chunk[tag])\n",
    "                res.append(chunk)\n",
    "            tag = tags[ic].split(CT_SEP)[0]\n",
    "            chunk = {}\n",
    "            chunk[tag] = [sent[ic]]\n",
    "\n",
    "        if sam_tag:\n",
    "            chunk[tag] += [sent[ic]]\n",
    "    \n",
    "    if len(chunk)>0: \n",
    "        chunk[tag] = \" \".join(chunk[tag])\n",
    "        res.append(chunk)\n",
    "    \n",
    "    return res\n",
    "\n",
    "def tag_to_filters(tags_values):\n",
    "    compact = {}\n",
    "    t2f = tag_to_filter()\n",
    "    for d in tags_values:\n",
    "        t,v = list(d.keys())[0], list(d.values())[0]\n",
    "        if t in t2f:\n",
    "            if t not in compact: \n",
    "                compact[t] = [v]\n",
    "            else:\n",
    "                f = t2f[t][CT_filt]\n",
    "                is_list = t2f[t][CT_is_list]\n",
    "                if is_list:\n",
    "                    compact[t] += [v]\n",
    "                else:\n",
    "                    compact[t] = [compact[t][0] + ' ' + v]\n",
    "\n",
    "    filters = init_filters()\n",
    "    for t,v in compact.items():\n",
    "        f = t2f[t][CT_filt]\n",
    "        filters[f] += v\n",
    "\n",
    "    return filters\n",
    "    \n",
    "def trans_date(date:str) :\n",
    "    trans_month = {'01':['January','Jan.','Jan'], \n",
    "             '02':['February','Feb.','Feb'],\n",
    "             '03':['March','Mar.','Mar'],\n",
    "             '04':['April','Apr.','Apr'],\n",
    "             '05':['May'],\n",
    "             '06':['June', 'Jun.', 'Jun'],\n",
    "             '07':['July','Jul.','Jul'],\n",
    "             '08':['August','Aug.','Aug'],\n",
    "             '09':['September','Sep.','Sep'],\n",
    "             '10':['October','Oct.','Oct'],\n",
    "             '11':['November','Nov.','Nov'],\n",
    "             '12':['December','Dec.','Dec']}\n",
    "    \n",
    "    if re.match('\\d{2}/\\d{2}/\\d{4}', date) != None:\n",
    "        date_r = date.split('/')\n",
    "        date_r = ''.join(date_r)\n",
    "        return date_r \n",
    "    \n",
    "    if re.match('\\d{4}', date) != None:\n",
    "        date_r= ['0101'+date,'1231'+date]\n",
    "        return date_r\n",
    "    \n",
    "    if re.match('\\d{2} \\w+ \\d{4}', date) != None:\n",
    "        month = re.findall('[a-zA-Z_]+', date)\n",
    "        for m in trans_month:\n",
    "            if month[0].capitalize() in trans_month[m]:\n",
    "                month = m\n",
    "        day = re.findall('\\d{2} ', date)\n",
    "        day = day[0][0:2]\n",
    "        year = re.findall('\\d{4}', date)\n",
    "        return month+day+year[0]\n",
    "    \n",
    "    if re.match('\\w+ \\d{4}', date) != None:\n",
    "        year = re.findall('\\d{4}', date)\n",
    "        month = re.findall('[a-zA-Z_]+', date)\n",
    "        for m in trans_month:\n",
    "            if month[0].capitalize() in trans_month[m]:\n",
    "                return ('O1'+m+year[0], '31'+m+year[0])\n",
    "        if month[0].lower() == \"winter\": \n",
    "            return ['O1'+'12'+year[0], '28'+'02'+year[0]]\n",
    "        if month[0].lower() == \"spring\": \n",
    "            return ['O1'+'03'+year[0], '31'+'05'+year[0]]\n",
    "        if month[0].lower() == \"summer\": \n",
    "            return ['O1'+'06'+year[0], '31'+'08'+year[0]]\n",
    "        if month[0].lower() == \"autumn\": \n",
    "            return ['O1'+'09'+year[0], '30'+'11'+year[0]]\n",
    "\n",
    "        \n",
    "def apply_date(filtre):\n",
    "    \n",
    "    if len(filtre['date']) == 1:\n",
    "        filtre['date'] = trans_date(filtre['date'][0])\n",
    "    elif len(filtre['date']) == 2:\n",
    "        date1 = filtre['date'][0]\n",
    "        date2 = filtre['date'][1]\n",
    "        date1 = trans_date(date1)[0]\n",
    "        date2 = trans_date(date2)[1]\n",
    "        filtre['date'] = [date1, date2]\n",
    "    return(filtre)"
   ]
  },
  {
   "cell_type": "code",
   "execution_count": 4,
   "metadata": {},
   "outputs": [],
   "source": [
    "request = [{'in': 'O'},\n",
    " {'Sweden': 'COUN_B'},\n",
    " {'France': 'COUN_B'},\n",
    " {'from': 'O'},\n",
    " {'SPRING': 'DATE1_B'},\n",
    " {'1902': 'DATE1_B'},\n",
    " {'to': 'O'},\n",
    " {'AUTUMN': 'DATE2_B'},\n",
    " {'2017': 'DATE2_E'},\n",
    " {'cloud': 'STAT_B'},\n",
    " {'of': 'STAT_I'},\n",
    " {'words': 'STAT_E'},\n",
    " {'for': 'O'},\n",
    " {'Pilatus': 'MANU_B'},\n",
    "{'Pilatus': 'O'}]"
   ]
  },
  {
   "cell_type": "code",
   "execution_count": 5,
   "metadata": {},
   "outputs": [
    {
     "data": {
      "text/plain": [
       "[{'in': 'O'},\n",
       " {'Sweden': 'COUN_B'},\n",
       " {'France': 'COUN_B'},\n",
       " {'from': 'O'},\n",
       " {'SPRING': 'DATE1_B'},\n",
       " {'1902': 'DATE1_B'},\n",
       " {'to': 'O'},\n",
       " {'AUTUMN': 'DATE2_B'},\n",
       " {'2017': 'DATE2_E'},\n",
       " {'cloud': 'STAT_B'},\n",
       " {'of': 'STAT_I'},\n",
       " {'words': 'STAT_E'},\n",
       " {'for': 'O'},\n",
       " {'Pilatus': 'MANU_B'},\n",
       " {'Pilatus': 'O'}]"
      ]
     },
     "execution_count": 5,
     "metadata": {},
     "output_type": "execute_result"
    }
   ],
   "source": [
    "request"
   ]
  },
  {
   "cell_type": "code",
   "execution_count": 6,
   "metadata": {},
   "outputs": [
    {
     "data": {
      "text/plain": [
       "{'manufacturer': ['Pilatus'],\n",
       " 'aircraft': [],\n",
       " 'company': [],\n",
       " 'country': ['Sweden', 'France'],\n",
       " 'category': [],\n",
       " 'date': ['SPRING 1902', 'AUTUMN 2017']}"
      ]
     },
     "execution_count": 6,
     "metadata": {},
     "output_type": "execute_result"
    }
   ],
   "source": [
    "tags_values = extract_tags(request)\n",
    "filters = tag_to_filters(tags_values)\n",
    "filters"
   ]
  },
  {
   "cell_type": "code",
   "execution_count": 7,
   "metadata": {},
   "outputs": [
    {
     "data": {
      "text/plain": [
       "{'manufacturer': ['Pilatus'],\n",
       " 'aircraft': [],\n",
       " 'company': [],\n",
       " 'country': ['Sweden', 'France'],\n",
       " 'category': [],\n",
       " 'date': ['O1031902', '30112017']}"
      ]
     },
     "execution_count": 7,
     "metadata": {},
     "output_type": "execute_result"
    }
   ],
   "source": [
    "apply_date(filters)"
   ]
  },
  {
   "cell_type": "code",
   "execution_count": 8,
   "metadata": {},
   "outputs": [
    {
     "data": {
      "text/plain": [
       "{'tab': 'default',\n",
       " 'filters': {'manufacturer': ['Pilatus'],\n",
       "  'aircraft': [],\n",
       "  'company': [],\n",
       "  'country': ['Sweden', 'France'],\n",
       "  'category': [],\n",
       "  'date': ['O1031902', '30112017']}}"
      ]
     },
     "execution_count": 8,
     "metadata": {},
     "output_type": "execute_result"
    }
   ],
   "source": [
    "event = {\n",
    "    CT_tabs : CT_tabs_default,\n",
    "    CT_filt : filters,\n",
    "}\n",
    "event"
   ]
  },
  {
   "cell_type": "code",
   "execution_count": null,
   "metadata": {},
   "outputs": [],
   "source": []
  }
 ],
 "metadata": {
  "kernelspec": {
   "display_name": "Python 3",
   "language": "python",
   "name": "python3"
  },
  "language_info": {
   "codemirror_mode": {
    "name": "ipython",
    "version": 3
   },
   "file_extension": ".py",
   "mimetype": "text/x-python",
   "name": "python",
   "nbconvert_exporter": "python",
   "pygments_lexer": "ipython3",
   "version": "3.6.9"
  }
 },
 "nbformat": 4,
 "nbformat_minor": 2
}
