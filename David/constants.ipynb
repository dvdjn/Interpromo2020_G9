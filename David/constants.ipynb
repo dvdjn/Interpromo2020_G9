{
 "cells": [
  {
   "cell_type": "markdown",
   "metadata": {},
   "source": [
    "##### constants for the json"
   ]
  },
  {
   "cell_type": "code",
   "execution_count": null,
   "metadata": {},
   "outputs": [],
   "source": [
    "CT_tabs = 'tab'\n",
    "CT_tabs_default = 'default'\n",
    "CT_sess = 'session'\n",
    "CT_date = 'date'\n",
    "CT_filt = 'filters'\n",
    "CT_filt_manu = 'manufacturer'\n",
    "CT_filt_airc = 'aircraft'\n",
    "CT_filt_airl = 'company'\n",
    "CT_filt_cate = 'category'\n",
    "CT_filt_date = 'date'\n",
    "\n",
    "CT_bdd_sess = 'session'\n",
    "CT_bdd_date = 'date'\n",
    "CT_bdd_json = 'json'\n",
    "CT_bdd_hash = 'hash'"
   ]
  },
  {
   "cell_type": "markdown",
   "metadata": {},
   "source": [
    "##### constants for the tagging"
   ]
  },
  {
   "cell_type": "code",
   "execution_count": null,
   "metadata": {},
   "outputs": [],
   "source": [
    "CT_SEP = '_'\n",
    "CT_HASH = '#'\n",
    "\n",
    "CT_SUF_B='B'\n",
    "CT_SUF_I='I'\n",
    "CT_SUF_E='E'\n",
    "\n",
    "CT_TAG_STAT = 'STAT'\n",
    "CT_TAG_MANU = 'MANU'\n",
    "CT_TAG_AIRP = 'AIRP'\n",
    "CT_TAG_AIRL = 'AIRL'\n",
    "CT_TAG_COUN = 'COUN'\n",
    "CT_TAG_DATE1 = 'DATE1'\n",
    "CT_TAG_DATE2 = 'DATE2'\n",
    "CT_TAG_STUD = 'STUDIED'\n",
    "CT_TAG_O = 'O'"
   ]
  },
  {
   "cell_type": "markdown",
   "metadata": {},
   "source": [
    "##### dataframes for the database"
   ]
  },
  {
   "cell_type": "code",
   "execution_count": 3,
   "metadata": {},
   "outputs": [],
   "source": [
    "data_directory = './data/'\n",
    "\n",
    "df_aircraft = pd.read_csv(data_directory+'df_aircraft.csv', sep='§', engine='python',\n",
    "                          index_col=0, encoding='utf-8')\n",
    "df_airline = pd.read_csv(data_directory+'df_airline.csv', sep='§', engine='python',\n",
    "                         index_col=0, encoding='utf-8')\n",
    "df_airport = pd.read_csv(data_directory+'df_airport.csv', sep='§', engine='python',\n",
    "                         index_col=0, encoding='utf-8')\n",
    "df_country = pd.read_csv(data_directory+'df_country.csv', sep='§', engine='python',\n",
    "                         index_col=0, encoding='utf-8')\n"
   ]
  }
 ],
 "metadata": {
  "kernelspec": {
   "display_name": "Python 3",
   "language": "python",
   "name": "python3"
  },
  "language_info": {
   "codemirror_mode": {
    "name": "ipython",
    "version": 3
   },
   "file_extension": ".py",
   "mimetype": "text/x-python",
   "name": "python",
   "nbconvert_exporter": "python",
   "pygments_lexer": "ipython3",
   "version": "3.6.9"
  }
 },
 "nbformat": 4,
 "nbformat_minor": 2
}
