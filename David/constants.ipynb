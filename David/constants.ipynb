{
 "cells": [
  {
   "cell_type": "markdown",
   "metadata": {},
   "source": [
    "Created on Fri Jan 17 17:03:35 2019  \n",
    "Group 9  \n",
    "@authors:  "
   ]
  },
  {
   "cell_type": "code",
   "execution_count": 1,
   "metadata": {},
   "outputs": [],
   "source": [
    "import pandas as pd\n",
    "import itertools"
   ]
  },
  {
   "cell_type": "markdown",
   "metadata": {},
   "source": [
    "##### Word2vec models :\n",
    "https://github.com/eyaler/word2vec-slim/blob/master/GoogleNews-vectors-negative300-SLIM.bin.gz  \n",
    "https://github.com/mmihaltz/word2vec-GoogleNews-vectors/blob/master/GoogleNews-vectors-negative300.bin.gz"
   ]
  },
  {
   "cell_type": "code",
   "execution_count": 2,
   "metadata": {},
   "outputs": [],
   "source": [
    "#root = '/media/david/python_data/FAC/M2/ProjetIP/'\n",
    "root = './'\n",
    "data_directory = root+'data/'\n",
    "bdd_directory = data_directory+'bdd/'\n",
    "\n",
    "pathword2vec = data_directory+'GoogleNews-vectors-negative300.bin.gz'\n",
    "pathword2vec = data_directory+'GoogleNews-vectors-negative300-SLIM.bin.gz'"
   ]
  },
  {
   "cell_type": "markdown",
   "metadata": {},
   "source": [
    "##### constants for the json"
   ]
  },
  {
   "cell_type": "code",
   "execution_count": 3,
   "metadata": {},
   "outputs": [],
   "source": [
    "CT_is_list = \"is_list\"\n",
    "\n",
    "CT_tabs = 'tab'\n",
    "CT_tabs_default = 'general'\n",
    "CT_sess = 'session'\n",
    "CT_date = 'date'\n",
    "CT_filt = 'filters'\n",
    "CT_filt_manu = 'manufacturer'\n",
    "CT_filt_airc = 'aircraft'\n",
    "CT_filt_airl = 'company'\n",
    "CT_filt_airp = 'airport'\n",
    "CT_filt_cate = 'category'\n",
    "CT_filt_date = 'date'\n",
    "CT_filt_coun = 'country'\n",
    "CT_filt_city = 'city'\n",
    "\n",
    "CT_bdd_sess = 'session'\n",
    "CT_bdd_date = 'date'\n",
    "CT_bdd_json = 'json'\n",
    "CT_bdd_hash = 'hash'"
   ]
  },
  {
   "cell_type": "markdown",
   "metadata": {},
   "source": [
    "##### constants for the tagging"
   ]
  },
  {
   "cell_type": "code",
   "execution_count": 4,
   "metadata": {},
   "outputs": [],
   "source": [
    "CT_SEP = '_'\n",
    "CT_HASH = '#'\n",
    "\n",
    "CT_SUF_B = 'B'  # begin\n",
    "CT_SUF_I = 'I'  # intermediary\n",
    "CT_SUF_E = 'E'  # end\n",
    "\n",
    "CT_TAG_STAT = 'STAT'\n",
    "CT_TAG_MANU = 'MANU'\n",
    "CT_TAG_AIRC = 'AIRC'\n",
    "CT_TAG_AIRP = 'AIRP'\n",
    "CT_TAG_AIRL = 'AIRL'\n",
    "CT_TAG_COUN = 'COUN'\n",
    "CT_TAG_DATE1 = 'DATE1'\n",
    "CT_TAG_DATE2 = 'DATE2'\n",
    "CT_TAG_STUD = 'STUDIED'\n",
    "CT_TAG_CATE = 'CATE'\n",
    "CT_TAG_O = 'O'"
   ]
  },
  {
   "cell_type": "markdown",
   "metadata": {},
   "source": [
    "##### constants for the features"
   ]
  },
  {
   "cell_type": "code",
   "execution_count": 5,
   "metadata": {},
   "outputs": [],
   "source": [
    "CT_feat_seat = \"seat\"\n",
    "CT_feat_seat_typ = \"seat_type\"\n",
    "CT_feat_seat_pos = \"seat_position\"\n",
    "CT_feat_rate_seat_conf = \"seat_confort\"\n",
    "CT_feat_power = \"power\"\n",
    "\n",
    "CT_feat_pitch = 'pitch_min'\n",
    "CT_feat_cater = 'catering'\n",
    "\n",
    "CT_feat_travel = 'type_of_traveller'\n",
    "\n",
    "CT_feat_rate_value = 'value_for_money'\n",
    "CT_feat_rate_clean = \"cleanliness\"\n",
    "CT_feat_rate_staff = 'cabin_staff_service'\n",
    "CT_feat_rate_entertai = 'entertainement'\n",
    "CT_feat_rate_overall = 'overall_customer_rating'"
   ]
  },
  {
   "cell_type": "code",
   "execution_count": 6,
   "metadata": {},
   "outputs": [],
   "source": [
    "# add new tags in this functions !\n",
    "\n",
    "\n",
    "def get_all_tags() -> list:\n",
    "    \"\"\"This function classifies the tags in 3 categories : prefixe, separat, suffixe.\n",
    "    Then it creates a list with all the tags which contains all possible tag combinations\n",
    "    Out:\n",
    "        all_tags: list with all possible tag combinations \n",
    "\n",
    "    \"\"\"\n",
    "    prefixe = [CT_TAG_STAT, CT_TAG_MANU, CT_TAG_AIRP, CT_TAG_AIRL, CT_TAG_COUN,\n",
    "               CT_TAG_DATE1, CT_TAG_DATE2, CT_TAG_STUD]\n",
    "    separat = [CT_SEP]\n",
    "    suffixe = [CT_SUF_B, CT_SUF_I, CT_SUF_E]\n",
    "\n",
    "    all_tags = [CT_TAG_O] + [\"\".join(t)\n",
    "                             for t in list(itertools.product(prefixe, separat, suffixe))]\n",
    "    return all_tags\n",
    "\n",
    "\n",
    "def tag_to_filter() -> dict:\n",
    "    \"\"\"This function serves as a link between Tags and Filters constants\n",
    "    with a indication that say that if the filter contains a list of word\n",
    "    or a unique word\n",
    "\n",
    "    Out:\n",
    "        tag_to_filter: dictinary that links the TAGS to the FILTERS constants \n",
    "\n",
    "    \"\"\"\n",
    "    tag_to_filter = {\n",
    "        CT_TAG_MANU: {CT_filt: CT_filt_manu, CT_is_list: True},\n",
    "        CT_TAG_AIRC: {CT_filt: CT_filt_airc, CT_is_list: True},\n",
    "        CT_TAG_AIRL: {CT_filt: CT_filt_airl, CT_is_list: True},\n",
    "        CT_TAG_COUN: {CT_filt: CT_filt_coun, CT_is_list: True},\n",
    "        CT_TAG_CATE: {CT_filt: CT_filt_cate, CT_is_list: False},\n",
    "        CT_TAG_DATE1: {CT_filt: CT_filt_date, CT_is_list: False},\n",
    "        CT_TAG_DATE2: {CT_filt: CT_filt_date, CT_is_list: False},\n",
    "    }\n",
    "    return tag_to_filter\n",
    "\n",
    "\n",
    "def is_successor(suffixe1: str, suffixe2: str) -> bool:\n",
    "    \"\"\"This function determins if a word is a successor or not.\n",
    "    Out:\n",
    "        successor: return True if the word is a successor\n",
    "\n",
    "    \"\"\"\n",
    "    successor = False\n",
    "    if suffixe1 == CT_SUF_B or suffixe1 == CT_SUF_I:\n",
    "        if suffixe2 == CT_SUF_I or suffixe2 == CT_SUF_E:\n",
    "            successor = True\n",
    "    return successor"
   ]
  },
  {
   "cell_type": "code",
   "execution_count": null,
   "metadata": {},
   "outputs": [],
   "source": []
  }
 ],
 "metadata": {
  "kernelspec": {
   "display_name": "Python 3",
   "language": "python",
   "name": "python3"
  },
  "language_info": {
   "codemirror_mode": {
    "name": "ipython",
    "version": 3
   },
   "file_extension": ".py",
   "mimetype": "text/x-python",
   "name": "python",
   "nbconvert_exporter": "python",
   "pygments_lexer": "ipython3",
   "version": "3.6.9"
  },
  "toc": {
   "base_numbering": 1,
   "nav_menu": {},
   "number_sections": true,
   "sideBar": true,
   "skip_h1_title": false,
   "title_cell": "Table of Contents",
   "title_sidebar": "Contents",
   "toc_cell": false,
   "toc_position": {},
   "toc_section_display": true,
   "toc_window_display": true
  }
 },
 "nbformat": 4,
 "nbformat_minor": 2
}
