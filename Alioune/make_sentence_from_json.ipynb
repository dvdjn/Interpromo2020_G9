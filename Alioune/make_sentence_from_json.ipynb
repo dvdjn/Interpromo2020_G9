{
 "cells": [
  {
   "cell_type": "code",
   "execution_count": 82,
   "metadata": {},
   "outputs": [],
   "source": [
    "def tfd (date):\n",
    "    return (date[0:2]+'-'+date[2:4]+'-'+date[4:])\n",
    "\n",
    "def make_sentence_fom_json(event_dict):\n",
    "    sent = \"We suggest you \"\n",
    "    if event_dict[CT_tabs] == CT_tabs_gen:\n",
    "        sent = sent+'the global study'\n",
    "    else:\n",
    "        sent = sent+'the '+event_dict[CT_tabs]+\"s' study\"\n",
    "    if event_dict[CT_filt][CT_date] != []:\n",
    "        sent = sent + ' from '+tfd(event_dict[CT_filt][CT_date][0])+' to '+tfd(event_dict[CT_filt][CT_date][1])\n",
    "    manu = ''\n",
    "    if len(event_dict[CT_filt][CT_filt_manu]) == 1:\n",
    "        manu = ' for the manufacturer '+ event_dict[CT_filt][CT_filt_manu][0]\n",
    "    elif (len(event_dict[CT_filt][CT_filt_manu]) > 1):\n",
    "        manu = ' for the manufacturers '\n",
    "        for k in event_dict[CT_filt][CT_filt_manu]:\n",
    "            if k != event_dict[CT_filt][CT_filt_manu][-1]:\n",
    "                manu = manu + k+', '\n",
    "            else: \n",
    "                manu = manu + k\n",
    "            \n",
    "    if manu != \"\":\n",
    "        sent = sent + manu \n",
    "    airc = ''\n",
    "    if len(event_dict[CT_filt][CT_filt_airc]) == 1:\n",
    "        airc = ' for the aircraft'+ event_dict[CT_filt][CT_filt_airc][0]\n",
    "    elif len(event_dict[CT_filt][CT_filt_airc]) > 1:\n",
    "        airc = ' for the aircrafts '\n",
    "        for k in event_dict[CT_filt][CT_filt_airc]:\n",
    "            if k != event_dict[CT_filt][CT_filt_airc][-1]:\n",
    "                airc = airc + k+', '\n",
    "            else: \n",
    "                airc = airc + k\n",
    "            \n",
    "    if airc != \"\":\n",
    "        sent = sent + ' and'+ airc\n",
    "    comp = ''\n",
    "    if len(event_dict[CT_filt][CT_filt_airl]) == 1:\n",
    "        comp = ' for the company'+ event_dict[CT_filt][CT_filt_airl][0]\n",
    "    elif len(event_dict[CT_filt][CT_filt_airl]) > 1:\n",
    "        comp = ' for the companies '\n",
    "        for k in event_dict[CT_filt][CT_filt_airl]:\n",
    "            if k != event_dict[CT_filt][CT_filt_airl][-1]:\n",
    "                comp = comp + k+', '\n",
    "            else: \n",
    "                comp = comp + k\n",
    "            \n",
    "    if comp != \"\":\n",
    "        sent = sent + ' and'+comp \n",
    "    cat = ''\n",
    "    if len(event_dict[CT_filt][CT_filt_cate]) == 1:\n",
    "        cat = ' and for the category'+ event_dict[CT_filt][CT_filt_cate][0]\n",
    "    elif len(event_dict[CT_filt][CT_filt_cate]) > 1:\n",
    "        cat = ' and for the categories '\n",
    "        for k in event_dict[CT_filt][CT_filt_cate]:\n",
    "            if k != event_dict[CT_filt][CT_filt_cate][-1]:\n",
    "                 cat = cat + k+', '\n",
    "            else: \n",
    "                 cat = cat + k\n",
    "            \n",
    "    if cat != \"\":\n",
    "        sent = sent + cat\n",
    "    pays = ''\n",
    "    if len(event_dict[CT_filt][CT_filt_coun]) == 1:\n",
    "        pays = ' in '+ event_dict[CT_filt][CT_filt_coun][0]\n",
    "    elif len(event_dict[CT_filt][CT_filt_coun]) > 1:\n",
    "        pays = ' in the countries '\n",
    "        for k in event_dict[CT_filt][CT_filt_coun]:\n",
    "            if k != event_dict[CT_filt][CT_filt_coun][-1]:\n",
    "                 pays = pays + k+', '\n",
    "            else: \n",
    "                 pays = pays + k\n",
    "    if pays != \"\":\n",
    "        sent = sent + pays\n",
    "    sent = sent+'. If you agree, click on the following link ;)'  \n",
    "    return(sent)\n",
    "    "
   ]
  },
  {
   "cell_type": "code",
   "execution_count": 83,
   "metadata": {},
   "outputs": [],
   "source": [
    "dicto = {'session': 0,\n",
    " 'filters': {'manufacturer': [],\n",
    "  'aircraft': ['RV_10', '212', 'PA_22_Tri_Pacer'],\n",
    "  'company': ['Colgan_Air', 'Transwest_Air'],\n",
    "  'category': ['Food', 'Food'],\n",
    "  'date': ['02102019', '26112017']},\n",
    " 'tab': 'general',\n",
    " 'date': '25/06/2012 00h25m26s'}"
   ]
  },
  {
   "cell_type": "code",
   "execution_count": 87,
   "metadata": {},
   "outputs": [],
   "source": [
    "test = {\"filters\": {\"manufacturer\": [\"airbus\",\"boeing\"], \"aircraft\": ['A330','A220'], \"company\": ['Air Algerie','Air senegal'], \"country\": [\"france\",\"Germany\"], \"category\": ['Business','premium'], \"date\": ['02102019', '26112017']}, \"tab\": \"default\"} "
   ]
  },
  {
   "cell_type": "code",
   "execution_count": 88,
   "metadata": {},
   "outputs": [],
   "source": [
    "CT_tabs = 'tab'\n",
    "CT_tabs_gen = 'general'\n",
    "CT_sess = 'session'\n",
    "CT_date = 'date'\n",
    "CT_filt = 'filters'\n",
    "CT_filt_manu = 'manufacturer'\n",
    "CT_filt_airc = 'aircraft'\n",
    "CT_filt_airl = 'company'\n",
    "CT_filt_cate = 'category'\n",
    "CT_filt_date = 'date'\n",
    "CT_filt_coun = 'country'"
   ]
  },
  {
   "cell_type": "code",
   "execution_count": 89,
   "metadata": {},
   "outputs": [
    {
     "data": {
      "text/plain": [
       "\"We suggest you the defaults' study from 02-10-2019 to 26-11-2017 for the manufacturers airbus, boeing and for the aircrafts A330, A220 and for the companies Air Algerie, Air senegal and for the categories Business, premium in the countries france, Germany. If you agree, click on the following link ;)\""
      ]
     },
     "execution_count": 89,
     "metadata": {},
     "output_type": "execute_result"
    }
   ],
   "source": [
    "make_sentence_fom_json(test)"
   ]
  },
  {
   "cell_type": "code",
   "execution_count": null,
   "metadata": {},
   "outputs": [],
   "source": []
  }
 ],
 "metadata": {
  "kernelspec": {
   "display_name": "Python 3",
   "language": "python",
   "name": "python3"
  },
  "language_info": {
   "codemirror_mode": {
    "name": "ipython",
    "version": 3
   },
   "file_extension": ".py",
   "mimetype": "text/x-python",
   "name": "python",
   "nbconvert_exporter": "python",
   "pygments_lexer": "ipython3",
   "version": "3.7.0"
  }
 },
 "nbformat": 4,
 "nbformat_minor": 2
}
