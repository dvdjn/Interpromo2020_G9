{
 "cells": [
  {
   "cell_type": "code",
   "execution_count": 1,
   "metadata": {},
   "outputs": [],
   "source": [
    "import pandas as pd\n",
    "import numpy  as np "
   ]
  },
  {
   "cell_type": "markdown",
   "metadata": {},
   "source": [
    "**let's load the data**"
   ]
  },
  {
   "cell_type": "code",
   "execution_count": 2,
   "metadata": {},
   "outputs": [],
   "source": [
    "data = pd.read_excel('/home/sid2018-1/Bureau/projet_interpromo/Interpromo2020/Interpromo2020/TWITTER.xlsx')"
   ]
  },
  {
   "cell_type": "code",
   "execution_count": 241,
   "metadata": {},
   "outputs": [],
   "source": [
    "data1 = pd.read_excel('/home/sid2018-1/Bureau/projet_interpromo/Interpromo2020/Interpromo2020/All Data/ALL_DATA.xlsx')"
   ]
  },
  {
   "cell_type": "code",
   "execution_count": 3,
   "metadata": {},
   "outputs": [
    {
     "data": {
      "text/html": [
       "<div>\n",
       "<style scoped>\n",
       "    .dataframe tbody tr th:only-of-type {\n",
       "        vertical-align: middle;\n",
       "    }\n",
       "\n",
       "    .dataframe tbody tr th {\n",
       "        vertical-align: top;\n",
       "    }\n",
       "\n",
       "    .dataframe thead th {\n",
       "        text-align: right;\n",
       "    }\n",
       "</style>\n",
       "<table border=\"1\" class=\"dataframe\">\n",
       "  <thead>\n",
       "    <tr style=\"text-align: right;\">\n",
       "      <th></th>\n",
       "      <th>contains_photo</th>\n",
       "      <th>contains_video</th>\n",
       "      <th>created_at</th>\n",
       "      <th>entities</th>\n",
       "      <th>favorite_count</th>\n",
       "      <th>is_quote_status</th>\n",
       "      <th>lang</th>\n",
       "      <th>quoted_status</th>\n",
       "      <th>quoted_status_id_str</th>\n",
       "      <th>retweet_count</th>\n",
       "      <th>text</th>\n",
       "      <th>user</th>\n",
       "    </tr>\n",
       "  </thead>\n",
       "  <tbody>\n",
       "    <tr>\n",
       "      <th>0</th>\n",
       "      <td>1</td>\n",
       "      <td>0</td>\n",
       "      <td>2019-04-02 14:38:26</td>\n",
       "      <td>{'hashtags': ['airBaltic'], 'symbols': [], 'us...</td>\n",
       "      <td>72</td>\n",
       "      <td>0</td>\n",
       "      <td>en</td>\n",
       "      <td>NaN</td>\n",
       "      <td>NaN</td>\n",
       "      <td>13</td>\n",
       "      <td>Good news for passengers on the Prague route! ...</td>\n",
       "      <td>{'id_str': '26726695', 'name': 'airBaltic', 's...</td>\n",
       "    </tr>\n",
       "    <tr>\n",
       "      <th>1</th>\n",
       "      <td>1</td>\n",
       "      <td>0</td>\n",
       "      <td>2019-04-01 19:00:01</td>\n",
       "      <td>{'hashtags': ['Airbus', 'A220', 'avgeek', 'Afr...</td>\n",
       "      <td>111</td>\n",
       "      <td>0</td>\n",
       "      <td>en</td>\n",
       "      <td>NaN</td>\n",
       "      <td>NaN</td>\n",
       "      <td>19</td>\n",
       "      <td>Thanks to the GTF, Mount Kilimanjaro 🗻 was bre...</td>\n",
       "      <td>{'id_str': '20814874', 'name': 'Pratt &amp; Whitne...</td>\n",
       "    </tr>\n",
       "    <tr>\n",
       "      <th>2</th>\n",
       "      <td>1</td>\n",
       "      <td>0</td>\n",
       "      <td>2019-04-01 10:40:21</td>\n",
       "      <td>{'hashtags': ['A220'], 'symbols': [], 'user_me...</td>\n",
       "      <td>29</td>\n",
       "      <td>0</td>\n",
       "      <td>en</td>\n",
       "      <td>NaN</td>\n",
       "      <td>NaN</td>\n",
       "      <td>6</td>\n",
       "      <td>Sunbathing in Bucharest: YL-CSM, @Airbus #A220...</td>\n",
       "      <td>{'id_str': '1403040254', 'name': 'Aeronews', '...</td>\n",
       "    </tr>\n",
       "    <tr>\n",
       "      <th>3</th>\n",
       "      <td>1</td>\n",
       "      <td>0</td>\n",
       "      <td>2019-03-31 10:20:23</td>\n",
       "      <td>{'hashtags': [], 'symbols': [], 'user_mentions...</td>\n",
       "      <td>74</td>\n",
       "      <td>0</td>\n",
       "      <td>en</td>\n",
       "      <td>NaN</td>\n",
       "      <td>NaN</td>\n",
       "      <td>9</td>\n",
       "      <td>Today we opened long-awaited @airBaltic route ...</td>\n",
       "      <td>{'id_str': '52174696', 'name': 'Martin Gauss',...</td>\n",
       "    </tr>\n",
       "    <tr>\n",
       "      <th>4</th>\n",
       "      <td>1</td>\n",
       "      <td>0</td>\n",
       "      <td>2019-03-31 06:10:27</td>\n",
       "      <td>{'hashtags': ['airBaltic'], 'symbols': [], 'us...</td>\n",
       "      <td>58</td>\n",
       "      <td>0</td>\n",
       "      <td>en</td>\n",
       "      <td>NaN</td>\n",
       "      <td>NaN</td>\n",
       "      <td>9</td>\n",
       "      <td>The new #airBaltic route between Riga and Dubl...</td>\n",
       "      <td>{'id_str': '26726695', 'name': 'airBaltic', 's...</td>\n",
       "    </tr>\n",
       "  </tbody>\n",
       "</table>\n",
       "</div>"
      ],
      "text/plain": [
       "   contains_photo  contains_video           created_at  \\\n",
       "0               1               0  2019-04-02 14:38:26   \n",
       "1               1               0  2019-04-01 19:00:01   \n",
       "2               1               0  2019-04-01 10:40:21   \n",
       "3               1               0  2019-03-31 10:20:23   \n",
       "4               1               0  2019-03-31 06:10:27   \n",
       "\n",
       "                                            entities  favorite_count  \\\n",
       "0  {'hashtags': ['airBaltic'], 'symbols': [], 'us...              72   \n",
       "1  {'hashtags': ['Airbus', 'A220', 'avgeek', 'Afr...             111   \n",
       "2  {'hashtags': ['A220'], 'symbols': [], 'user_me...              29   \n",
       "3  {'hashtags': [], 'symbols': [], 'user_mentions...              74   \n",
       "4  {'hashtags': ['airBaltic'], 'symbols': [], 'us...              58   \n",
       "\n",
       "   is_quote_status lang quoted_status  quoted_status_id_str  retweet_count  \\\n",
       "0                0   en           NaN                   NaN             13   \n",
       "1                0   en           NaN                   NaN             19   \n",
       "2                0   en           NaN                   NaN              6   \n",
       "3                0   en           NaN                   NaN              9   \n",
       "4                0   en           NaN                   NaN              9   \n",
       "\n",
       "                                                text  \\\n",
       "0  Good news for passengers on the Prague route! ...   \n",
       "1  Thanks to the GTF, Mount Kilimanjaro 🗻 was bre...   \n",
       "2  Sunbathing in Bucharest: YL-CSM, @Airbus #A220...   \n",
       "3  Today we opened long-awaited @airBaltic route ...   \n",
       "4  The new #airBaltic route between Riga and Dubl...   \n",
       "\n",
       "                                                user  \n",
       "0  {'id_str': '26726695', 'name': 'airBaltic', 's...  \n",
       "1  {'id_str': '20814874', 'name': 'Pratt & Whitne...  \n",
       "2  {'id_str': '1403040254', 'name': 'Aeronews', '...  \n",
       "3  {'id_str': '52174696', 'name': 'Martin Gauss',...  \n",
       "4  {'id_str': '26726695', 'name': 'airBaltic', 's...  "
      ]
     },
     "execution_count": 3,
     "metadata": {},
     "output_type": "execute_result"
    }
   ],
   "source": [
    "data.head()"
   ]
  },
  {
   "cell_type": "code",
   "execution_count": 176,
   "metadata": {},
   "outputs": [
    {
     "data": {
      "text/html": [
       "<div>\n",
       "<style scoped>\n",
       "    .dataframe tbody tr th:only-of-type {\n",
       "        vertical-align: middle;\n",
       "    }\n",
       "\n",
       "    .dataframe tbody tr th {\n",
       "        vertical-align: top;\n",
       "    }\n",
       "\n",
       "    .dataframe thead th {\n",
       "        text-align: right;\n",
       "    }\n",
       "</style>\n",
       "<table border=\"1\" class=\"dataframe\">\n",
       "  <thead>\n",
       "    <tr style=\"text-align: right;\">\n",
       "      <th></th>\n",
       "      <th>Data_Source</th>\n",
       "      <th>Airline_Name</th>\n",
       "      <th>Aircraft_Type</th>\n",
       "      <th>Cabin_Class</th>\n",
       "      <th>Type_Of_Lounge</th>\n",
       "      <th>Type_Of_Traveller</th>\n",
       "      <th>Date_Visit</th>\n",
       "      <th>Date_Flown</th>\n",
       "      <th>Airport</th>\n",
       "      <th>Route</th>\n",
       "      <th>...</th>\n",
       "      <th>LABEL_LAVATORY SPACE</th>\n",
       "      <th>LABEL_PRICE</th>\n",
       "      <th>LABEL_LOST BAGGAGE</th>\n",
       "      <th>LABEL_CHECK IN</th>\n",
       "      <th>LABEL_PUNCTUALITY</th>\n",
       "      <th>LABEL_ATTRACTIVE AIRCRAFT</th>\n",
       "      <th>LABEL_SAV</th>\n",
       "      <th>LABEL_BOARDING</th>\n",
       "      <th>LABEL_GENERAL</th>\n",
       "      <th>Unnamed: 54</th>\n",
       "    </tr>\n",
       "  </thead>\n",
       "  <tbody>\n",
       "    <tr>\n",
       "      <th>0</th>\n",
       "      <td>Airline Quality Airline</td>\n",
       "      <td>adria-airways</td>\n",
       "      <td>A319</td>\n",
       "      <td>Economy Class</td>\n",
       "      <td>NaN</td>\n",
       "      <td>Family Leisure</td>\n",
       "      <td>NaN</td>\n",
       "      <td>August 2015</td>\n",
       "      <td>NaN</td>\n",
       "      <td>Manchester to Ljubljana</td>\n",
       "      <td>...</td>\n",
       "      <td>NaN</td>\n",
       "      <td>NaN</td>\n",
       "      <td>NaN</td>\n",
       "      <td>NaN</td>\n",
       "      <td>2.0</td>\n",
       "      <td>NaN</td>\n",
       "      <td>NaN</td>\n",
       "      <td>NaN</td>\n",
       "      <td>2.0</td>\n",
       "      <td>NaN</td>\n",
       "    </tr>\n",
       "    <tr>\n",
       "      <th>1</th>\n",
       "      <td>Airline Quality Airline</td>\n",
       "      <td>adria-airways</td>\n",
       "      <td>A319</td>\n",
       "      <td>Economy Class</td>\n",
       "      <td>NaN</td>\n",
       "      <td>Family Leisure</td>\n",
       "      <td>NaN</td>\n",
       "      <td>August 2015</td>\n",
       "      <td>NaN</td>\n",
       "      <td>Manchester to Ljubljana</td>\n",
       "      <td>...</td>\n",
       "      <td>NaN</td>\n",
       "      <td>NaN</td>\n",
       "      <td>NaN</td>\n",
       "      <td>NaN</td>\n",
       "      <td>NaN</td>\n",
       "      <td>NaN</td>\n",
       "      <td>NaN</td>\n",
       "      <td>NaN</td>\n",
       "      <td>NaN</td>\n",
       "      <td>NaN</td>\n",
       "    </tr>\n",
       "    <tr>\n",
       "      <th>2</th>\n",
       "      <td>Airline Quality Airline</td>\n",
       "      <td>adria-airways</td>\n",
       "      <td>A319</td>\n",
       "      <td>Economy Class</td>\n",
       "      <td>NaN</td>\n",
       "      <td>Family Leisure</td>\n",
       "      <td>NaN</td>\n",
       "      <td>August 2015</td>\n",
       "      <td>NaN</td>\n",
       "      <td>Manchester to Ljubljana</td>\n",
       "      <td>...</td>\n",
       "      <td>NaN</td>\n",
       "      <td>NaN</td>\n",
       "      <td>NaN</td>\n",
       "      <td>NaN</td>\n",
       "      <td>NaN</td>\n",
       "      <td>NaN</td>\n",
       "      <td>NaN</td>\n",
       "      <td>NaN</td>\n",
       "      <td>NaN</td>\n",
       "      <td>NaN</td>\n",
       "    </tr>\n",
       "    <tr>\n",
       "      <th>3</th>\n",
       "      <td>Airline Quality Airline</td>\n",
       "      <td>adria-airways</td>\n",
       "      <td>A319</td>\n",
       "      <td>Economy Class</td>\n",
       "      <td>NaN</td>\n",
       "      <td>Family Leisure</td>\n",
       "      <td>NaN</td>\n",
       "      <td>August 2015</td>\n",
       "      <td>NaN</td>\n",
       "      <td>Manchester to Ljubljana</td>\n",
       "      <td>...</td>\n",
       "      <td>NaN</td>\n",
       "      <td>NaN</td>\n",
       "      <td>NaN</td>\n",
       "      <td>NaN</td>\n",
       "      <td>1.0</td>\n",
       "      <td>NaN</td>\n",
       "      <td>NaN</td>\n",
       "      <td>1.0</td>\n",
       "      <td>NaN</td>\n",
       "      <td>NaN</td>\n",
       "    </tr>\n",
       "    <tr>\n",
       "      <th>4</th>\n",
       "      <td>Airline Quality Airline</td>\n",
       "      <td>adria-airways</td>\n",
       "      <td>A319</td>\n",
       "      <td>Economy Class</td>\n",
       "      <td>NaN</td>\n",
       "      <td>Family Leisure</td>\n",
       "      <td>NaN</td>\n",
       "      <td>August 2015</td>\n",
       "      <td>NaN</td>\n",
       "      <td>Manchester to Ljubljana</td>\n",
       "      <td>...</td>\n",
       "      <td>NaN</td>\n",
       "      <td>NaN</td>\n",
       "      <td>NaN</td>\n",
       "      <td>NaN</td>\n",
       "      <td>NaN</td>\n",
       "      <td>NaN</td>\n",
       "      <td>NaN</td>\n",
       "      <td>NaN</td>\n",
       "      <td>2.0</td>\n",
       "      <td>NaN</td>\n",
       "    </tr>\n",
       "  </tbody>\n",
       "</table>\n",
       "<p>5 rows × 55 columns</p>\n",
       "</div>"
      ],
      "text/plain": [
       "               Data_Source   Airline_Name Aircraft_Type    Cabin_Class  \\\n",
       "0  Airline Quality Airline  adria-airways          A319  Economy Class   \n",
       "1  Airline Quality Airline  adria-airways          A319  Economy Class   \n",
       "2  Airline Quality Airline  adria-airways          A319  Economy Class   \n",
       "3  Airline Quality Airline  adria-airways          A319  Economy Class   \n",
       "4  Airline Quality Airline  adria-airways          A319  Economy Class   \n",
       "\n",
       "  Type_Of_Lounge Type_Of_Traveller Date_Visit   Date_Flown Airport  \\\n",
       "0            NaN    Family Leisure        NaN  August 2015     NaN   \n",
       "1            NaN    Family Leisure        NaN  August 2015     NaN   \n",
       "2            NaN    Family Leisure        NaN  August 2015     NaN   \n",
       "3            NaN    Family Leisure        NaN  August 2015     NaN   \n",
       "4            NaN    Family Leisure        NaN  August 2015     NaN   \n",
       "\n",
       "                     Route     ...       LABEL_LAVATORY SPACE  LABEL_PRICE  \\\n",
       "0  Manchester to Ljubljana     ...                        NaN          NaN   \n",
       "1  Manchester to Ljubljana     ...                        NaN          NaN   \n",
       "2  Manchester to Ljubljana     ...                        NaN          NaN   \n",
       "3  Manchester to Ljubljana     ...                        NaN          NaN   \n",
       "4  Manchester to Ljubljana     ...                        NaN          NaN   \n",
       "\n",
       "   LABEL_LOST BAGGAGE  LABEL_CHECK IN  LABEL_PUNCTUALITY  \\\n",
       "0                 NaN             NaN                2.0   \n",
       "1                 NaN             NaN                NaN   \n",
       "2                 NaN             NaN                NaN   \n",
       "3                 NaN             NaN                1.0   \n",
       "4                 NaN             NaN                NaN   \n",
       "\n",
       "   LABEL_ATTRACTIVE AIRCRAFT  LABEL_SAV  LABEL_BOARDING  LABEL_GENERAL  \\\n",
       "0                        NaN        NaN             NaN            2.0   \n",
       "1                        NaN        NaN             NaN            NaN   \n",
       "2                        NaN        NaN             NaN            NaN   \n",
       "3                        NaN        NaN             1.0            NaN   \n",
       "4                        NaN        NaN             NaN            2.0   \n",
       "\n",
       "   Unnamed: 54  \n",
       "0          NaN  \n",
       "1          NaN  \n",
       "2          NaN  \n",
       "3          NaN  \n",
       "4          NaN  \n",
       "\n",
       "[5 rows x 55 columns]"
      ]
     },
     "execution_count": 176,
     "metadata": {},
     "output_type": "execute_result"
    }
   ],
   "source": [
    "data1.head()"
   ]
  },
  {
   "cell_type": "code",
   "execution_count": 34,
   "metadata": {},
   "outputs": [
    {
     "data": {
      "text/plain": [
       "'The 1st production employees for A220 production in Mobile AL have today begun their new hire orientation training at AIDT, and after a month of local training will transition to Mirabel, Quebec to train for 3 months in the A220 assembly line there. https://t.co/6O8fK3VBv6'"
      ]
     },
     "execution_count": 34,
     "metadata": {},
     "output_type": "execute_result"
    }
   ],
   "source": [
    "data['text'].values[10]"
   ]
  },
  {
   "cell_type": "code",
   "execution_count": 9,
   "metadata": {},
   "outputs": [],
   "source": [
    "def sentense2cleanTokens(sent):\n",
    "    sent = \"\".join([x if (x.isalpha() or x.isnumeric() ) else \" \" for x in sent])\n",
    "    sent = \" \".join(sent.split())\n",
    "    return sent"
   ]
  },
  {
   "cell_type": "code",
   "execution_count": 10,
   "metadata": {},
   "outputs": [
    {
     "data": {
      "text/plain": [
       "'Today we opened long awaited airBaltic route between Riga and Dublin Good to see so many happy passengers boarding our Airbus A220 aircraft Thank you IrelandEmbLat and DublinAirport for great cooperation https t co fHiCkxsUrm'"
      ]
     },
     "execution_count": 10,
     "metadata": {},
     "output_type": "execute_result"
    }
   ],
   "source": [
    "sentense2cleanTokens(data['text'].values[3])"
   ]
  },
  {
   "cell_type": "code",
   "execution_count": 31,
   "metadata": {},
   "outputs": [],
   "source": [
    "import nltk\n",
    "from nltk.corpus import stopwords \n",
    "from nltk.tokenize import word_tokenize \n",
    "import gensim\n",
    "from gensim.models import Word2Vec\n",
    "from nltk.corpus import wordnet as wn"
   ]
  },
  {
   "cell_type": "code",
   "execution_count": 32,
   "metadata": {
    "scrolled": true
   },
   "outputs": [
    {
     "name": "stderr",
     "output_type": "stream",
     "text": [
      "/home/sid2018-1/anaconda3/lib/python3.7/site-packages/smart_open/smart_open_lib.py:398: UserWarning: This function is deprecated, use smart_open.open instead. See the migration notes for details: https://github.com/RaRe-Technologies/smart_open/blob/master/README.rst#migrating-to-the-new-open-function\n",
      "  'See the migration notes for details: %s' % _MIGRATION_NOTES_URL\n"
     ]
    }
   ],
   "source": [
    "pathword2vec = '/home/sid2018-1/Bureau/GoogleNews-vectors-negative300-SLIM.bin'\n",
    "model = gensim.models.KeyedVectors.load_word2vec_format(pathword2vec, binary=True)"
   ]
  },
  {
   "cell_type": "code",
   "execution_count": 163,
   "metadata": {},
   "outputs": [],
   "source": [
    "def get_two_words(listwords):\n",
    "    data = []\n",
    "    for w1 in listwords:\n",
    "        data.append([w1,w1,0])\n",
    "        for w2 in listwords: \n",
    "            if (w1.lower()!= w2.lower()):\n",
    "                w1s = wn.synsets(w1)[0]\n",
    "                w2s = wn.synsets(w2)[0]\n",
    "                if (w1s.path_similarity(w2s)== None):\n",
    "                    data.append([w1,w2,0])\n",
    "                else:\n",
    "                    data.append([w1,w2,w1s.path_similarity(w2s)])\n",
    "    df = pd.DataFrame(data, columns = ['w1','w2','sim'])\n",
    "    i = np.argmax(df[\"sim\"].values)\n",
    "    return(wn.synsets(df.iloc[i]['w1'])[0],wn.synsets(df.iloc[i]['w2'])[0])"
   ]
  },
  {
   "cell_type": "code",
   "execution_count": 164,
   "metadata": {},
   "outputs": [
    {
     "data": {
      "text/plain": [
       "(Synset('paris.n.01'), Synset('toulouse.n.01'))"
      ]
     },
     "execution_count": 164,
     "metadata": {},
     "output_type": "execute_result"
    }
   ],
   "source": [
    "get_two_words(['France','Paris','Toulouse'])"
   ]
  },
  {
   "cell_type": "code",
   "execution_count": 410,
   "metadata": {},
   "outputs": [],
   "source": [
    "def find_hypernyms(com,model):\n",
    "    listtext = com.split('.')\n",
    "    listentities= []\n",
    "    filtered = []\n",
    "    for text in listtext:\n",
    "        text = sentense2cleanTokens(text)\n",
    "        stop_words = set(stopwords.words('english')) \n",
    "        word_tokens = word_tokenize(text)\n",
    "        filtered_sentence = [w for w in word_tokens if not w in stop_words]\n",
    "        filtered.append(filtered_sentence)\n",
    "        context= np.sum([ model[word] for word in filtered_sentence if word in (model.wv.vocab)],axis= 0)\n",
    "        if context != []:\n",
    "            contexts = model.similar_by_vector(context, topn=10, restrict_vocab=None)\n",
    "            most_similar_words = [x[0] for x in contexts]\n",
    "            most_similar_words = [x for x in most_similar_words if wn.synsets(x)!= [] ]\n",
    "            first_word,second_word = get_two_words(most_similar_words)\n",
    "            hypernym= first_word.lowest_common_hypernyms(second_word)\n",
    "            #hypernym =[]\n",
    "            if hypernym != []:             \n",
    "                listentities.append(hypernym[0].lemmas()[0].name())\n",
    "    if listentities== []:\n",
    "        for x in filtered:\n",
    "            for j in x:\n",
    "                listentities.append(j)\n",
    "    return(listentities)"
   ]
  },
  {
   "cell_type": "code",
   "execution_count": 403,
   "metadata": {},
   "outputs": [],
   "source": [
    "def find_context(com,model,intents):\n",
    "    hypernyms = find_hypernyms(com,model)\n",
    "    hyp = hypernyms[0]\n",
    "    score = 0 \n",
    "    for h in hypernyms:\n",
    "        for i in intents:\n",
    "            if wn.synsets(h)!= []:\n",
    "                w1s = wn.synsets(h)[0]\n",
    "                w2s = wn.synsets(i)[0]\n",
    "                sc = w1s.path_similarity(w2s)\n",
    "                if ((sc!= None) and (sc> score)):\n",
    "                    hyp = h \n",
    "                    score = sc\n",
    "    return (hyp,score)"
   ]
  },
  {
   "cell_type": "code",
   "execution_count": 386,
   "metadata": {},
   "outputs": [
    {
     "data": {
      "text/plain": [
       "'✅ Trip Verified |  Frankfurt to Ljubljana. Flight was very comfortable, professional crew. The monitors above passengers provide informations about flight (speed, altitude, temperature, time to landing, etc.)'"
      ]
     },
     "execution_count": 386,
     "metadata": {},
     "output_type": "execute_result"
    }
   ],
   "source": [
    "data1['Review'].values[14]"
   ]
  },
  {
   "cell_type": "code",
   "execution_count": 399,
   "metadata": {},
   "outputs": [
    {
     "name": "stderr",
     "output_type": "stream",
     "text": [
      "/home/sid2018-1/anaconda3/lib/python3.7/site-packages/ipykernel_launcher.py:11: DeprecationWarning: Call to deprecated `wv` (Attribute will be removed in 4.0.0, use self instead).\n",
      "  # This is added back by InteractiveShellApp.init_path()\n",
      "/home/sid2018-1/anaconda3/lib/python3.7/site-packages/ipykernel_launcher.py:12: DeprecationWarning: elementwise comparison failed; this will raise an error in the future.\n",
      "  if sys.path[0] == '':\n"
     ]
    },
    {
     "data": {
      "text/plain": [
       "['I',\n",
       " 'thing',\n",
       " 'airplane',\n",
       " 'food',\n",
       " 'I',\n",
       " 'really',\n",
       " 'love',\n",
       " 'It',\n",
       " 'matter',\n",
       " 'tastes',\n",
       " 'packaged',\n",
       " 'breaks',\n",
       " 'monotony',\n",
       " 'flight',\n",
       " 'The',\n",
       " 'internet',\n",
       " 'slow',\n",
       " 'tho']"
      ]
     },
     "execution_count": 399,
     "metadata": {},
     "output_type": "execute_result"
    }
   ],
   "source": [
    "find_hypernyms(\"I have this thing for airplane food, I really love it. It doesn't matter how it tastes, but it's all packaged up and breaks up the monotony of the flight. The internet is slow tho\",model)"
   ]
  },
  {
   "cell_type": "code",
   "execution_count": 404,
   "metadata": {},
   "outputs": [
    {
     "name": "stderr",
     "output_type": "stream",
     "text": [
      "/home/sid2018-1/anaconda3/lib/python3.7/site-packages/ipykernel_launcher.py:11: DeprecationWarning: Call to deprecated `wv` (Attribute will be removed in 4.0.0, use self instead).\n",
      "  # This is added back by InteractiveShellApp.init_path()\n",
      "/home/sid2018-1/anaconda3/lib/python3.7/site-packages/ipykernel_launcher.py:12: DeprecationWarning: elementwise comparison failed; this will raise an error in the future.\n",
      "  if sys.path[0] == '':\n",
      "/home/sid2018-1/anaconda3/lib/python3.7/site-packages/ipykernel_launcher.py:12: DeprecationWarning: The truth value of an empty array is ambiguous. Returning False, but in future this will result in an error. Use `array.size > 0` to check that an array is not empty.\n",
      "  if sys.path[0] == '':\n"
     ]
    },
    {
     "data": {
      "text/plain": [
       "('Flight', 1.0)"
      ]
     },
     "execution_count": 404,
     "metadata": {},
     "output_type": "execute_result"
    }
   ],
   "source": [
    "find_context(data1['Review'].values[14],model,['food','person','flight','seat'])"
   ]
  },
  {
   "cell_type": "code",
   "execution_count": null,
   "metadata": {},
   "outputs": [],
   "source": [
    "####find out if spacy does the wtcenter "
   ]
  },
  {
   "cell_type": "code",
   "execution_count": 291,
   "metadata": {},
   "outputs": [],
   "source": [
    "from scipy import spatial"
   ]
  },
  {
   "cell_type": "code",
   "execution_count": 406,
   "metadata": {},
   "outputs": [],
   "source": [
    "def find_context_w2v(com,model,intents):\n",
    "    hypernyms = find_hypernyms(com,model)\n",
    "    hyp = hypernyms[0]\n",
    "    score = 0 \n",
    "    for h in hypernyms:\n",
    "        for i in intents:\n",
    "            sc = np.mean([model.similarity(k,i) for k in h.split('_') if k in model.wv.vocab])\n",
    "            if ((sc!= None) and (sc> score)):\n",
    "                hyp = i \n",
    "                score = sc\n",
    "    return (hyp,score)"
   ]
  },
  {
   "cell_type": "code",
   "execution_count": 413,
   "metadata": {},
   "outputs": [
    {
     "name": "stderr",
     "output_type": "stream",
     "text": [
      "/home/sid2018-1/anaconda3/lib/python3.7/site-packages/ipykernel_launcher.py:11: DeprecationWarning: Call to deprecated `wv` (Attribute will be removed in 4.0.0, use self instead).\n",
      "  # This is added back by InteractiveShellApp.init_path()\n",
      "/home/sid2018-1/anaconda3/lib/python3.7/site-packages/ipykernel_launcher.py:12: DeprecationWarning: elementwise comparison failed; this will raise an error in the future.\n",
      "  if sys.path[0] == '':\n",
      "/home/sid2018-1/anaconda3/lib/python3.7/site-packages/ipykernel_launcher.py:7: DeprecationWarning: Call to deprecated `wv` (Attribute will be removed in 4.0.0, use self instead).\n",
      "  import sys\n"
     ]
    },
    {
     "data": {
      "text/plain": [
       "('space', 0.30810276)"
      ]
     },
     "execution_count": 413,
     "metadata": {},
     "output_type": "execute_result"
    }
   ],
   "source": [
    "find_context_w2v(\"I got upgraded to Premium Economy by @airfrance on flight AF0814 from Paris to Nairobi. Wider leg room, seat recline, privacy, wider seat, fine food👌Thank you AirFrance🥂\",model,['space','food','staff','late','good','bad'])"
   ]
  },
  {
   "cell_type": "code",
   "execution_count": 414,
   "metadata": {},
   "outputs": [
    {
     "name": "stderr",
     "output_type": "stream",
     "text": [
      "/home/sid2018-1/anaconda3/lib/python3.7/site-packages/ipykernel_launcher.py:11: DeprecationWarning: Call to deprecated `wv` (Attribute will be removed in 4.0.0, use self instead).\n",
      "  # This is added back by InteractiveShellApp.init_path()\n",
      "/home/sid2018-1/anaconda3/lib/python3.7/site-packages/ipykernel_launcher.py:12: DeprecationWarning: elementwise comparison failed; this will raise an error in the future.\n",
      "  if sys.path[0] == '':\n",
      "/home/sid2018-1/anaconda3/lib/python3.7/site-packages/ipykernel_launcher.py:12: DeprecationWarning: The truth value of an empty array is ambiguous. Returning False, but in future this will result in an error. Use `array.size > 0` to check that an array is not empty.\n",
      "  if sys.path[0] == '':\n",
      "/home/sid2018-1/anaconda3/lib/python3.7/site-packages/ipykernel_launcher.py:7: DeprecationWarning: Call to deprecated `wv` (Attribute will be removed in 4.0.0, use self instead).\n",
      "  import sys\n"
     ]
    },
    {
     "data": {
      "text/plain": [
       "('space', 0.16681477)"
      ]
     },
     "execution_count": 414,
     "metadata": {},
     "output_type": "execute_result"
    }
   ],
   "source": [
    "find_context_w2v(\"travelled on domestic US and Air France International flight with carry on luggage. Last flight leg internal in France was made to check in my carry on! Aircraft was A320 loads of cabin space, not even close to full!!!! Makes no sense.\",model,['space','food','staff','late','good','bad'])"
   ]
  },
  {
   "cell_type": "code",
   "execution_count": 416,
   "metadata": {},
   "outputs": [
    {
     "name": "stderr",
     "output_type": "stream",
     "text": [
      "/home/sid2018-1/anaconda3/lib/python3.7/site-packages/ipykernel_launcher.py:11: DeprecationWarning: Call to deprecated `wv` (Attribute will be removed in 4.0.0, use self instead).\n",
      "  # This is added back by InteractiveShellApp.init_path()\n",
      "/home/sid2018-1/anaconda3/lib/python3.7/site-packages/ipykernel_launcher.py:12: DeprecationWarning: elementwise comparison failed; this will raise an error in the future.\n",
      "  if sys.path[0] == '':\n",
      "/home/sid2018-1/anaconda3/lib/python3.7/site-packages/ipykernel_launcher.py:7: DeprecationWarning: Call to deprecated `wv` (Attribute will be removed in 4.0.0, use self instead).\n",
      "  import sys\n"
     ]
    },
    {
     "data": {
      "text/plain": [
       "('staff', 0.2310195)"
      ]
     },
     "execution_count": 416,
     "metadata": {},
     "output_type": "execute_result"
    }
   ],
   "source": [
    "find_context_w2v(\"Terrible customer service @Ryanair. Website would not process payment for flights last night due to awful website glitch and now price has increased by £100. Phoned customer service who said they couldn’t help. Total lack of customer support\",model,['space','food','staff','late','good','bad'])"
   ]
  },
  {
   "cell_type": "code",
   "execution_count": null,
   "metadata": {},
   "outputs": [],
   "source": []
  }
 ],
 "metadata": {
  "kernelspec": {
   "display_name": "Python 3",
   "language": "python",
   "name": "python3"
  },
  "language_info": {
   "codemirror_mode": {
    "name": "ipython",
    "version": 3
   },
   "file_extension": ".py",
   "mimetype": "text/x-python",
   "name": "python",
   "nbconvert_exporter": "python",
   "pygments_lexer": "ipython3",
   "version": "3.7.0"
  }
 },
 "nbformat": 4,
 "nbformat_minor": 2
}
