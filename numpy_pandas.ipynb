{
 "cells": [
  {
   "cell_type": "markdown",
   "metadata": {},
   "source": [
    "# Python : Numpy & Panda\n",
    "\n",
    "Voir aussi:  \n",
    "https://gist.github.com/sloria/7001839  \n",
    "https://openclassrooms.com/fr/courses/4452741-decouvrez-les-librairies-python-pour-la-data-science  \n",
    "https://www.python.org/dev/peps/pep-0008/"
   ]
  },
  {
   "cell_type": "code",
   "execution_count": 1,
   "metadata": {},
   "outputs": [],
   "source": [
    "import pandas as pd\n",
    "import numpy as np"
   ]
  },
  {
   "cell_type": "markdown",
   "metadata": {},
   "source": [
    "### Range / Arange (de 1 à 10 par pas de 2)"
   ]
  },
  {
   "cell_type": "code",
   "execution_count": 2,
   "metadata": {},
   "outputs": [
    {
     "name": "stdout",
     "output_type": "stream",
     "text": [
      "range :\t range(1, 10, 2)\n",
      "array :\t [1 3 5 7 9]\n",
      "liste :\t [1, 3, 5, 7, 9]\n"
     ]
    }
   ],
   "source": [
    "print(\"range :\\t\", range(1,10,2))               # type range\n",
    "print(\"array :\\t\", np.array(range(1,10,2)))     # type array\n",
    "print(\"liste :\\t\", list(range(1,10,2)))         # type liste"
   ]
  },
  {
   "cell_type": "code",
   "execution_count": 3,
   "metadata": {},
   "outputs": [
    {
     "name": "stdout",
     "output_type": "stream",
     "text": [
      "arange :\t [0.1 0.3 0.5 0.7 0.9]\n",
      "range  :\t [0.1 0.3 0.5 0.7 0.9]\n"
     ]
    }
   ],
   "source": [
    "print(\"arange :\\t\", np.arange(0.1, 1, 0.2))           # peut faire des 0.1000000001\n",
    "print(\"range  :\\t\", np.array(range(1, 10, 2))/10)     # plus précis"
   ]
  },
  {
   "cell_type": "markdown",
   "metadata": {},
   "source": [
    "### String"
   ]
  },
  {
   "cell_type": "code",
   "execution_count": 4,
   "metadata": {},
   "outputs": [
    {
     "name": "stdout",
     "output_type": "stream",
     "text": [
      "longueur      :\t 20\n",
      "3e élément    :\t a\n",
      "concatenation :\t   aBCdef 0,1,2,3,4 _  aBCdef 0,1,2,3,4 _\n",
      "minuscules    :\t   abcdef 0,1,2,3,4 _\n",
      "suppression des espaces à gauche et à droite :\t aBCdef 0,1,2,3,4 _\n"
     ]
    }
   ],
   "source": [
    "string = '  aBCdef 0,1,2,3,4 _'\n",
    "print(\"longueur      :\\t\", len(string))\n",
    "print(\"3e élément    :\\t\", string[2])\n",
    "print(\"concatenation :\\t\", string+string)\n",
    "print(\"minuscules    :\\t\", string.lower())\n",
    "print(\"suppression des espaces à gauche et à droite :\\t\", string.strip())"
   ]
  },
  {
   "cell_type": "markdown",
   "metadata": {},
   "source": [
    "### Listes  \n",
    "##### Liste des nombres pairs"
   ]
  },
  {
   "cell_type": "code",
   "execution_count": 5,
   "metadata": {},
   "outputs": [
    {
     "name": "stdout",
     "output_type": "stream",
     "text": [
      "1) List comprehension :\t [0, 2, 4, 6, 8]\n",
      "2) Append :\t [0, 2, 4, 6, 8]\n",
      "3) Addition :\t [0, 2, 4, 6, 8]\n",
      "4) extend :\t [0, 2, 4, 6, 8]\n"
     ]
    }
   ],
   "source": [
    "# Méthode compréhension de liste (à privilégier)\n",
    "liste = [i for i in range(10) if i%2 == 0]\n",
    "print(\"1) List comprehension :\\t\", liste)\n",
    "\n",
    "\n",
    "# Méthode append (ajouter un élément)\n",
    "liste = []\n",
    "for i in range(10):\n",
    "    if i%2 == 0:\n",
    "        liste.append(i)\n",
    "print(\"2) Append :\\t\", liste)\n",
    "\n",
    "\n",
    "# Méthode \"addition\" (ajouter une liste)\n",
    "liste = []\n",
    "for i in range(10):\n",
    "    if i%2 == 0:\n",
    "        liste += [i]\n",
    "print(\"3) Addition :\\t\", liste)\n",
    "\n",
    "\n",
    "# Méthode extend (ajouter une liste)\n",
    "liste = []\n",
    "for i in range(10):\n",
    "    if i%2 == 0:\n",
    "        liste.extend([i])\n",
    "print(\"4) extend :\\t\", liste)"
   ]
  },
  {
   "cell_type": "markdown",
   "metadata": {},
   "source": [
    "##### list comprehension"
   ]
  },
  {
   "cell_type": "code",
   "execution_count": 6,
   "metadata": {},
   "outputs": [
    {
     "data": {
      "text/plain": [
       "[['a0', 'a1', 'a2', 'a3', 'a4'],\n",
       " ['b0', 'b1', 'b2', 'b3', 'b4'],\n",
       " ['c0', 'c1', 'c2', 'c3', 'c4']]"
      ]
     },
     "execution_count": 6,
     "metadata": {},
     "output_type": "execute_result"
    }
   ],
   "source": [
    "liste = [[v+str(i) for i in range(5)] for v in ['a','b','c']]\n",
    "liste"
   ]
  },
  {
   "cell_type": "code",
   "execution_count": 7,
   "metadata": {},
   "outputs": [
    {
     "data": {
      "text/plain": [
       "['a0', 'a1', 'a2', 'b0', 'b1', 'b2', 'c0', 'c1', 'c2']"
      ]
     },
     "execution_count": 7,
     "metadata": {},
     "output_type": "execute_result"
    }
   ],
   "source": [
    "liste = [a+b for a in ['a','b','c'] for b in ['0','1','2']]\n",
    "liste"
   ]
  },
  {
   "cell_type": "markdown",
   "metadata": {},
   "source": [
    "##### Join / Split"
   ]
  },
  {
   "cell_type": "code",
   "execution_count": 8,
   "metadata": {},
   "outputs": [
    {
     "name": "stdout",
     "output_type": "stream",
     "text": [
      "A\t: liste :\t ['ooo', '---', 'ooo', '---', 'ooo', '---', 'ooo']\n",
      "A -> B\t: string de l'union par des '+' :\t ooo+---+ooo+---+ooo+---+ooo\n",
      "B -> A\t: liste en séparant par les '+' :\t ['ooo', '---', 'ooo', '---', 'ooo', '---', 'ooo']\n"
     ]
    }
   ],
   "source": [
    "liste  = ['ooo' if i%2==0 else '---' for i in range(7)]\n",
    "print(\"A\\t: liste :\\t\", liste)\n",
    "\n",
    "string = \"+\".join(liste)\n",
    "print(\"A -> B\\t: string de l'union par des '+' :\\t\", string)\n",
    "\n",
    "split  = string.split(\"+\")\n",
    "print(\"B -> A\\t: liste en séparant par les '+' :\\t\", split)"
   ]
  },
  {
   "cell_type": "markdown",
   "metadata": {},
   "source": [
    "### Additions sur tous les éléments d'une liste / d'un array"
   ]
  },
  {
   "cell_type": "code",
   "execution_count": 9,
   "metadata": {},
   "outputs": [
    {
     "name": "stdout",
     "output_type": "stream",
     "text": [
      "array :\t [11 12 14 15 16 17]\n",
      "liste :\t [11, 12, 14, 15, 16, 17]\n",
      "array -> liste :\t [11, 12, 14, 15, 16, 17]\n",
      "liste -> array :\t [11 12 14 15 16 17]\n"
     ]
    }
   ],
   "source": [
    "liste = [1,2,4,5,6,7]\n",
    "array = np.array(liste)\n",
    "\n",
    "A = array + 10\n",
    "L = [e + 10 for e in liste]\n",
    "\n",
    "print(\"array :\\t\", A)\n",
    "print(\"liste :\\t\", L)\n",
    "\n",
    "print(\"array -> liste :\\t\", list(A))\n",
    "print(\"liste -> array :\\t\", np.array(L))"
   ]
  },
  {
   "cell_type": "markdown",
   "metadata": {},
   "source": [
    "### MAP : appliquer une fonction à chaque élément"
   ]
  },
  {
   "cell_type": "code",
   "execution_count": 10,
   "metadata": {},
   "outputs": [
    {
     "name": "stdout",
     "output_type": "stream",
     "text": [
      "MAP :\t [3, 8, 7, 11]\n",
      "Avec compréhension de liste :\t [3, 8, 7, 11]\n"
     ]
    }
   ],
   "source": [
    "def ajouter_un(valeur):\n",
    "    return valeur+1\n",
    "\n",
    "liste = [2,7,6,10]\n",
    "R = map(ajouter_un, liste)\n",
    "print(\"MAP :\\t\", list(R))\n",
    "\n",
    "\n",
    "print(\"Avec compréhension de liste :\\t\", [e+1 for e in liste])"
   ]
  },
  {
   "cell_type": "markdown",
   "metadata": {},
   "source": [
    "### Enumération :"
   ]
  },
  {
   "cell_type": "code",
   "execution_count": 11,
   "metadata": {},
   "outputs": [
    {
     "data": {
      "text/plain": [
       "[(0, 2), (1, 7), (2, 6), (3, 10)]"
      ]
     },
     "execution_count": 11,
     "metadata": {},
     "output_type": "execute_result"
    }
   ],
   "source": [
    "liste = [2,7,6,10]\n",
    "list(enumerate(liste))"
   ]
  },
  {
   "cell_type": "markdown",
   "metadata": {},
   "source": [
    "## Ensembles"
   ]
  },
  {
   "cell_type": "code",
   "execution_count": 12,
   "metadata": {},
   "outputs": [
    {
     "name": "stdout",
     "output_type": "stream",
     "text": [
      "liste :\t [1, 2, 3, 4, 5, 1, 1, 1, 2, 3, 4]\n",
      "liste -> ensemble :\t {1, 2, 3, 4, 5}\n",
      "union :\t {1, 2, 3, 4, 5, 111}\n",
      "difference :\t {3, 4, 5}\n",
      "ensemble -> liste :\t [0, 1, 2, 3, 4, 5, 6, 7, 8, 9]\n"
     ]
    }
   ],
   "source": [
    "liste = [1,2,3,4,5,1,1,1,2,3,4]\n",
    "print(\"liste :\\t\", liste)\n",
    "\n",
    "ensemble = set(liste)\n",
    "print(\"liste -> ensemble :\\t\", ensemble)\n",
    "\n",
    "u = ensemble.union([111])\n",
    "print(\"union :\\t\", u)\n",
    "\n",
    "d = ensemble.difference([1,2])\n",
    "print(\"difference :\\t\", d)\n",
    "\n",
    "ensemble = {i for i in range(10)}\n",
    "print(\"ensemble -> liste :\\t\", list(ensemble))"
   ]
  },
  {
   "cell_type": "markdown",
   "metadata": {},
   "source": [
    "## Dictionnaires"
   ]
  },
  {
   "cell_type": "code",
   "execution_count": 13,
   "metadata": {},
   "outputs": [
    {
     "name": "stdout",
     "output_type": "stream",
     "text": [
      "dictionnaire :\n",
      " {'A': 1, 'B': 2, 444: '4', (1, 2, 'f'): [1, 1, 1]} \n",
      "\n",
      "clés    :\t dict_keys(['A', 'B', 444, (1, 2, 'f')])\n",
      "valeurs :\t dict_values([1, 2, '4', [1, 1, 1]])\n"
     ]
    }
   ],
   "source": [
    "dictionnaire = {'A' : 1,\n",
    "                'B' : 2,\n",
    "                444 : '4',\n",
    "                tuple([1,2,'f']) : [1,1,1]}\n",
    "\n",
    "print(\"dictionnaire :\\n\", dictionnaire, '\\n')\n",
    "print(\"clés    :\\t\", dictionnaire.keys())\n",
    "print(\"valeurs :\\t\", dictionnaire.values())"
   ]
  },
  {
   "cell_type": "markdown",
   "metadata": {},
   "source": [
    "#### Accéder aux valeurs par la clé :"
   ]
  },
  {
   "cell_type": "code",
   "execution_count": 14,
   "metadata": {},
   "outputs": [
    {
     "name": "stdout",
     "output_type": "stream",
     "text": [
      "key = A :\t 1\n",
      "key = A :\t 1\n",
      "key = AAAA :\t None\n"
     ]
    },
    {
     "ename": "KeyError",
     "evalue": "'AAAA'",
     "output_type": "error",
     "traceback": [
      "\u001b[0;31m---------------------------------------------------------------------------\u001b[0m",
      "\u001b[0;31mKeyError\u001b[0m                                  Traceback (most recent call last)",
      "\u001b[0;32m<ipython-input-14-7b32ed8ed139>\u001b[0m in \u001b[0;36m<module>\u001b[0;34m\u001b[0m\n\u001b[1;32m      3\u001b[0m \u001b[0;34m\u001b[0m\u001b[0m\n\u001b[1;32m      4\u001b[0m \u001b[0mprint\u001b[0m\u001b[0;34m(\u001b[0m\u001b[0;34m\"key = AAAA :\\t\"\u001b[0m\u001b[0;34m,\u001b[0m \u001b[0mdictionnaire\u001b[0m\u001b[0;34m.\u001b[0m\u001b[0mget\u001b[0m\u001b[0;34m(\u001b[0m\u001b[0;34m'AAAA'\u001b[0m\u001b[0;34m)\u001b[0m\u001b[0;34m)\u001b[0m    \u001b[0;31m# clé n'existe pas -> resultat = None\u001b[0m\u001b[0;34m\u001b[0m\u001b[0;34m\u001b[0m\u001b[0m\n\u001b[0;32m----> 5\u001b[0;31m \u001b[0mprint\u001b[0m\u001b[0;34m(\u001b[0m\u001b[0;34m\"key = AAAA :\\t\"\u001b[0m\u001b[0;34m,\u001b[0m \u001b[0mdictionnaire\u001b[0m\u001b[0;34m[\u001b[0m\u001b[0;34m\"AAAA\"\u001b[0m\u001b[0;34m]\u001b[0m\u001b[0;34m)\u001b[0m        \u001b[0;31m# clé n'existe pas -> error\u001b[0m\u001b[0;34m\u001b[0m\u001b[0;34m\u001b[0m\u001b[0m\n\u001b[0m",
      "\u001b[0;31mKeyError\u001b[0m: 'AAAA'"
     ]
    }
   ],
   "source": [
    "print(\"key = A :\\t\", dictionnaire[\"A\"])\n",
    "print(\"key = A :\\t\", dictionnaire.get('A'))\n",
    "\n",
    "print(\"key = AAAA :\\t\", dictionnaire.get('AAAA'))    # clé n'existe pas -> resultat = None\n",
    "print(\"key = AAAA :\\t\", dictionnaire[\"AAAA\"])        # clé n'existe pas -> error"
   ]
  },
  {
   "cell_type": "markdown",
   "metadata": {},
   "source": [
    "##### Test sur valeur None"
   ]
  },
  {
   "cell_type": "code",
   "execution_count": 15,
   "metadata": {},
   "outputs": [
    {
     "name": "stdout",
     "output_type": "stream",
     "text": [
      "AAAA n'est pas dans le dictionnaire\n"
     ]
    }
   ],
   "source": [
    "res = dictionnaire.get('AAAA')\n",
    "if res is None:\n",
    "    print(\"AAAA n'est pas dans le dictionnaire\")"
   ]
  },
  {
   "cell_type": "markdown",
   "metadata": {},
   "source": [
    "### Numpy"
   ]
  },
  {
   "cell_type": "code",
   "execution_count": 16,
   "metadata": {},
   "outputs": [
    {
     "data": {
      "text/plain": [
       "array([[0.93266235, 0.8912928 , 0.54391842],\n",
       "       [0.57196467, 0.7282325 , 0.06176441],\n",
       "       [0.3488242 , 0.39859413, 0.00176113],\n",
       "       [0.6311695 , 0.0999141 , 0.49623254],\n",
       "       [0.22660569, 0.20738456, 0.17332501],\n",
       "       [0.90462822, 0.29383739, 0.87986282],\n",
       "       [0.70815619, 0.50530274, 0.85061192],\n",
       "       [0.93554124, 0.64366383, 0.86375575],\n",
       "       [0.26967065, 0.59844409, 0.66959296],\n",
       "       [0.64239157, 0.72126873, 0.47835039]])"
      ]
     },
     "execution_count": 16,
     "metadata": {},
     "output_type": "execute_result"
    }
   ],
   "source": [
    "nb_lignes   = 10\n",
    "nb_colonnes = 3\n",
    "\n",
    "random_values = np.random.random([nb_lignes,nb_colonnes])\n",
    "random_values"
   ]
  },
  {
   "cell_type": "markdown",
   "metadata": {},
   "source": [
    "##### Moyenne globale, par ligne et par colonne"
   ]
  },
  {
   "cell_type": "code",
   "execution_count": 17,
   "metadata": {},
   "outputs": [
    {
     "name": "stdout",
     "output_type": "stream",
     "text": [
      "moy :\t 0.5426241483477662\n",
      "moy_colonnes :\t [0.61716143 0.50879349 0.50191753]\n",
      "moy_lignes   :\t [0.78929119 0.45398719 0.24972649 0.40910538 0.20243842 0.69277614\n",
      " 0.68802361 0.81432027 0.51256923 0.61400356]\n"
     ]
    }
   ],
   "source": [
    "moy = random_values.mean()\n",
    "moy_colonnes = random_values.mean(axis=0)\n",
    "moy_lignes   = random_values.mean(axis=1)\n",
    "\n",
    "print(\"moy :\\t\", moy)\n",
    "print(\"moy_colonnes :\\t\", moy_colonnes)\n",
    "print(\"moy_lignes   :\\t\", moy_lignes)"
   ]
  },
  {
   "cell_type": "code",
   "execution_count": 18,
   "metadata": {},
   "outputs": [
    {
     "name": "stdout",
     "output_type": "stream",
     "text": [
      "moy   :\t 0.5426241483477662\n",
      "std   :\t 0.27589090382264225\n",
      "var   :\t 0.07611579081207444\n",
      "somme :\t 16.278724450432986\n"
     ]
    }
   ],
   "source": [
    "print(\"moy   :\\t\", random_values.mean())\n",
    "print(\"std   :\\t\", random_values.std())\n",
    "print(\"var   :\\t\", random_values.var())\n",
    "print(\"somme :\\t\", random_values.sum())"
   ]
  },
  {
   "cell_type": "markdown",
   "metadata": {},
   "source": [
    "##### index de la plus petite valeur pour chaque ligne"
   ]
  },
  {
   "cell_type": "code",
   "execution_count": 19,
   "metadata": {},
   "outputs": [
    {
     "data": {
      "text/plain": [
       "array([2, 2, 2, 1, 2, 1, 1, 1, 0, 2])"
      ]
     },
     "execution_count": 19,
     "metadata": {},
     "output_type": "execute_result"
    }
   ],
   "source": [
    "np.argmin(random_values, axis=1)"
   ]
  },
  {
   "cell_type": "markdown",
   "metadata": {},
   "source": [
    "### Pandas"
   ]
  },
  {
   "cell_type": "code",
   "execution_count": 20,
   "metadata": {},
   "outputs": [
    {
     "data": {
      "text/html": [
       "<div>\n",
       "<style scoped>\n",
       "    .dataframe tbody tr th:only-of-type {\n",
       "        vertical-align: middle;\n",
       "    }\n",
       "\n",
       "    .dataframe tbody tr th {\n",
       "        vertical-align: top;\n",
       "    }\n",
       "\n",
       "    .dataframe thead th {\n",
       "        text-align: right;\n",
       "    }\n",
       "</style>\n",
       "<table border=\"1\" class=\"dataframe\">\n",
       "  <thead>\n",
       "    <tr style=\"text-align: right;\">\n",
       "      <th></th>\n",
       "      <th>0</th>\n",
       "      <th>1</th>\n",
       "      <th>2</th>\n",
       "    </tr>\n",
       "  </thead>\n",
       "  <tbody>\n",
       "    <tr>\n",
       "      <td>0</td>\n",
       "      <td>0.932662</td>\n",
       "      <td>0.891293</td>\n",
       "      <td>0.543918</td>\n",
       "    </tr>\n",
       "    <tr>\n",
       "      <td>1</td>\n",
       "      <td>0.571965</td>\n",
       "      <td>0.728232</td>\n",
       "      <td>0.061764</td>\n",
       "    </tr>\n",
       "    <tr>\n",
       "      <td>2</td>\n",
       "      <td>0.348824</td>\n",
       "      <td>0.398594</td>\n",
       "      <td>0.001761</td>\n",
       "    </tr>\n",
       "    <tr>\n",
       "      <td>3</td>\n",
       "      <td>0.631169</td>\n",
       "      <td>0.099914</td>\n",
       "      <td>0.496233</td>\n",
       "    </tr>\n",
       "    <tr>\n",
       "      <td>4</td>\n",
       "      <td>0.226606</td>\n",
       "      <td>0.207385</td>\n",
       "      <td>0.173325</td>\n",
       "    </tr>\n",
       "    <tr>\n",
       "      <td>5</td>\n",
       "      <td>0.904628</td>\n",
       "      <td>0.293837</td>\n",
       "      <td>0.879863</td>\n",
       "    </tr>\n",
       "    <tr>\n",
       "      <td>6</td>\n",
       "      <td>0.708156</td>\n",
       "      <td>0.505303</td>\n",
       "      <td>0.850612</td>\n",
       "    </tr>\n",
       "    <tr>\n",
       "      <td>7</td>\n",
       "      <td>0.935541</td>\n",
       "      <td>0.643664</td>\n",
       "      <td>0.863756</td>\n",
       "    </tr>\n",
       "    <tr>\n",
       "      <td>8</td>\n",
       "      <td>0.269671</td>\n",
       "      <td>0.598444</td>\n",
       "      <td>0.669593</td>\n",
       "    </tr>\n",
       "    <tr>\n",
       "      <td>9</td>\n",
       "      <td>0.642392</td>\n",
       "      <td>0.721269</td>\n",
       "      <td>0.478350</td>\n",
       "    </tr>\n",
       "  </tbody>\n",
       "</table>\n",
       "</div>"
      ],
      "text/plain": [
       "          0         1         2\n",
       "0  0.932662  0.891293  0.543918\n",
       "1  0.571965  0.728232  0.061764\n",
       "2  0.348824  0.398594  0.001761\n",
       "3  0.631169  0.099914  0.496233\n",
       "4  0.226606  0.207385  0.173325\n",
       "5  0.904628  0.293837  0.879863\n",
       "6  0.708156  0.505303  0.850612\n",
       "7  0.935541  0.643664  0.863756\n",
       "8  0.269671  0.598444  0.669593\n",
       "9  0.642392  0.721269  0.478350"
      ]
     },
     "execution_count": 20,
     "metadata": {},
     "output_type": "execute_result"
    }
   ],
   "source": [
    "dataframe = pd.DataFrame(random_values)\n",
    "dataframe"
   ]
  },
  {
   "cell_type": "code",
   "execution_count": 21,
   "metadata": {},
   "outputs": [
    {
     "data": {
      "text/html": [
       "<div>\n",
       "<style scoped>\n",
       "    .dataframe tbody tr th:only-of-type {\n",
       "        vertical-align: middle;\n",
       "    }\n",
       "\n",
       "    .dataframe tbody tr th {\n",
       "        vertical-align: top;\n",
       "    }\n",
       "\n",
       "    .dataframe thead th {\n",
       "        text-align: right;\n",
       "    }\n",
       "</style>\n",
       "<table border=\"1\" class=\"dataframe\">\n",
       "  <thead>\n",
       "    <tr style=\"text-align: right;\">\n",
       "      <th></th>\n",
       "      <th>A</th>\n",
       "      <th>B</th>\n",
       "      <th>C</th>\n",
       "    </tr>\n",
       "  </thead>\n",
       "  <tbody>\n",
       "    <tr>\n",
       "      <td>0</td>\n",
       "      <td>0.932662</td>\n",
       "      <td>0.891293</td>\n",
       "      <td>0.543918</td>\n",
       "    </tr>\n",
       "    <tr>\n",
       "      <td>2</td>\n",
       "      <td>0.571965</td>\n",
       "      <td>0.728232</td>\n",
       "      <td>0.061764</td>\n",
       "    </tr>\n",
       "    <tr>\n",
       "      <td>4</td>\n",
       "      <td>0.348824</td>\n",
       "      <td>0.398594</td>\n",
       "      <td>0.001761</td>\n",
       "    </tr>\n",
       "    <tr>\n",
       "      <td>6</td>\n",
       "      <td>0.631169</td>\n",
       "      <td>0.099914</td>\n",
       "      <td>0.496233</td>\n",
       "    </tr>\n",
       "    <tr>\n",
       "      <td>8</td>\n",
       "      <td>0.226606</td>\n",
       "      <td>0.207385</td>\n",
       "      <td>0.173325</td>\n",
       "    </tr>\n",
       "    <tr>\n",
       "      <td>10</td>\n",
       "      <td>0.904628</td>\n",
       "      <td>0.293837</td>\n",
       "      <td>0.879863</td>\n",
       "    </tr>\n",
       "    <tr>\n",
       "      <td>12</td>\n",
       "      <td>0.708156</td>\n",
       "      <td>0.505303</td>\n",
       "      <td>0.850612</td>\n",
       "    </tr>\n",
       "    <tr>\n",
       "      <td>14</td>\n",
       "      <td>0.935541</td>\n",
       "      <td>0.643664</td>\n",
       "      <td>0.863756</td>\n",
       "    </tr>\n",
       "    <tr>\n",
       "      <td>16</td>\n",
       "      <td>0.269671</td>\n",
       "      <td>0.598444</td>\n",
       "      <td>0.669593</td>\n",
       "    </tr>\n",
       "    <tr>\n",
       "      <td>18</td>\n",
       "      <td>0.642392</td>\n",
       "      <td>0.721269</td>\n",
       "      <td>0.478350</td>\n",
       "    </tr>\n",
       "  </tbody>\n",
       "</table>\n",
       "</div>"
      ],
      "text/plain": [
       "           A         B         C\n",
       "0   0.932662  0.891293  0.543918\n",
       "2   0.571965  0.728232  0.061764\n",
       "4   0.348824  0.398594  0.001761\n",
       "6   0.631169  0.099914  0.496233\n",
       "8   0.226606  0.207385  0.173325\n",
       "10  0.904628  0.293837  0.879863\n",
       "12  0.708156  0.505303  0.850612\n",
       "14  0.935541  0.643664  0.863756\n",
       "16  0.269671  0.598444  0.669593\n",
       "18  0.642392  0.721269  0.478350"
      ]
     },
     "execution_count": 21,
     "metadata": {},
     "output_type": "execute_result"
    }
   ],
   "source": [
    "dataframe = pd.DataFrame(data=random_values,\n",
    "                         columns=['A','B','C'],\n",
    "                         index=np.array(range(len(random_values)))*2)\n",
    "dataframe"
   ]
  },
  {
   "cell_type": "markdown",
   "metadata": {},
   "source": [
    "### Fonction apply"
   ]
  },
  {
   "cell_type": "code",
   "execution_count": 22,
   "metadata": {},
   "outputs": [
    {
     "name": "stdout",
     "output_type": "stream",
     "text": [
      "somme par colonne :\n",
      "A    6.171614\n",
      "B    5.087935\n",
      "C    5.019175\n",
      "dtype: float64\n",
      "\n",
      "somme par ligne :  \n",
      "0     2.367874\n",
      "2     1.361962\n",
      "4     0.749179\n",
      "6     1.227316\n",
      "8     0.607315\n",
      "10    2.078328\n",
      "12    2.064071\n",
      "14    2.442961\n",
      "16    1.537708\n",
      "18    1.842011\n",
      "dtype: float64\n",
      "\n"
     ]
    }
   ],
   "source": [
    "print(\"somme par colonne :\\n\", dataframe.apply(sum, axis=0), \"\\n\", sep=\"\")\n",
    "print(\"somme par ligne :  \\n\", dataframe.apply(sum, axis=1), \"\\n\", sep=\"\")"
   ]
  },
  {
   "cell_type": "markdown",
   "metadata": {},
   "source": [
    "##### Centrer et réduire un array (numpy), ou une série (pandas) :"
   ]
  },
  {
   "cell_type": "code",
   "execution_count": 23,
   "metadata": {},
   "outputs": [],
   "source": [
    "def centrer_reduire_numpy(array):\n",
    "    return (array - np.mean(array)) / np.std(array)\n",
    "\n",
    "def centrer_reduire_panda(serie):\n",
    "    return (serie - serie.mean()) / serie.std()"
   ]
  },
  {
   "cell_type": "code",
   "execution_count": 24,
   "metadata": {},
   "outputs": [
    {
     "data": {
      "text/html": [
       "<div>\n",
       "<style scoped>\n",
       "    .dataframe tbody tr th:only-of-type {\n",
       "        vertical-align: middle;\n",
       "    }\n",
       "\n",
       "    .dataframe tbody tr th {\n",
       "        vertical-align: top;\n",
       "    }\n",
       "\n",
       "    .dataframe thead th {\n",
       "        text-align: right;\n",
       "    }\n",
       "</style>\n",
       "<table border=\"1\" class=\"dataframe\">\n",
       "  <thead>\n",
       "    <tr style=\"text-align: right;\">\n",
       "      <th></th>\n",
       "      <th>A</th>\n",
       "      <th>B</th>\n",
       "      <th>C</th>\n",
       "    </tr>\n",
       "  </thead>\n",
       "  <tbody>\n",
       "    <tr>\n",
       "      <td>0</td>\n",
       "      <td>1.183140</td>\n",
       "      <td>1.503858</td>\n",
       "      <td>0.127432</td>\n",
       "    </tr>\n",
       "    <tr>\n",
       "      <td>2</td>\n",
       "      <td>-0.169489</td>\n",
       "      <td>0.862760</td>\n",
       "      <td>-1.335441</td>\n",
       "    </tr>\n",
       "    <tr>\n",
       "      <td>4</td>\n",
       "      <td>-1.006274</td>\n",
       "      <td>-0.433267</td>\n",
       "      <td>-1.517494</td>\n",
       "    </tr>\n",
       "    <tr>\n",
       "      <td>6</td>\n",
       "      <td>0.052531</td>\n",
       "      <td>-1.607576</td>\n",
       "      <td>-0.017248</td>\n",
       "    </tr>\n",
       "    <tr>\n",
       "      <td>8</td>\n",
       "      <td>-1.464598</td>\n",
       "      <td>-1.185038</td>\n",
       "      <td>-0.996962</td>\n",
       "    </tr>\n",
       "    <tr>\n",
       "      <td>10</td>\n",
       "      <td>1.078011</td>\n",
       "      <td>-0.845135</td>\n",
       "      <td>1.146700</td>\n",
       "    </tr>\n",
       "    <tr>\n",
       "      <td>12</td>\n",
       "      <td>0.341234</td>\n",
       "      <td>-0.013724</td>\n",
       "      <td>1.057952</td>\n",
       "    </tr>\n",
       "    <tr>\n",
       "      <td>14</td>\n",
       "      <td>1.193936</td>\n",
       "      <td>0.530265</td>\n",
       "      <td>1.097831</td>\n",
       "    </tr>\n",
       "    <tr>\n",
       "      <td>16</td>\n",
       "      <td>-1.303103</td>\n",
       "      <td>0.352476</td>\n",
       "      <td>0.508734</td>\n",
       "    </tr>\n",
       "    <tr>\n",
       "      <td>18</td>\n",
       "      <td>0.094614</td>\n",
       "      <td>0.835381</td>\n",
       "      <td>-0.071504</td>\n",
       "    </tr>\n",
       "  </tbody>\n",
       "</table>\n",
       "</div>"
      ],
      "text/plain": [
       "           A         B         C\n",
       "0   1.183140  1.503858  0.127432\n",
       "2  -0.169489  0.862760 -1.335441\n",
       "4  -1.006274 -0.433267 -1.517494\n",
       "6   0.052531 -1.607576 -0.017248\n",
       "8  -1.464598 -1.185038 -0.996962\n",
       "10  1.078011 -0.845135  1.146700\n",
       "12  0.341234 -0.013724  1.057952\n",
       "14  1.193936  0.530265  1.097831\n",
       "16 -1.303103  0.352476  0.508734\n",
       "18  0.094614  0.835381 -0.071504"
      ]
     },
     "execution_count": 24,
     "metadata": {},
     "output_type": "execute_result"
    }
   ],
   "source": [
    "dataframe.apply(centrer_reduire_panda) # == dataframe.apply(centrer_reduire_panda, axis=0)"
   ]
  },
  {
   "cell_type": "code",
   "execution_count": 25,
   "metadata": {},
   "outputs": [
    {
     "data": {
      "text/html": [
       "<div>\n",
       "<style scoped>\n",
       "    .dataframe tbody tr th:only-of-type {\n",
       "        vertical-align: middle;\n",
       "    }\n",
       "\n",
       "    .dataframe tbody tr th {\n",
       "        vertical-align: top;\n",
       "    }\n",
       "\n",
       "    .dataframe thead th {\n",
       "        text-align: right;\n",
       "    }\n",
       "</style>\n",
       "<table border=\"1\" class=\"dataframe\">\n",
       "  <thead>\n",
       "    <tr style=\"text-align: right;\">\n",
       "      <th></th>\n",
       "      <th>A</th>\n",
       "      <th>B</th>\n",
       "      <th>C</th>\n",
       "    </tr>\n",
       "  </thead>\n",
       "  <tbody>\n",
       "    <tr>\n",
       "      <td>0</td>\n",
       "      <td>1.247139</td>\n",
       "      <td>1.585206</td>\n",
       "      <td>0.134325</td>\n",
       "    </tr>\n",
       "    <tr>\n",
       "      <td>2</td>\n",
       "      <td>-0.178658</td>\n",
       "      <td>0.909429</td>\n",
       "      <td>-1.407679</td>\n",
       "    </tr>\n",
       "    <tr>\n",
       "      <td>4</td>\n",
       "      <td>-1.060706</td>\n",
       "      <td>-0.456703</td>\n",
       "      <td>-1.599579</td>\n",
       "    </tr>\n",
       "    <tr>\n",
       "      <td>6</td>\n",
       "      <td>0.055372</td>\n",
       "      <td>-1.694533</td>\n",
       "      <td>-0.018182</td>\n",
       "    </tr>\n",
       "    <tr>\n",
       "      <td>8</td>\n",
       "      <td>-1.543822</td>\n",
       "      <td>-1.249140</td>\n",
       "      <td>-1.050890</td>\n",
       "    </tr>\n",
       "    <tr>\n",
       "      <td>10</td>\n",
       "      <td>1.136323</td>\n",
       "      <td>-0.890850</td>\n",
       "      <td>1.208728</td>\n",
       "    </tr>\n",
       "    <tr>\n",
       "      <td>12</td>\n",
       "      <td>0.359692</td>\n",
       "      <td>-0.014467</td>\n",
       "      <td>1.115179</td>\n",
       "    </tr>\n",
       "    <tr>\n",
       "      <td>14</td>\n",
       "      <td>1.258519</td>\n",
       "      <td>0.558948</td>\n",
       "      <td>1.157215</td>\n",
       "    </tr>\n",
       "    <tr>\n",
       "      <td>16</td>\n",
       "      <td>-1.373591</td>\n",
       "      <td>0.371542</td>\n",
       "      <td>0.536252</td>\n",
       "    </tr>\n",
       "    <tr>\n",
       "      <td>18</td>\n",
       "      <td>0.099732</td>\n",
       "      <td>0.880569</td>\n",
       "      <td>-0.075371</td>\n",
       "    </tr>\n",
       "  </tbody>\n",
       "</table>\n",
       "</div>"
      ],
      "text/plain": [
       "           A         B         C\n",
       "0   1.247139  1.585206  0.134325\n",
       "2  -0.178658  0.909429 -1.407679\n",
       "4  -1.060706 -0.456703 -1.599579\n",
       "6   0.055372 -1.694533 -0.018182\n",
       "8  -1.543822 -1.249140 -1.050890\n",
       "10  1.136323 -0.890850  1.208728\n",
       "12  0.359692 -0.014467  1.115179\n",
       "14  1.258519  0.558948  1.157215\n",
       "16 -1.373591  0.371542  0.536252\n",
       "18  0.099732  0.880569 -0.075371"
      ]
     },
     "execution_count": 25,
     "metadata": {},
     "output_type": "execute_result"
    }
   ],
   "source": [
    "# numpy et panda n'utilisent pas la même formule pour la variance\n",
    "# l'un divise par N, quand l'autre divise par N-1\n",
    "# (régler le paramètre ddof pour être identique)\n",
    "DFC = dataframe.apply(centrer_reduire_numpy)\n",
    "DFC"
   ]
  },
  {
   "cell_type": "markdown",
   "metadata": {},
   "source": [
    "##### Ajout de colonne"
   ]
  },
  {
   "cell_type": "code",
   "execution_count": 26,
   "metadata": {},
   "outputs": [],
   "source": [
    "def ma_fonction(serie):\n",
    "    return np.sum([v**i for i,v in enumerate(serie)])"
   ]
  },
  {
   "cell_type": "code",
   "execution_count": 27,
   "metadata": {},
   "outputs": [
    {
     "data": {
      "text/html": [
       "<div>\n",
       "<style scoped>\n",
       "    .dataframe tbody tr th:only-of-type {\n",
       "        vertical-align: middle;\n",
       "    }\n",
       "\n",
       "    .dataframe tbody tr th {\n",
       "        vertical-align: top;\n",
       "    }\n",
       "\n",
       "    .dataframe thead th {\n",
       "        text-align: right;\n",
       "    }\n",
       "</style>\n",
       "<table border=\"1\" class=\"dataframe\">\n",
       "  <thead>\n",
       "    <tr style=\"text-align: right;\">\n",
       "      <th></th>\n",
       "      <th>A</th>\n",
       "      <th>B</th>\n",
       "      <th>C</th>\n",
       "      <th>ma_fonction</th>\n",
       "      <th>moyenne</th>\n",
       "      <th>Z</th>\n",
       "    </tr>\n",
       "  </thead>\n",
       "  <tbody>\n",
       "    <tr>\n",
       "      <td>0</td>\n",
       "      <td>1.247139</td>\n",
       "      <td>1.585206</td>\n",
       "      <td>0.134325</td>\n",
       "      <td>2.603249</td>\n",
       "      <td>0.988890</td>\n",
       "      <td>1.247139</td>\n",
       "    </tr>\n",
       "    <tr>\n",
       "      <td>2</td>\n",
       "      <td>-0.178658</td>\n",
       "      <td>0.909429</td>\n",
       "      <td>-1.407679</td>\n",
       "      <td>3.890988</td>\n",
       "      <td>-0.225636</td>\n",
       "      <td>-0.178658</td>\n",
       "    </tr>\n",
       "    <tr>\n",
       "      <td>4</td>\n",
       "      <td>-1.060706</td>\n",
       "      <td>-0.456703</td>\n",
       "      <td>-1.599579</td>\n",
       "      <td>3.101949</td>\n",
       "      <td>-1.038996</td>\n",
       "      <td>-1.060706</td>\n",
       "    </tr>\n",
       "    <tr>\n",
       "      <td>6</td>\n",
       "      <td>0.055372</td>\n",
       "      <td>-1.694533</td>\n",
       "      <td>-0.018182</td>\n",
       "      <td>-0.694203</td>\n",
       "      <td>-0.552448</td>\n",
       "      <td>0.055372</td>\n",
       "    </tr>\n",
       "    <tr>\n",
       "      <td>8</td>\n",
       "      <td>-1.543822</td>\n",
       "      <td>-1.249140</td>\n",
       "      <td>-1.050890</td>\n",
       "      <td>0.855231</td>\n",
       "      <td>-1.281284</td>\n",
       "      <td>-1.543822</td>\n",
       "    </tr>\n",
       "    <tr>\n",
       "      <td>10</td>\n",
       "      <td>1.136323</td>\n",
       "      <td>-0.890850</td>\n",
       "      <td>1.208728</td>\n",
       "      <td>1.570174</td>\n",
       "      <td>0.484734</td>\n",
       "      <td>1.136323</td>\n",
       "    </tr>\n",
       "    <tr>\n",
       "      <td>12</td>\n",
       "      <td>0.359692</td>\n",
       "      <td>-0.014467</td>\n",
       "      <td>1.115179</td>\n",
       "      <td>2.229158</td>\n",
       "      <td>0.486801</td>\n",
       "      <td>0.359692</td>\n",
       "    </tr>\n",
       "    <tr>\n",
       "      <td>14</td>\n",
       "      <td>1.258519</td>\n",
       "      <td>0.558948</td>\n",
       "      <td>1.157215</td>\n",
       "      <td>2.898095</td>\n",
       "      <td>0.991561</td>\n",
       "      <td>1.258519</td>\n",
       "    </tr>\n",
       "    <tr>\n",
       "      <td>16</td>\n",
       "      <td>-1.373591</td>\n",
       "      <td>0.371542</td>\n",
       "      <td>0.536252</td>\n",
       "      <td>1.659109</td>\n",
       "      <td>-0.155266</td>\n",
       "      <td>-1.373591</td>\n",
       "    </tr>\n",
       "    <tr>\n",
       "      <td>18</td>\n",
       "      <td>0.099732</td>\n",
       "      <td>0.880569</td>\n",
       "      <td>-0.075371</td>\n",
       "      <td>1.886250</td>\n",
       "      <td>0.301643</td>\n",
       "      <td>0.099732</td>\n",
       "    </tr>\n",
       "  </tbody>\n",
       "</table>\n",
       "</div>"
      ],
      "text/plain": [
       "           A         B         C  ma_fonction   moyenne         Z\n",
       "0   1.247139  1.585206  0.134325     2.603249  0.988890  1.247139\n",
       "2  -0.178658  0.909429 -1.407679     3.890988 -0.225636 -0.178658\n",
       "4  -1.060706 -0.456703 -1.599579     3.101949 -1.038996 -1.060706\n",
       "6   0.055372 -1.694533 -0.018182    -0.694203 -0.552448  0.055372\n",
       "8  -1.543822 -1.249140 -1.050890     0.855231 -1.281284 -1.543822\n",
       "10  1.136323 -0.890850  1.208728     1.570174  0.484734  1.136323\n",
       "12  0.359692 -0.014467  1.115179     2.229158  0.486801  0.359692\n",
       "14  1.258519  0.558948  1.157215     2.898095  0.991561  1.258519\n",
       "16 -1.373591  0.371542  0.536252     1.659109 -0.155266 -1.373591\n",
       "18  0.099732  0.880569 -0.075371     1.886250  0.301643  0.099732"
      ]
     },
     "execution_count": 27,
     "metadata": {},
     "output_type": "execute_result"
    }
   ],
   "source": [
    "DFC['ma_fonction'] = DFC[['A','B','C']].apply(ma_fonction, axis=1)\n",
    "DFC['moyenne']     = DFC[['A','B','C']].apply(lambda x:np.mean(x), axis=1)\n",
    "DFC['Z']           = DFC['A']\n",
    "DFC"
   ]
  },
  {
   "cell_type": "markdown",
   "metadata": {},
   "source": [
    "##### sélection de ligne / colonne"
   ]
  },
  {
   "cell_type": "code",
   "execution_count": 28,
   "metadata": {},
   "outputs": [
    {
     "data": {
      "text/plain": [
       "A              0.359692\n",
       "B             -0.014467\n",
       "C              1.115179\n",
       "ma_fonction    2.229158\n",
       "moyenne        0.486801\n",
       "Z              0.359692\n",
       "Name: 12, dtype: float64"
      ]
     },
     "execution_count": 28,
     "metadata": {},
     "output_type": "execute_result"
    }
   ],
   "source": [
    "DFC.iloc[6,:] # selection de la 6ième ligne, toutes les colonnes -> serie"
   ]
  },
  {
   "cell_type": "code",
   "execution_count": 29,
   "metadata": {},
   "outputs": [
    {
     "data": {
      "text/plain": [
       "A              0.055372\n",
       "B             -1.694533\n",
       "C             -0.018182\n",
       "ma_fonction   -0.694203\n",
       "moyenne       -0.552448\n",
       "Z              0.055372\n",
       "Name: 6, dtype: float64"
      ]
     },
     "execution_count": 29,
     "metadata": {},
     "output_type": "execute_result"
    }
   ],
   "source": [
    "DFC.loc[6,:] # selection de la ligne qui a pour index 6, toutes les colonnes -> serie"
   ]
  },
  {
   "cell_type": "code",
   "execution_count": 30,
   "metadata": {},
   "outputs": [
    {
     "data": {
      "text/plain": [
       "A    0.055372\n",
       "B   -1.694533\n",
       "Name: 6, dtype: float64"
      ]
     },
     "execution_count": 30,
     "metadata": {},
     "output_type": "execute_result"
    }
   ],
   "source": [
    "DFC.loc[6,['A','B']] # selection de la ligne qui a pour index 6, colonnes A et B -> serie"
   ]
  },
  {
   "cell_type": "code",
   "execution_count": 31,
   "metadata": {},
   "outputs": [
    {
     "data": {
      "text/html": [
       "<div>\n",
       "<style scoped>\n",
       "    .dataframe tbody tr th:only-of-type {\n",
       "        vertical-align: middle;\n",
       "    }\n",
       "\n",
       "    .dataframe tbody tr th {\n",
       "        vertical-align: top;\n",
       "    }\n",
       "\n",
       "    .dataframe thead th {\n",
       "        text-align: right;\n",
       "    }\n",
       "</style>\n",
       "<table border=\"1\" class=\"dataframe\">\n",
       "  <thead>\n",
       "    <tr style=\"text-align: right;\">\n",
       "      <th></th>\n",
       "      <th>A</th>\n",
       "      <th>B</th>\n",
       "    </tr>\n",
       "  </thead>\n",
       "  <tbody>\n",
       "    <tr>\n",
       "      <td>6</td>\n",
       "      <td>0.055372</td>\n",
       "      <td>-1.694533</td>\n",
       "    </tr>\n",
       "  </tbody>\n",
       "</table>\n",
       "</div>"
      ],
      "text/plain": [
       "          A         B\n",
       "6  0.055372 -1.694533"
      ]
     },
     "execution_count": 31,
     "metadata": {},
     "output_type": "execute_result"
    }
   ],
   "source": [
    "DFC.loc[[6],['A','B']] # selection de la ligne qui a pour index 6, colonnes A et B -> dataframe"
   ]
  },
  {
   "cell_type": "code",
   "execution_count": 32,
   "metadata": {},
   "outputs": [
    {
     "data": {
      "text/html": [
       "<div>\n",
       "<style scoped>\n",
       "    .dataframe tbody tr th:only-of-type {\n",
       "        vertical-align: middle;\n",
       "    }\n",
       "\n",
       "    .dataframe tbody tr th {\n",
       "        vertical-align: top;\n",
       "    }\n",
       "\n",
       "    .dataframe thead th {\n",
       "        text-align: right;\n",
       "    }\n",
       "</style>\n",
       "<table border=\"1\" class=\"dataframe\">\n",
       "  <thead>\n",
       "    <tr style=\"text-align: right;\">\n",
       "      <th></th>\n",
       "      <th>A</th>\n",
       "      <th>B</th>\n",
       "    </tr>\n",
       "  </thead>\n",
       "  <tbody>\n",
       "    <tr>\n",
       "      <td>6</td>\n",
       "      <td>0.055372</td>\n",
       "      <td>-1.694533</td>\n",
       "    </tr>\n",
       "    <tr>\n",
       "      <td>8</td>\n",
       "      <td>-1.543822</td>\n",
       "      <td>-1.249140</td>\n",
       "    </tr>\n",
       "  </tbody>\n",
       "</table>\n",
       "</div>"
      ],
      "text/plain": [
       "          A         B\n",
       "6  0.055372 -1.694533\n",
       "8 -1.543822 -1.249140"
      ]
     },
     "execution_count": 32,
     "metadata": {},
     "output_type": "execute_result"
    }
   ],
   "source": [
    "DFC.loc[[6,8],['A','B']] # selection de 6 et 8, colonnes A et B -> dataframe"
   ]
  },
  {
   "cell_type": "code",
   "execution_count": 33,
   "metadata": {},
   "outputs": [
    {
     "data": {
      "text/html": [
       "<div>\n",
       "<style scoped>\n",
       "    .dataframe tbody tr th:only-of-type {\n",
       "        vertical-align: middle;\n",
       "    }\n",
       "\n",
       "    .dataframe tbody tr th {\n",
       "        vertical-align: top;\n",
       "    }\n",
       "\n",
       "    .dataframe thead th {\n",
       "        text-align: right;\n",
       "    }\n",
       "</style>\n",
       "<table border=\"1\" class=\"dataframe\">\n",
       "  <thead>\n",
       "    <tr style=\"text-align: right;\">\n",
       "      <th></th>\n",
       "      <th>A</th>\n",
       "      <th>B</th>\n",
       "    </tr>\n",
       "  </thead>\n",
       "  <tbody>\n",
       "    <tr>\n",
       "      <td>6</td>\n",
       "      <td>0.055372</td>\n",
       "      <td>-1.694533</td>\n",
       "    </tr>\n",
       "    <tr>\n",
       "      <td>8</td>\n",
       "      <td>-1.543822</td>\n",
       "      <td>-1.249140</td>\n",
       "    </tr>\n",
       "  </tbody>\n",
       "</table>\n",
       "</div>"
      ],
      "text/plain": [
       "          A         B\n",
       "6  0.055372 -1.694533\n",
       "8 -1.543822 -1.249140"
      ]
     },
     "execution_count": 33,
     "metadata": {},
     "output_type": "execute_result"
    }
   ],
   "source": [
    "DFC.iloc[[3,4],[0,1]] # selection 6e et 8e ligne, 1ère et 2eme colonne -> dataframe"
   ]
  },
  {
   "cell_type": "code",
   "execution_count": 34,
   "metadata": {},
   "outputs": [
    {
     "data": {
      "text/plain": [
       "0     1.247139\n",
       "2    -0.178658\n",
       "4    -1.060706\n",
       "6     0.055372\n",
       "8    -1.543822\n",
       "10    1.136323\n",
       "12    0.359692\n",
       "14    1.258519\n",
       "16   -1.373591\n",
       "18    0.099732\n",
       "Name: A, dtype: float64"
      ]
     },
     "execution_count": 34,
     "metadata": {},
     "output_type": "execute_result"
    }
   ],
   "source": [
    "DFC['A'] # colonne A -> Series"
   ]
  },
  {
   "cell_type": "code",
   "execution_count": 35,
   "metadata": {},
   "outputs": [
    {
     "data": {
      "text/html": [
       "<div>\n",
       "<style scoped>\n",
       "    .dataframe tbody tr th:only-of-type {\n",
       "        vertical-align: middle;\n",
       "    }\n",
       "\n",
       "    .dataframe tbody tr th {\n",
       "        vertical-align: top;\n",
       "    }\n",
       "\n",
       "    .dataframe thead th {\n",
       "        text-align: right;\n",
       "    }\n",
       "</style>\n",
       "<table border=\"1\" class=\"dataframe\">\n",
       "  <thead>\n",
       "    <tr style=\"text-align: right;\">\n",
       "      <th></th>\n",
       "      <th>A</th>\n",
       "    </tr>\n",
       "  </thead>\n",
       "  <tbody>\n",
       "    <tr>\n",
       "      <td>0</td>\n",
       "      <td>1.247139</td>\n",
       "    </tr>\n",
       "    <tr>\n",
       "      <td>2</td>\n",
       "      <td>-0.178658</td>\n",
       "    </tr>\n",
       "    <tr>\n",
       "      <td>4</td>\n",
       "      <td>-1.060706</td>\n",
       "    </tr>\n",
       "    <tr>\n",
       "      <td>6</td>\n",
       "      <td>0.055372</td>\n",
       "    </tr>\n",
       "    <tr>\n",
       "      <td>8</td>\n",
       "      <td>-1.543822</td>\n",
       "    </tr>\n",
       "    <tr>\n",
       "      <td>10</td>\n",
       "      <td>1.136323</td>\n",
       "    </tr>\n",
       "    <tr>\n",
       "      <td>12</td>\n",
       "      <td>0.359692</td>\n",
       "    </tr>\n",
       "    <tr>\n",
       "      <td>14</td>\n",
       "      <td>1.258519</td>\n",
       "    </tr>\n",
       "    <tr>\n",
       "      <td>16</td>\n",
       "      <td>-1.373591</td>\n",
       "    </tr>\n",
       "    <tr>\n",
       "      <td>18</td>\n",
       "      <td>0.099732</td>\n",
       "    </tr>\n",
       "  </tbody>\n",
       "</table>\n",
       "</div>"
      ],
      "text/plain": [
       "           A\n",
       "0   1.247139\n",
       "2  -0.178658\n",
       "4  -1.060706\n",
       "6   0.055372\n",
       "8  -1.543822\n",
       "10  1.136323\n",
       "12  0.359692\n",
       "14  1.258519\n",
       "16 -1.373591\n",
       "18  0.099732"
      ]
     },
     "execution_count": 35,
     "metadata": {},
     "output_type": "execute_result"
    }
   ],
   "source": [
    "DFC[['A']] # colonne A -> DataFrame"
   ]
  },
  {
   "cell_type": "markdown",
   "metadata": {},
   "source": [
    "##### sélection d'une valeur"
   ]
  },
  {
   "cell_type": "code",
   "execution_count": 36,
   "metadata": {},
   "outputs": [
    {
     "data": {
      "text/plain": [
       "1.2471388159221064"
      ]
     },
     "execution_count": 36,
     "metadata": {},
     "output_type": "execute_result"
    }
   ],
   "source": [
    "DFC.iat[0,0] # valeur à la premier ligne, première colonne"
   ]
  },
  {
   "cell_type": "code",
   "execution_count": 37,
   "metadata": {},
   "outputs": [
    {
     "data": {
      "text/plain": [
       "1.2471388159221064"
      ]
     },
     "execution_count": 37,
     "metadata": {},
     "output_type": "execute_result"
    }
   ],
   "source": [
    "DFC.at[0,'A'] # valeur à la ligne 0 , colonne A"
   ]
  },
  {
   "cell_type": "markdown",
   "metadata": {},
   "source": [
    "##### parcours ligne par ligne\n",
    "vitesse : to_records > itertuples > iterrows  "
   ]
  },
  {
   "cell_type": "code",
   "execution_count": 38,
   "metadata": {},
   "outputs": [
    {
     "name": "stdout",
     "output_type": "stream",
     "text": [
      "(0, 1.24713882, 1.58520553, 0.13432542)\n",
      "(2, -0.17865757, 0.90942892, -1.40767876)\n",
      "(4, -1.06070617, -0.45670313, -1.59957866)\n",
      "(6, 0.05537229, -1.69453341, -0.0181815)\n",
      "(8, -1.54382187, -1.24913975, -1.05089045)\n",
      "(10, 1.13632312, -0.89085022, 1.20872832)\n",
      "(12, 0.35969182, -0.01446683, 1.11517936)\n",
      "(14, 1.25851874, 0.55894799, 1.15721538)\n",
      "(16, -1.37359103, 0.37154219, 0.53625233)\n",
      "(18, 0.09973186, 0.88056872, -0.07537142)\n"
     ]
    }
   ],
   "source": [
    "for row in DFC[['A','B','C']].to_records(): # tuples\n",
    "    print(row)"
   ]
  },
  {
   "cell_type": "code",
   "execution_count": 39,
   "metadata": {},
   "outputs": [
    {
     "name": "stdout",
     "output_type": "stream",
     "text": [
      "Pandas(Index=0, A=1.2471388159221064, B=1.5852055314270637, C=0.13432541611342477)\n",
      "Pandas(Index=2, A=-0.17865757306297864, B=0.9094289166690563, C=-1.4076787642705884)\n",
      "Pandas(Index=4, A=-1.0607061652174232, B=-0.4567031266022294, C=-1.5995786563863144)\n",
      "Pandas(Index=6, A=0.05537228691607811, B=-1.6945334145262305, C=-0.018181504935313713)\n",
      "Pandas(Index=8, A=-1.5438218672781638, B=-1.2491397482602393, C=-1.0508904548011677)\n",
      "Pandas(Index=10, A=1.1363231244327259, B=-0.8908502217311257, C=1.2087283166172946)\n",
      "Pandas(Index=12, A=0.35969181772160574, B=-0.014466827695157732, C=1.1151793552849008)\n",
      "Pandas(Index=14, A=1.2585187377872682, B=0.5589479851056551, C=1.1572153815507185)\n",
      "Pandas(Index=16, A=-1.3735910327351841, B=0.37154218941158823, C=0.5362523273224937)\n",
      "Pandas(Index=18, A=0.0997318555139656, B=0.8805687162016215, C=-0.0753714164954451)\n"
     ]
    }
   ],
   "source": [
    "for row in DFC[['A','B','C']].itertuples(): # tuples nommés\n",
    "    print(row)"
   ]
  },
  {
   "cell_type": "code",
   "execution_count": 40,
   "metadata": {},
   "outputs": [
    {
     "name": "stdout",
     "output_type": "stream",
     "text": [
      "(0, A    1.247139\n",
      "B    1.585206\n",
      "C    0.134325\n",
      "Name: 0, dtype: float64)\n",
      "(2, A   -0.178658\n",
      "B    0.909429\n",
      "C   -1.407679\n",
      "Name: 2, dtype: float64)\n",
      "(4, A   -1.060706\n",
      "B   -0.456703\n",
      "C   -1.599579\n",
      "Name: 4, dtype: float64)\n",
      "(6, A    0.055372\n",
      "B   -1.694533\n",
      "C   -0.018182\n",
      "Name: 6, dtype: float64)\n",
      "(8, A   -1.543822\n",
      "B   -1.249140\n",
      "C   -1.050890\n",
      "Name: 8, dtype: float64)\n",
      "(10, A    1.136323\n",
      "B   -0.890850\n",
      "C    1.208728\n",
      "Name: 10, dtype: float64)\n",
      "(12, A    0.359692\n",
      "B   -0.014467\n",
      "C    1.115179\n",
      "Name: 12, dtype: float64)\n",
      "(14, A    1.258519\n",
      "B    0.558948\n",
      "C    1.157215\n",
      "Name: 14, dtype: float64)\n",
      "(16, A   -1.373591\n",
      "B    0.371542\n",
      "C    0.536252\n",
      "Name: 16, dtype: float64)\n",
      "(18, A    0.099732\n",
      "B    0.880569\n",
      "C   -0.075371\n",
      "Name: 18, dtype: float64)\n"
     ]
    }
   ],
   "source": [
    "for row in DFC[['A','B','C']].iterrows(): # Series\n",
    "    print(row)"
   ]
  },
  {
   "cell_type": "markdown",
   "metadata": {},
   "source": [
    "## Concaténation et jointure\n",
    "https://pandas.pydata.org/pandas-docs/stable/user_guide/merging.html  \n",
    "##### création de 3 dataframes :"
   ]
  },
  {
   "cell_type": "code",
   "execution_count": 41,
   "metadata": {},
   "outputs": [
    {
     "data": {
      "text/html": [
       "<div>\n",
       "<style scoped>\n",
       "    .dataframe tbody tr th:only-of-type {\n",
       "        vertical-align: middle;\n",
       "    }\n",
       "\n",
       "    .dataframe tbody tr th {\n",
       "        vertical-align: top;\n",
       "    }\n",
       "\n",
       "    .dataframe thead th {\n",
       "        text-align: right;\n",
       "    }\n",
       "</style>\n",
       "<table border=\"1\" class=\"dataframe\">\n",
       "  <thead>\n",
       "    <tr style=\"text-align: right;\">\n",
       "      <th></th>\n",
       "      <th>A</th>\n",
       "      <th>B</th>\n",
       "      <th>class</th>\n",
       "    </tr>\n",
       "  </thead>\n",
       "  <tbody>\n",
       "    <tr>\n",
       "      <td>0</td>\n",
       "      <td>0.559199</td>\n",
       "      <td>0.298658</td>\n",
       "      <td>C1</td>\n",
       "    </tr>\n",
       "    <tr>\n",
       "      <td>1</td>\n",
       "      <td>0.338316</td>\n",
       "      <td>0.142392</td>\n",
       "      <td>C2</td>\n",
       "    </tr>\n",
       "    <tr>\n",
       "      <td>2</td>\n",
       "      <td>0.762914</td>\n",
       "      <td>0.700971</td>\n",
       "      <td>C2</td>\n",
       "    </tr>\n",
       "    <tr>\n",
       "      <td>3</td>\n",
       "      <td>0.013755</td>\n",
       "      <td>0.883610</td>\n",
       "      <td>C2</td>\n",
       "    </tr>\n",
       "    <tr>\n",
       "      <td>4</td>\n",
       "      <td>0.215401</td>\n",
       "      <td>0.102015</td>\n",
       "      <td>C1</td>\n",
       "    </tr>\n",
       "  </tbody>\n",
       "</table>\n",
       "</div>"
      ],
      "text/plain": [
       "          A         B class\n",
       "0  0.559199  0.298658    C1\n",
       "1  0.338316  0.142392    C2\n",
       "2  0.762914  0.700971    C2\n",
       "3  0.013755  0.883610    C2\n",
       "4  0.215401  0.102015    C1"
      ]
     },
     "execution_count": 41,
     "metadata": {},
     "output_type": "execute_result"
    }
   ],
   "source": [
    "nb_lignes, nb_colonnes = 5,2\n",
    "\n",
    "DF1 = pd.DataFrame(data=np.random.random([nb_lignes,nb_colonnes]),\n",
    "                   columns=['A','B'])\n",
    "DF1['class'] = np.random.choice(['C1','C2'], nb_lignes, replace=True)\n",
    "DF1"
   ]
  },
  {
   "cell_type": "code",
   "execution_count": 42,
   "metadata": {},
   "outputs": [
    {
     "data": {
      "text/html": [
       "<div>\n",
       "<style scoped>\n",
       "    .dataframe tbody tr th:only-of-type {\n",
       "        vertical-align: middle;\n",
       "    }\n",
       "\n",
       "    .dataframe tbody tr th {\n",
       "        vertical-align: top;\n",
       "    }\n",
       "\n",
       "    .dataframe thead th {\n",
       "        text-align: right;\n",
       "    }\n",
       "</style>\n",
       "<table border=\"1\" class=\"dataframe\">\n",
       "  <thead>\n",
       "    <tr style=\"text-align: right;\">\n",
       "      <th></th>\n",
       "      <th>A</th>\n",
       "      <th>B</th>\n",
       "      <th>class</th>\n",
       "    </tr>\n",
       "  </thead>\n",
       "  <tbody>\n",
       "    <tr>\n",
       "      <td>2</td>\n",
       "      <td>0.140305</td>\n",
       "      <td>0.900021</td>\n",
       "      <td>C1</td>\n",
       "    </tr>\n",
       "    <tr>\n",
       "      <td>3</td>\n",
       "      <td>0.345779</td>\n",
       "      <td>0.925374</td>\n",
       "      <td>C2</td>\n",
       "    </tr>\n",
       "    <tr>\n",
       "      <td>4</td>\n",
       "      <td>0.961020</td>\n",
       "      <td>0.934339</td>\n",
       "      <td>C1</td>\n",
       "    </tr>\n",
       "    <tr>\n",
       "      <td>5</td>\n",
       "      <td>0.607040</td>\n",
       "      <td>0.116884</td>\n",
       "      <td>C1</td>\n",
       "    </tr>\n",
       "    <tr>\n",
       "      <td>6</td>\n",
       "      <td>0.070137</td>\n",
       "      <td>0.289512</td>\n",
       "      <td>C2</td>\n",
       "    </tr>\n",
       "  </tbody>\n",
       "</table>\n",
       "</div>"
      ],
      "text/plain": [
       "          A         B class\n",
       "2  0.140305  0.900021    C1\n",
       "3  0.345779  0.925374    C2\n",
       "4  0.961020  0.934339    C1\n",
       "5  0.607040  0.116884    C1\n",
       "6  0.070137  0.289512    C2"
      ]
     },
     "execution_count": 42,
     "metadata": {},
     "output_type": "execute_result"
    }
   ],
   "source": [
    "DF2 = pd.DataFrame(data=np.random.random([nb_lignes,nb_colonnes]),\n",
    "                   columns=['A','B'],\n",
    "                   index=np.array(range(2,2+nb_lignes)))\n",
    "DF2['class'] = np.random.choice(['C1','C2'], nb_lignes, replace=True)\n",
    "DF2"
   ]
  },
  {
   "cell_type": "code",
   "execution_count": 43,
   "metadata": {},
   "outputs": [
    {
     "data": {
      "text/html": [
       "<div>\n",
       "<style scoped>\n",
       "    .dataframe tbody tr th:only-of-type {\n",
       "        vertical-align: middle;\n",
       "    }\n",
       "\n",
       "    .dataframe tbody tr th {\n",
       "        vertical-align: top;\n",
       "    }\n",
       "\n",
       "    .dataframe thead th {\n",
       "        text-align: right;\n",
       "    }\n",
       "</style>\n",
       "<table border=\"1\" class=\"dataframe\">\n",
       "  <thead>\n",
       "    <tr style=\"text-align: right;\">\n",
       "      <th></th>\n",
       "      <th>C</th>\n",
       "      <th>D</th>\n",
       "      <th>class</th>\n",
       "    </tr>\n",
       "  </thead>\n",
       "  <tbody>\n",
       "    <tr>\n",
       "      <td>0</td>\n",
       "      <td>0.822104</td>\n",
       "      <td>0.484385</td>\n",
       "      <td>C2</td>\n",
       "    </tr>\n",
       "    <tr>\n",
       "      <td>2</td>\n",
       "      <td>0.187237</td>\n",
       "      <td>0.383154</td>\n",
       "      <td>C2</td>\n",
       "    </tr>\n",
       "    <tr>\n",
       "      <td>4</td>\n",
       "      <td>0.620088</td>\n",
       "      <td>0.450383</td>\n",
       "      <td>C1</td>\n",
       "    </tr>\n",
       "    <tr>\n",
       "      <td>6</td>\n",
       "      <td>0.871407</td>\n",
       "      <td>0.055480</td>\n",
       "      <td>C2</td>\n",
       "    </tr>\n",
       "    <tr>\n",
       "      <td>8</td>\n",
       "      <td>0.171122</td>\n",
       "      <td>0.665247</td>\n",
       "      <td>C1</td>\n",
       "    </tr>\n",
       "  </tbody>\n",
       "</table>\n",
       "</div>"
      ],
      "text/plain": [
       "          C         D class\n",
       "0  0.822104  0.484385    C2\n",
       "2  0.187237  0.383154    C2\n",
       "4  0.620088  0.450383    C1\n",
       "6  0.871407  0.055480    C2\n",
       "8  0.171122  0.665247    C1"
      ]
     },
     "execution_count": 43,
     "metadata": {},
     "output_type": "execute_result"
    }
   ],
   "source": [
    "DF3 = pd.DataFrame(data=np.random.random([nb_lignes,nb_colonnes]),\n",
    "                   columns=['C','D'],\n",
    "                   index=np.array(range(nb_lignes))*2)\n",
    "DF3['class'] = np.random.choice(['C1','C2'], nb_lignes, replace=True)\n",
    "DF3"
   ]
  },
  {
   "cell_type": "markdown",
   "metadata": {},
   "source": [
    "##### Concat\n",
    "https://pandas.pydata.org/pandas-docs/stable/reference/api/pandas.concat.html"
   ]
  },
  {
   "cell_type": "code",
   "execution_count": 44,
   "metadata": {},
   "outputs": [
    {
     "data": {
      "text/html": [
       "<div>\n",
       "<style scoped>\n",
       "    .dataframe tbody tr th:only-of-type {\n",
       "        vertical-align: middle;\n",
       "    }\n",
       "\n",
       "    .dataframe tbody tr th {\n",
       "        vertical-align: top;\n",
       "    }\n",
       "\n",
       "    .dataframe thead th {\n",
       "        text-align: right;\n",
       "    }\n",
       "</style>\n",
       "<table border=\"1\" class=\"dataframe\">\n",
       "  <thead>\n",
       "    <tr style=\"text-align: right;\">\n",
       "      <th></th>\n",
       "      <th>A</th>\n",
       "      <th>B</th>\n",
       "      <th>class</th>\n",
       "    </tr>\n",
       "  </thead>\n",
       "  <tbody>\n",
       "    <tr>\n",
       "      <td>0</td>\n",
       "      <td>0.559199</td>\n",
       "      <td>0.298658</td>\n",
       "      <td>C1</td>\n",
       "    </tr>\n",
       "    <tr>\n",
       "      <td>1</td>\n",
       "      <td>0.338316</td>\n",
       "      <td>0.142392</td>\n",
       "      <td>C2</td>\n",
       "    </tr>\n",
       "    <tr>\n",
       "      <td>2</td>\n",
       "      <td>0.762914</td>\n",
       "      <td>0.700971</td>\n",
       "      <td>C2</td>\n",
       "    </tr>\n",
       "    <tr>\n",
       "      <td>3</td>\n",
       "      <td>0.013755</td>\n",
       "      <td>0.883610</td>\n",
       "      <td>C2</td>\n",
       "    </tr>\n",
       "    <tr>\n",
       "      <td>4</td>\n",
       "      <td>0.215401</td>\n",
       "      <td>0.102015</td>\n",
       "      <td>C1</td>\n",
       "    </tr>\n",
       "    <tr>\n",
       "      <td>2</td>\n",
       "      <td>0.140305</td>\n",
       "      <td>0.900021</td>\n",
       "      <td>C1</td>\n",
       "    </tr>\n",
       "    <tr>\n",
       "      <td>3</td>\n",
       "      <td>0.345779</td>\n",
       "      <td>0.925374</td>\n",
       "      <td>C2</td>\n",
       "    </tr>\n",
       "    <tr>\n",
       "      <td>4</td>\n",
       "      <td>0.961020</td>\n",
       "      <td>0.934339</td>\n",
       "      <td>C1</td>\n",
       "    </tr>\n",
       "    <tr>\n",
       "      <td>5</td>\n",
       "      <td>0.607040</td>\n",
       "      <td>0.116884</td>\n",
       "      <td>C1</td>\n",
       "    </tr>\n",
       "    <tr>\n",
       "      <td>6</td>\n",
       "      <td>0.070137</td>\n",
       "      <td>0.289512</td>\n",
       "      <td>C2</td>\n",
       "    </tr>\n",
       "  </tbody>\n",
       "</table>\n",
       "</div>"
      ],
      "text/plain": [
       "          A         B class\n",
       "0  0.559199  0.298658    C1\n",
       "1  0.338316  0.142392    C2\n",
       "2  0.762914  0.700971    C2\n",
       "3  0.013755  0.883610    C2\n",
       "4  0.215401  0.102015    C1\n",
       "2  0.140305  0.900021    C1\n",
       "3  0.345779  0.925374    C2\n",
       "4  0.961020  0.934339    C1\n",
       "5  0.607040  0.116884    C1\n",
       "6  0.070137  0.289512    C2"
      ]
     },
     "execution_count": 44,
     "metadata": {},
     "output_type": "execute_result"
    }
   ],
   "source": [
    "pd.concat([DF1, DF2]) # attention à l'index"
   ]
  },
  {
   "cell_type": "code",
   "execution_count": 45,
   "metadata": {},
   "outputs": [
    {
     "data": {
      "text/html": [
       "<div>\n",
       "<style scoped>\n",
       "    .dataframe tbody tr th:only-of-type {\n",
       "        vertical-align: middle;\n",
       "    }\n",
       "\n",
       "    .dataframe tbody tr th {\n",
       "        vertical-align: top;\n",
       "    }\n",
       "\n",
       "    .dataframe thead th {\n",
       "        text-align: right;\n",
       "    }\n",
       "</style>\n",
       "<table border=\"1\" class=\"dataframe\">\n",
       "  <thead>\n",
       "    <tr style=\"text-align: right;\">\n",
       "      <th></th>\n",
       "      <th>A</th>\n",
       "      <th>B</th>\n",
       "      <th>class</th>\n",
       "    </tr>\n",
       "  </thead>\n",
       "  <tbody>\n",
       "    <tr>\n",
       "      <td>0</td>\n",
       "      <td>0.559199</td>\n",
       "      <td>0.298658</td>\n",
       "      <td>C1</td>\n",
       "    </tr>\n",
       "    <tr>\n",
       "      <td>1</td>\n",
       "      <td>0.338316</td>\n",
       "      <td>0.142392</td>\n",
       "      <td>C2</td>\n",
       "    </tr>\n",
       "    <tr>\n",
       "      <td>2</td>\n",
       "      <td>0.762914</td>\n",
       "      <td>0.700971</td>\n",
       "      <td>C2</td>\n",
       "    </tr>\n",
       "    <tr>\n",
       "      <td>3</td>\n",
       "      <td>0.013755</td>\n",
       "      <td>0.883610</td>\n",
       "      <td>C2</td>\n",
       "    </tr>\n",
       "    <tr>\n",
       "      <td>4</td>\n",
       "      <td>0.215401</td>\n",
       "      <td>0.102015</td>\n",
       "      <td>C1</td>\n",
       "    </tr>\n",
       "    <tr>\n",
       "      <td>5</td>\n",
       "      <td>0.140305</td>\n",
       "      <td>0.900021</td>\n",
       "      <td>C1</td>\n",
       "    </tr>\n",
       "    <tr>\n",
       "      <td>6</td>\n",
       "      <td>0.345779</td>\n",
       "      <td>0.925374</td>\n",
       "      <td>C2</td>\n",
       "    </tr>\n",
       "    <tr>\n",
       "      <td>7</td>\n",
       "      <td>0.961020</td>\n",
       "      <td>0.934339</td>\n",
       "      <td>C1</td>\n",
       "    </tr>\n",
       "    <tr>\n",
       "      <td>8</td>\n",
       "      <td>0.607040</td>\n",
       "      <td>0.116884</td>\n",
       "      <td>C1</td>\n",
       "    </tr>\n",
       "    <tr>\n",
       "      <td>9</td>\n",
       "      <td>0.070137</td>\n",
       "      <td>0.289512</td>\n",
       "      <td>C2</td>\n",
       "    </tr>\n",
       "  </tbody>\n",
       "</table>\n",
       "</div>"
      ],
      "text/plain": [
       "          A         B class\n",
       "0  0.559199  0.298658    C1\n",
       "1  0.338316  0.142392    C2\n",
       "2  0.762914  0.700971    C2\n",
       "3  0.013755  0.883610    C2\n",
       "4  0.215401  0.102015    C1\n",
       "5  0.140305  0.900021    C1\n",
       "6  0.345779  0.925374    C2\n",
       "7  0.961020  0.934339    C1\n",
       "8  0.607040  0.116884    C1\n",
       "9  0.070137  0.289512    C2"
      ]
     },
     "execution_count": 45,
     "metadata": {},
     "output_type": "execute_result"
    }
   ],
   "source": [
    "pd.concat([DF1, DF2], ignore_index=True) # attention à l'index"
   ]
  },
  {
   "cell_type": "markdown",
   "metadata": {},
   "source": [
    "##### Merge\n",
    "https://pandas.pydata.org/pandas-docs/stable/reference/api/pandas.DataFrame.merge.html"
   ]
  },
  {
   "cell_type": "code",
   "execution_count": 46,
   "metadata": {},
   "outputs": [
    {
     "data": {
      "text/html": [
       "<div>\n",
       "<style scoped>\n",
       "    .dataframe tbody tr th:only-of-type {\n",
       "        vertical-align: middle;\n",
       "    }\n",
       "\n",
       "    .dataframe tbody tr th {\n",
       "        vertical-align: top;\n",
       "    }\n",
       "\n",
       "    .dataframe thead th {\n",
       "        text-align: right;\n",
       "    }\n",
       "</style>\n",
       "<table border=\"1\" class=\"dataframe\">\n",
       "  <thead>\n",
       "    <tr style=\"text-align: right;\">\n",
       "      <th></th>\n",
       "      <th>A</th>\n",
       "      <th>B</th>\n",
       "      <th>class_x</th>\n",
       "      <th>C</th>\n",
       "      <th>D</th>\n",
       "      <th>class_y</th>\n",
       "    </tr>\n",
       "  </thead>\n",
       "  <tbody>\n",
       "    <tr>\n",
       "      <td>0</td>\n",
       "      <td>0.559199</td>\n",
       "      <td>0.298658</td>\n",
       "      <td>C1</td>\n",
       "      <td>0.822104</td>\n",
       "      <td>0.484385</td>\n",
       "      <td>C2</td>\n",
       "    </tr>\n",
       "    <tr>\n",
       "      <td>2</td>\n",
       "      <td>0.762914</td>\n",
       "      <td>0.700971</td>\n",
       "      <td>C2</td>\n",
       "      <td>0.187237</td>\n",
       "      <td>0.383154</td>\n",
       "      <td>C2</td>\n",
       "    </tr>\n",
       "    <tr>\n",
       "      <td>4</td>\n",
       "      <td>0.215401</td>\n",
       "      <td>0.102015</td>\n",
       "      <td>C1</td>\n",
       "      <td>0.620088</td>\n",
       "      <td>0.450383</td>\n",
       "      <td>C1</td>\n",
       "    </tr>\n",
       "  </tbody>\n",
       "</table>\n",
       "</div>"
      ],
      "text/plain": [
       "          A         B class_x         C         D class_y\n",
       "0  0.559199  0.298658      C1  0.822104  0.484385      C2\n",
       "2  0.762914  0.700971      C2  0.187237  0.383154      C2\n",
       "4  0.215401  0.102015      C1  0.620088  0.450383      C1"
      ]
     },
     "execution_count": 46,
     "metadata": {},
     "output_type": "execute_result"
    }
   ],
   "source": [
    "DF1.merge(DF3, left_index=True, right_index=True) # sur les index en commun"
   ]
  },
  {
   "cell_type": "code",
   "execution_count": 47,
   "metadata": {},
   "outputs": [
    {
     "data": {
      "text/html": [
       "<div>\n",
       "<style scoped>\n",
       "    .dataframe tbody tr th:only-of-type {\n",
       "        vertical-align: middle;\n",
       "    }\n",
       "\n",
       "    .dataframe tbody tr th {\n",
       "        vertical-align: top;\n",
       "    }\n",
       "\n",
       "    .dataframe thead th {\n",
       "        text-align: right;\n",
       "    }\n",
       "</style>\n",
       "<table border=\"1\" class=\"dataframe\">\n",
       "  <thead>\n",
       "    <tr style=\"text-align: right;\">\n",
       "      <th></th>\n",
       "      <th>A</th>\n",
       "      <th>B</th>\n",
       "      <th>class_x</th>\n",
       "      <th>C</th>\n",
       "      <th>D</th>\n",
       "      <th>class_y</th>\n",
       "    </tr>\n",
       "  </thead>\n",
       "  <tbody>\n",
       "    <tr>\n",
       "      <td>0</td>\n",
       "      <td>0.559199</td>\n",
       "      <td>0.298658</td>\n",
       "      <td>C1</td>\n",
       "      <td>0.822104</td>\n",
       "      <td>0.484385</td>\n",
       "      <td>C2</td>\n",
       "    </tr>\n",
       "    <tr>\n",
       "      <td>1</td>\n",
       "      <td>0.338316</td>\n",
       "      <td>0.142392</td>\n",
       "      <td>C2</td>\n",
       "      <td>NaN</td>\n",
       "      <td>NaN</td>\n",
       "      <td>NaN</td>\n",
       "    </tr>\n",
       "    <tr>\n",
       "      <td>2</td>\n",
       "      <td>0.762914</td>\n",
       "      <td>0.700971</td>\n",
       "      <td>C2</td>\n",
       "      <td>0.187237</td>\n",
       "      <td>0.383154</td>\n",
       "      <td>C2</td>\n",
       "    </tr>\n",
       "    <tr>\n",
       "      <td>3</td>\n",
       "      <td>0.013755</td>\n",
       "      <td>0.883610</td>\n",
       "      <td>C2</td>\n",
       "      <td>NaN</td>\n",
       "      <td>NaN</td>\n",
       "      <td>NaN</td>\n",
       "    </tr>\n",
       "    <tr>\n",
       "      <td>4</td>\n",
       "      <td>0.215401</td>\n",
       "      <td>0.102015</td>\n",
       "      <td>C1</td>\n",
       "      <td>0.620088</td>\n",
       "      <td>0.450383</td>\n",
       "      <td>C1</td>\n",
       "    </tr>\n",
       "  </tbody>\n",
       "</table>\n",
       "</div>"
      ],
      "text/plain": [
       "          A         B class_x         C         D class_y\n",
       "0  0.559199  0.298658      C1  0.822104  0.484385      C2\n",
       "1  0.338316  0.142392      C2       NaN       NaN     NaN\n",
       "2  0.762914  0.700971      C2  0.187237  0.383154      C2\n",
       "3  0.013755  0.883610      C2       NaN       NaN     NaN\n",
       "4  0.215401  0.102015      C1  0.620088  0.450383      C1"
      ]
     },
     "execution_count": 47,
     "metadata": {},
     "output_type": "execute_result"
    }
   ],
   "source": [
    "DF1.merge(DF3, left_index=True, right_index=True, how='left') # sur tous les index de DF1"
   ]
  },
  {
   "cell_type": "code",
   "execution_count": 48,
   "metadata": {},
   "outputs": [
    {
     "data": {
      "text/html": [
       "<div>\n",
       "<style scoped>\n",
       "    .dataframe tbody tr th:only-of-type {\n",
       "        vertical-align: middle;\n",
       "    }\n",
       "\n",
       "    .dataframe tbody tr th {\n",
       "        vertical-align: top;\n",
       "    }\n",
       "\n",
       "    .dataframe thead th {\n",
       "        text-align: right;\n",
       "    }\n",
       "</style>\n",
       "<table border=\"1\" class=\"dataframe\">\n",
       "  <thead>\n",
       "    <tr style=\"text-align: right;\">\n",
       "      <th></th>\n",
       "      <th>A</th>\n",
       "      <th>B</th>\n",
       "      <th>class</th>\n",
       "      <th>C</th>\n",
       "      <th>D</th>\n",
       "    </tr>\n",
       "  </thead>\n",
       "  <tbody>\n",
       "    <tr>\n",
       "      <td>0</td>\n",
       "      <td>0.559199</td>\n",
       "      <td>0.298658</td>\n",
       "      <td>C1</td>\n",
       "      <td>0.620088</td>\n",
       "      <td>0.450383</td>\n",
       "    </tr>\n",
       "    <tr>\n",
       "      <td>1</td>\n",
       "      <td>0.559199</td>\n",
       "      <td>0.298658</td>\n",
       "      <td>C1</td>\n",
       "      <td>0.171122</td>\n",
       "      <td>0.665247</td>\n",
       "    </tr>\n",
       "    <tr>\n",
       "      <td>2</td>\n",
       "      <td>0.215401</td>\n",
       "      <td>0.102015</td>\n",
       "      <td>C1</td>\n",
       "      <td>0.620088</td>\n",
       "      <td>0.450383</td>\n",
       "    </tr>\n",
       "    <tr>\n",
       "      <td>3</td>\n",
       "      <td>0.215401</td>\n",
       "      <td>0.102015</td>\n",
       "      <td>C1</td>\n",
       "      <td>0.171122</td>\n",
       "      <td>0.665247</td>\n",
       "    </tr>\n",
       "    <tr>\n",
       "      <td>4</td>\n",
       "      <td>0.338316</td>\n",
       "      <td>0.142392</td>\n",
       "      <td>C2</td>\n",
       "      <td>0.822104</td>\n",
       "      <td>0.484385</td>\n",
       "    </tr>\n",
       "    <tr>\n",
       "      <td>5</td>\n",
       "      <td>0.338316</td>\n",
       "      <td>0.142392</td>\n",
       "      <td>C2</td>\n",
       "      <td>0.187237</td>\n",
       "      <td>0.383154</td>\n",
       "    </tr>\n",
       "    <tr>\n",
       "      <td>6</td>\n",
       "      <td>0.338316</td>\n",
       "      <td>0.142392</td>\n",
       "      <td>C2</td>\n",
       "      <td>0.871407</td>\n",
       "      <td>0.055480</td>\n",
       "    </tr>\n",
       "    <tr>\n",
       "      <td>7</td>\n",
       "      <td>0.762914</td>\n",
       "      <td>0.700971</td>\n",
       "      <td>C2</td>\n",
       "      <td>0.822104</td>\n",
       "      <td>0.484385</td>\n",
       "    </tr>\n",
       "    <tr>\n",
       "      <td>8</td>\n",
       "      <td>0.762914</td>\n",
       "      <td>0.700971</td>\n",
       "      <td>C2</td>\n",
       "      <td>0.187237</td>\n",
       "      <td>0.383154</td>\n",
       "    </tr>\n",
       "    <tr>\n",
       "      <td>9</td>\n",
       "      <td>0.762914</td>\n",
       "      <td>0.700971</td>\n",
       "      <td>C2</td>\n",
       "      <td>0.871407</td>\n",
       "      <td>0.055480</td>\n",
       "    </tr>\n",
       "    <tr>\n",
       "      <td>10</td>\n",
       "      <td>0.013755</td>\n",
       "      <td>0.883610</td>\n",
       "      <td>C2</td>\n",
       "      <td>0.822104</td>\n",
       "      <td>0.484385</td>\n",
       "    </tr>\n",
       "    <tr>\n",
       "      <td>11</td>\n",
       "      <td>0.013755</td>\n",
       "      <td>0.883610</td>\n",
       "      <td>C2</td>\n",
       "      <td>0.187237</td>\n",
       "      <td>0.383154</td>\n",
       "    </tr>\n",
       "    <tr>\n",
       "      <td>12</td>\n",
       "      <td>0.013755</td>\n",
       "      <td>0.883610</td>\n",
       "      <td>C2</td>\n",
       "      <td>0.871407</td>\n",
       "      <td>0.055480</td>\n",
       "    </tr>\n",
       "  </tbody>\n",
       "</table>\n",
       "</div>"
      ],
      "text/plain": [
       "           A         B class         C         D\n",
       "0   0.559199  0.298658    C1  0.620088  0.450383\n",
       "1   0.559199  0.298658    C1  0.171122  0.665247\n",
       "2   0.215401  0.102015    C1  0.620088  0.450383\n",
       "3   0.215401  0.102015    C1  0.171122  0.665247\n",
       "4   0.338316  0.142392    C2  0.822104  0.484385\n",
       "5   0.338316  0.142392    C2  0.187237  0.383154\n",
       "6   0.338316  0.142392    C2  0.871407  0.055480\n",
       "7   0.762914  0.700971    C2  0.822104  0.484385\n",
       "8   0.762914  0.700971    C2  0.187237  0.383154\n",
       "9   0.762914  0.700971    C2  0.871407  0.055480\n",
       "10  0.013755  0.883610    C2  0.822104  0.484385\n",
       "11  0.013755  0.883610    C2  0.187237  0.383154\n",
       "12  0.013755  0.883610    C2  0.871407  0.055480"
      ]
     },
     "execution_count": 48,
     "metadata": {},
     "output_type": "execute_result"
    }
   ],
   "source": [
    "DF1.merge(DF3, left_on='class', right_on='class') # en fonction d'une colonne"
   ]
  },
  {
   "cell_type": "markdown",
   "metadata": {},
   "source": [
    "### Pour les calculs sur des dataframes, séries, arrays, etc, toujours utiliser les fonctions fournies par les libraires (df.apply(fonction), np.mean(), etc) qui sont beaucoup plus rapides et plus lisibles !"
   ]
  },
  {
   "cell_type": "code",
   "execution_count": null,
   "metadata": {},
   "outputs": [],
   "source": []
  }
 ],
 "metadata": {
  "kernelspec": {
   "display_name": "Python 3",
   "language": "python",
   "name": "python3"
  },
  "language_info": {
   "codemirror_mode": {
    "name": "ipython",
    "version": 3
   },
   "file_extension": ".py",
   "mimetype": "text/x-python",
   "name": "python",
   "nbconvert_exporter": "python",
   "pygments_lexer": "ipython3",
   "version": "3.6.9"
  }
 },
 "nbformat": 4,
 "nbformat_minor": 2
}
